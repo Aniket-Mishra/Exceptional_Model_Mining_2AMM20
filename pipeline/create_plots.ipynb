{
 "cells": [
  {
   "cell_type": "code",
   "execution_count": 1,
   "id": "e6f34167",
   "metadata": {},
   "outputs": [],
   "source": [
    "import pandas as pd\n",
    "import numpy as np\n",
    "import glob\n",
    "\n",
    "import plotly.express as px\n",
    "import plotly.graph_objects as go\n",
    "\n",
    "import matplotlib.pyplot as plt # cuz i can't fix the weird plotly bar plot, I have failed Professor Elzen :("
   ]
  },
  {
   "cell_type": "code",
   "execution_count": 2,
   "id": "2416fda3",
   "metadata": {},
   "outputs": [],
   "source": [
    "file_list = glob.glob(\"/Users/aniket/github/Exceptional_Model_Mining_2AMM20/pipeline/outputs/*/emm_all_languages_results_*.csv\")"
   ]
  },
  {
   "cell_type": "code",
   "execution_count": 3,
   "id": "f31282c1",
   "metadata": {},
   "outputs": [
    {
     "data": {
      "text/plain": [
       "['/Users/aniket/github/Exceptional_Model_Mining_2AMM20/pipeline/outputs/cmc/emm_all_languages_results_cmc.csv',\n",
       " '/Users/aniket/github/Exceptional_Model_Mining_2AMM20/pipeline/outputs/boston_housing/emm_all_languages_results_boston_housing.csv',\n",
       " '/Users/aniket/github/Exceptional_Model_Mining_2AMM20/pipeline/outputs/auto-mpg/emm_all_languages_results_auto-mpg.csv',\n",
       " '/Users/aniket/github/Exceptional_Model_Mining_2AMM20/pipeline/outputs/year_prediction_msd/emm_all_languages_results_year_prediction_msd.csv',\n",
       " '/Users/aniket/github/Exceptional_Model_Mining_2AMM20/pipeline/outputs/forestfires/emm_all_languages_results_forestfires.csv']"
      ]
     },
     "execution_count": 3,
     "metadata": {},
     "output_type": "execute_result"
    }
   ],
   "source": [
    "file_list = [x for x in file_list if \"/old/\" not in x]\n",
    "file_list"
   ]
  },
  {
   "cell_type": "code",
   "execution_count": 4,
   "id": "4e4ad9db",
   "metadata": {},
   "outputs": [],
   "source": [
    "df = pd.DataFrame()\n",
    "for file in file_list:\n",
    "    dfx = pd.read_csv(file)\n",
    "    name = file.split(\"_\")[-1].split(\".\")[0]\n",
    "    dfx[\"dataset\"] = name\n",
    "    df = pd.concat([df, dfx])"
   ]
  },
  {
   "cell_type": "code",
   "execution_count": 5,
   "id": "aeb062f6",
   "metadata": {},
   "outputs": [],
   "source": [
    "# df[\"dataset\"]"
   ]
  },
  {
   "cell_type": "code",
   "execution_count": 6,
   "id": "b1dc58e9",
   "metadata": {},
   "outputs": [],
   "source": [
    "df.to_csv(\"outputs/emm_all_results.csv\", index=False)"
   ]
  },
  {
   "cell_type": "code",
   "execution_count": 7,
   "id": "2fb82f17",
   "metadata": {},
   "outputs": [
    {
     "data": {
      "application/vnd.plotly.v1+json": {
       "config": {
        "plotlyServerURL": "https://plot.ly"
       },
       "data": [
        {
         "customdata": [
          [
           "Husband_Occupation <= 1.5 AND Contraceptive_Method <= 1.5 AND Children <= 1.5 AND SOLI > 2.5",
           null,
           null,
           null,
           "cmc",
           "L_tree",
           55,
           53.00886666285305,
           null,
           10.993360719513667,
           0.0009990009990009,
           0.0833333333333333,
           0.0004528271828867,
           1,
           0.0705555991050728
          ],
          [
           "Contraceptive_Method <= 1 AND Wife_Education > 3 AND Wife_religion > 0",
           null,
           null,
           null,
           "cmc",
           "L_conj",
           132,
           37.71645233480737,
           null,
           10.55884743745345,
           0.0009990009990009,
           0.1666666666666666,
           0.0301973834223185,
           1,
           0.5646676585094519
          ],
          [
           "Children*Husband_Occupation <= 2 AND Contraceptive_Method*Husband_Occupation <= 1",
           null,
           null,
           null,
           "cmc",
           "L_poly",
           95,
           38.818760636194554,
           null,
           9.353360875687542,
           0.0009990009990009,
           0.1,
           0.0018363047770289,
           2,
           0.1310557944438181
          ],
          [
           "Husband_Occupation <= 1 AND Contraceptive_Method <= 1",
           null,
           null,
           null,
           "cmc",
           "L_poly",
           158,
           31.942775724613725,
           null,
           8.878672763952126,
           0.0009990009990009,
           0.1428571428571428,
           0.0149955768204777,
           2,
           0.3648846660189043
          ],
          [
           "Contraceptive_Method <= 1 AND Wife_Education > 3",
           null,
           null,
           null,
           "cmc",
           "L_poly",
           175,
           30.72924093238621,
           null,
           8.752770310048032,
           0.0009990009990009,
           0.2,
           0.0608100626252179,
           2,
           0.7295591207696395
          ],
          [
           "(Wife_Education - Contraceptive_Method) > 2",
           "(Wife_Education - Contraceptive_Method)",
           ">",
           2,
           "cmc",
           "L_symb",
           175,
           30.72924093238621,
           8.752770310048032,
           8.752770310048032,
           0.0009990009990009,
           0.25,
           0.1224564282529819,
           7,
           1.0352936730644244
          ],
          [
           "(Wife_Education / Contraceptive_Method) > 3",
           "(Wife_Education / Contraceptive_Method)",
           ">",
           3,
           "cmc",
           "L_symb",
           175,
           30.72924093238621,
           8.752770310048032,
           8.752770310048032,
           0.0009990009990009,
           0.25,
           0.1224564282529819,
           7,
           1.0352936730644244
          ],
          [
           "Husband_Occupation > 1.5 AND Contraceptive_Method <= 1.5 AND SOLI > 2.5 AND Wife_Education > 3.5",
           null,
           null,
           null,
           "cmc",
           "L_tree",
           65,
           24.266874872422807,
           null,
           3.4151570657333017,
           0.0059940059940059,
           0.1,
           0.0018363047770289,
           1,
           0.0791913457021036
          ],
          [
           "Husband_Occupation > 1.5 AND Contraceptive_Method > 1.5 AND SOLI > 2.5 AND Children > 3.5",
           null,
           null,
           null,
           "cmc",
           "L_tree",
           181,
           6.330492679751454,
           null,
           3.189994652522251,
           0.0019980019980019,
           0.1111111111111111,
           0.0036978637164829,
           1,
           0.1086101536751357
          ],
          [
           "PTRATIO > 19.7 AND LSTAT <= 11.45 AND DIS <= 2.1",
           null,
           null,
           null,
           "housing",
           "L_conj",
           8,
           24.4706798750001,
           null,
           14.821385216663389,
           0.0009990009990009,
           0.1428571428571428,
           0.0149955768204777,
           1,
           0.4714395195593689
          ],
          [
           "NOX > 0.507 AND LSTAT <= 10.11 AND RAD > 5",
           null,
           null,
           null,
           "housing",
           "L_conj",
           11,
           18.538056727272796,
           null,
           12.902818768188368,
           0.0009990009990009,
           0.1666666666666666,
           0.0301973834223185,
           1,
           0.6242045863109879
          ],
          [
           "DIS <= 1.951 AND LSTAT <= 13.66",
           null,
           null,
           null,
           "housing",
           "L_poly",
           21,
           11.375046523809536,
           null,
           10.658807963367984,
           0.0009990009990009,
           0.1666666666666666,
           0.0301973834223185,
           2,
           0.5593085037418426
          ],
          [
           "CHAS > 0 AND TAX > 403",
           null,
           null,
           null,
           "housing",
           "L_poly",
           8,
           14.33807537500008,
           null,
           8.300744393284562,
           0.0009990009990009,
           0.25,
           0.1224564282529819,
           2,
           1.008206085204108
          ],
          [
           "(CHAS + RAD) > 24",
           "(CHAS + RAD)",
           ">",
           24,
           "housing",
           "L_symb",
           8,
           14.33807537500008,
           8.300744393284562,
           8.300744393284562,
           0.0009990009990009,
           0.25,
           0.1224564282529819,
           7,
           1.008206085204108
          ],
          [
           "DIS <= 1.34",
           null,
           null,
           null,
           "housing",
           "L_tree",
           10,
           12.632326100000029,
           null,
           8.053246424196972,
           0.0009990009990009,
           0.25,
           0.1224564282529819,
           0,
           0.9930618273542992
          ],
          [
           "weight > 2155 AND model > 79 AND cylinders > 4",
           null,
           null,
           null,
           "auto-mpg",
           "L_conj",
           14,
           6.986206285714295,
           null,
           7.697194268519074,
           0.0009990009990009,
           0.2,
           0.0608100626252179,
           1,
           0.684154124088362
          ],
          [
           "model > 79.5 AND displacement > 212.5",
           null,
           null,
           null,
           "auto-mpg",
           "L_tree",
           6,
           9.77171466666666,
           null,
           7.412952324951673,
           0.0009990009990009,
           0.25,
           0.1224564282529819,
           0,
           0.9527663220975122
          ],
          [
           "horsepower*weight > 2.281e+05 AND model > 79",
           null,
           null,
           null,
           "auto-mpg",
           "L_poly",
           30,
           4.127455233333332,
           null,
           5.819633911561566,
           0.0009990009990009,
           0.1666666666666666,
           0.0301973834223185,
           2,
           0.4192108259634426
          ],
          [
           "model > 80 AND cylinders > 4",
           null,
           null,
           null,
           "auto-mpg",
           "L_poly",
           11,
           5.9477994545454695,
           null,
           5.624558704454521,
           0.0009990009990009,
           0.25,
           0.1224564282529819,
           2,
           0.8299176883563334
          ],
          [
           "(model + origin) > 80",
           "(model + origin)",
           ">",
           80,
           "auto-mpg",
           "L_symb",
           103,
           2.646682407766992,
           5.554578124824493,
           5.554578124824493,
           0.0009990009990009,
           0.25,
           0.1224564282529819,
           7,
           0.824738623818573
          ],
          [
           "model > 79",
           "model",
           ">",
           79,
           "auto-mpg",
           "L_symb",
           89,
           2.724550775280898,
           5.4188941208191554,
           5.4188941208191554,
           0.0009990009990009,
           0.3333333333333333,
           0.2465969639416065,
           3,
           1.1559770058764252
          ],
          [
           "timbre_avg_3*timbre_cov_3_3 > 1758 AND timbre_avg_1*timbre_avg_6 > -409.9",
           null,
           null,
           null,
           "msd",
           "L_poly",
           61841,
           25.30123354722236,
           null,
           121.73917678179124,
           0.0009990009990009,
           0.1428571428571428,
           0.0149955768204777,
           3,
           1.3510668864423174
          ],
          [
           "timbre_avg_3*timbre_cov_3_3 > 1758 AND timbre_avg_6 > -9.93",
           null,
           null,
           null,
           "msd",
           "L_poly",
           61845,
           25.125953076138384,
           null,
           120.18703973864685,
           0.0009990009990009,
           0.1666666666666666,
           0.0301973834223185,
           3,
           1.905016233384203
          ],
          [
           "timbre_avg_6 > -8.1 AND timbre_avg_3 > 16.18 AND timbre_cov_3_3 > 19.42",
           null,
           null,
           null,
           "msd",
           "L_conj",
           65956,
           24.62956510239824,
           null,
           119.56675051862752,
           0.0009990009990009,
           0.1666666666666666,
           0.0301973834223185,
           1,
           1.900158680208496
          ],
          [
           "timbre_avg_6 > 0.04687 AND timbre_avg_3*timbre_cov_3_3 > 988.5",
           null,
           null,
           null,
           "msd",
           "L_poly",
           41227,
           27.18143834661751,
           null,
           112.98888664973497,
           0.0009990009990009,
           0.2,
           0.0608100626252179,
           2,
           2.6212721553750766
          ],
          [
           "(timbre_avg_6 + timbre_avg_3) > 33.77",
           "(timbre_avg_6 + timbre_avg_3)",
           ">",
           33.77,
           "msd",
           "L_symb",
           73605,
           22.244490470756062,
           103.25460850535949,
           103.25460850535949,
           0.0009990009990009,
           0.25,
           0.1224564282529819,
           9,
           3.5558670613826795
          ],
          [
           "timbre_avg_6 > -8.76 AND timbre_avg_3 > 26.79 AND timbre_avg_2 <= -54.36 AND timbre_cov_7_10 <= -104.34",
           null,
           null,
           null,
           "msd",
           "L_tree",
           7055,
           43.39181763288448,
           null,
           95.25446104174016,
           0.0009990009990009,
           0.0909090909090909,
           0.0009118819655545,
           0,
           0.2947216062024942
          ],
          [
           "timbre_avg_6 > -8.76 AND timbre_avg_3 > 26.79 AND timbre_avg_2 > -54.36 AND timbre_cov_3_3 > 37.2",
           null,
           null,
           null,
           "msd",
           "L_tree",
           31870,
           24.131997066206463,
           null,
           79.93108245053519,
           0.0009990009990009,
           0.125,
           0.0074465830709243,
           0,
           0.7715879752790895
          ],
          [
           "day > 6 AND month > 8 AND ISI > 8.56",
           null,
           null,
           null,
           "forestfires",
           "L_conj",
           6,
           24018.55464160551,
           null,
           8.808614423812413,
           0.0009990009990009,
           0.2,
           0.0608100626252179,
           1,
           0.7318827739149427
          ],
          [
           "temp > 25.05 AND temp <= 25.45",
           null,
           null,
           null,
           "forestfires",
           "L_tree",
           6,
           23331.96780841477,
           null,
           8.550773488447913,
           0.0009990009990009,
           0.2,
           0.0608100626252179,
           0,
           0.7210915831755154
          ],
          [
           "day > 6 AND temp > 24.1",
           null,
           null,
           null,
           "forestfires",
           "L_poly",
           16,
           9131.290569365052,
           null,
           5.254725018167259,
           0.0059940059940059,
           0.25,
           0.1224564282529819,
           2,
           0.8021688458026454
          ],
          [
           "temp > 24.6",
           "temp",
           ">",
           24.6,
           "forestfires",
           "L_symb",
           71,
           3537.611277714509,
           3.8431160693548194,
           3.8431160693548194,
           0.0009990009990009,
           0.3333333333333333,
           0.2465969639416065,
           3,
           0.9734992320377552
          ]
         ],
         "hovertemplate": "ParetoLabel=Pareto<br>complexity=%{x}<br>q_residual=%{y}<br>size=%{customdata[6]}<br>rule=%{customdata[0]}<br>expr=%{customdata[1]}<br>operator=%{customdata[2]}<br>threshold=%{customdata[3]}<br>dataset=%{customdata[4]}<br>language=%{customdata[5]}<br>mean_residual=%{customdata[7]}<br>q_signed=%{customdata[8]}<br>q_perm=%{customdata[9]}<br>p_value=%{customdata[10]}<br>I_inv=%{customdata[11]}<br>I_exp=%{customdata[12]}<br>expressiveness=%{customdata[13]}<br>score=%{customdata[14]}<extra></extra>",
         "legendgroup": "Pareto",
         "marker": {
          "color": "#636efa",
          "size": {
           "bdata": "NwAAAIQAAABfAAAAngAAAK8AAACvAAAArwAAAEEAAAC1AAAACAAAAAsAAAAVAAAACAAAAAgAAAAKAAAADgAAAAYAAAAeAAAACwAAAGcAAABZAAAAkfEAAJXxAACkAQEAC6EAAIUfAQCPGwAAfnwAAAYAAAAGAAAAEAAAAEcAAAA=",
           "dtype": "i4"
          },
          "sizemode": "area",
          "sizeref": 552.17,
          "symbol": "circle"
         },
         "mode": "markers",
         "name": "Pareto",
         "orientation": "v",
         "showlegend": true,
         "type": "scatter",
         "x": {
          "bdata": "AAAAAAAAJkAAAAAAAAAUQAAAAAAAACJAAAAAAAAAGEAAAAAAAAAQQAAAAAAAAAhAAAAAAAAACEAAAAAAAAAiQAAAAAAAACBAAAAAAAAAGEAAAAAAAAAUQAAAAAAAABRAAAAAAAAACEAAAAAAAAAIQAAAAAAAAAhAAAAAAAAAEEAAAAAAAAAIQAAAAAAAABRAAAAAAAAACEAAAAAAAAAIQAAAAAAAAABAAAAAAAAAGEAAAAAAAAAUQAAAAAAAABRAAAAAAAAAEEAAAAAAAAAIQAAAAAAAACRAAAAAAAAAHEAAAAAAAAAQQAAAAAAAABBAAAAAAAAACEAAAAAAAAAAQA==",
          "dtype": "f8"
         },
         "xaxis": "x",
         "y": {
          "bdata": "bOK2xpn8JUDHoVZAIR4lQCCHebfrtCJA4R6CZeHBIUC2HC4ca4EhQLYcLhxrgSFAthwuHGuBIUALOSDePVILQM77l+obhQlAafllmoykLUAIK/dCPs4pQL8hoe3/tyRAoTlLK/uZIEChOUsr+5kgQCEchR1DGyBABf5YS+3JHkD+5Wn53KYdQN9lsxxORxdA10EoUYx/FkD2yvRT4zcWQKqelZTyrBVAUG4RuZduXkAXGmBMcgteQMKf96NF5F1AkNUmioE/XEBb83iBS9BZQFMY9xZJ0FdAuwII6b78U0BHsrK1Ap4hQHbGkPv+GSFAawGaotYEFUBd40Sjs74OQA==",
          "dtype": "f8"
         },
         "yaxis": "y"
        },
        {
         "customdata": [
          [
           "Husband_Occupation <= 1 AND Contraceptive_Method <= 1 AND Children <= 1",
           null,
           null,
           null,
           "cmc",
           "L_conj",
           63,
           47.432533123711266,
           null,
           10.135344678014418,
           0.0009990009990009,
           0.1,
           0.0018363047770289,
           2,
           0.1364242714808196
          ],
          [
           "Contraceptive_Method <= 1 AND Wife_Education > 2 AND Husband_Occupation <= 1",
           null,
           null,
           null,
           "cmc",
           "L_conj",
           130,
           36.42956380697394,
           null,
           9.93806084165253,
           0.0009990009990009,
           0.1111111111111111,
           0.0036978637164829,
           2,
           0.1917018377547453
          ],
          [
           "Husband_Occupation <= 1 AND Children <= 5 AND Contraceptive_Method <= 1",
           null,
           null,
           null,
           "cmc",
           "L_conj",
           140,
           35.530305211429145,
           null,
           9.921269435134285,
           0.0009990009990009,
           0.1,
           0.0018363047770289,
           2,
           0.1349758291618465
          ],
          [
           "Contraceptive_Method <= 1 AND SOLI > 2 AND Husband_Occupation <= 1",
           null,
           null,
           null,
           "cmc",
           "L_conj",
           140,
           35.10306445495587,
           null,
           9.735055678692198,
           0.0009990009990009,
           0.1111111111111111,
           0.0036978637164829,
           2,
           0.1897337850046137
          ],
          [
           "Contraceptive_Method <= 1 AND Wife_Education > 3 AND Children > 0",
           null,
           null,
           null,
           "cmc",
           "L_conj",
           139,
           35.04387568602886,
           null,
           9.674520067517449,
           0.0009990009990009,
           0.1666666666666666,
           0.0301973834223185,
           1,
           0.5405045715863457
          ],
          [
           "Contraceptive_Method <= 1 AND SOLI > 2 AND Wife_Education > 3",
           null,
           null,
           null,
           "cmc",
           "L_conj",
           159,
           33.486236422171636,
           null,
           9.623643051286765,
           0.0009990009990009,
           0.1666666666666666,
           0.0301973834223185,
           1,
           0.5390814772733686
          ],
          [
           "Contraceptive_Method <= 1 AND Wife_Education > 3 AND Children <= 1",
           null,
           null,
           null,
           "cmc",
           "L_conj",
           89,
           40.10439564874989,
           null,
           9.49994836779798,
           0.0009990009990009,
           0.1428571428571428,
           0.0149955768204777,
           1,
           0.3774350348601551
          ],
          [
           "Contraceptive_Method <= 1 AND Husband_Education > 3 AND Husband_Occupation <= 1",
           null,
           null,
           null,
           "cmc",
           "L_conj",
           143,
           34.117249696455495,
           null,
           9.404558406897976,
           0.0009990009990009,
           0.0909090909090909,
           0.0009118819655545,
           3,
           0.0926058702526701
          ],
          [
           "Husband_Occupation <= 1 AND Contraceptive_Method <= 1 AND Children <= 2.2",
           null,
           null,
           null,
           "cmc",
           "L_conj",
           95,
           38.818760636194554,
           null,
           9.353360875687542,
           0.0009990009990009,
           0.1,
           0.0018363047770289,
           2,
           0.1310557944438181
          ],
          [
           "Contraceptive_Method <= 1 AND Wife_Education > 2 AND SOLI > 2",
           null,
           null,
           null,
           "cmc",
           "L_conj",
           279,
           27.962312101885622,
           null,
           9.349234723707111,
           0.0009990009990009,
           0.1666666666666666,
           0.0301973834223185,
           1,
           0.5313402164875511
          ],
          [
           "Husband_Occupation <= 1 AND Contraceptive_Method <= 1 AND Children <= 4",
           null,
           null,
           null,
           "cmc",
           "L_conj",
           129,
           35.06906723914155,
           null,
           9.330560487074788,
           0.0009990009990009,
           0.1,
           0.0018363047770289,
           2,
           0.1308959617206451
          ],
          [
           "Contraceptive_Method <= 1 AND Children <= 5 AND Wife_Education > 3",
           null,
           null,
           null,
           "cmc",
           "L_conj",
           167,
           32.124883548408704,
           null,
           9.21473294094818,
           0.0009990009990009,
           0.1428571428571428,
           0.0149955768204777,
           1,
           0.3717260223554103
          ],
          [
           "Husband_Occupation <= 1 AND Contraceptive_Method <= 1 AND Wife_Education > 3",
           null,
           null,
           null,
           "cmc",
           "L_conj",
           100,
           37.65902210971442,
           null,
           9.169141932988094,
           0.0009990009990009,
           0.1111111111111111,
           0.0036978637164829,
           2,
           0.1841364637036316
          ],
          [
           "Wife_Education > 3 AND Children <= 4 AND Contraceptive_Method <= 1",
           null,
           null,
           null,
           "cmc",
           "L_conj",
           155,
           32.75562209229456,
           null,
           9.16675484425009,
           0.0009990009990009,
           0.1428571428571428,
           0.0149955768204777,
           1,
           0.3707570315738306
          ],
          [
           "Contraceptive_Method <= 1 AND Wife_Education > 3 AND SOLI > 3",
           null,
           null,
           null,
           "cmc",
           "L_conj",
           109,
           36.47058043806365,
           null,
           9.11581261556555,
           0.0009990009990009,
           0.1666666666666666,
           0.0301973834223185,
           1,
           0.5246653111825109
          ],
          [
           "Husband_Occupation <= 1 AND Contraceptive_Method <= 1 AND Media_Exposure <= 0",
           null,
           null,
           null,
           "cmc",
           "L_conj",
           151,
           32.90556348612628,
           null,
           9.11557215786377,
           0.0009990009990009,
           0.1,
           0.0018363047770289,
           2,
           0.1293791664018475
          ],
          [
           "Contraceptive_Method <= 1 AND Wife_Education > 3 AND Children <= 2",
           null,
           null,
           null,
           "cmc",
           "L_conj",
           121,
           35.255120742162184,
           null,
           9.111999068273793,
           0.0009990009990009,
           0.1428571428571428,
           0.0149955768204777,
           1,
           0.3696480515523124
          ],
          [
           "Contraceptive_Method <= 1 AND Husband_Education > 2 AND Husband_Occupation <= 1",
           null,
           null,
           null,
           "cmc",
           "L_conj",
           153,
           32.687412158424635,
           null,
           9.07634337583464,
           0.0009990009990009,
           0.0909090909090909,
           0.0009118819655545,
           3,
           0.0909755672562903
          ],
          [
           "Contraceptive_Method <= 1 AND Husband_Education > 3 AND Wife_Education > 3",
           null,
           null,
           null,
           "cmc",
           "L_conj",
           168,
           31.619915070938024,
           null,
           9.001182579001426,
           0.0009990009990009,
           0.125,
           0.0074465830709243,
           2,
           0.258897767103332
          ],
          [
           "Contraceptive_Method <= 1 AND Husband_Education > 2 AND Wife_Education > 3",
           null,
           null,
           null,
           "cmc",
           "L_conj",
           172,
           31.255843826555736,
           null,
           8.931825426789596,
           0.0009990009990009,
           0.125,
           0.0074465830709243,
           2,
           0.2578983908743577
          ],
          [
           "Husband_Occupation <= 1 AND Contraceptive_Method <= 1",
           null,
           null,
           null,
           "cmc",
           "L_conj",
           158,
           31.942775724613725,
           null,
           8.878672763952126,
           0.0009990009990009,
           0.125,
           0.0074465830709243,
           2,
           0.2571298782645124
          ],
          [
           "Contraceptive_Method <= 1 AND Wife_Education > 3 AND Wife_working > 0",
           null,
           null,
           null,
           "cmc",
           "L_conj",
           116,
           35.13901321121769,
           null,
           8.875684194346334,
           0.0009990009990009,
           0.1666666666666666,
           0.0301973834223185,
           1,
           0.5177088358837314
          ],
          [
           "Contraceptive_Method <= 1 AND Wife_Education > 3 AND Media_Exposure <= 0",
           null,
           null,
           null,
           "cmc",
           "L_conj",
           173,
           31.0434372072917,
           null,
           8.854840370644496,
           0.0009990009990009,
           0.1428571428571428,
           0.0149955768204777,
           1,
           0.3643946198986298
          ],
          [
           "Husband_Occupation <= 1 AND Contraceptive_Method <= 1 AND Wife_working > 0",
           null,
           null,
           null,
           "cmc",
           "L_conj",
           117,
           34.9204885447639,
           null,
           8.826789372273675,
           0.0009990009990009,
           0.1111111111111111,
           0.0036978637164829,
           2,
           0.1806661677037734
          ],
          [
           "Husband_Occupation <= 1 AND Contraceptive_Method*Husband_Education <= 4",
           null,
           null,
           null,
           "cmc",
           "L_poly",
           159,
           31.75429890733803,
           null,
           8.819180467572426,
           0.0009990009990009,
           0.1111111111111111,
           0.0036978637164829,
           2,
           0.1805882816246698
          ],
          [
           "(Contraceptive_Method / Wife_Education) <= 0.33",
           "(Contraceptive_Method / Wife_Education)",
           "<=",
           0.33,
           "cmc",
           "L_symb",
           175,
           30.72924093238621,
           8.752770310048032,
           8.752770310048032,
           0.0009990009990009,
           0.2,
           0.0608100626252179,
           9,
           0.7295591207696395
          ],
          [
           "Wife_Education > 3 AND Contraceptive_Method*Husband_Education <= 4",
           null,
           null,
           null,
           "cmc",
           "L_poly",
           177,
           30.410084886696968,
           null,
           8.64623395495096,
           0.0009990009990009,
           0.1428571428571428,
           0.0149955768204777,
           2,
           0.3600767494289099
          ],
          [
           "Husband_Occupation <= 1 AND Contraceptive_Method*SOLI <= 4",
           null,
           null,
           null,
           "cmc",
           "L_poly",
           168,
           30.242898289616875,
           null,
           8.343723175029968,
           0.0009990009990009,
           0.125,
           0.0074465830709243,
           2,
           0.2492633702405094
          ],
          [
           "Wife_Education > 3 AND Contraceptive_Method*SOLI <= 4",
           null,
           null,
           null,
           "cmc",
           "L_poly",
           189,
           28.557034954884355,
           null,
           7.996109537248805,
           0.0009990009990009,
           0.1666666666666666,
           0.0301973834223185,
           2,
           0.4913874088569628
          ],
          [
           "Contraceptive_Method <= 1 AND Husband_Education*SOLI > 8",
           null,
           null,
           null,
           "cmc",
           "L_poly",
           375,
           23.96583116692384,
           null,
           7.988198326806984,
           0.0009990009990009,
           0.1428571428571428,
           0.0149955768204777,
           2,
           0.3461035129362972
          ],
          [
           "Contraceptive_Method*Husband_Occupation <= 2 AND Children*Husband_Occupation <= 1",
           null,
           null,
           null,
           "cmc",
           "L_poly",
           112,
           32.33919543630107,
           null,
           7.629837560340422,
           0.0009990009990009,
           0.1,
           0.0018363047770289,
           2,
           0.118366833023477
          ],
          [
           "Husband_Occupation <= 1 AND Children <= 1",
           null,
           null,
           null,
           "cmc",
           "L_poly",
           98,
           33.13004617295367,
           null,
           7.42545113198068,
           0.0009990009990009,
           0.1428571428571428,
           0.0149955768204777,
           2,
           0.3336898603139141
          ],
          [
           "Contraceptive_Method <= 1 AND Husband_Education*SOLI > 12",
           null,
           null,
           null,
           "cmc",
           "L_poly",
           168,
           28.30436876405443,
           null,
           7.418168393312231,
           0.0009990009990009,
           0.1428571428571428,
           0.0149955768204777,
           2,
           0.3335261818945453
          ],
          [
           "Husband_Occupation <= 1 AND Children*Husband_Education <= 4",
           null,
           null,
           null,
           "cmc",
           "L_poly",
           100,
           32.499727669772376,
           null,
           7.26865283963093,
           0.0009990009990009,
           0.1111111111111111,
           0.0036978637164829,
           2,
           0.1639465998530675
          ],
          [
           "(Wife_Education / Contraceptive_Method) > 2",
           "(Wife_Education / Contraceptive_Method)",
           ">",
           2,
           "cmc",
           "L_symb",
           350,
           23.288638848316292,
           7.250650697496776,
           7.250650697496776,
           0.0009990009990009,
           0.25,
           0.1224564282529819,
           7,
           0.9422785081521532
          ],
          [
           "Contraceptive_Method <= 1 AND Wife_Education > 2",
           null,
           null,
           null,
           "cmc",
           "L_poly",
           350,
           23.288638848316292,
           null,
           7.250650697496776,
           0.0009990009990009,
           0.2,
           0.0608100626252179,
           2,
           0.6640124418927399
          ],
          [
           "(SOLI / Contraceptive_Method) > 2",
           "(SOLI / Contraceptive_Method)",
           ">",
           2,
           "cmc",
           "L_symb",
           432,
           22.1937124678634,
           7.217053160278994,
           7.217053160278994,
           0.0009990009990009,
           0.25,
           0.1224564282529819,
           7,
           0.9400928424999636
          ],
          [
           "Contraceptive_Method <= 1 AND SOLI > 2",
           null,
           null,
           null,
           "cmc",
           "L_poly",
           432,
           22.1937124678634,
           null,
           7.217053160278994,
           0.0009990009990009,
           0.2,
           0.0608100626252179,
           2,
           0.6624722293395345
          ],
          [
           "Contraceptive_Method*Husband_Education <= 4 AND Wife_Education > 2",
           null,
           null,
           null,
           "cmc",
           "L_poly",
           357,
           22.964111093762472,
           null,
           7.096926968503321,
           0.0009990009990009,
           0.1428571428571428,
           0.0149955768204777,
           2,
           0.3262246366317412
          ],
          [
           "Children*Husband_Occupation <= 4 AND Wife_Education > 3",
           null,
           null,
           null,
           "cmc",
           "L_poly",
           354,
           22.88214437037448,
           null,
           7.0102364135747175,
           0.0009990009990009,
           0.1428571428571428,
           0.0149955768204777,
           2,
           0.3242260610584379
          ],
          [
           "Husband_Occupation <= 1 AND Children <= 2",
           null,
           null,
           null,
           "cmc",
           "L_poly",
           187,
           26.50896747077683,
           null,
           6.922021145750641,
           0.0009990009990009,
           0.1428571428571428,
           0.0149955768204777,
           2,
           0.3221796080512777
          ],
          [
           "(Contraceptive_Method - SOLI) <= -3",
           "(Contraceptive_Method - SOLI)",
           "<=",
           -3,
           "cmc",
           "L_symb",
           248,
           24.68172683179573,
           6.911484090354968,
           6.911484090354968,
           0.0009990009990009,
           0.1666666666666666,
           0.0301973834223185,
           10,
           0.456846511526249
          ],
          [
           "(SOLI - Contraceptive_Method) > 2",
           "(SOLI - Contraceptive_Method)",
           ">",
           2,
           "cmc",
           "L_symb",
           248,
           24.68172683179573,
           6.911484090354968,
           6.911484090354968,
           0.0009990009990009,
           0.25,
           0.1224564282529819,
           7,
           0.9199758994844264
          ],
          [
           "(SOLI / Contraceptive_Method) > 3",
           "(SOLI / Contraceptive_Method)",
           ">",
           3,
           "cmc",
           "L_symb",
           248,
           24.68172683179573,
           6.911484090354968,
           6.911484090354968,
           0.0009990009990009,
           0.25,
           0.1224564282529819,
           7,
           0.9199758994844264
          ],
          [
           "(Contraceptive_Method / SOLI) <= 0.33",
           "(Contraceptive_Method / SOLI)",
           "<=",
           0.33,
           "cmc",
           "L_symb",
           248,
           24.68172683179573,
           6.911484090354968,
           6.911484090354968,
           0.0009990009990009,
           0.2,
           0.0608100626252179,
           9,
           0.6482960591949355
          ],
          [
           "(Contraceptive_Method / SOLI) <= 0.25",
           "(Contraceptive_Method / SOLI)",
           "<=",
           0.25,
           "cmc",
           "L_symb",
           248,
           24.68172683179573,
           6.911484090354968,
           6.911484090354968,
           0.0009990009990009,
           0.2,
           0.0608100626252179,
           9,
           0.6482960591949355
          ],
          [
           "Contraceptive_Method <= 1 AND SOLI > 3",
           null,
           null,
           null,
           "cmc",
           "L_poly",
           248,
           24.68172683179573,
           null,
           6.911484090354968,
           0.0009990009990009,
           0.2,
           0.0608100626252179,
           2,
           0.6482960591949355
          ],
          [
           "Children*Husband_Occupation <= 4 AND Husband_Education*SOLI > 8",
           null,
           null,
           null,
           "cmc",
           "L_poly",
           509,
           21.048106882556375,
           null,
           6.881809692349907,
           0.0009990009990009,
           0.1111111111111111,
           0.0036978637164829,
           2,
           0.1595242751592411
          ],
          [
           "Husband_Occupation <= 1 AND Children*Husband_Education <= 8",
           null,
           null,
           null,
           "cmc",
           "L_poly",
           190,
           26.30992495281719,
           null,
           6.876260168251294,
           0.0009990009990009,
           0.1111111111111111,
           0.0036978637164829,
           2,
           0.1594599416194339
          ],
          [
           "(Husband_Education / Contraceptive_Method) > 3",
           "(Husband_Education / Contraceptive_Method)",
           ">",
           3,
           "cmc",
           "L_symb",
           338,
           22.9191248571621,
           6.8750253976290585,
           6.8750253976290585,
           0.0009990009990009,
           0.2,
           0.0608100626252179,
           7,
           0.6465838885866142
          ],
          [
           "(Husband_Education - Contraceptive_Method) > 2",
           "(Husband_Education - Contraceptive_Method)",
           ">",
           2,
           "cmc",
           "L_symb",
           338,
           22.9191248571621,
           6.8750253976290585,
           6.8750253976290585,
           0.0009990009990009,
           0.2,
           0.0608100626252179,
           7,
           0.6465838885866142
          ],
          [
           "(Contraceptive_Method / Husband_Education) <= 0.33",
           "(Contraceptive_Method / Husband_Education)",
           "<=",
           0.33,
           "cmc",
           "L_symb",
           338,
           22.9191248571621,
           6.8750253976290585,
           6.8750253976290585,
           0.0009990009990009,
           0.1666666666666666,
           0.0301973834223185,
           9,
           0.4556399652909986
          ],
          [
           "(Contraceptive_Method / Husband_Education) <= 0.25",
           "(Contraceptive_Method / Husband_Education)",
           "<=",
           0.25,
           "cmc",
           "L_symb",
           338,
           22.9191248571621,
           6.8750253976290585,
           6.8750253976290585,
           0.0009990009990009,
           0.1666666666666666,
           0.0301973834223185,
           9,
           0.4556399652909986
          ],
          [
           "(Contraceptive_Method - Husband_Education) <= -3",
           "(Contraceptive_Method - Husband_Education)",
           "<=",
           -3,
           "cmc",
           "L_symb",
           338,
           22.9191248571621,
           6.8750253976290585,
           6.8750253976290585,
           0.0009990009990009,
           0.1428571428571428,
           0.0149955768204777,
           10,
           0.3210840567404148
          ],
          [
           "Contraceptive_Method <= 1 AND Husband_Education > 3",
           null,
           null,
           null,
           "cmc",
           "L_poly",
           338,
           22.9191248571621,
           null,
           6.8750253976290585,
           0.0009990009990009,
           0.1666666666666666,
           0.0301973834223185,
           2,
           0.4556399652909986
          ],
          [
           "Husband_Education*SOLI > 6 AND Contraceptive_Method <= 1",
           null,
           null,
           null,
           "cmc",
           "L_poly",
           435,
           21.68296211876125,
           null,
           6.849669586856689,
           0.0009990009990009,
           0.1428571428571428,
           0.0149955768204777,
           2,
           0.3204914140575365
          ],
          [
           "Contraceptive_Method*Husband_Education <= 4 AND SOLI > 2",
           null,
           null,
           null,
           "cmc",
           "L_poly",
           451,
           21.516848421006504,
           null,
           6.844555237825002,
           0.0009990009990009,
           0.1428571428571428,
           0.0149955768204777,
           2,
           0.3203717432465103
          ],
          [
           "Contraceptive_Method <= 1 AND Husband_Education*Husband_Occupation <= 4",
           null,
           null,
           null,
           "cmc",
           "L_poly",
           227,
           24.995852164884923,
           null,
           6.786726650759187,
           0.0009990009990009,
           0.1111111111111111,
           0.0036978637164829,
           2,
           0.1584184024522723
          ],
          [
           "Wife_Education > 3 AND Children*Husband_Occupation <= 3",
           null,
           null,
           null,
           "cmc",
           "L_poly",
           291,
           23.56670157116993,
           null,
           6.786068180627693,
           0.0009990009990009,
           0.1428571428571428,
           0.0149955768204777,
           2,
           0.3190000105197522
          ],
          [
           "(Wife_Education - Children) > 2",
           "(Wife_Education - Children)",
           ">",
           2,
           "cmc",
           "L_symb",
           191,
           25.824651457274197,
           6.647285559772248,
           6.647285559772248,
           0.0009990009990009,
           0.25,
           0.1224564282529819,
           7,
           0.9022210633915244
          ],
          [
           "(Husband_Occupation / Wife_religion) <= 1",
           "(Husband_Occupation / Wife_religion)",
           "<=",
           1,
           "cmc",
           "L_symb",
           364,
           21.816061364338232,
           6.359328704305682,
           6.359328704305682,
           0.0009990009990009,
           0.1666666666666666,
           0.0301973834223185,
           9,
           0.4382180817726199
          ],
          [
           "(Husband_Occupation - Wife_religion) <= 0",
           "(Husband_Occupation - Wife_religion)",
           "<=",
           0,
           "cmc",
           "L_symb",
           364,
           21.816061364338232,
           6.359328704305682,
           6.359328704305682,
           0.0009990009990009,
           0.1666666666666666,
           0.0301973834223185,
           9,
           0.4382180817726199
          ],
          [
           "(Wife_religion / Husband_Occupation) > 0.5",
           "(Wife_religion / Husband_Occupation)",
           ">",
           0.5,
           "cmc",
           "L_symb",
           364,
           21.816061364338232,
           6.359328704305682,
           6.359328704305682,
           0.0009990009990009,
           0.2,
           0.0608100626252179,
           7,
           0.6218610590503113
          ],
          [
           "(Wife_religion - Husband_Occupation) > -1",
           "(Wife_religion - Husband_Occupation)",
           ">",
           -1,
           "cmc",
           "L_symb",
           364,
           21.816061364338232,
           6.359328704305682,
           6.359328704305682,
           0.0009990009990009,
           0.1666666666666666,
           0.0301973834223185,
           8,
           0.4382180817726199
          ],
          [
           "(Husband_Education / Husband_Occupation) > 3",
           "(Husband_Education / Husband_Occupation)",
           ">",
           3,
           "cmc",
           "L_symb",
           399,
           21.02299925666034,
           6.074512226641989,
           6.074512226641989,
           0.0009990009990009,
           0.1666666666666666,
           0.0301973834223185,
           7,
           0.4282923940621288
          ],
          [
           "(Husband_Occupation - Husband_Education) <= -3",
           "(Husband_Occupation - Husband_Education)",
           "<=",
           -3,
           "cmc",
           "L_symb",
           399,
           21.02299925666034,
           6.074512226641989,
           6.074512226641989,
           0.0009990009990009,
           0.125,
           0.0074465830709243,
           10,
           0.2126837086168923
          ],
          [
           "(Husband_Occupation / Husband_Education) <= 0.33",
           "(Husband_Occupation / Husband_Education)",
           "<=",
           0.33,
           "cmc",
           "L_symb",
           399,
           21.02299925666034,
           6.074512226641989,
           6.074512226641989,
           0.0009990009990009,
           0.1428571428571428,
           0.0149955768204777,
           9,
           0.3018125490126961
          ],
          [
           "(Husband_Occupation / Husband_Education) <= 0.25",
           "(Husband_Occupation / Husband_Education)",
           "<=",
           0.25,
           "cmc",
           "L_symb",
           399,
           21.02299925666034,
           6.074512226641989,
           6.074512226641989,
           0.0009990009990009,
           0.1428571428571428,
           0.0149955768204777,
           9,
           0.3018125490126961
          ],
          [
           "(Husband_Education - Husband_Occupation) > 2",
           "(Husband_Education - Husband_Occupation)",
           ">",
           2,
           "cmc",
           "L_symb",
           399,
           21.02299925666034,
           6.074512226641989,
           6.074512226641989,
           0.0009990009990009,
           0.1666666666666666,
           0.0301973834223185,
           7,
           0.4282923940621288
          ],
          [
           "Husband_Occupation <= 1.5 AND Contraceptive_Method <= 1.5 AND Children > 1.5 AND Children <= 5.5",
           null,
           null,
           null,
           "cmc",
           "L_tree",
           77,
           25.79211873774377,
           null,
           4.2100727723749785,
           0.0019980019980019,
           0.0833333333333333,
           0.0004528271828867,
           1,
           0.0436627460572851
          ],
          [
           "Husband_Occupation > 1.5 AND Contraceptive_Method > 1.5 AND SOLI <= 2.5 AND Husband_Education <= 3.5",
           null,
           null,
           null,
           "cmc",
           "L_tree",
           99,
           3.65677275936424,
           null,
           3.3391795564051483,
           0.0009990009990009,
           0.0714285714285714,
           0.0001116658084901,
           2,
           0.0193098986237536
          ],
          [
           "Husband_Occupation > 1.5 AND Contraceptive_Method <= 1.5 AND SOLI <= 2.5 AND Children > 5.5",
           null,
           null,
           null,
           "cmc",
           "L_tree",
           35,
           3.406410756349206,
           null,
           2.039997791615902,
           0.0419580419580419,
           0.0909090909090909,
           0.0009118819655545,
           1,
           0.0431304671426774
          ],
          [
           "Husband_Occupation > 1.5 AND Contraceptive_Method <= 1.5 AND SOLI <= 2.5 AND Children <= 5.5",
           null,
           null,
           null,
           "cmc",
           "L_tree",
           144,
           8.154651193229954,
           null,
           2.0389839520777415,
           0.0289710289710289,
           0.0833333333333333,
           0.0004528271828867,
           1,
           0.0303859730627596
          ],
          [
           "Husband_Occupation <= 1.5 AND Contraceptive_Method > 1.5 AND Children <= 5.5 AND SOLI > 3.5",
           null,
           null,
           null,
           "cmc",
           "L_tree",
           169,
           16.664598671629378,
           null,
           1.8662666783485855,
           0.0449550449550449,
           0.0909090909090909,
           0.0009118819655545,
           1,
           0.041253059606548
          ],
          [
           "Husband_Occupation > 1.5 AND Contraceptive_Method > 1.5 AND SOLI <= 2.5 AND Husband_Education > 3.5",
           null,
           null,
           null,
           "cmc",
           "L_tree",
           44,
           6.19678157293277,
           null,
           1.6054841808728082,
           0.0819180819180819,
           0.0769230769230769,
           0.0002248673241788,
           2,
           0.0190005508279191
          ],
          [
           "Husband_Occupation <= 1.5 AND Contraceptive_Method > 1.5 AND Children > 5.5 AND Children <= 6.5",
           null,
           null,
           null,
           "cmc",
           "L_tree",
           16,
           1.9851715130129584,
           null,
           1.5887025810769082,
           0.0779220779220779,
           0.0909090909090909,
           0.0009118819655545,
           1,
           0.0380619131457411
          ],
          [
           "Husband_Occupation > 1.5 AND Contraceptive_Method > 1.5 AND SOLI > 2.5 AND Children <= 3.5",
           null,
           null,
           null,
           "cmc",
           "L_tree",
           242,
           10.033380839927869,
           null,
           1.5666803805796454,
           0.0689310689310689,
           0.1,
           0.0018363047770289,
           1,
           0.053636765999973
          ],
          [
           "Husband_Occupation <= 1.5 AND Contraceptive_Method <= 1.5 AND Children > 1.5 AND Children > 5.5",
           null,
           null,
           null,
           "cmc",
           "L_tree",
           18,
           4.039768604938272,
           null,
           1.3639752649267858,
           0.1168831168831168,
           0.0909090909090909,
           0.0009118819655545,
           1,
           0.0352673283018317
          ],
          [
           "Husband_Occupation <= 1.5 AND Contraceptive_Method > 1.5 AND Children > 5.5 AND Children > 6.5",
           null,
           null,
           null,
           "cmc",
           "L_tree",
           24,
           5.451219408464428,
           null,
           1.3202727157339929,
           0.1348651348651348,
           0.1,
           0.0018363047770289,
           1,
           0.0492384310765814
          ],
          [
           "Husband_Occupation <= 1.5 AND Contraceptive_Method > 1.5 AND Children <= 5.5 AND SOLI <= 3.5",
           null,
           null,
           null,
           "cmc",
           "L_tree",
           69,
           8.770306454225945,
           null,
           1.2230416815125549,
           0.1828171828171828,
           0.0833333333333333,
           0.0004528271828867,
           1,
           0.0235335190567084
          ],
          [
           "Husband_Occupation > 1.5 AND Contraceptive_Method <= 1.5 AND SOLI > 2.5 AND Wife_Education <= 3.5",
           null,
           null,
           null,
           "cmc",
           "L_tree",
           227,
           13.638360774077904,
           null,
           0.4833913048912631,
           0.6103896103896104,
           0.0909090909090909,
           0.0009118819655545,
           1,
           0.0209951378475162
          ],
          [
           "Husband_Occupation <= 1.5 AND Contraceptive_Method <= 1.5 AND Children <= 1.5 AND SOLI <= 2.5",
           null,
           null,
           null,
           "cmc",
           "L_tree",
           8,
           9.095240042111518,
           null,
           0.3825945228858481,
           0.7132867132867133,
           0.0769230769230769,
           0.0002248673241788,
           1,
           0.009275397921751
          ],
          [
           "LSTAT <= 9.53 AND PTRATIO > 19.2 AND DIS <= 2.22",
           null,
           null,
           null,
           "housing",
           "L_conj",
           8,
           22.65587050000011,
           null,
           13.653499891890718,
           0.0009990009990009,
           0.1428571428571428,
           0.0149955768204777,
           1,
           0.4524843715502575
          ],
          [
           "LSTAT <= 9.53 AND DIS <= 3.09 AND CRIM > 2.3",
           null,
           null,
           null,
           "housing",
           "L_conj",
           8,
           22.483155875000097,
           null,
           13.542352749557306,
           0.0009990009990009,
           0.1428571428571428,
           0.0149955768204777,
           1,
           0.4506388698126186
          ],
          [
           "LSTAT <= 13.33 AND RAD > 7 AND DIS <= 1.93",
           null,
           null,
           null,
           "housing",
           "L_conj",
           10,
           19.879914500000087,
           null,
           13.267806976441216,
           0.0009990009990009,
           0.1428571428571428,
           0.0149955768204777,
           1,
           0.4460475521225225
          ],
          [
           "DIS <= 1.951 AND LSTAT <= 13.66 AND CRIM > 1.5",
           null,
           null,
           null,
           "housing",
           "L_conj",
           12,
           18.248303583333403,
           null,
           13.896076421259082,
           0.0009990009990009,
           0.1428571428571428,
           0.0149955768204777,
           1,
           0.4457175564764385
          ],
          [
           "LSTAT <= 9.53 AND B <= 383.2 AND RAD > 8",
           null,
           null,
           null,
           "housing",
           "L_conj",
           7,
           23.280703714285817,
           null,
           13.147809115919529,
           0.0009990009990009,
           0.1428571428571428,
           0.0149955768204777,
           1,
           0.4440258794470751
          ],
          [
           "LSTAT <= 9.53 AND INDUS > 8.39 AND NOX > 0.63",
           null,
           null,
           null,
           "housing",
           "L_conj",
           9,
           20.280963444444524,
           null,
           12.860689756498871,
           0.0009990009990009,
           0.1666666666666666,
           0.0301973834223185,
           1,
           0.623184707492474
          ],
          [
           "LSTAT <= 9.53 AND AGE > 76.96 AND CRIM > 3.47",
           null,
           null,
           null,
           "housing",
           "L_conj",
           9,
           20.271252444444528,
           null,
           12.854061345908308,
           0.0009990009990009,
           0.1666666666666666,
           0.0301973834223185,
           1,
           0.6230240918266297
          ],
          [
           "NOX > 0.507 AND LSTAT <= 10.11 AND TAX > 406.8",
           null,
           null,
           null,
           "housing",
           "L_conj",
           12,
           17.672470750000063,
           null,
           12.794333764405696,
           0.0009990009990009,
           0.1666666666666666,
           0.0301973834223185,
           1,
           0.6215749370083019
          ],
          [
           "PTRATIO > 19.7 AND LSTAT <= 11.45 AND B <= 375.5",
           null,
           null,
           null,
           "housing",
           "L_conj",
           9,
           20.07283144444453,
           null,
           12.000068333309889,
           0.0009990009990009,
           0.1428571428571428,
           0.0149955768204777,
           1,
           0.4367185916255656
          ],
          [
           "B <= 388 AND LSTAT <= 11.98 AND RAD > 8",
           null,
           null,
           null,
           "housing",
           "L_conj",
           10,
           18.919942300000073,
           null,
           12.577117482350856,
           0.0009990009990009,
           0.1428571428571428,
           0.0149955768204777,
           1,
           0.434282317607758
          ],
          [
           "DIS <= 2.64 AND LSTAT <= 11.65 AND RAD > 5",
           null,
           null,
           null,
           "housing",
           "L_conj",
           11,
           18.101728000000076,
           null,
           12.573562278632876,
           0.0009990009990009,
           0.1428571428571428,
           0.0149955768204777,
           1,
           0.4342209334616425
          ],
          [
           "LSTAT <= 9.53 AND DIS <= 3.09 AND RAD > 5",
           null,
           null,
           null,
           "housing",
           "L_conj",
           10,
           18.90523160000007,
           null,
           12.566533294662175,
           0.0009990009990009,
           0.1428571428571428,
           0.0149955768204777,
           1,
           0.4340995454814455
          ],
          [
           "INDUS > 7.38 AND LSTAT <= 10.45 AND DIS <= 1.96",
           null,
           null,
           null,
           "housing",
           "L_conj",
           12,
           17.24043800000004,
           null,
           12.45382249771844,
           0.0009990009990009,
           0.1428571428571428,
           0.0149955768204777,
           1,
           0.4321484142897328
          ],
          [
           "LSTAT <= 9.53 AND CRIM > 0.37 AND RAD > 8",
           null,
           null,
           null,
           "housing",
           "L_conj",
           10,
           18.622818800000072,
           null,
           12.363340375162384,
           0.0009990009990009,
           0.1666666666666666,
           0.0301973834223185,
           1,
           0.6110159815335516
          ],
          [
           "NOX > 0.507 AND LSTAT <= 10.11 AND CRIM > 2.19",
           null,
           null,
           null,
           "housing",
           "L_conj",
           12,
           17.028318750000064,
           null,
           12.2866384254317,
           0.0009990009990009,
           0.1666666666666666,
           0.0301973834223185,
           1,
           0.6091176663865141
          ],
          [
           "LSTAT <= 9.53 AND NOX > 0.48 AND TAX > 403",
           null,
           null,
           null,
           "housing",
           "L_conj",
           11,
           17.670837545454614,
           null,
           12.248409544974033,
           0.0009990009990009,
           0.1666666666666666,
           0.0301973834223185,
           1,
           0.608169317988968
          ],
          [
           "LSTAT <= 9.53 AND PTRATIO > 19.2 AND B <= 378.7",
           null,
           null,
           null,
           "housing",
           "L_conj",
           8,
           20.394815750000085,
           null,
           12.198442023329408,
           0.0009990009990009,
           0.1428571428571428,
           0.0149955768204777,
           1,
           0.4276946041873568
          ],
          [
           "DIS <= 1.951 AND RAD > 5 AND LSTAT <= 14.27",
           null,
           null,
           null,
           "housing",
           "L_conj",
           14,
           15.701733642857196,
           null,
           13.264096567322689,
           0.0009990009990009,
           0.1428571428571428,
           0.0149955768204777,
           1,
           0.4266995933694624
          ],
          [
           "DIS <= 2.64 AND LSTAT <= 11.65 AND TAX > 403",
           null,
           null,
           null,
           "housing",
           "L_conj",
           12,
           16.646450750000067,
           null,
           11.985665046938236,
           0.0009990009990009,
           0.1428571428571428,
           0.0149955768204777,
           1,
           0.4239480639841123
          ],
          [
           "PTRATIO > 19.7 AND LSTAT <= 11.45 AND NOX > 0.63",
           null,
           null,
           null,
           "housing",
           "L_conj",
           10,
           18.042415600000076,
           null,
           11.945746623409557,
           0.0009990009990009,
           0.1666666666666666,
           0.0301973834223185,
           1,
           0.6006082675529574
          ],
          [
           "LSTAT <= 13.33 AND B <= 379.2 AND RAD > 8",
           null,
           null,
           null,
           "housing",
           "L_conj",
           12,
           16.443599000000056,
           null,
           11.825785254625668,
           0.0009990009990009,
           0.1428571428571428,
           0.0149955768204777,
           1,
           0.4211109963515698
          ],
          [
           "DIS <= 1.951 AND LSTAT <= 13.66 AND INDUS <= 18.1",
           null,
           null,
           null,
           "housing",
           "L_conj",
           15,
           14.820152266666716,
           null,
           12.257032212375067,
           0.0009990009990009,
           0.125,
           0.0074465830709243,
           1,
           0.296315941699217
          ],
          [
           "PTRATIO > 19.7 AND LSTAT <= 14.81 AND DIS <= 1.95",
           null,
           null,
           null,
           "housing",
           "L_conj",
           15,
           14.80002666666672,
           null,
           11.773329476134686,
           0.0009990009990009,
           0.1428571428571428,
           0.0149955768204777,
           1,
           0.4201759947833435
          ],
          [
           "NOX*RAD > 14.74 AND LSTAT <= 14.15",
           null,
           null,
           null,
           "housing",
           "L_poly",
           20,
           10.28418995000004,
           null,
           8.999755519802562,
           0.0009990009990009,
           0.1666666666666666,
           0.0301973834223185,
           2,
           0.5213147495885814
          ],
          [
           "RM > 6.75 AND RAD > 8",
           null,
           null,
           null,
           "housing",
           "L_poly",
           12,
           11.780409000000027,
           null,
           8.150441814334897,
           0.0009990009990009,
           0.25,
           0.1224564282529819,
           2,
           0.9990365324987898
          ],
          [
           "LSTAT <= 9.53 AND DIS <= 3.09",
           null,
           null,
           null,
           "housing",
           "L_poly",
           40,
           6.786062075000018,
           null,
           7.693846853549796,
           0.0009990009990009,
           0.1666666666666666,
           0.0301973834223185,
           2,
           0.4820104183824681
          ],
          [
           "NOX*PTRATIO > 13.23 AND CHAS > 0",
           null,
           null,
           null,
           "housing",
           "L_poly",
           6,
           15.201609666666776,
           null,
           7.669915116645891,
           0.0009990009990009,
           0.2,
           0.0608100626252179,
           2,
           0.6829407138056294
          ],
          [
           "DIS <= 2.64 AND LSTAT <= 11.65",
           null,
           null,
           null,
           "housing",
           "L_poly",
           41,
           6.672865804878066,
           null,
           7.748447115429525,
           0.0009990009990009,
           0.1666666666666666,
           0.0301973834223185,
           2,
           0.4798337487900867
          ],
          [
           "DIS <= 1.951 AND CHAS > 0",
           null,
           null,
           null,
           "housing",
           "L_poly",
           10,
           11.934551200000053,
           null,
           7.551205018550094,
           0.0009990009990009,
           0.2,
           0.0608100626252179,
           2,
           0.6776350419465418
          ],
          [
           "DIS*NOX <= 1.277 AND LSTAT <= 12.16",
           null,
           null,
           null,
           "housing",
           "L_poly",
           21,
           8.569090095238105,
           null,
           7.433775687509045,
           0.0009990009990009,
           0.1428571428571428,
           0.0149955768204777,
           2,
           0.3338768551251216
          ],
          [
           "CHAS > 0 AND B <= 359.1",
           null,
           null,
           null,
           "housing",
           "L_poly",
           7,
           13.675538000000074,
           null,
           7.3658092710390894,
           0.0009990009990009,
           0.2,
           0.0608100626252179,
           2,
           0.6692647630477031
          ],
          [
           "LSTAT <= 9.53 AND AGE*PTRATIO > 1335",
           null,
           null,
           null,
           "housing",
           "L_poly",
           41,
           6.487110439024392,
           null,
           7.353897277300022,
           0.0009990009990009,
           0.1666666666666666,
           0.0301973834223185,
           2,
           0.4712413985750539
          ],
          [
           "AGE*DIS <= 146.8 AND DIS*NOX <= 1",
           null,
           null,
           null,
           "housing",
           "L_poly",
           21,
           8.491195666666679,
           null,
           7.352559941708829,
           0.0009990009990009,
           0.125,
           0.0074465830709243,
           2,
           0.2339902741352414
          ],
          [
           "DIS*NOX <= 1.533 AND LSTAT <= 9.55",
           null,
           null,
           null,
           "housing",
           "L_poly",
           41,
           6.47937719512197,
           null,
           7.3426310676184015,
           0.0009990009990009,
           0.1428571428571428,
           0.0149955768204777,
           2,
           0.3318237306747335
          ],
          [
           "RM > 6.75 AND AGE*PTRATIO > 1444",
           null,
           null,
           null,
           "housing",
           "L_poly",
           20,
           8.528427700000002,
           null,
           7.2132477937957855,
           0.0009990009990009,
           0.2,
           0.0608100626252179,
           2,
           0.6622975540283514
          ],
          [
           "LSTAT <= 9.53 AND CRIM > 0.37",
           null,
           null,
           null,
           "housing",
           "L_poly",
           40,
           6.436810149999994,
           null,
           7.191280976353879,
           0.0009990009990009,
           0.2,
           0.0608100626252179,
           2,
           0.6612883232959872
          ],
          [
           "LSTAT <= 9.53 AND AGE > 76.96",
           null,
           null,
           null,
           "housing",
           "L_poly",
           41,
           6.373303463414637,
           null,
           7.188097094785533,
           0.0009990009990009,
           0.2,
           0.0608100626252179,
           2,
           0.6611419170571895
          ],
          [
           "AGE*PTRATIO > 1499 AND AGE*DIS <= 158.2",
           null,
           null,
           null,
           "housing",
           "L_poly",
           41,
           6.3535308536585555,
           null,
           7.159291283113782,
           0.0009990009990009,
           0.1428571428571428,
           0.0149955768204777,
           2,
           0.3276548525752506
          ],
          [
           "AGE*PTRATIO > 1499 AND LSTAT <= 12.7",
           null,
           null,
           null,
           "housing",
           "L_poly",
           41,
           6.340861365853674,
           null,
           7.140833685245463,
           0.0009990009990009,
           0.1666666666666666,
           0.0301973834223185,
           2,
           0.464364611860513
          ],
          [
           "RM > 6.75 AND B*INDUS > 2544",
           null,
           null,
           null,
           "housing",
           "L_poly",
           20,
           8.431739499999994,
           null,
           6.653026016359266,
           0.0009990009990009,
           0.2,
           0.0608100626252179,
           2,
           0.6577655171452608
          ],
          [
           "LSTAT <= 6.29 AND AGE*PTRATIO > 1270",
           null,
           null,
           null,
           "housing",
           "L_poly",
           21,
           8.218555428571406,
           null,
           7.068294678093064,
           0.0009990009990009,
           0.1666666666666666,
           0.0301973834223185,
           2,
           0.4620000049094259
          ],
          [
           "AGE*INDUS > 872.4 AND LSTAT <= 12.03",
           null,
           null,
           null,
           "housing",
           "L_poly",
           42,
           6.211293333333347,
           null,
           7.036342554557699,
           0.0009990009990009,
           0.1666666666666666,
           0.0301973834223185,
           2,
           0.4609545899660343
          ],
          [
           "LSTAT <= 9.53 AND NOX > 0.52",
           null,
           null,
           null,
           "housing",
           "L_poly",
           38,
           6.438350394736854,
           null,
           7.011353933739841,
           0.0009990009990009,
           0.2,
           0.0608100626252179,
           2,
           0.6529631473508195
          ],
          [
           "LSTAT <= 9.53 AND AGE*INDUS > 457.7",
           null,
           null,
           null,
           "housing",
           "L_poly",
           41,
           6.251607560975623,
           null,
           7.0108038952470295,
           0.0009990009990009,
           0.1666666666666666,
           0.0301973834223185,
           2,
           0.4601173038731087
          ],
          [
           "DIS <= 1.951 AND LSTAT <= 17.89",
           null,
           null,
           null,
           "housing",
           "L_poly",
           41,
           6.246209463414637,
           null,
           7.26318933580271,
           0.0009990009990009,
           0.1666666666666666,
           0.0301973834223185,
           2,
           0.4598591673568994
          ],
          [
           "DIS <= 1.951 AND DIS*NOX <= 0.95",
           null,
           null,
           null,
           "housing",
           "L_poly",
           21,
           8.13419347619048,
           null,
           6.980335641671139,
           0.0009990009990009,
           0.1428571428571428,
           0.0149955768204777,
           2,
           0.3235338612068266
          ],
          [
           "(DIS * LSTAT) <= 20.27",
           "(DIS * LSTAT)",
           "<=",
           20.27,
           "housing",
           "L_symb",
           73,
           4.995139986301362,
           6.912347472651591,
           6.912347472651591,
           0.0009990009990009,
           0.2,
           0.0608100626252179,
           9,
           0.6483365504884099
          ],
          [
           "DIS > 1.34 AND RM > 8.28",
           null,
           null,
           null,
           "housing",
           "L_tree",
           7,
           12.443245571428577,
           null,
           6.624008989524886,
           0.0009990009990009,
           0.25,
           0.1224564282529819,
           0,
           0.9006400399565088
          ],
          [
           "(DIS - RM) <= -4.34",
           "(DIS - RM)",
           "<=",
           -4.34,
           "housing",
           "L_symb",
           73,
           4.68307712328766,
           6.3057121249789505,
           6.3057121249789505,
           0.0009990009990009,
           0.1666666666666666,
           0.0301973834223185,
           10,
           0.4363668259489395
          ],
          [
           "(RM - DIS) > 4.34",
           "(RM - DIS)",
           ">",
           4.34,
           "housing",
           "L_symb",
           73,
           4.68307712328766,
           6.3057121249789505,
           6.3057121249789505,
           0.0009990009990009,
           0.25,
           0.1224564282529819,
           7,
           0.8787348772049753
          ],
          [
           "(CHAS + TAX) > 666",
           "(CHAS + TAX)",
           ">",
           666,
           "housing",
           "L_symb",
           13,
           9.057135153846204,
           6.249228143129416,
           6.249228143129416,
           0.0009990009990009,
           0.25,
           0.1224564282529819,
           7,
           0.8747903507387601
          ],
          [
           "(RM / DIS) + RM > 9.65",
           "(RM / DIS) + RM",
           ">",
           9.65,
           "housing",
           "L_symb",
           74,
           4.585784216216205,
           6.158331225514988,
           6.158331225514988,
           0.0009990009990009,
           0.2,
           0.0608100626252179,
           9,
           0.6119546613029447
          ],
          [
           "(AGE / LSTAT) > 9.3",
           "(AGE / LSTAT)",
           ">",
           9.3,
           "housing",
           "L_symb",
           73,
           4.492412712328763,
           5.935069588043143,
           5.935069588043143,
           0.0009990009990009,
           0.25,
           0.1224564282529819,
           7,
           0.8525182831967067
          ],
          [
           "(LSTAT / AGE) <= 0.11",
           "(LSTAT / AGE)",
           "<=",
           0.11,
           "housing",
           "L_symb",
           76,
           4.317931342105258,
           5.709712398991641,
           5.709712398991641,
           0.0009990009990009,
           0.2,
           0.0608100626252179,
           9,
           0.5892435562266806
          ],
          [
           "(CRIM - LSTAT) > -4.04",
           "(CRIM - LSTAT)",
           ">",
           -4.04,
           "housing",
           "L_symb",
           73,
           4.257546178082192,
           5.478500228000194,
           5.478500228000194,
           0.0009990009990009,
           0.2,
           0.0608100626252179,
           8,
           0.5771896932178907
          ],
          [
           "(LSTAT - CRIM) <= 4.04",
           "(LSTAT - CRIM)",
           "<=",
           4.04,
           "housing",
           "L_symb",
           73,
           4.257546178082192,
           5.478500228000194,
           5.478500228000194,
           0.0009990009990009,
           0.2,
           0.0608100626252179,
           9,
           0.5771896932178907
          ],
          [
           "(LSTAT / RAD) <= 0.69",
           "(LSTAT / RAD)",
           "<=",
           0.6900000000000001,
           "housing",
           "L_symb",
           71,
           4.293476802816899,
           5.471815053086673,
           5.471815053086673,
           0.0009990009990009,
           0.2,
           0.0608100626252179,
           9,
           0.5768374260151737
          ],
          [
           "(RAD / LSTAT) > 1.44",
           "(RAD / LSTAT)",
           ">",
           1.44,
           "housing",
           "L_symb",
           73,
           4.193490616438353,
           5.353979265996234,
           5.353979265996234,
           0.0009990009990009,
           0.25,
           0.1224564282529819,
           7,
           0.8097093168874993
          ],
          [
           "(CRIM / LSTAT) > 0.49",
           "(CRIM / LSTAT)",
           ">",
           0.49,
           "housing",
           "L_symb",
           73,
           4.161016547945216,
           5.290851223010182,
           5.290851223010182,
           0.0009990009990009,
           0.25,
           0.1224564282529819,
           7,
           0.8049215757996229
          ],
          [
           "(LSTAT / CRIM) <= 2.03",
           "(LSTAT / CRIM)",
           "<=",
           2.03,
           "housing",
           "L_symb",
           73,
           4.161016547945216,
           5.290851223010182,
           5.290851223010182,
           0.0009990009990009,
           0.2,
           0.0608100626252179,
           9,
           0.5672186476236128
          ],
          [
           "(RM + DIS) / RM <= 1.29",
           "(RM + DIS) / RM",
           "<=",
           1.29,
           "housing",
           "L_symb",
           68,
           4.224009176470589,
           5.224630664632034,
           5.224630664632034,
           0.0009990009990009,
           0.1666666666666666,
           0.0301973834223185,
           11,
           0.3972029398429678
          ],
          [
           "(DIS / RM) <= 0.29",
           "(DIS / RM)",
           "<=",
           0.29,
           "housing",
           "L_symb",
           68,
           4.224009176470589,
           5.224630664632034,
           5.224630664632034,
           0.0009990009990009,
           0.2,
           0.0608100626252179,
           9,
           0.5636578021369953
          ],
          [
           "(RM - DIS) / RM > 0.71",
           "(RM - DIS) / RM",
           ">",
           0.71,
           "housing",
           "L_symb",
           68,
           4.224009176470589,
           5.224630664632034,
           5.224630664632034,
           0.0009990009990009,
           0.2,
           0.0608100626252179,
           9,
           0.5636578021369953
          ],
          [
           "(TAX / LSTAT) > 58.78",
           "(TAX / LSTAT)",
           ">",
           58.78,
           "housing",
           "L_symb",
           73,
           4.1137315205479394,
           5.19893138109808,
           5.19893138109808,
           0.0009990009990009,
           0.25,
           0.1224564282529819,
           7,
           0.7978988455071315
          ],
          [
           "(DIS / RAD) <= 0.08",
           "(DIS / RAD)",
           "<=",
           0.08,
           "housing",
           "L_symb",
           64,
           4.28511843750001,
           5.179866069756327,
           5.179866069756327,
           0.0009990009990009,
           0.2,
           0.0608100626252179,
           9,
           0.5612378997289152
          ],
          [
           "(RM + DIS) / DIS > 4.39",
           "(RM + DIS) / DIS",
           ">",
           4.39,
           "housing",
           "L_symb",
           74,
           4.018690283783784,
           5.048402594870735,
           5.048402594870735,
           0.0009990009990009,
           0.2,
           0.0608100626252179,
           9,
           0.5540701020190516
          ],
          [
           "(RM - DIS) / DIS > 2.39",
           "(RM - DIS) / DIS",
           ">",
           2.39,
           "housing",
           "L_symb",
           74,
           4.018690283783784,
           5.048402594870735,
           5.048402594870735,
           0.0009990009990009,
           0.2,
           0.0608100626252179,
           9,
           0.5540701020190516
          ],
          [
           "(RM / DIS) > 3.39",
           "(RM / DIS)",
           ">",
           3.39,
           "housing",
           "L_symb",
           74,
           4.018690283783784,
           5.048402594870735,
           5.048402594870735,
           0.0009990009990009,
           0.25,
           0.1224564282529819,
           7,
           0.7862629014209916
          ],
          [
           "(RM / DIS) - DIS > 1.59",
           "(RM / DIS) - DIS",
           ">",
           1.59,
           "housing",
           "L_symb",
           72,
           4.004832750000004,
           4.95296040449167,
           4.95296040449167,
           0.0009990009990009,
           0.2,
           0.0608100626252179,
           9,
           0.5488076460631388
          ],
          [
           "(DIS / CHAS) <= 6.26179e+06",
           "(DIS / CHAS)",
           "<=",
           6261792.92,
           "housing",
           "L_symb",
           73,
           3.957617136986305,
           4.895452452416797,
           3.614259236458937,
           0.0049950049950049,
           0.1666666666666666,
           0.0301973834223185,
           11,
           0.3844864818577623
          ],
          [
           "(DIS - CHAS) <= 1.75",
           "(DIS - CHAS)",
           "<=",
           1.75,
           "housing",
           "L_symb",
           72,
           3.953157805555565,
           4.853197184001743,
           4.853197184001743,
           0.0009990009990009,
           0.2,
           0.0608100626252179,
           9,
           0.5432524502399207
          ],
          [
           "DIS > 1.34 AND RM <= 8.28 AND RM <= 6.77 AND DIS > 1.42",
           null,
           null,
           null,
           "housing",
           "L_tree",
           392,
           0.7867787474489811,
           null,
           2.903091825071507,
           0.0009990009990009,
           0.125,
           0.0074465830709243,
           0,
           0.1479502329979525
          ],
          [
           "DIS > 1.34 AND RM <= 8.28 AND RM > 6.77 AND INDUS > 6.66",
           null,
           null,
           null,
           "housing",
           "L_tree",
           19,
           4.018949947368379,
           null,
           2.5318806502803173,
           0.0389610389610389,
           0.1428571428571428,
           0.0149955768204777,
           0,
           0.1958668360260674
          ],
          [
           "DIS > 1.34 AND RM <= 8.28 AND RM <= 6.77 AND DIS <= 1.42",
           null,
           null,
           null,
           "housing",
           "L_tree",
           7,
           4.179332999999999,
           null,
           1.4328265572589542,
           0.0659340659340659,
           0.1111111111111111,
           0.0036978637164829,
           0,
           0.0780977424592166
          ],
          [
           "DIS > 1.34 AND RM <= 8.28 AND RM > 6.77 AND INDUS <= 6.66",
           null,
           null,
           null,
           "housing",
           "L_tree",
           71,
           1.4202335633802732,
           null,
           0.0365886498218388,
           0.98001998001998,
           0.125,
           0.0074465830709243,
           0,
           0.0165063751426921
          ],
          [
           "horsepower > 72 AND model > 79 AND displacement > 163.2",
           null,
           null,
           null,
           "auto-mpg",
           "L_conj",
           11,
           7.708708090909118,
           null,
           7.656568082218864,
           0.0009990009990009,
           0.2,
           0.0608100626252179,
           1,
           0.6823462351137978
          ],
          [
           "acceleration <= 17.76 AND model > 79 AND cylinders > 4",
           null,
           null,
           null,
           "auto-mpg",
           "L_conj",
           10,
           7.918830800000021,
           null,
           7.53143935904883,
           0.0009990009990009,
           0.1666666666666666,
           0.0301973834223185,
           1,
           0.4768959656435963
          ],
          [
           "model > 80 AND cylinders > 4 AND displacement > 181",
           null,
           null,
           null,
           "auto-mpg",
           "L_conj",
           6,
           9.759407166666673,
           null,
           7.402463230129194,
           0.0019980019980019,
           0.2,
           0.0608100626252179,
           1,
           0.6709279041782579
          ],
          [
           "horsepower > 72 AND model > 79 AND cylinders > 4",
           null,
           null,
           null,
           "auto-mpg",
           "L_conj",
           13,
           6.953243000000029,
           null,
           7.37585016126673,
           0.0009990009990009,
           0.2,
           0.0608100626252179,
           1,
           0.6697207703370517
          ],
          [
           "model > 79.5 AND displacement <= 212.5 AND acceleration <= 13.85",
           null,
           null,
           null,
           "auto-mpg",
           "L_tree",
           9,
           7.806399111111144,
           null,
           7.027595478026122,
           0.0009990009990009,
           0.1428571428571428,
           0.0149955768204777,
           0,
           0.3246272444727683
          ],
          [
           "cylinders > 4 AND model > 78 AND weight <= 3160",
           null,
           null,
           null,
           "auto-mpg",
           "L_conj",
           13,
           6.6464070769230785,
           null,
           6.990930210421178,
           0.0009990009990009,
           0.1666666666666666,
           0.0301973834223185,
           1,
           0.4594646885700337
          ],
          [
           "weight <= 3085 AND model > 78.8 AND cylinders > 4",
           null,
           null,
           null,
           "auto-mpg",
           "L_conj",
           12,
           6.811834249999993,
           null,
           6.916052354123986,
           0.0009990009990009,
           0.1666666666666666,
           0.0301973834223185,
           1,
           0.4569974668488989
          ],
          [
           "acceleration <= 14.8 AND model > 79 AND horsepower > 96",
           null,
           null,
           null,
           "auto-mpg",
           "L_conj",
           8,
           8.042225874999989,
           null,
           6.857756769063741,
           0.0009990009990009,
           0.1666666666666666,
           0.0301973834223185,
           1,
           0.4550673692679117
          ],
          [
           "acceleration <= 17.76 AND model > 79 AND displacement > 151",
           null,
           null,
           null,
           "auto-mpg",
           "L_conj",
           12,
           6.675592416666678,
           null,
           6.751844606551215,
           0.0009990009990009,
           0.1666666666666666,
           0.0301973834223185,
           1,
           0.4515396332460089
          ],
          [
           "model > 80 AND cylinders > 4 AND acceleration > 13.8",
           null,
           null,
           null,
           "auto-mpg",
           "L_conj",
           8,
           7.909177500000018,
           null,
           6.726824374678576,
           0.0009990009990009,
           0.2,
           0.0608100626252179,
           1,
           0.6395769003748079
          ],
          [
           "model > 80 AND weight > 2310 AND displacement > 173",
           null,
           null,
           null,
           "auto-mpg",
           "L_conj",
           7,
           8.373162714285721,
           null,
           6.719483892469685,
           0.0019980019980019,
           0.2,
           0.0608100626252179,
           1,
           0.6392278438164478
          ],
          [
           "weight > 2581 AND model > 79 AND displacement > 151",
           null,
           null,
           null,
           "auto-mpg",
           "L_conj",
           14,
           6.189262785714301,
           null,
           6.659703854976873,
           0.0009990009990009,
           0.2,
           0.0608100626252179,
           1,
           0.6363780389725506
          ],
          [
           "origin > 2 AND horsepower > 65 AND acceleration <= 14.2",
           null,
           null,
           null,
           "auto-mpg",
           "L_conj",
           13,
           6.34973284615387,
           null,
           6.61875791331962,
           0.0009990009990009,
           0.1666666666666666,
           0.0301973834223185,
           1,
           0.4470672997301607
          ],
          [
           "acceleration <= 17.76 AND model > 79 AND weight > 2798",
           null,
           null,
           null,
           "auto-mpg",
           "L_conj",
           13,
           6.335103384615389,
           null,
           6.600405526285469,
           0.0009990009990009,
           0.1666666666666666,
           0.0301973834223185,
           1,
           0.4464470589219199
          ],
          [
           "acceleration <= 13.5 AND displacement <= 173 AND origin > 2.4",
           null,
           null,
           null,
           "auto-mpg",
           "L_conj",
           8,
           7.769614125000011,
           null,
           6.589480593837739,
           0.0009990009990009,
           0.1428571428571428,
           0.0149955768204777,
           1,
           0.3143454508211323
          ],
          [
           "cylinders > 4 AND model > 78 AND horsepower <= 88",
           null,
           null,
           null,
           "auto-mpg",
           "L_conj",
           7,
           8.17092342857139,
           null,
           6.533315013082512,
           0.0019980019980019,
           0.1666666666666666,
           0.0301973834223185,
           1,
           0.4441722846698592
          ],
          [
           "origin <= 2 AND model > 79 AND cylinders > 4",
           null,
           null,
           null,
           "auto-mpg",
           "L_conj",
           11,
           6.683530090909079,
           null,
           6.473558772786655,
           0.0009990009990009,
           0.1666666666666666,
           0.0301973834223185,
           1,
           0.4421363323328589
          ],
          [
           "acceleration <= 14.8 AND model > 79 AND origin > 1",
           null,
           null,
           null,
           "auto-mpg",
           "L_conj",
           12,
           6.432674333333346,
           null,
           6.459063525051286,
           0.0009990009990009,
           0.1666666666666666,
           0.0301973834223185,
           1,
           0.4416410508717298
          ],
          [
           "model > 80 AND cylinders > 4 AND weight > 2945",
           null,
           null,
           null,
           "auto-mpg",
           "L_conj",
           6,
           8.627711333333357,
           null,
           6.437972886350845,
           0.0019980019980019,
           0.2,
           0.0608100626252179,
           1,
           0.625694441719319
          ],
          [
           "model > 80 AND cylinders > 4 AND acceleration > 15.8",
           null,
           null,
           null,
           "auto-mpg",
           "L_conj",
           6,
           8.607733833333361,
           null,
           6.420947016611557,
           0.0019980019980019,
           0.2,
           0.0608100626252179,
           1,
           0.6248665379049796
          ],
          [
           "origin > 2 AND displacement <= 91 AND weight > 2058",
           null,
           null,
           null,
           "auto-mpg",
           "L_conj",
           7,
           8.048609285714225,
           null,
           6.420720237895825,
           0.0009990009990009,
           0.1666666666666666,
           0.0301973834223185,
           1,
           0.4403282308360211
          ],
          [
           "weight > 2581 AND model > 79 AND displacement > 179.4",
           null,
           null,
           null,
           "auto-mpg",
           "L_conj",
           8,
           7.564912499999998,
           null,
           6.388034511570356,
           0.0009990009990009,
           0.2,
           0.0608100626252179,
           1,
           0.6232630092510281
          ],
          [
           "model > 80 AND cylinders > 4 AND horsepower <= 112",
           null,
           null,
           null,
           "auto-mpg",
           "L_conj",
           9,
           7.132993444444462,
           null,
           6.3247003012778915,
           0.0009990009990009,
           0.1666666666666666,
           0.0301973834223185,
           1,
           0.4370233403709026
          ],
          [
           "model > 77 AND acceleration <= 14.4 AND origin > 1",
           null,
           null,
           null,
           "auto-mpg",
           "L_conj",
           11,
           6.541403727272766,
           null,
           6.30955134061634,
           0.0009990009990009,
           0.1666666666666666,
           0.0301973834223185,
           1,
           0.4364996461114205
          ],
          [
           "model > 77 AND origin > 2 AND acceleration <= 14.5",
           null,
           null,
           null,
           "auto-mpg",
           "L_conj",
           10,
           6.802591200000035,
           null,
           6.303293445700084,
           0.0009990009990009,
           0.1666666666666666,
           0.0301973834223185,
           1,
           0.4362831294047394
          ],
          [
           "acceleration <= 14.8 AND model > 79",
           null,
           null,
           null,
           "auto-mpg",
           "L_poly",
           22,
           4.507250727272728,
           null,
           5.6034397640047535,
           0.0009990009990009,
           0.2,
           0.0608100626252179,
           2,
           0.5837341200972971
          ],
          [
           "model > 80 AND cylinders*horsepower > 393.6",
           null,
           null,
           null,
           "auto-mpg",
           "L_poly",
           12,
           5.682336500000005,
           null,
           5.554706305863951,
           0.0009990009990009,
           0.2,
           0.0608100626252179,
           2,
           0.5811901911803743
          ],
          [
           "model > 77 AND model*origin > 81",
           null,
           null,
           null,
           "auto-mpg",
           "L_poly",
           89,
           2.759898831460679,
           null,
           5.534919522798435,
           0.0009990009990009,
           0.2,
           0.0608100626252179,
           2,
           0.5801541198741197
          ],
          [
           "model > 77 AND model*origin > 79",
           null,
           null,
           null,
           "auto-mpg",
           "L_poly",
           109,
           2.5965461559633063,
           null,
           5.531952096196794,
           0.0009990009990009,
           0.2,
           0.0608100626252179,
           2,
           0.5799985805236362
          ],
          [
           "(model * displacement) / displacement > 79",
           "(model * displacement) / displacement",
           ">",
           79,
           "auto-mpg",
           "L_symb",
           89,
           2.724550775280898,
           5.4188941208191554,
           5.4188941208191554,
           0.0009990009990009,
           0.2,
           0.0608100626252179,
           9,
           0.5740411926390286
          ],
          [
           "(origin * model) / origin > 79",
           "(origin * model) / origin",
           ">",
           79,
           "auto-mpg",
           "L_symb",
           89,
           2.724550775280898,
           5.4188941208191554,
           5.4188941208191554,
           0.0009990009990009,
           0.2,
           0.0608100626252179,
           9,
           0.5740411926390286
          ],
          [
           "(model * cylinders) / cylinders > 79",
           "(model * cylinders) / cylinders",
           ">",
           79,
           "auto-mpg",
           "L_symb",
           89,
           2.724550775280898,
           5.4188941208191554,
           5.4188941208191554,
           0.0009990009990009,
           0.2,
           0.0608100626252179,
           9,
           0.5740411926390286
          ],
          [
           "(model * weight) / weight > 79",
           "(model * weight) / weight",
           ">",
           79,
           "auto-mpg",
           "L_symb",
           89,
           2.724550775280898,
           5.4188941208191554,
           5.4188941208191554,
           0.0009990009990009,
           0.2,
           0.0608100626252179,
           9,
           0.5740411926390286
          ],
          [
           "(model * horsepower) / horsepower > 79",
           "(model * horsepower) / horsepower",
           ">",
           79,
           "auto-mpg",
           "L_symb",
           89,
           2.724550775280898,
           5.4188941208191554,
           5.466675915939279,
           0.0009990009990009,
           0.2,
           0.0608100626252179,
           9,
           0.5740411926390286
          ],
          [
           "(model * origin) / origin > 79",
           "(model * origin) / origin",
           ">",
           79,
           "auto-mpg",
           "L_symb",
           89,
           2.724550775280898,
           5.4188941208191554,
           5.4188941208191554,
           0.0009990009990009,
           0.2,
           0.0608100626252179,
           9,
           0.5740411926390286
          ],
          [
           "model > 77 AND model^2 > 6241",
           null,
           null,
           null,
           "auto-mpg",
           "L_poly",
           89,
           2.724550775280898,
           null,
           5.4188941208191554,
           0.0009990009990009,
           0.25,
           0.1224564282529819,
           3,
           0.8146032280298161
          ],
          [
           "acceleration <= 13.5 AND origin > 1",
           null,
           null,
           null,
           "auto-mpg",
           "L_poly",
           12,
           5.426857333333342,
           null,
           5.246785768656656,
           0.0009990009990009,
           0.2,
           0.0608100626252179,
           2,
           0.5648516364259855
          ],
          [
           "model > 77 AND displacement <= 97",
           null,
           null,
           null,
           "auto-mpg",
           "L_poly",
           34,
           3.628596382352959,
           null,
           5.183405430523964,
           0.0009990009990009,
           0.2,
           0.0608100626252179,
           2,
           0.5614296116540854
          ],
          [
           "(model * acceleration) / acceleration > 79",
           "(model * acceleration) / acceleration",
           ">",
           79,
           "auto-mpg",
           "L_symb",
           93,
           2.616525903225806,
           5.17687062440911,
           5.17687062440911,
           0.0009990009990009,
           0.2,
           0.0608100626252179,
           9,
           0.5610755981799327
          ],
          [
           "displacement*model <= 7469 AND model > 77",
           null,
           null,
           null,
           "auto-mpg",
           "L_poly",
           30,
           3.788393533333346,
           null,
           5.173486060370231,
           0.0019980019980019,
           0.1666666666666666,
           0.0301973834223185,
           2,
           0.3952540223641245
          ],
          [
           "horsepower*model > 6699 AND model > 79",
           null,
           null,
           null,
           "auto-mpg",
           "L_poly",
           40,
           3.4111990249999935,
           null,
           5.143808397805656,
           0.0009990009990009,
           0.2,
           0.0608100626252179,
           2,
           0.5592810660148295
          ],
          [
           "acceleration*horsepower <= 1600 AND model > 78",
           null,
           null,
           null,
           "auto-mpg",
           "L_poly",
           89,
           2.6392167415730348,
           null,
           5.138796241798257,
           0.0009990009990009,
           0.1666666666666666,
           0.0301973834223185,
           2,
           0.3939266434791524
          ],
          [
           "model > 80 AND displacement > 151",
           null,
           null,
           null,
           "auto-mpg",
           "L_poly",
           11,
           5.501537636363644,
           null,
           5.1095926348029845,
           0.0029970029970029,
           0.25,
           0.1224564282529819,
           2,
           0.7910135674473079
          ],
          [
           "acceleration <= 17.76 AND model > 79",
           null,
           null,
           null,
           "auto-mpg",
           "L_poly",
           62,
           2.9322616290322556,
           null,
           5.091889207112723,
           0.0009990009990009,
           0.2,
           0.0608100626252179,
           2,
           0.5564513469883923
          ],
          [
           "model > 77 AND model*origin > 158",
           null,
           null,
           null,
           "auto-mpg",
           "L_poly",
           59,
           2.9774925084745805,
           null,
           5.088050702301836,
           0.0009990009990009,
           0.2,
           0.0608100626252179,
           2,
           0.5562415678886817
          ],
          [
           "(cylinders - model) <= -74",
           "(cylinders - model)",
           "<=",
           -74,
           "auto-mpg",
           "L_symb",
           119,
           2.4011146638655485,
           5.0383886414116645,
           5.0383886414116645,
           0.0009990009990009,
           0.1666666666666666,
           0.0301973834223185,
           10,
           0.3900591668392917
          ],
          [
           "model > 77 AND displacement*model <= 7644",
           null,
           null,
           null,
           "auto-mpg",
           "L_poly",
           33,
           3.5581431212121353,
           null,
           4.965794444657174,
           0.0019980019980019,
           0.1666666666666666,
           0.0301973834223185,
           2,
           0.3872389428269474
          ],
          [
           "displacement <= 98 AND model > 78",
           null,
           null,
           null,
           "auto-mpg",
           "L_poly",
           35,
           3.4714566857143008,
           null,
           4.935625624230206,
           0.0009990009990009,
           0.2,
           0.0608100626252179,
           2,
           0.5478464231005523
          ],
          [
           "(model / horsepower) + model > 79.6",
           "(model / horsepower) + model",
           ">",
           79.60000000000001,
           "auto-mpg",
           "L_symb",
           114,
           2.402118535087721,
           4.9351335588887375,
           4.9552713090997385,
           0.0009990009990009,
           0.2,
           0.0608100626252179,
           9,
           0.54781911319325
          ],
          [
           "model > 77 AND acceleration*horsepower <= 1721",
           null,
           null,
           null,
           "auto-mpg",
           "L_poly",
           120,
           2.367031275000002,
           null,
           4.9296090332163125,
           0.0009990009990009,
           0.1666666666666666,
           0.0301973834223185,
           2,
           0.3858254710334166
          ],
          [
           "horsepower*origin > 90 AND model > 79",
           null,
           null,
           null,
           "auto-mpg",
           "L_poly",
           56,
           2.9568131250000063,
           null,
           4.903163559022473,
           0.0009990009990009,
           0.2,
           0.0608100626252179,
           2,
           0.5460418327251523
          ],
          [
           "weight <= 3085 AND model > 78.8",
           null,
           null,
           null,
           "auto-mpg",
           "L_poly",
           96,
           2.5106759791666655,
           null,
           4.898862461547506,
           0.0009990009990009,
           0.2,
           0.0608100626252179,
           2,
           0.5458022838712141
          ],
          [
           "model > 80 AND displacement*horsepower > 1.414e+04",
           null,
           null,
           null,
           "auto-mpg",
           "L_poly",
           12,
           5.121000250000005,
           null,
           4.878146405073875,
           0.0019980019980019,
           0.1666666666666666,
           0.0301973834223185,
           2,
           0.3838062758530929
          ],
          [
           "model > 77 AND origin > 1",
           null,
           null,
           null,
           "auto-mpg",
           "L_poly",
           69,
           2.7574329710145005,
           null,
           4.866372026798783,
           0.0009990009990009,
           0.25,
           0.1224564282529819,
           2,
           0.7719576004885265
          ],
          [
           "acceleration <= 14.8 AND origin > 2",
           null,
           null,
           null,
           "auto-mpg",
           "L_poly",
           23,
           3.9788091739130462,
           null,
           4.847609337759858,
           0.0009990009990009,
           0.2,
           0.0608100626252179,
           2,
           0.5429396167270983
          ],
          [
           "(model - acceleration) > 64.8",
           "(model - acceleration)",
           ">",
           64.8,
           "auto-mpg",
           "L_symb",
           53,
           2.97904860377358,
           4.826342976151956,
           4.826342976151956,
           0.0009990009990009,
           0.25,
           0.1224564282529819,
           7,
           0.7687761198056527
          ],
          [
           "model > 75 AND model*origin > 80",
           null,
           null,
           null,
           "auto-mpg",
           "L_poly",
           124,
           2.3163662419354893,
           null,
           4.8147995749061705,
           0.0009990009990009,
           0.2,
           0.0608100626252179,
           2,
           0.5410991255564152
          ],
          [
           "origin > 2 AND acceleration <= 14.5",
           null,
           null,
           null,
           "auto-mpg",
           "L_poly",
           20,
           4.164579050000016,
           null,
           4.809475576714561,
           0.0009990009990009,
           0.2,
           0.0608100626252179,
           2,
           0.5407998807456126
          ],
          [
           "(model / displacement) + model > 79.23",
           "(model / displacement) + model",
           ">",
           79.23,
           "auto-mpg",
           "L_symb",
           113,
           2.332299964601769,
           4.655212925068015,
           4.655212925068015,
           0.0009990009990009,
           0.2,
           0.0608100626252179,
           9,
           0.532056190178359
          ],
          [
           "(model / weight) + model > 79.02",
           "(model / weight) + model",
           ">",
           79.02,
           "auto-mpg",
           "L_symb",
           115,
           2.3133631478260868,
           4.62557290836679,
           4.62557290836679,
           0.0009990009990009,
           0.2,
           0.0608100626252179,
           9,
           0.5303596687487616
          ],
          [
           "(model / acceleration) + model > 85.57",
           "(model / acceleration) + model",
           ">",
           85.57000000000001,
           "auto-mpg",
           "L_symb",
           57,
           2.8150693684210513,
           4.574413052976933,
           4.574413052976933,
           0.0009990009990009,
           0.2,
           0.0608100626252179,
           9,
           0.5274185664395422
          ],
          [
           "(model + displacement) / model <= 2.21",
           "(model + displacement) / model",
           "<=",
           2.21,
           "auto-mpg",
           "L_symb",
           56,
           2.8121170714285837,
           4.526422250616693,
           4.526422250616693,
           0.0009990009990009,
           0.1666666666666666,
           0.0301973834223185,
           11,
           0.3697108440838409
          ],
          [
           "(model - displacement) / model > -0.21",
           "(model - displacement) / model",
           ">",
           -0.21,
           "auto-mpg",
           "L_symb",
           56,
           2.8121170714285837,
           4.526422250616693,
           4.526422250616693,
           0.0009990009990009,
           0.1666666666666666,
           0.0301973834223185,
           10,
           0.3697108440838409
          ],
          [
           "(displacement / model) <= 1.21",
           "(displacement / model)",
           "<=",
           1.21,
           "auto-mpg",
           "L_symb",
           56,
           2.8121170714285837,
           4.526422250616693,
           4.526422250616693,
           0.0009990009990009,
           0.2,
           0.0608100626252179,
           9,
           0.5246446612024
          ],
          [
           "(origin / model) - model <= -78.97",
           "(origin / model) - model",
           "<=",
           -78.97,
           "auto-mpg",
           "L_symb",
           116,
           2.2632941293103435,
           4.458015603159108,
           4.458015603159108,
           0.0009990009990009,
           0.1428571428571428,
           0.0149955768204777,
           12,
           0.2585546662585317
          ],
          [
           "(displacement / weight) <= 0.04",
           "(displacement / weight)",
           "<=",
           0.04,
           "auto-mpg",
           "L_symb",
           11,
           4.932933272727247,
           4.453448769478515,
           4.453448769478515,
           0.0009990009990009,
           0.2,
           0.0608100626252179,
           9,
           0.5203984036968105
          ],
          [
           "(acceleration - model) <= -64.8",
           "(acceleration - model)",
           "<=",
           -64.8,
           "auto-mpg",
           "L_symb",
           58,
           2.734000793103443,
           4.39955274967999,
           4.39955274967999,
           0.0009990009990009,
           0.1666666666666666,
           0.0301973834223185,
           10,
           0.3644927725878831
          ],
          [
           "(model / displacement) > 0.82",
           "(model / displacement)",
           ">",
           0.8200000000000001,
           "auto-mpg",
           "L_symb",
           61,
           2.677599868852472,
           4.358634593549863,
           4.358634593549863,
           0.0009990009990009,
           0.25,
           0.1224564282529819,
           7,
           0.7305770489044972
          ],
          [
           "(model + displacement) / displacement > 1.82",
           "(model + displacement) / displacement",
           ">",
           1.82,
           "auto-mpg",
           "L_symb",
           61,
           2.677599868852472,
           4.358634593549863,
           4.358634593549863,
           0.0009990009990009,
           0.2,
           0.0608100626252179,
           9,
           0.5148289449848451
          ],
          [
           "(model - displacement) / displacement > -0.18",
           "(model - displacement) / displacement",
           ">",
           -0.18,
           "auto-mpg",
           "L_symb",
           61,
           2.677599868852472,
           4.358634593549863,
           4.358634593549863,
           0.0009990009990009,
           0.1666666666666666,
           0.0301973834223185,
           10,
           0.3627938257732711
          ],
          [
           "(model - displacement) > -16.71",
           "(model - displacement)",
           ">",
           -16.71,
           "auto-mpg",
           "L_symb",
           57,
           2.728940859649131,
           4.348169143056848,
           4.348169143056848,
           0.0019980019980019,
           0.2,
           0.0608100626252179,
           8,
           0.5142104995955715
          ],
          [
           "model > 79.5 AND displacement <= 212.5 AND acceleration > 13.85 AND displacement <= 99.0",
           null,
           null,
           null,
           "auto-mpg",
           "L_tree",
           28,
           2.6360572857142937,
           null,
           2.8765245406342568,
           0.0189810189810189,
           0.125,
           0.0074465830709243,
           0,
           0.146356683986026
          ],
          [
           "model <= 79.5 AND displacement <= 90.5 AND model > 77.5",
           null,
           null,
           null,
           "auto-mpg",
           "L_tree",
           7,
           3.803953714285773,
           null,
           2.5133549190053532,
           0.0569430569430569,
           0.1428571428571428,
           0.0149955768204777,
           0,
           0.1941370824058874
          ],
          [
           "model <= 79.5 AND displacement > 90.5 AND weight > 3199.0 AND weight > 4057.5",
           null,
           null,
           null,
           "auto-mpg",
           "L_tree",
           61,
           0.1792511147540981,
           null,
           2.430439094072469,
           0.0109890109890109,
           0.1428571428571428,
           0.0149955768204777,
           0,
           0.1909079258246131
          ],
          [
           "model <= 79.5 AND displacement > 90.5 AND weight > 3199.0 AND weight <= 4057.5",
           null,
           null,
           null,
           "auto-mpg",
           "L_tree",
           80,
           0.3506731999999992,
           null,
           2.2498677462991328,
           0.0139860139860139,
           0.125,
           0.0074465830709243,
           0,
           0.1294365754777598
          ],
          [
           "model <= 79.5 AND displacement > 90.5 AND weight <= 3199.0 AND acceleration > 13.35",
           null,
           null,
           null,
           "auto-mpg",
           "L_tree",
           128,
           0.5694236796874993,
           null,
           1.9847965803419452,
           0.0169830169830169,
           0.125,
           0.0074465830709243,
           0,
           0.1215728284379485
          ],
          [
           "model <= 79.5 AND displacement <= 90.5 AND model <= 77.5 AND weight > 2091.0",
           null,
           null,
           null,
           "auto-mpg",
           "L_tree",
           6,
           3.1971826666666647,
           null,
           1.809792498706984,
           0.0509490509490509,
           0.1111111111111111,
           0.0036978637164829,
           0,
           0.0818068824447646
          ],
          [
           "model > 79.5 AND displacement <= 212.5 AND acceleration > 13.85 AND displacement > 99.0",
           null,
           null,
           null,
           "auto-mpg",
           "L_tree",
           46,
           0.8649464130434663,
           null,
           0.4924752088240069,
           0.5994005994005994,
           0.1428571428571428,
           0.0149955768204777,
           0,
           0.0859357307881954
          ],
          [
           "model <= 79.5 AND displacement <= 90.5 AND model <= 77.5 AND weight <= 2091.0",
           null,
           null,
           null,
           "auto-mpg",
           "L_tree",
           17,
           0.8697285882352932,
           null,
           0.2925246275666324,
           0.7802197802197802,
           0.1,
           0.0018363047770289,
           0,
           0.0231768067472464
          ],
          [
           "model <= 79.5 AND displacement > 90.5 AND weight <= 3199.0 AND acceleration <= 13.35",
           null,
           null,
           null,
           "auto-mpg",
           "L_tree",
           10,
           1.2353866999999843,
           null,
           0.1779602686188372,
           0.8601398601398601,
           0.1111111111111111,
           0.0036978637164829,
           0,
           0.0256529300529423
          ],
          [
           "timbre_avg_1*timbre_avg_6 > -339.6 AND timbre_avg_3*timbre_cov_3_3 > 704.6",
           null,
           null,
           null,
           "msd",
           "L_poly",
           82455,
           23.267420469271464,
           null,
           119.75025631118096,
           0.0009990009990009,
           0.1428571428571428,
           0.0149955768204777,
           3,
           1.340053870983326
          ],
          [
           "timbre_avg_6 > -8.1 AND timbre_cov_3_3 > 24.59 AND timbre_avg_3 > 15.08",
           null,
           null,
           null,
           "msd",
           "L_conj",
           65966,
           24.609952745259346,
           null,
           119.39633997988264,
           0.0009990009990009,
           0.1666666666666666,
           0.0301973834223185,
           1,
           1.89880411248607
          ],
          [
           "timbre_avg_3*timbre_cov_3_3 > 1758 AND timbre_avg_1*timbre_avg_6 > -129.1",
           null,
           null,
           null,
           "msd",
           "L_poly",
           41228,
           28.056134166488796,
           null,
           119.32154979568352,
           0.0009990009990009,
           0.1428571428571428,
           0.0149955768204777,
           3,
           1.3376459980523752
          ],
          [
           "timbre_avg_3 > 17.88 AND timbre_avg_6 > -8.77 AND timbre_cov_3_3 > 18.33",
           null,
           null,
           null,
           "msd",
           "L_conj",
           65976,
           24.580884301773043,
           null,
           119.13068683151096,
           0.0009990009990009,
           0.1666666666666666,
           0.0301973834223185,
           1,
           1.896759600323534
          ],
          [
           "timbre_avg_3*timbre_cov_3_3 > 1758 AND timbre_avg_6 > -3.18",
           null,
           null,
           null,
           "msd",
           "L_poly",
           41217,
           28.01966872445836,
           null,
           119.04293883648484,
           0.0009990009990009,
           0.1666666666666666,
           0.0301973834223185,
           3,
           1.8959839939513448
          ],
          [
           "timbre_avg_3 > 2.662 AND timbre_avg_6 > -9.07 AND timbre_avg_1 <= 44.4",
           null,
           null,
           null,
           "msd",
           "L_conj",
           74233,
           23.777215560465027,
           null,
           118.57320962442948,
           0.0009990009990009,
           0.1428571428571428,
           0.0149955768204777,
           1,
           1.333444289715075
          ],
          [
           "timbre_avg_3 > 2.662 AND timbre_avg_1 <= 44.28 AND timbre_avg_6 > -9.35",
           null,
           null,
           null,
           "msd",
           "L_conj",
           74177,
           23.76787298219125,
           null,
           118.43781686175204,
           0.0009990009990009,
           0.1428571428571428,
           0.0149955768204777,
           1,
           1.3326827759073323
          ],
          [
           "timbre_avg_6 > -8.1 AND timbre_avg_3 > -1.13 AND timbre_avg_1 <= 44.27",
           null,
           null,
           null,
           "msd",
           "L_conj",
           74207,
           23.75369409085397,
           null,
           118.32414620788066,
           0.0009990009990009,
           0.125,
           0.0074465830709243,
           1,
           0.9386749085989148
          ],
          [
           "timbre_avg_6 > -8.1 AND timbre_avg_3 > 16.18 AND timbre_avg_1 <= 46.76",
           null,
           null,
           null,
           "msd",
           "L_conj",
           65949,
           24.47611176354119,
           null,
           118.15632204202336,
           0.0009990009990009,
           0.1428571428571428,
           0.0149955768204777,
           1,
           1.331098119601356
          ],
          [
           "timbre_avg_1 <= 45.68 AND timbre_avg_3 > 11.01 AND timbre_avg_6 > -9.64",
           null,
           null,
           null,
           "msd",
           "L_conj",
           74225,
           23.715417192536215,
           null,
           117.99640576780163,
           0.0009990009990009,
           0.1428571428571428,
           0.0149955768204777,
           1,
           1.3300309433567872
          ],
          [
           "timbre_avg_6 > -8.1 AND timbre_avg_3*timbre_cov_3_3 > 712",
           null,
           null,
           null,
           "msd",
           "L_poly",
           82455,
           23.06814313981903,
           null,
           117.712784149191,
           0.0009990009990009,
           0.1666666666666666,
           0.0301973834223185,
           3,
           1.8853694801448695
          ],
          [
           "timbre_avg_3*timbre_cov_3_3 > 1758 AND timbre_avg_6*timbre_cov_1_12 > -899.6",
           null,
           null,
           null,
           "msd",
           "L_poly",
           41228,
           27.833178847288252,
           null,
           117.70964500530503,
           0.0009990009990009,
           0.1428571428571428,
           0.0149955768204777,
           4,
           1.3285741953795422
          ],
          [
           "timbre_cov_3_3 > 38.78 AND timbre_avg_6 > -5.45 AND timbre_avg_3 > 15.46",
           null,
           null,
           null,
           "msd",
           "L_conj",
           49462,
           26.41316686175246,
           null,
           117.6782896209115,
           0.0009990009990009,
           0.1666666666666666,
           0.0301973834223185,
           1,
           1.8850748374984971
          ],
          [
           "timbre_avg_6 > -8.1 AND timbre_avg_1 <= 43.48 AND timbre_avg_3 > -7.37",
           null,
           null,
           null,
           "msd",
           "L_conj",
           74199,
           23.685412006900364,
           null,
           117.6550660192399,
           0.0009990009990009,
           0.125,
           0.0074465830709243,
           1,
           0.9360172128905312
          ],
          [
           "timbre_avg_3 > 17.88 AND timbre_avg_6 > -8.77 AND timbre_avg_1 <= 46.85",
           null,
           null,
           null,
           "msd",
           "L_conj",
           65949,
           24.40415000369646,
           null,
           117.48988950418504,
           0.0009990009990009,
           0.1428571428571428,
           0.0149955768204777,
           1,
           1.3273840694440329
          ],
          [
           "timbre_avg_1*timbre_avg_6 > -339.6 AND timbre_avg_3*timbre_cov_3_3 > 2766",
           null,
           null,
           null,
           "msd",
           "L_poly",
           41228,
           27.771957858736783,
           null,
           117.26079397326626,
           0.0009990009990009,
           0.1428571428571428,
           0.0149955768204777,
           3,
           1.3260723215280237
          ],
          [
           "timbre_avg_6 > -8.1 AND timbre_avg_3*timbre_cov_3_3 > 2701",
           null,
           null,
           null,
           "msd",
           "L_poly",
           41228,
           27.759064972833997,
           null,
           117.17403159254054,
           0.0009990009990009,
           0.1666666666666666,
           0.0301973834223185,
           3,
           1.8810376600416985
          ],
          [
           "timbre_avg_3*timbre_cov_3_3 > 437.5 AND timbre_avg_1*timbre_avg_6 > -275.8",
           null,
           null,
           null,
           "msd",
           "L_poly",
           82455,
           22.98193284208087,
           null,
           116.82443794225128,
           0.0009990009990009,
           0.1428571428571428,
           0.0149955768204777,
           3,
           1.323610459279985
          ],
          [
           "timbre_avg_6 > -8.1 AND timbre_avg_3 > 16.18 AND timbre_cov_3_3 > 54.4",
           null,
           null,
           null,
           "msd",
           "L_conj",
           49472,
           26.29179287058898,
           null,
           116.72601686562464,
           0.0009990009990009,
           0.1666666666666666,
           0.0301973834223185,
           1,
           1.877450475152749
          ],
          [
           "timbre_avg_3 > 17.88 AND timbre_avg_6 > -8.77 AND timbre_cov_3_3 > 53.21",
           null,
           null,
           null,
           "msd",
           "L_conj",
           49479,
           26.26978628294383,
           null,
           116.5478835853027,
           0.0009990009990009,
           0.1666666666666666,
           0.0301973834223185,
           1,
           1.8761137682801452
          ],
          [
           "timbre_avg_2 <= -3.592 AND timbre_avg_6 > -5.9 AND timbre_avg_3 > -0.61",
           null,
           null,
           null,
           "msd",
           "L_conj",
           49474,
           26.257948667538056,
           null,
           116.46015991739796,
           0.0009990009990009,
           0.1111111111111111,
           0.0036978637164829,
           1,
           0.6562421807338703
          ],
          [
           "timbre_avg_3 > 2.662 AND timbre_avg_6 > -9.07 AND timbre_avg_1 <= 46.97",
           null,
           null,
           null,
           "msd",
           "L_conj",
           98943,
           21.939432784581925,
           null,
           116.29602745031748,
           0.0009990009990009,
           0.1428571428571428,
           0.0149955768204777,
           1,
           1.3205779089276106
          ],
          [
           "timbre_avg_3 > 17.88 AND timbre_avg_1 <= 47.29 AND timbre_avg_6 > -10.18",
           null,
           null,
           null,
           "msd",
           "L_conj",
           74216,
           23.529535664732375,
           null,
           116.14840376156074,
           0.0009990009990009,
           0.1428571428571428,
           0.0149955768204777,
           1,
           1.3197799981667626
          ],
          [
           "timbre_avg_1 <= 42.73 AND timbre_avg_6 > -9.91 AND timbre_avg_3 > -8.27",
           null,
           null,
           null,
           "msd",
           "L_conj",
           74213,
           23.52122267931495,
           null,
           116.09773174239491,
           0.0009990009990009,
           0.125,
           0.0074465830709243,
           1,
           0.9297007612331358
          ],
          [
           "timbre_avg_3 > 2.662 AND timbre_avg_6 > -9.07 AND timbre_cov_3_3 > 18.98",
           null,
           null,
           null,
           "msd",
           "L_conj",
           98978,
           21.902168957685323,
           null,
           115.89889025947494,
           0.0009990009990009,
           0.1666666666666666,
           0.0301973834223185,
           1,
           1.87078679367441
          ],
          [
           "timbre_avg_6 > -8.1 AND timbre_avg_3 > -1.13 AND timbre_avg_1 <= 46.81",
           null,
           null,
           null,
           "msd",
           "L_conj",
           98972,
           21.90111625099804,
           null,
           115.88357750081138,
           0.0009990009990009,
           0.125,
           0.0074465830709243,
           1,
           0.9289438553624708
          ],
          [
           "timbre_avg_1*timbre_avg_6 > -609.1 AND timbre_avg_3*timbre_cov_3_3 > 2360",
           null,
           null,
           null,
           "msd",
           "L_poly",
           61842,
           24.615128866753633,
           null,
           115.64282601956626,
           0.0009990009990009,
           0.1428571428571428,
           0.0149955768204777,
           3,
           1.3169038548294534
          ],
          [
           "timbre_avg_6 > -8.1 AND timbre_avg_3 > -1.13 AND timbre_cov_3_3 > 20.68",
           null,
           null,
           null,
           "msd",
           "L_conj",
           98955,
           21.880780934593165,
           null,
           115.6457047476653,
           0.0009990009990009,
           0.1428571428571428,
           0.0149955768204777,
           1,
           1.31688042338775
          ],
          [
           "timbre_cov_3_3 > 38.78 AND timbre_avg_6 > -5.45 AND timbre_avg_3 > -2.72",
           null,
           null,
           null,
           "msd",
           "L_conj",
           74188,
           23.476498358141185,
           null,
           115.6205948693468,
           0.0009990009990009,
           0.1428571428571428,
           0.0149955768204777,
           1,
           1.316727875400454
          ],
          [
           "timbre_avg_6 > -8.1 AND timbre_avg_3 > 16.18 AND timbre_avg_2 <= 7.36",
           null,
           null,
           null,
           "msd",
           "L_conj",
           49467,
           26.149669337008064,
           null,
           115.59386439312031,
           0.0009990009990009,
           0.1428571428571428,
           0.0149955768204777,
           1,
           1.3165852321376386
          ],
          [
           "timbre_avg_1 <= 42.73 AND timbre_avg_3 > -10.64 AND timbre_avg_6 > -9.22",
           null,
           null,
           null,
           "msd",
           "L_conj",
           74192,
           23.4709368759435,
           null,
           115.59489706832252,
           0.0009990009990009,
           0.125,
           0.0074465830709243,
           1,
           0.927678357112405
          ],
          [
           "timbre_avg_3 > 17.88 AND timbre_cov_3_3 > 57.29 AND timbre_avg_6 > -9.53",
           null,
           null,
           null,
           "msd",
           "L_conj",
           49483,
           26.123426372567913,
           null,
           115.39265345166942,
           0.0009990009990009,
           0.1666666666666666,
           0.0301973834223185,
           1,
           1.866792919983005
          ],
          [
           "timbre_avg_1 <= 45.68 AND timbre_avg_6 > -4.52 AND timbre_avg_3 > 14.83",
           null,
           null,
           null,
           "msd",
           "L_conj",
           49496,
           26.10412401034428,
           null,
           115.31319496332894,
           0.0009990009990009,
           0.1428571428571428,
           0.0149955768204777,
           1,
           1.3147208341470804
          ],
          [
           "timbre_avg_3*timbre_cov_3_3 > 437.5 AND timbre_avg_6 > -6.54",
           null,
           null,
           null,
           "msd",
           "L_poly",
           82469,
           22.806199814400298,
           null,
           115.0404589642724,
           0.0009990009990009,
           0.1666666666666666,
           0.0301973834223185,
           3,
           1.8638629739853017
          ],
          [
           "timbre_avg_6 > -14.06 AND timbre_avg_3*timbre_cov_3_3 > 2290",
           null,
           null,
           null,
           "msd",
           "L_poly",
           61841,
           24.51441652589347,
           null,
           114.7592650490506,
           0.0009990009990009,
           0.1666666666666666,
           0.0301973834223185,
           3,
           1.8615443064965045
          ],
          [
           "timbre_avg_1*timbre_avg_6 > -339.6 AND timbre_avg_3*timbre_cov_1_12 > 4299",
           null,
           null,
           null,
           "msd",
           "L_poly",
           82455,
           22.77551916553002,
           null,
           114.7201224488292,
           0.0009990009990009,
           0.1428571428571428,
           0.0149955768204777,
           4,
           1.3115931169504609
          ],
          [
           "timbre_avg_3*timbre_cov_1_12 > 4012 AND timbre_avg_1*timbre_avg_6 > -322.3",
           null,
           null,
           null,
           "msd",
           "L_poly",
           82455,
           22.72850186033325,
           null,
           114.24281393783522,
           0.0009990009990009,
           0.1428571428571428,
           0.0149955768204777,
           4,
           1.308840354533371
          ],
          [
           "timbre_avg_3*timbre_cov_3_3 > 1758 AND timbre_avg_1*timbre_avg_6 > -696.1",
           null,
           null,
           null,
           "msd",
           "L_poly",
           82455,
           22.689914417485635,
           null,
           113.85612654459749,
           0.0009990009990009,
           0.1428571428571428,
           0.0149955768204777,
           3,
           1.3065768093690338
          ],
          [
           "timbre_avg_1*timbre_avg_6 > -339.6 AND timbre_avg_3 > 15.55",
           null,
           null,
           null,
           "msd",
           "L_poly",
           82434,
           22.64106144423148,
           null,
           113.32884810602371,
           0.0009990009990009,
           0.1666666666666666,
           0.0301973834223185,
           3,
           1.849928290250001
          ],
          [
           "timbre_avg_6*timbre_cov_1_12 > 13.29 AND timbre_avg_3*timbre_cov_3_3 > 989.2",
           null,
           null,
           null,
           "msd",
           "L_poly",
           41228,
           27.18814060871253,
           null,
           113.045529209498,
           0.0009990009990009,
           0.1666666666666666,
           0.0301973834223185,
           3,
           1.8475867570968711
          ],
          [
           "timbre_avg_1*timbre_avg_6 > 1.895 AND timbre_avg_3*timbre_cov_3_3 > 988.4",
           null,
           null,
           null,
           "msd",
           "L_poly",
           41228,
           27.17976578335112,
           null,
           112.98155167127987,
           0.0009990009990009,
           0.1666666666666666,
           0.0301973834223185,
           2,
           1.8470915612026733
          ],
          [
           "timbre_avg_3 > 17.88 AND timbre_avg_1*timbre_avg_6 > -380.1",
           null,
           null,
           null,
           "msd",
           "L_poly",
           82453,
           22.5980851696576,
           null,
           112.89334721913686,
           0.0009990009990009,
           0.1666666666666666,
           0.0301973834223185,
           3,
           1.8464429655438923
          ],
          [
           "timbre_avg_6*timbre_cov_1_12 > -1936 AND timbre_avg_3*timbre_cov_3_3 > 2499",
           null,
           null,
           null,
           "msd",
           "L_poly",
           41228,
           27.16159577902828,
           null,
           112.85022274018162,
           0.0009990009990009,
           0.1428571428571428,
           0.0149955768204777,
           4,
           1.3008660019531322
          ],
          [
           "timbre_avg_6 > -8.1 AND timbre_avg_3*timbre_cov_1_12 > 4412",
           null,
           null,
           null,
           "msd",
           "L_poly",
           82455,
           22.557159211615765,
           null,
           112.49232747226088,
           0.0009990009990009,
           0.1666666666666666,
           0.0301973834223185,
           4,
           1.843027085724291
          ],
          [
           "timbre_avg_3*timbre_cov_1_12 > 4012 AND timbre_avg_6 > -7.54",
           null,
           null,
           null,
           "msd",
           "L_poly",
           82421,
           22.519473069894534,
           null,
           112.07685259280868,
           0.0009990009990009,
           0.1666666666666666,
           0.0301973834223185,
           4,
           1.8396759660614432
          ],
          [
           "timbre_avg_3*timbre_cov_1_12 > 8582 AND timbre_avg_1*timbre_avg_6 > -464.6",
           null,
           null,
           null,
           "msd",
           "L_poly",
           61841,
           24.205254032114617,
           null,
           112.0272476397669,
           0.0009990009990009,
           0.1428571428571428,
           0.0149955768204777,
           4,
           1.2960568305526745
          ],
          [
           "(timbre_avg_3 * timbre_cov_3_3) > 2596.64",
           "(timbre_avg_3 * timbre_cov_3_3)",
           ">",
           2596.64,
           "msd",
           "L_symb",
           73621,
           21.748981301530815,
           98.47550509717948,
           98.47550509717948,
           0.0009990009990009,
           0.25,
           0.1224564282529819,
           10,
           3.472601132380296
          ],
          [
           "(timbre_avg_3 + timbre_cov_6_6) > 49.59",
           "(timbre_avg_3 + timbre_cov_6_6)",
           ">",
           49.59,
           "msd",
           "L_symb",
           73612,
           21.668815900940068,
           97.6945356137773,
           97.6945356137773,
           0.0009990009990009,
           0.25,
           0.1224564282529819,
           10,
           3.458803823736887
          ],
          [
           "(timbre_avg_2 - timbre_avg_3) <= -65.7",
           "(timbre_avg_2 - timbre_avg_3)",
           "<=",
           -65.7,
           "msd",
           "L_symb",
           73624,
           21.40741413684548,
           95.17535020467076,
           95.17535020467076,
           0.0009990009990009,
           0.1666666666666666,
           0.0301973834223185,
           12,
           1.695301313184144
          ],
          [
           "(timbre_avg_3 - timbre_avg_2) > 65.7",
           "(timbre_avg_3 - timbre_avg_2)",
           ">",
           65.7,
           "msd",
           "L_symb",
           73624,
           21.40741413684548,
           95.17535020467076,
           95.17535020467076,
           0.0009990009990009,
           0.25,
           0.1224564282529819,
           9,
           3.4139176094028247
          ],
          [
           "(timbre_avg_6 - timbre_avg_1) > -45.46",
           "(timbre_avg_6 - timbre_avg_1)",
           ">",
           -45.46,
           "msd",
           "L_symb",
           147227,
           18.461988471652617,
           94.32121064109886,
           94.32121064109886,
           0.0009990009990009,
           0.2,
           0.0608100626252179,
           10,
           2.3949277078800515
          ],
          [
           "(timbre_avg_1 - timbre_avg_6) <= 45.46",
           "(timbre_avg_1 - timbre_avg_6)",
           "<=",
           45.46,
           "msd",
           "L_symb",
           147227,
           18.461988471652617,
           94.32121064109886,
           94.32121064109886,
           0.0009990009990009,
           0.2,
           0.0608100626252179,
           11,
           2.3949277078800515
          ],
          [
           "(timbre_avg_6 - timbre_avg_1) > -36.79",
           "(timbre_avg_6 - timbre_avg_1)",
           ">",
           -36.79,
           "msd",
           "L_symb",
           73589,
           21.27560907608474,
           93.87877895006608,
           93.87877895006608,
           0.0009990009990009,
           0.2,
           0.0608100626252179,
           10,
           2.389304172166556
          ],
          [
           "(timbre_avg_1 - timbre_avg_6) <= 36.79",
           "(timbre_avg_1 - timbre_avg_6)",
           "<=",
           36.79,
           "msd",
           "L_symb",
           73589,
           21.27560907608474,
           93.87877895006608,
           93.87877895006608,
           0.0009990009990009,
           0.2,
           0.0608100626252179,
           11,
           2.389304172166556
          ],
          [
           "(timbre_avg_6 - timbre_avg_7) > 14.05",
           "(timbre_avg_6 - timbre_avg_7)",
           ">",
           14.05,
           "msd",
           "L_symb",
           73617,
           21.24367114117663,
           93.58788631370447,
           93.58788631370447,
           0.0009990009990009,
           0.25,
           0.1224564282529819,
           9,
           3.3853269097270924
          ],
          [
           "(timbre_avg_7 - timbre_avg_6) <= -14.05",
           "(timbre_avg_7 - timbre_avg_6)",
           "<=",
           -14.05,
           "msd",
           "L_symb",
           73617,
           21.24367114117663,
           93.58788631370447,
           93.58788631370447,
           0.0009990009990009,
           0.1666666666666666,
           0.0301973834223185,
           12,
           1.6811035919000614
          ],
          [
           "(timbre_avg_2 - timbre_avg_3) <= -31.9",
           "(timbre_avg_2 - timbre_avg_3)",
           "<=",
           -31.9,
           "msd",
           "L_symb",
           147252,
           18.342477570272575,
           92.69522397127976,
           92.69522397127976,
           0.0009990009990009,
           0.1666666666666666,
           0.0301973834223185,
           12,
           1.673067009918737
          ],
          [
           "(timbre_avg_3 - timbre_avg_2) > 31.9",
           "(timbre_avg_3 - timbre_avg_2)",
           ">",
           31.9,
           "msd",
           "L_symb",
           147252,
           18.342477570272575,
           92.69522397127976,
           92.69522397127976,
           0.0009990009990009,
           0.25,
           0.1224564282529819,
           9,
           3.369143221003392
          ],
          [
           "(timbre_avg_3 + timbre_cov_6_6) > 27.64",
           "(timbre_avg_3 + timbre_cov_6_6)",
           ">",
           27.64,
           "msd",
           "L_symb",
           147256,
           18.22745084627301,
           91.12377635663786,
           91.12377635663786,
           0.0009990009990009,
           0.25,
           0.1224564282529819,
           10,
           3.3404628693576877
          ],
          [
           "(timbre_avg_3 - timbre_avg_7) > 46.43",
           "(timbre_avg_3 - timbre_avg_7)",
           ">",
           46.43,
           "msd",
           "L_symb",
           73629,
           20.760018202067123,
           88.91955416690116,
           88.91955416690116,
           0.0009990009990009,
           0.25,
           0.1224564282529819,
           9,
           3.2998137834014627
          ],
          [
           "(timbre_avg_7 - timbre_avg_3) <= -46.43",
           "(timbre_avg_7 - timbre_avg_3)",
           "<=",
           -46.43,
           "msd",
           "L_symb",
           73629,
           20.760018202067123,
           88.91955416690116,
           88.91955416690116,
           0.0009990009990009,
           0.1666666666666666,
           0.0301973834223185,
           12,
           1.6386390300854954
          ],
          [
           "(timbre_avg_6 + timbre_avg_3) > 16.44",
           "(timbre_avg_6 + timbre_avg_3)",
           ">",
           16.44,
           "msd",
           "L_symb",
           147229,
           18.063156278824337,
           88.86930516606687,
           88.86930516606687,
           0.0009990009990009,
           0.25,
           0.1224564282529819,
           9,
           3.2988812788520936
          ],
          [
           "(timbre_avg_1 + timbre_avg_7) <= 24.45",
           "(timbre_avg_1 + timbre_avg_7)",
           "<=",
           24.45,
           "msd",
           "L_symb",
           73594,
           20.613715370818277,
           87.48429699875956,
           87.48429699875956,
           0.0009990009990009,
           0.2,
           0.0608100626252179,
           11,
           2.306496386127179
          ],
          [
           "(timbre_avg_6 - timbre_avg_1) > -51.62",
           "(timbre_avg_6 - timbre_avg_1)",
           ">",
           -51.620000000000005,
           "msd",
           "L_symb",
           220868,
           16.746990138960825,
           86.80938023003684,
           86.80938023003684,
           0.0009990009990009,
           0.2,
           0.0608100626252179,
           10,
           2.297582174427043
          ],
          [
           "(timbre_avg_1 - timbre_avg_6) <= 51.62",
           "(timbre_avg_1 - timbre_avg_6)",
           "<=",
           51.620000000000005,
           "msd",
           "L_symb",
           220868,
           16.746990138960825,
           86.80938023003684,
           86.80938023003684,
           0.0009990009990009,
           0.2,
           0.0608100626252179,
           11,
           2.297582174427043
          ],
          [
           "(timbre_avg_1 - timbre_avg_3) <= 3.18",
           "(timbre_avg_1 - timbre_avg_3)",
           "<=",
           3.18,
           "msd",
           "L_symb",
           73635,
           20.52108250424391,
           86.61305122176236,
           86.61305122176236,
           0.0009990009990009,
           0.2,
           0.0608100626252179,
           11,
           2.294982585763252
          ],
          [
           "(timbre_avg_3 - timbre_avg_1) > -3.18",
           "(timbre_avg_3 - timbre_avg_1)",
           ">",
           -3.18,
           "msd",
           "L_symb",
           73635,
           20.52108250424391,
           86.61305122176236,
           86.61305122176236,
           0.0009990009990009,
           0.2,
           0.0608100626252179,
           10,
           2.294982585763252
          ],
          [
           "(timbre_avg_3 / timbre_avg_1) > 0.93",
           "(timbre_avg_3 / timbre_avg_1)",
           ">",
           0.93,
           "msd",
           "L_symb",
           73333,
           20.452140527456944,
           85.7700649096407,
           85.7700649096407,
           0.0009990009990009,
           0.25,
           0.1224564282529819,
           9,
           3.240848006288018
          ],
          [
           "(timbre_avg_6 - timbre_avg_7) > 2.87",
           "(timbre_avg_6 - timbre_avg_7)",
           ">",
           2.87,
           "msd",
           "L_symb",
           147209,
           17.819713765661977,
           85.53532441243443,
           85.53532441243443,
           0.0009990009990009,
           0.25,
           0.1224564282529819,
           9,
           3.236410097161176
          ],
          [
           "(timbre_avg_7 - timbre_avg_6) <= -2.87",
           "(timbre_avg_7 - timbre_avg_6)",
           "<=",
           -2.87,
           "msd",
           "L_symb",
           147209,
           17.819713765661977,
           85.53532441243443,
           85.53532441243443,
           0.0009990009990009,
           0.1666666666666666,
           0.0301973834223185,
           12,
           1.6071536912923674
          ],
          [
           "timbre_avg_6 <= -8.76 AND timbre_avg_1 > 42.61 AND timbre_avg_6 <= -15.95 AND timbre_avg_1 > 49.36",
           null,
           null,
           null,
           "msd",
           "L_tree",
           55102,
           4.096759679807951,
           null,
           62.40913010919302,
           0.0009990009990009,
           0.1,
           0.0018363047770289,
           0,
           0.338620488423009
          ],
          [
           "timbre_avg_6 > -8.76 AND timbre_avg_3 <= 26.79 AND timbre_avg_1 <= 40.38 AND timbre_avg_3 > -16.76",
           null,
           null,
           null,
           "msd",
           "L_tree",
           28974,
           21.703517398357153,
           null,
           61.461724272074115,
           0.0009990009990009,
           0.1,
           0.0018363047770289,
           0,
           0.3360600002226974
          ],
          [
           "timbre_avg_6 <= -8.76 AND timbre_avg_1 > 42.61 AND timbre_avg_6 <= -15.95 AND timbre_avg_1 <= 49.36",
           null,
           null,
           null,
           "msd",
           "L_tree",
           73054,
           6.50700664904351,
           null,
           48.66404696333969,
           0.0009990009990009,
           0.0909090909090909,
           0.0009118819655545,
           0,
           0.2107063754754553
          ],
          [
           "timbre_avg_6 <= -8.76 AND timbre_avg_1 > 42.61 AND timbre_avg_6 > -15.95 AND timbre_cov_1_11 > 214.01",
           null,
           null,
           null,
           "msd",
           "L_tree",
           40892,
           6.306294611885508,
           null,
           37.79626675566546,
           0.0009990009990009,
           0.1111111111111111,
           0.0036978637164829,
           0,
           0.3742281357616195
          ],
          [
           "timbre_avg_6 > -8.76 AND timbre_avg_3 <= 26.79 AND timbre_avg_1 > 40.38 AND timbre_cov_1_8 > 683.75",
           null,
           null,
           null,
           "msd",
           "L_tree",
           38360,
           6.4293005402270875,
           null,
           35.81896906328218,
           0.0009990009990009,
           0.125,
           0.0074465830709243,
           0,
           0.516484970859654
          ],
          [
           "timbre_avg_6 > -8.76 AND timbre_avg_3 > 26.79 AND timbre_avg_2 <= -54.36 AND timbre_cov_7_10 > -104.34",
           null,
           null,
           null,
           "msd",
           "L_tree",
           5962,
           24.185026568265677,
           null,
           34.71076972283917,
           0.0009990009990009,
           0.1,
           0.0018363047770289,
           0,
           0.2525201290666864
          ],
          [
           "timbre_avg_6 <= -8.76 AND timbre_avg_1 <= 42.61 AND timbre_cov_7_10 <= -23.93 AND timbre_cov_6_10 > 15.76",
           null,
           null,
           null,
           "msd",
           "L_tree",
           16217,
           18.766968119874207,
           null,
           32.67486404861879,
           0.0009990009990009,
           0.0909090909090909,
           0.0009118819655545,
           0,
           0.1726484031033443
          ],
          [
           "timbre_avg_6 <= -8.76 AND timbre_avg_1 <= 42.61 AND timbre_cov_7_10 > -23.93 AND timbre_avg_3 <= -7.14",
           null,
           null,
           null,
           "msd",
           "L_tree",
           27904,
           7.754816065797021,
           null,
           22.677685576324695,
           0.0009990009990009,
           0.0833333333333333,
           0.0004528271828867,
           0,
           0.1013052529368542
          ],
          [
           "timbre_avg_6 > -8.76 AND timbre_avg_3 > 26.79 AND timbre_avg_2 > -54.36 AND timbre_cov_3_3 <= 37.2",
           null,
           null,
           null,
           "msd",
           "L_tree",
           16649,
           15.835501861973691,
           null,
           19.637596170666647,
           0.0009990009990009,
           0.1111111111111111,
           0.0036978637164829,
           0,
           0.269515771652937
          ],
          [
           "timbre_avg_6 > -8.76 AND timbre_avg_3 <= 26.79 AND timbre_avg_1 > 40.38 AND timbre_cov_1_8 <= 683.75",
           null,
           null,
           null,
           "msd",
           "L_tree",
           60774,
           12.678097706346705,
           null,
           9.802957353991838,
           0.0009990009990009,
           0.1111111111111111,
           0.0036978637164829,
           0,
           0.1903366918048132
          ],
          [
           "timbre_avg_6 > -8.76 AND timbre_avg_3 <= 26.79 AND timbre_avg_1 <= 40.38 AND timbre_avg_3 <= -16.76",
           null,
           null,
           null,
           "msd",
           "L_tree",
           26905,
           13.090796528526296,
           null,
           8.952677596368572,
           0.0009990009990009,
           0.0909090909090909,
           0.0009118819655545,
           0,
           0.0902415689715785
          ],
          [
           "timbre_avg_6 <= -8.76 AND timbre_avg_1 <= 42.61 AND timbre_cov_7_10 <= -23.93 AND timbre_cov_6_10 <= 15.76",
           null,
           null,
           null,
           "msd",
           "L_tree",
           18602,
           12.756930152671757,
           null,
           5.786118383930954,
           0.0009990009990009,
           0.0833333333333333,
           0.0004528271828867,
           0,
           0.051262896157268
          ],
          [
           "timbre_avg_6 <= -8.76 AND timbre_avg_1 > 42.61 AND timbre_avg_6 > -15.95 AND timbre_cov_1_11 <= 214.01",
           null,
           null,
           null,
           "msd",
           "L_tree",
           41451,
           10.845857428839006,
           null,
           5.281240775047254,
           0.0009990009990009,
           0.1,
           0.0018363047770289,
           0,
           0.097719153255061
          ],
          [
           "timbre_avg_6 <= -8.76 AND timbre_avg_1 <= 42.61 AND timbre_cov_7_10 > -23.93 AND timbre_avg_3 > -7.14",
           null,
           null,
           null,
           "msd",
           "L_tree",
           25574,
           12.15978383514507,
           null,
           3.376949422433493,
           0.0029970029970029,
           0.0909090909090909,
           0.0009118819655545,
           0,
           0.0556975818069572
          ],
          [
           "RH <= 30 AND day > 6.2 AND ISI > 8.4",
           null,
           null,
           null,
           "forestfires",
           "L_conj",
           6,
           23543.44164953532,
           null,
           8.630190410479825,
           0.0019980019980019,
           0.1666666666666666,
           0.0301973834223185,
           1,
           0.5104989410692989
          ],
          [
           "RH <= 30 AND day > 6.2 AND Y > 4",
           null,
           null,
           null,
           "forestfires",
           "L_conj",
           6,
           23489.391124985326,
           null,
           8.609892267356184,
           0.0049950049950049,
           0.1666666666666666,
           0.0301973834223185,
           1,
           0.5098982428114553
          ],
          [
           "day > 6 AND FFMC > 92.2 AND RH <= 29.6",
           null,
           null,
           null,
           "forestfires",
           "L_conj",
           6,
           23451.82930745366,
           null,
           8.595786296052676,
           0.0049950049950049,
           0.1666666666666666,
           0.0301973834223185,
           1,
           0.5094803770492183
          ],
          [
           "day > 6 AND RH <= 27.6 AND ISI > 8.1",
           null,
           null,
           null,
           "forestfires",
           "L_conj",
           6,
           23363.458802431986,
           null,
           8.56259962166288,
           0.0049950049950049,
           0.1666666666666666,
           0.0301973834223185,
           1,
           0.508495923156866
          ],
          [
           "temp > 23.58 AND month > 8 AND DC <= 688",
           null,
           null,
           null,
           "forestfires",
           "L_conj",
           6,
           23302.25112332366,
           null,
           8.539613679506898,
           0.0029970029970029,
           0.1666666666666666,
           0.0301973834223185,
           1,
           0.5078129464266797
          ],
          [
           "day > 6 AND RH <= 27.6 AND X > 4",
           null,
           null,
           null,
           "forestfires",
           "L_conj",
           6,
           23040.586564715137,
           null,
           8.441348126947696,
           0.0089910089910089,
           0.1666666666666666,
           0.0301973834223185,
           1,
           0.5048827844071431
          ],
          [
           "day > 6 AND temp > 24.1 AND month > 8",
           null,
           null,
           null,
           "forestfires",
           "L_conj",
           6,
           23018.044805776804,
           null,
           8.432882790986605,
           0.0119880119880119,
           0.2,
           0.0608100626252179,
           1,
           0.7161034357067548
          ],
          [
           "Y > 4 AND temp > 23.8 AND DC > 672.6",
           null,
           null,
           null,
           "forestfires",
           "L_conj",
           15,
           14747.114713352434,
           null,
           8.422436102698946,
           0.0009990009990009,
           0.2,
           0.0608100626252179,
           1,
           0.7156597423790301
          ],
          [
           "RH <= 30 AND temp > 24.42 AND ISI <= 8.96",
           null,
           null,
           null,
           "forestfires",
           "L_conj",
           9,
           18872.20320248786,
           null,
           8.421287847719508,
           0.0009990009990009,
           0.1428571428571428,
           0.0149955768204777,
           1,
           0.3553618843486641
          ],
          [
           "day > 6 AND Y > 4 AND RH <= 31.8",
           null,
           null,
           null,
           "forestfires",
           "L_conj",
           7,
           20749.37512913171,
           null,
           8.188314553867954,
           0.0029970029970029,
           0.1666666666666666,
           0.0301973834223185,
           1,
           0.497258156459702
          ],
          [
           "Y > 4 AND temp > 23.8 AND day > 5",
           null,
           null,
           null,
           "forestfires",
           "L_conj",
           7,
           20622.21327581155,
           null,
           8.136733924005858,
           0.0049950049950049,
           0.2,
           0.0608100626252179,
           1,
           0.7034168746081741
          ],
          [
           "Y > 4 AND DC > 672.6 AND temp > 23.62",
           null,
           null,
           null,
           "forestfires",
           "L_conj",
           16,
           13826.61987190235,
           null,
           8.134156973243705,
           0.0009990009990009,
           0.2,
           0.0608100626252179,
           1,
           0.703305477688254
          ],
          [
           "day > 6 AND Y > 4 AND temp > 23.64",
           null,
           null,
           null,
           "forestfires",
           "L_conj",
           7,
           20468.524942645836,
           null,
           8.074393364945395,
           0.0039960039960039,
           0.2,
           0.0608100626252179,
           1,
           0.7007170371719058
          ],
          [
           "Y > 4 AND temp > 23.8 AND day > 4",
           null,
           null,
           null,
           "forestfires",
           "L_conj",
           12,
           15760.467158091216,
           null,
           8.071441268207264,
           0.0009990009990009,
           0.2,
           0.0608100626252179,
           1,
           0.7005889301119826
          ],
          [
           "X > 4 AND temp > 23.7 AND RH <= 27",
           null,
           null,
           null,
           "forestfires",
           "L_conj",
           16,
           13627.706280722768,
           null,
           8.012172312778677,
           0.0009990009990009,
           0.1666666666666666,
           0.0301973834223185,
           1,
           0.4918807166119262
          ],
          [
           "day > 6 AND ISI > 8.4 AND RH <= 31.4",
           null,
           null,
           null,
           "forestfires",
           "L_conj",
           7,
           20190.806994464565,
           null,
           7.961742705040867,
           0.0019980019980019,
           0.1666666666666666,
           0.0301973834223185,
           1,
           0.4903302939590479
          ],
          [
           "RH <= 30 AND day > 6.2 AND FFMC > 92.2",
           null,
           null,
           null,
           "forestfires",
           "L_conj",
           7,
           20183.164626458853,
           null,
           7.958642733271974,
           0.0039960039960039,
           0.1666666666666666,
           0.0301973834223185,
           1,
           0.4902348275447826
          ],
          [
           "day > 6 AND temp > 24.1 AND ISI > 8.4",
           null,
           null,
           null,
           "forestfires",
           "L_conj",
           7,
           20131.96568476869,
           null,
           7.937874919720196,
           0.0009990009990009,
           0.2,
           0.0608100626252179,
           1,
           0.6947680699192589
          ],
          [
           "day > 6 AND DMC > 109.6 AND RH <= 29.6",
           null,
           null,
           null,
           "forestfires",
           "L_conj",
           7,
           20101.75947793742,
           null,
           7.925622383810872,
           0.0049950049950049,
           0.1666666666666666,
           0.0301973834223185,
           1,
           0.489216780154204
          ],
          [
           "temp > 23.58 AND Y > 4 AND DC > 672.6",
           null,
           null,
           null,
           "forestfires",
           "L_conj",
           17,
           13014.891954031034,
           null,
           7.871380906400916,
           0.0009990009990009,
           0.2,
           0.0608100626252179,
           1,
           0.691851982627198
          ],
          [
           "RH <= 30 AND X > 5 AND temp > 24.98",
           null,
           null,
           null,
           "forestfires",
           "L_conj",
           17,
           12988.382048416392,
           null,
           7.854623244870042,
           0.0009990009990009,
           0.1666666666666666,
           0.0301973834223185,
           1,
           0.4870206050704591
          ],
          [
           "RH <= 30 AND X > 5 AND day > 6",
           null,
           null,
           null,
           "forestfires",
           "L_conj",
           7,
           19830.729076245832,
           null,
           7.815684391669225,
           0.0009990009990009,
           0.1666666666666666,
           0.0301973834223185,
           1,
           0.4858119165716972
          ],
          [
           "RH <= 30 AND X > 5 AND DMC > 117.6",
           null,
           null,
           null,
           "forestfires",
           "L_conj",
           17,
           12907.431994805936,
           null,
           7.803452425213819,
           0.0009990009990009,
           0.1666666666666666,
           0.0301973834223185,
           1,
           0.4854316068222205
          ],
          [
           "Y > 4 AND RH <= 28 AND temp > 24.78",
           null,
           null,
           null,
           "forestfires",
           "L_conj",
           17,
           12887.21510408914,
           null,
           7.790672756483062,
           0.0009990009990009,
           0.1666666666666666,
           0.0301973834223185,
           1,
           0.4850339496832463
          ],
          [
           "temp > 25.05 AND temp > 25.45 AND DMC > 220.05",
           null,
           null,
           null,
           "forestfires",
           "L_tree",
           6,
           14905.525757730016,
           null,
           5.386306016727943,
           0.0099900099900099,
           0.2,
           0.0608100626252179,
           0,
           0.5723125074605784
          ],
          [
           "Y > 4 AND temp > 23.8",
           null,
           null,
           null,
           "forestfires",
           "L_poly",
           40,
           5791.969634401316,
           null,
           5.070508790008478,
           0.0009990009990009,
           0.25,
           0.1224564282529819,
           2,
           0.7879824844815952
          ],
          [
           "day > 6 AND RH <= 27.6",
           null,
           null,
           null,
           "forestfires",
           "L_poly",
           17,
           8265.237052165408,
           null,
           4.868989634590113,
           0.0199800199800199,
           0.2,
           0.0608100626252179,
           2,
           0.5441356123256057
          ],
          [
           "RH <= 30 AND DMC*month > 1071",
           null,
           null,
           null,
           "forestfires",
           "L_poly",
           41,
           5483.817893124711,
           null,
           4.830990569946162,
           0.0009990009990009,
           0.1666666666666666,
           0.0301973834223185,
           2,
           0.3819466907177875
          ],
          [
           "DMC*month > 1061 AND RH <= 29.8",
           null,
           null,
           null,
           "forestfires",
           "L_poly",
           41,
           5455.156270226647,
           null,
           4.802853849333559,
           0.0009990009990009,
           0.1666666666666666,
           0.0301973834223185,
           2,
           0.380832796919703
          ],
          [
           "temp > 23.58 AND Y > 4",
           null,
           null,
           null,
           "forestfires",
           "L_poly",
           44,
           5266.516949344006,
           null,
           4.783626135464567,
           0.0009990009990009,
           0.25,
           0.1224564282529819,
           2,
           0.7653664290041771
          ],
          [
           "RH <= 30 AND temp > 24.42",
           null,
           null,
           null,
           "forestfires",
           "L_poly",
           44,
           5175.6290692485445,
           null,
           4.691196107526638,
           0.0009990009990009,
           0.2,
           0.0608100626252179,
           2,
           0.5341085368030299
          ],
          [
           "RH <= 30 AND X > 5",
           null,
           null,
           null,
           "forestfires",
           "L_poly",
           42,
           5280.685064237384,
           null,
           4.687720255983479,
           0.0009990009990009,
           0.2,
           0.0608100626252179,
           2,
           0.533910631413028
          ],
          [
           "Y > 4 AND RH <= 28",
           null,
           null,
           null,
           "forestfires",
           "L_poly",
           42,
           5280.666601205247,
           null,
           4.687701911375179,
           0.0009990009990009,
           0.2,
           0.0608100626252179,
           2,
           0.5339095867270774
          ],
          [
           "RH <= 30 AND DC*DMC > 8.115e+04",
           null,
           null,
           null,
           "forestfires",
           "L_poly",
           44,
           5103.475330398039,
           null,
           4.617818093970007,
           0.0009990009990009,
           0.1428571428571428,
           0.0149955768204777,
           2,
           0.2631479545258128
          ],
          [
           "X > 4 AND temp > 23.7",
           null,
           null,
           null,
           "forestfires",
           "L_poly",
           49,
           4787.946304878846,
           null,
           4.534511592541403,
           0.0009990009990009,
           0.25,
           0.1224564282529819,
           2,
           0.7451711840203976
          ],
          [
           "temp > 23.58 AND RH <= 28",
           null,
           null,
           null,
           "forestfires",
           "L_poly",
           46,
           4873.349598790256,
           null,
           4.482312068909168,
           0.0009990009990009,
           0.2,
           0.0608100626252179,
           2,
           0.5220820602320452
          ],
          [
           "RH <= 30 AND Y > 4",
           null,
           null,
           null,
           "forestfires",
           "L_poly",
           48,
           4677.798401244591,
           null,
           4.371004770370363,
           0.0009990009990009,
           0.2,
           0.0608100626252179,
           2,
           0.515558991601687
          ],
          [
           "temp > 23.58 AND X > 4",
           null,
           null,
           null,
           "forestfires",
           "L_poly",
           52,
           4512.433041443378,
           null,
           4.366664626439046,
           0.0009990009990009,
           0.25,
           0.1224564282529819,
           2,
           0.7312497203639583
          ],
          [
           "temp > 23.58 AND wind > 3.1",
           null,
           null,
           null,
           "forestfires",
           "L_poly",
           57,
           4311.053870522084,
           null,
           4.338687961204955,
           0.0009990009990009,
           0.25,
           0.1224564282529819,
           2,
           0.728903444245787
          ],
          [
           "RH <= 30 AND X > 4",
           null,
           null,
           null,
           "forestfires",
           "L_poly",
           49,
           4542.258487471918,
           null,
           4.270840551181992,
           0.0009990009990009,
           0.2,
           0.0608100626252179,
           2,
           0.5096175834679346
          ],
          [
           "temp > 20.6 AND RH <= 27",
           null,
           null,
           null,
           "forestfires",
           "L_poly",
           50,
           4483.475732216924,
           null,
           4.250474589035786,
           0.0009990009990009,
           0.2,
           0.0608100626252179,
           2,
           0.5084010483330692
          ],
          [
           "DMC > 96.9 AND temp > 24.8",
           null,
           null,
           null,
           "forestfires",
           "L_poly",
           61,
           4112.26890300987,
           null,
           4.2503129888280125,
           0.0009990009990009,
           0.25,
           0.1224564282529819,
           2,
           0.7214417146028741
          ],
          [
           "temp > 23.58 AND DC*month > 5585",
           null,
           null,
           null,
           "forestfires",
           "L_poly",
           42,
           4839.276036814309,
           null,
           4.249142472644446,
           0.0019980019980019,
           0.2,
           0.0608100626252179,
           2,
           0.5083213745899166
          ],
          [
           "wind > 3.1 AND temp > 23.4",
           null,
           null,
           null,
           "forestfires",
           "L_poly",
           59,
           4165.07604816981,
           null,
           4.242242022661471,
           0.0009990009990009,
           0.25,
           0.1224564282529819,
           2,
           0.7207564123057314
          ],
          [
           "temp > 23.58 AND DMC*ISI <= 1041",
           null,
           null,
           null,
           "forestfires",
           "L_poly",
           22,
           6452.534064166263,
           null,
           0.269695259390629,
           0.6903096903096904,
           0.1666666666666666,
           0.0301973834223185,
           2,
           0.3576285037203873
          ],
          [
           "RH <= 30 AND day > 6.2",
           null,
           null,
           null,
           "forestfires",
           "L_poly",
           22,
           6436.79206579736,
           null,
           4.22408478713311,
           0.0219780219780219,
           0.2,
           0.0608100626252179,
           2,
           0.5068203433562972
          ],
          [
           "DMC*ISI > 829.7 AND temp > 24.92",
           null,
           null,
           null,
           "forestfires",
           "L_poly",
           62,
           4048.115838856107,
           null,
           4.207564883444474,
           0.0009990009990009,
           0.2,
           0.0608100626252179,
           2,
           0.5058283148084204
          ],
          [
           "X > 4 AND RH <= 31",
           null,
           null,
           null,
           "forestfires",
           "L_poly",
           52,
           4363.401050127576,
           null,
           4.201900770020249,
           0.0009990009990009,
           0.2,
           0.0608100626252179,
           2,
           0.5054877337481919
          ],
          [
           "DC > 613.6 AND temp > 24.1",
           null,
           null,
           null,
           "forestfires",
           "L_poly",
           60,
           4081.725311158635,
           null,
           4.179057976239398,
           0.0009990009990009,
           0.25,
           0.1224564282529819,
           2,
           0.7153687952604669
          ],
          [
           "(temp * RH) / RH > 24.6",
           "(temp * RH) / RH",
           ">",
           24.6,
           "forestfires",
           "L_symb",
           71,
           3537.611277714509,
           3.8431160693548194,
           3.8431160693548194,
           0.0009990009990009,
           0.2,
           0.0608100626252179,
           9,
           0.4834254118821725
          ],
          [
           "(temp + day) > 29.3",
           "(temp + day)",
           ">",
           29.3,
           "forestfires",
           "L_symb",
           72,
           3480.159351552054,
           3.795345890417769,
           3.795345890417769,
           0.0009990009990009,
           0.25,
           0.1224564282529819,
           7,
           0.6817363872679773
          ],
          [
           "(temp / DMC) + temp > 24.83",
           "(temp / DMC) + temp",
           ">",
           24.83,
           "forestfires",
           "L_symb",
           73,
           3445.6651585745226,
           3.7764272075056544,
           3.7764272075056544,
           0.0009990009990009,
           0.2,
           0.0608100626252179,
           9,
           0.4792126615480812
          ],
          [
           "(temp * X) / X > 24.6",
           "(temp * X) / X",
           ">",
           24.6,
           "forestfires",
           "L_symb",
           73,
           3443.400088076989,
           3.773460163923005,
           3.773460163923005,
           0.0009990009990009,
           0.2,
           0.0608100626252179,
           9,
           0.4790243719080723
          ],
          [
           "(temp * DMC) / DMC > 24.6",
           "(temp * DMC) / DMC",
           ">",
           24.6,
           "forestfires",
           "L_symb",
           73,
           3440.7120734492796,
           3.769939100644888,
           3.769939100644888,
           0.0009990009990009,
           0.2,
           0.0608100626252179,
           9,
           0.4788008279060027
          ],
          [
           "(temp + month) > 32.93",
           "(temp + month)",
           ">",
           32.93,
           "forestfires",
           "L_symb",
           74,
           3396.84728085299,
           3.737821526741578,
           3.737821526741578,
           0.0009990009990009,
           0.25,
           0.1224564282529819,
           7,
           0.6765502742678341
          ],
          [
           "(temp / RH) + temp > 25.22",
           "(temp / RH) + temp",
           ">",
           25.22,
           "forestfires",
           "L_symb",
           74,
           3394.360162666992,
           3.734541381644367,
           3.734541381644367,
           0.0009990009990009,
           0.2,
           0.0608100626252179,
           9,
           0.4765476841767904
          ],
          [
           "(temp + Y) > 28.93",
           "(temp + Y)",
           ">",
           28.93,
           "forestfires",
           "L_symb",
           74,
           3388.3447549158914,
           3.726607938692766,
           3.726607938692766,
           0.0009990009990009,
           0.25,
           0.1224564282529819,
           7,
           0.6755346754027683
          ],
          [
           "(temp * X) > 150",
           "(temp * X)",
           ">",
           150,
           "forestfires",
           "L_symb",
           74,
           3330.031536750544,
           3.649701333391677,
           3.649701333391677,
           0.0009990009990009,
           0.25,
           0.1224564282529819,
           7,
           0.6685277776407578
          ],
          [
           "(X - RH) > -22",
           "(X - RH)",
           ">",
           -22,
           "forestfires",
           "L_symb",
           65,
           3511.2547022665626,
           3.644568961512318,
           3.644568961512318,
           0.0009990009990009,
           0.2,
           0.0608100626252179,
           8,
           0.4707722026537778
          ],
          [
           "(temp * DC) > 16747.9",
           "(temp * DC)",
           ">",
           16747.920000000002,
           "forestfires",
           "L_symb",
           74,
           3319.642611162692,
           3.6359998601266983,
           3.6359998601266983,
           0.0009990009990009,
           0.25,
           0.1224564282529819,
           7,
           0.6672717257605462
          ],
          [
           "(Y / RH) > 0.17",
           "(Y / RH)",
           ">",
           0.17,
           "forestfires",
           "L_symb",
           72,
           3311.96583117081,
           3.5765413745522823,
           3.5765413745522823,
           0.0009990009990009,
           0.25,
           0.1224564282529819,
           7,
           0.6617933833355264
          ],
          [
           "(temp * Y) > 116.23",
           "(temp * Y)",
           ">",
           116.23,
           "forestfires",
           "L_symb",
           74,
           3247.026503512968,
           3.5402298356755804,
           3.5402298356755804,
           0.0009990009990009,
           0.25,
           0.1224564282529819,
           7,
           0.6584253191300231
          ],
          [
           "(Y - RH) > -23",
           "(Y - RH)",
           ">",
           -23,
           "forestfires",
           "L_symb",
           67,
           3382.584348450265,
           3.538742660555446,
           3.538742660555446,
           0.0019980019980019,
           0.2,
           0.0608100626252179,
           8,
           0.4638870151264283
          ],
          [
           "(temp + X) > 29.96",
           "(temp + X)",
           ">",
           29.96,
           "forestfires",
           "L_symb",
           74,
           3244.6575254850923,
           3.537105500166601,
           3.537105500166601,
           0.0009990009990009,
           0.25,
           0.1224564282529819,
           7,
           0.6581347171395681
          ],
          [
           "(X / RH) > 0.2",
           "(X / RH)",
           ">",
           0.2,
           "forestfires",
           "L_symb",
           73,
           3210.313024159759,
           3.46813656452636,
           3.46813656452636,
           0.0019980019980019,
           0.25,
           0.1224564282529819,
           7,
           0.6516867471304488
          ],
          [
           "(RH / Y) <= 6",
           "(RH / Y)",
           "<=",
           6,
           "forestfires",
           "L_symb",
           76,
           3138.208401014159,
           3.442310201007833,
           3.442310201007833,
           0.0009990009990009,
           0.2,
           0.0608100626252179,
           9,
           0.457522785114264
          ],
          [
           "(day + month) > 15",
           "(day + month)",
           ">",
           15,
           "forestfires",
           "L_symb",
           32,
           4514.000025535581,
           3.426852562719279,
           3.426852562719279,
           0.0209790209790209,
           0.25,
           0.1224564282529819,
           7,
           0.6477963607339738
          ],
          [
           "(temp + RH) / temp <= 2.21",
           "(temp + RH) / temp",
           "<=",
           2.21,
           "forestfires",
           "L_symb",
           74,
           3155.050279801154,
           3.4189266499376214,
           3.4189266499376214,
           0.0009990009990009,
           0.1666666666666666,
           0.0301973834223185,
           11,
           0.3213139258434798
          ],
          [
           "(temp - RH) / temp > -0.21",
           "(temp - RH) / temp",
           ">",
           -0.21,
           "forestfires",
           "L_symb",
           74,
           3155.050279801154,
           3.4189266499376214,
           3.4189266499376214,
           0.0009990009990009,
           0.1666666666666666,
           0.0301973834223185,
           10,
           0.3213139258434798
          ],
          [
           "(RH / temp) <= 1.21",
           "(RH / temp)",
           "<=",
           1.21,
           "forestfires",
           "L_symb",
           74,
           3155.050279801154,
           3.4189266499376214,
           3.4189266499376214,
           0.0009990009990009,
           0.2,
           0.0608100626252179,
           9,
           0.4559661650755826
          ],
          [
           "(temp - RH) > -4.87",
           "(temp - RH)",
           ">",
           -4.87,
           "forestfires",
           "L_symb",
           74,
           3147.585119821694,
           3.4090811958516904,
           3.4090811958516904,
           0.0009990009990009,
           0.2,
           0.0608100626252179,
           8,
           0.4553091707995725
          ],
          [
           "(RH - temp) <= 4.87",
           "(RH - temp)",
           "<=",
           4.87,
           "forestfires",
           "L_symb",
           74,
           3147.585119821694,
           3.4090811958516904,
           3.4090811958516904,
           0.0009990009990009,
           0.2,
           0.0608100626252179,
           9,
           0.4553091707995725
          ],
          [
           "(RH / X) <= 5",
           "(RH / X)",
           "<=",
           5,
           "forestfires",
           "L_symb",
           76,
           3091.286235668979,
           3.37959604039979,
           3.37959604039979,
           0.0019980019980019,
           0.2,
           0.0608100626252179,
           9,
           0.4533359095247694
          ],
          [
           "temp <= 25.05 AND DMC <= 103.55 AND temp <= 24.15 AND ISI <= 11.05",
           null,
           null,
           null,
           "forestfires",
           "L_tree",
           194,
           20.083665554792265,
           null,
           1.158716099409946,
           0.0969030969030969,
           0.1,
           0.0018363047770289,
           0,
           0.0461276046263708
          ],
          [
           "temp <= 25.05 AND DMC > 103.55 AND DC > 434.65 AND Y > 2.5",
           null,
           null,
           null,
           "forestfires",
           "L_tree",
           189,
           83.45628766979657,
           null,
           1.010115358982159,
           0.1848151848151848,
           0.1428571428571428,
           0.0149955768204777,
           0,
           0.1230742152652674
          ],
          [
           "temp <= 25.05 AND DMC <= 103.55 AND temp <= 24.15 AND ISI > 11.05",
           null,
           null,
           null,
           "forestfires",
           "L_tree",
           31,
           64.26587789439273,
           null,
           0.425473142517274,
           0.4075924075924076,
           0.1111111111111111,
           0.0036978637164829,
           0,
           0.0396653714977258
          ],
          [
           "temp > 25.05 AND temp > 25.45 AND DMC <= 220.05 AND DMC <= 186.25",
           null,
           null,
           null,
           "forestfires",
           "L_tree",
           46,
           246.5253092572786,
           null,
           0.3287692197204859,
           0.8151848151848152,
           0.125,
           0.0074465830709243,
           0,
           0.0494793624232525
          ],
          [
           "temp > 25.05 AND temp > 25.45 AND DMC <= 220.05 AND DMC > 186.25",
           null,
           null,
           null,
           "forestfires",
           "L_tree",
           7,
           1322.8193503630123,
           null,
           0.308325728939624,
           0.0619380619380619,
           0.1428571428571428,
           0.0149955768204777,
           0,
           0.0679964863360153
          ],
          [
           "temp <= 25.05 AND DMC > 103.55 AND DC <= 434.65",
           null,
           null,
           null,
           "forestfires",
           "L_tree",
           6,
           1228.0910001385164,
           null,
           0.2498798564776359,
           0.0469530469530469,
           0.1428571428571428,
           0.0149955768204777,
           0,
           0.0612135000118465
          ],
          [
           "temp <= 25.05 AND DMC <= 103.55 AND temp > 24.15",
           null,
           null,
           null,
           "forestfires",
           "L_tree",
           7,
           233.29421957142944,
           null,
           0.1336180696877834,
           0.8461538461538461,
           0.1428571428571428,
           0.0149955768204777,
           0,
           0.0447624846116376
          ],
          [
           "temp <= 25.05 AND DMC > 103.55 AND DC > 434.65 AND Y <= 2.5",
           null,
           null,
           null,
           "forestfires",
           "L_tree",
           25,
           409.1745165122234,
           null,
           0.1176901808713955,
           0.9410589410589412,
           0.125,
           0.0074465830709243,
           0,
           0.0296038799567042
          ]
         ],
         "hovertemplate": "ParetoLabel=Non-Pareto<br>complexity=%{x}<br>q_residual=%{y}<br>size=%{customdata[6]}<br>rule=%{customdata[0]}<br>expr=%{customdata[1]}<br>operator=%{customdata[2]}<br>threshold=%{customdata[3]}<br>dataset=%{customdata[4]}<br>language=%{customdata[5]}<br>mean_residual=%{customdata[7]}<br>q_signed=%{customdata[8]}<br>q_perm=%{customdata[9]}<br>p_value=%{customdata[10]}<br>I_inv=%{customdata[11]}<br>I_exp=%{customdata[12]}<br>expressiveness=%{customdata[13]}<br>score=%{customdata[14]}<extra></extra>",
         "legendgroup": "Non-Pareto",
         "marker": {
          "color": "#EF553B",
          "size": {
           "bdata": "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",
           "dtype": "i4"
          },
          "sizemode": "area",
          "sizeref": 552.17,
          "symbol": "circle"
         },
         "mode": "markers",
         "name": "Non-Pareto",
         "orientation": "v",
         "showlegend": true,
         "type": "scatter",
         "x": {
          "bdata": "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",
          "dtype": "f8"
         },
         "xaxis": "x",
         "y": {
          "bdata": "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",
          "dtype": "f8"
         },
         "yaxis": "y"
        }
       ],
       "layout": {
        "legend": {
         "itemsizing": "constant",
         "title": {
          "text": ""
         },
         "tracegroupgap": 0
        },
        "template": {
         "data": {
          "bar": [
           {
            "error_x": {
             "color": "#2a3f5f"
            },
            "error_y": {
             "color": "#2a3f5f"
            },
            "marker": {
             "line": {
              "color": "#E5ECF6",
              "width": 0.5
             },
             "pattern": {
              "fillmode": "overlay",
              "size": 10,
              "solidity": 0.2
             }
            },
            "type": "bar"
           }
          ],
          "barpolar": [
           {
            "marker": {
             "line": {
              "color": "#E5ECF6",
              "width": 0.5
             },
             "pattern": {
              "fillmode": "overlay",
              "size": 10,
              "solidity": 0.2
             }
            },
            "type": "barpolar"
           }
          ],
          "carpet": [
           {
            "aaxis": {
             "endlinecolor": "#2a3f5f",
             "gridcolor": "white",
             "linecolor": "white",
             "minorgridcolor": "white",
             "startlinecolor": "#2a3f5f"
            },
            "baxis": {
             "endlinecolor": "#2a3f5f",
             "gridcolor": "white",
             "linecolor": "white",
             "minorgridcolor": "white",
             "startlinecolor": "#2a3f5f"
            },
            "type": "carpet"
           }
          ],
          "choropleth": [
           {
            "colorbar": {
             "outlinewidth": 0,
             "ticks": ""
            },
            "type": "choropleth"
           }
          ],
          "contour": [
           {
            "colorbar": {
             "outlinewidth": 0,
             "ticks": ""
            },
            "colorscale": [
             [
              0,
              "#0d0887"
             ],
             [
              0.1111111111111111,
              "#46039f"
             ],
             [
              0.2222222222222222,
              "#7201a8"
             ],
             [
              0.3333333333333333,
              "#9c179e"
             ],
             [
              0.4444444444444444,
              "#bd3786"
             ],
             [
              0.5555555555555556,
              "#d8576b"
             ],
             [
              0.6666666666666666,
              "#ed7953"
             ],
             [
              0.7777777777777778,
              "#fb9f3a"
             ],
             [
              0.8888888888888888,
              "#fdca26"
             ],
             [
              1,
              "#f0f921"
             ]
            ],
            "type": "contour"
           }
          ],
          "contourcarpet": [
           {
            "colorbar": {
             "outlinewidth": 0,
             "ticks": ""
            },
            "type": "contourcarpet"
           }
          ],
          "heatmap": [
           {
            "colorbar": {
             "outlinewidth": 0,
             "ticks": ""
            },
            "colorscale": [
             [
              0,
              "#0d0887"
             ],
             [
              0.1111111111111111,
              "#46039f"
             ],
             [
              0.2222222222222222,
              "#7201a8"
             ],
             [
              0.3333333333333333,
              "#9c179e"
             ],
             [
              0.4444444444444444,
              "#bd3786"
             ],
             [
              0.5555555555555556,
              "#d8576b"
             ],
             [
              0.6666666666666666,
              "#ed7953"
             ],
             [
              0.7777777777777778,
              "#fb9f3a"
             ],
             [
              0.8888888888888888,
              "#fdca26"
             ],
             [
              1,
              "#f0f921"
             ]
            ],
            "type": "heatmap"
           }
          ],
          "histogram": [
           {
            "marker": {
             "pattern": {
              "fillmode": "overlay",
              "size": 10,
              "solidity": 0.2
             }
            },
            "type": "histogram"
           }
          ],
          "histogram2d": [
           {
            "colorbar": {
             "outlinewidth": 0,
             "ticks": ""
            },
            "colorscale": [
             [
              0,
              "#0d0887"
             ],
             [
              0.1111111111111111,
              "#46039f"
             ],
             [
              0.2222222222222222,
              "#7201a8"
             ],
             [
              0.3333333333333333,
              "#9c179e"
             ],
             [
              0.4444444444444444,
              "#bd3786"
             ],
             [
              0.5555555555555556,
              "#d8576b"
             ],
             [
              0.6666666666666666,
              "#ed7953"
             ],
             [
              0.7777777777777778,
              "#fb9f3a"
             ],
             [
              0.8888888888888888,
              "#fdca26"
             ],
             [
              1,
              "#f0f921"
             ]
            ],
            "type": "histogram2d"
           }
          ],
          "histogram2dcontour": [
           {
            "colorbar": {
             "outlinewidth": 0,
             "ticks": ""
            },
            "colorscale": [
             [
              0,
              "#0d0887"
             ],
             [
              0.1111111111111111,
              "#46039f"
             ],
             [
              0.2222222222222222,
              "#7201a8"
             ],
             [
              0.3333333333333333,
              "#9c179e"
             ],
             [
              0.4444444444444444,
              "#bd3786"
             ],
             [
              0.5555555555555556,
              "#d8576b"
             ],
             [
              0.6666666666666666,
              "#ed7953"
             ],
             [
              0.7777777777777778,
              "#fb9f3a"
             ],
             [
              0.8888888888888888,
              "#fdca26"
             ],
             [
              1,
              "#f0f921"
             ]
            ],
            "type": "histogram2dcontour"
           }
          ],
          "mesh3d": [
           {
            "colorbar": {
             "outlinewidth": 0,
             "ticks": ""
            },
            "type": "mesh3d"
           }
          ],
          "parcoords": [
           {
            "line": {
             "colorbar": {
              "outlinewidth": 0,
              "ticks": ""
             }
            },
            "type": "parcoords"
           }
          ],
          "pie": [
           {
            "automargin": true,
            "type": "pie"
           }
          ],
          "scatter": [
           {
            "fillpattern": {
             "fillmode": "overlay",
             "size": 10,
             "solidity": 0.2
            },
            "type": "scatter"
           }
          ],
          "scatter3d": [
           {
            "line": {
             "colorbar": {
              "outlinewidth": 0,
              "ticks": ""
             }
            },
            "marker": {
             "colorbar": {
              "outlinewidth": 0,
              "ticks": ""
             }
            },
            "type": "scatter3d"
           }
          ],
          "scattercarpet": [
           {
            "marker": {
             "colorbar": {
              "outlinewidth": 0,
              "ticks": ""
             }
            },
            "type": "scattercarpet"
           }
          ],
          "scattergeo": [
           {
            "marker": {
             "colorbar": {
              "outlinewidth": 0,
              "ticks": ""
             }
            },
            "type": "scattergeo"
           }
          ],
          "scattergl": [
           {
            "marker": {
             "colorbar": {
              "outlinewidth": 0,
              "ticks": ""
             }
            },
            "type": "scattergl"
           }
          ],
          "scattermap": [
           {
            "marker": {
             "colorbar": {
              "outlinewidth": 0,
              "ticks": ""
             }
            },
            "type": "scattermap"
           }
          ],
          "scattermapbox": [
           {
            "marker": {
             "colorbar": {
              "outlinewidth": 0,
              "ticks": ""
             }
            },
            "type": "scattermapbox"
           }
          ],
          "scatterpolar": [
           {
            "marker": {
             "colorbar": {
              "outlinewidth": 0,
              "ticks": ""
             }
            },
            "type": "scatterpolar"
           }
          ],
          "scatterpolargl": [
           {
            "marker": {
             "colorbar": {
              "outlinewidth": 0,
              "ticks": ""
             }
            },
            "type": "scatterpolargl"
           }
          ],
          "scatterternary": [
           {
            "marker": {
             "colorbar": {
              "outlinewidth": 0,
              "ticks": ""
             }
            },
            "type": "scatterternary"
           }
          ],
          "surface": [
           {
            "colorbar": {
             "outlinewidth": 0,
             "ticks": ""
            },
            "colorscale": [
             [
              0,
              "#0d0887"
             ],
             [
              0.1111111111111111,
              "#46039f"
             ],
             [
              0.2222222222222222,
              "#7201a8"
             ],
             [
              0.3333333333333333,
              "#9c179e"
             ],
             [
              0.4444444444444444,
              "#bd3786"
             ],
             [
              0.5555555555555556,
              "#d8576b"
             ],
             [
              0.6666666666666666,
              "#ed7953"
             ],
             [
              0.7777777777777778,
              "#fb9f3a"
             ],
             [
              0.8888888888888888,
              "#fdca26"
             ],
             [
              1,
              "#f0f921"
             ]
            ],
            "type": "surface"
           }
          ],
          "table": [
           {
            "cells": {
             "fill": {
              "color": "#EBF0F8"
             },
             "line": {
              "color": "white"
             }
            },
            "header": {
             "fill": {
              "color": "#C8D4E3"
             },
             "line": {
              "color": "white"
             }
            },
            "type": "table"
           }
          ]
         },
         "layout": {
          "annotationdefaults": {
           "arrowcolor": "#2a3f5f",
           "arrowhead": 0,
           "arrowwidth": 1
          },
          "autotypenumbers": "strict",
          "coloraxis": {
           "colorbar": {
            "outlinewidth": 0,
            "ticks": ""
           }
          },
          "colorscale": {
           "diverging": [
            [
             0,
             "#8e0152"
            ],
            [
             0.1,
             "#c51b7d"
            ],
            [
             0.2,
             "#de77ae"
            ],
            [
             0.3,
             "#f1b6da"
            ],
            [
             0.4,
             "#fde0ef"
            ],
            [
             0.5,
             "#f7f7f7"
            ],
            [
             0.6,
             "#e6f5d0"
            ],
            [
             0.7,
             "#b8e186"
            ],
            [
             0.8,
             "#7fbc41"
            ],
            [
             0.9,
             "#4d9221"
            ],
            [
             1,
             "#276419"
            ]
           ],
           "sequential": [
            [
             0,
             "#0d0887"
            ],
            [
             0.1111111111111111,
             "#46039f"
            ],
            [
             0.2222222222222222,
             "#7201a8"
            ],
            [
             0.3333333333333333,
             "#9c179e"
            ],
            [
             0.4444444444444444,
             "#bd3786"
            ],
            [
             0.5555555555555556,
             "#d8576b"
            ],
            [
             0.6666666666666666,
             "#ed7953"
            ],
            [
             0.7777777777777778,
             "#fb9f3a"
            ],
            [
             0.8888888888888888,
             "#fdca26"
            ],
            [
             1,
             "#f0f921"
            ]
           ],
           "sequentialminus": [
            [
             0,
             "#0d0887"
            ],
            [
             0.1111111111111111,
             "#46039f"
            ],
            [
             0.2222222222222222,
             "#7201a8"
            ],
            [
             0.3333333333333333,
             "#9c179e"
            ],
            [
             0.4444444444444444,
             "#bd3786"
            ],
            [
             0.5555555555555556,
             "#d8576b"
            ],
            [
             0.6666666666666666,
             "#ed7953"
            ],
            [
             0.7777777777777778,
             "#fb9f3a"
            ],
            [
             0.8888888888888888,
             "#fdca26"
            ],
            [
             1,
             "#f0f921"
            ]
           ]
          },
          "colorway": [
           "#636efa",
           "#EF553B",
           "#00cc96",
           "#ab63fa",
           "#FFA15A",
           "#19d3f3",
           "#FF6692",
           "#B6E880",
           "#FF97FF",
           "#FECB52"
          ],
          "font": {
           "color": "#2a3f5f"
          },
          "geo": {
           "bgcolor": "white",
           "lakecolor": "white",
           "landcolor": "#E5ECF6",
           "showlakes": true,
           "showland": true,
           "subunitcolor": "white"
          },
          "hoverlabel": {
           "align": "left"
          },
          "hovermode": "closest",
          "mapbox": {
           "style": "light"
          },
          "paper_bgcolor": "white",
          "plot_bgcolor": "#E5ECF6",
          "polar": {
           "angularaxis": {
            "gridcolor": "white",
            "linecolor": "white",
            "ticks": ""
           },
           "bgcolor": "#E5ECF6",
           "radialaxis": {
            "gridcolor": "white",
            "linecolor": "white",
            "ticks": ""
           }
          },
          "scene": {
           "xaxis": {
            "backgroundcolor": "#E5ECF6",
            "gridcolor": "white",
            "gridwidth": 2,
            "linecolor": "white",
            "showbackground": true,
            "ticks": "",
            "zerolinecolor": "white"
           },
           "yaxis": {
            "backgroundcolor": "#E5ECF6",
            "gridcolor": "white",
            "gridwidth": 2,
            "linecolor": "white",
            "showbackground": true,
            "ticks": "",
            "zerolinecolor": "white"
           },
           "zaxis": {
            "backgroundcolor": "#E5ECF6",
            "gridcolor": "white",
            "gridwidth": 2,
            "linecolor": "white",
            "showbackground": true,
            "ticks": "",
            "zerolinecolor": "white"
           }
          },
          "shapedefaults": {
           "line": {
            "color": "#2a3f5f"
           }
          },
          "ternary": {
           "aaxis": {
            "gridcolor": "white",
            "linecolor": "white",
            "ticks": ""
           },
           "baxis": {
            "gridcolor": "white",
            "linecolor": "white",
            "ticks": ""
           },
           "bgcolor": "#E5ECF6",
           "caxis": {
            "gridcolor": "white",
            "linecolor": "white",
            "ticks": ""
           }
          },
          "title": {
           "x": 0.05
          },
          "xaxis": {
           "automargin": true,
           "gridcolor": "white",
           "linecolor": "white",
           "ticks": "",
           "title": {
            "standoff": 15
           },
           "zerolinecolor": "white",
           "zerolinewidth": 2
          },
          "yaxis": {
           "automargin": true,
           "gridcolor": "white",
           "linecolor": "white",
           "ticks": "",
           "title": {
            "standoff": 15
           },
           "zerolinecolor": "white",
           "zerolinewidth": 2
          }
         }
        },
        "title": {
         "text": "Quality vs Complexity (Pareto highlighted)"
        },
        "xaxis": {
         "anchor": "y",
         "domain": [
          0,
          1
         ],
         "title": {
          "text": "complexity"
         }
        },
        "yaxis": {
         "anchor": "x",
         "domain": [
          0,
          1
         ],
         "title": {
          "text": "q_residual"
         }
        }
       }
      }
     },
     "metadata": {},
     "output_type": "display_data"
    },
    {
     "data": {
      "application/vnd.plotly.v1+json": {
       "config": {
        "plotlyServerURL": "https://plot.ly"
       },
       "data": [
        {
         "coloraxis": "coloraxis",
         "hovertemplate": "complexity=%{x}<br>q_residual=%{y}<br>count=%{z}<extra></extra>",
         "name": "",
         "nbinsx": 40,
         "nbinsy": 40,
         "type": "histogram2d",
         "x": {
          "bdata": "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",
          "dtype": "f8"
         },
         "xaxis": "x",
         "xbingroup": "x",
         "y": {
          "bdata": "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",
          "dtype": "f8"
         },
         "yaxis": "y",
         "ybingroup": "y"
        }
       ],
       "layout": {
        "coloraxis": {
         "colorbar": {
          "title": {
           "text": "count"
          }
         },
         "colorscale": [
          [
           0,
           "#0d0887"
          ],
          [
           0.1111111111111111,
           "#46039f"
          ],
          [
           0.2222222222222222,
           "#7201a8"
          ],
          [
           0.3333333333333333,
           "#9c179e"
          ],
          [
           0.4444444444444444,
           "#bd3786"
          ],
          [
           0.5555555555555556,
           "#d8576b"
          ],
          [
           0.6666666666666666,
           "#ed7953"
          ],
          [
           0.7777777777777778,
           "#fb9f3a"
          ],
          [
           0.8888888888888888,
           "#fdca26"
          ],
          [
           1,
           "#f0f921"
          ]
         ]
        },
        "legend": {
         "tracegroupgap": 0
        },
        "template": {
         "data": {
          "bar": [
           {
            "error_x": {
             "color": "#2a3f5f"
            },
            "error_y": {
             "color": "#2a3f5f"
            },
            "marker": {
             "line": {
              "color": "#E5ECF6",
              "width": 0.5
             },
             "pattern": {
              "fillmode": "overlay",
              "size": 10,
              "solidity": 0.2
             }
            },
            "type": "bar"
           }
          ],
          "barpolar": [
           {
            "marker": {
             "line": {
              "color": "#E5ECF6",
              "width": 0.5
             },
             "pattern": {
              "fillmode": "overlay",
              "size": 10,
              "solidity": 0.2
             }
            },
            "type": "barpolar"
           }
          ],
          "carpet": [
           {
            "aaxis": {
             "endlinecolor": "#2a3f5f",
             "gridcolor": "white",
             "linecolor": "white",
             "minorgridcolor": "white",
             "startlinecolor": "#2a3f5f"
            },
            "baxis": {
             "endlinecolor": "#2a3f5f",
             "gridcolor": "white",
             "linecolor": "white",
             "minorgridcolor": "white",
             "startlinecolor": "#2a3f5f"
            },
            "type": "carpet"
           }
          ],
          "choropleth": [
           {
            "colorbar": {
             "outlinewidth": 0,
             "ticks": ""
            },
            "type": "choropleth"
           }
          ],
          "contour": [
           {
            "colorbar": {
             "outlinewidth": 0,
             "ticks": ""
            },
            "colorscale": [
             [
              0,
              "#0d0887"
             ],
             [
              0.1111111111111111,
              "#46039f"
             ],
             [
              0.2222222222222222,
              "#7201a8"
             ],
             [
              0.3333333333333333,
              "#9c179e"
             ],
             [
              0.4444444444444444,
              "#bd3786"
             ],
             [
              0.5555555555555556,
              "#d8576b"
             ],
             [
              0.6666666666666666,
              "#ed7953"
             ],
             [
              0.7777777777777778,
              "#fb9f3a"
             ],
             [
              0.8888888888888888,
              "#fdca26"
             ],
             [
              1,
              "#f0f921"
             ]
            ],
            "type": "contour"
           }
          ],
          "contourcarpet": [
           {
            "colorbar": {
             "outlinewidth": 0,
             "ticks": ""
            },
            "type": "contourcarpet"
           }
          ],
          "heatmap": [
           {
            "colorbar": {
             "outlinewidth": 0,
             "ticks": ""
            },
            "colorscale": [
             [
              0,
              "#0d0887"
             ],
             [
              0.1111111111111111,
              "#46039f"
             ],
             [
              0.2222222222222222,
              "#7201a8"
             ],
             [
              0.3333333333333333,
              "#9c179e"
             ],
             [
              0.4444444444444444,
              "#bd3786"
             ],
             [
              0.5555555555555556,
              "#d8576b"
             ],
             [
              0.6666666666666666,
              "#ed7953"
             ],
             [
              0.7777777777777778,
              "#fb9f3a"
             ],
             [
              0.8888888888888888,
              "#fdca26"
             ],
             [
              1,
              "#f0f921"
             ]
            ],
            "type": "heatmap"
           }
          ],
          "histogram": [
           {
            "marker": {
             "pattern": {
              "fillmode": "overlay",
              "size": 10,
              "solidity": 0.2
             }
            },
            "type": "histogram"
           }
          ],
          "histogram2d": [
           {
            "colorbar": {
             "outlinewidth": 0,
             "ticks": ""
            },
            "colorscale": [
             [
              0,
              "#0d0887"
             ],
             [
              0.1111111111111111,
              "#46039f"
             ],
             [
              0.2222222222222222,
              "#7201a8"
             ],
             [
              0.3333333333333333,
              "#9c179e"
             ],
             [
              0.4444444444444444,
              "#bd3786"
             ],
             [
              0.5555555555555556,
              "#d8576b"
             ],
             [
              0.6666666666666666,
              "#ed7953"
             ],
             [
              0.7777777777777778,
              "#fb9f3a"
             ],
             [
              0.8888888888888888,
              "#fdca26"
             ],
             [
              1,
              "#f0f921"
             ]
            ],
            "type": "histogram2d"
           }
          ],
          "histogram2dcontour": [
           {
            "colorbar": {
             "outlinewidth": 0,
             "ticks": ""
            },
            "colorscale": [
             [
              0,
              "#0d0887"
             ],
             [
              0.1111111111111111,
              "#46039f"
             ],
             [
              0.2222222222222222,
              "#7201a8"
             ],
             [
              0.3333333333333333,
              "#9c179e"
             ],
             [
              0.4444444444444444,
              "#bd3786"
             ],
             [
              0.5555555555555556,
              "#d8576b"
             ],
             [
              0.6666666666666666,
              "#ed7953"
             ],
             [
              0.7777777777777778,
              "#fb9f3a"
             ],
             [
              0.8888888888888888,
              "#fdca26"
             ],
             [
              1,
              "#f0f921"
             ]
            ],
            "type": "histogram2dcontour"
           }
          ],
          "mesh3d": [
           {
            "colorbar": {
             "outlinewidth": 0,
             "ticks": ""
            },
            "type": "mesh3d"
           }
          ],
          "parcoords": [
           {
            "line": {
             "colorbar": {
              "outlinewidth": 0,
              "ticks": ""
             }
            },
            "type": "parcoords"
           }
          ],
          "pie": [
           {
            "automargin": true,
            "type": "pie"
           }
          ],
          "scatter": [
           {
            "fillpattern": {
             "fillmode": "overlay",
             "size": 10,
             "solidity": 0.2
            },
            "type": "scatter"
           }
          ],
          "scatter3d": [
           {
            "line": {
             "colorbar": {
              "outlinewidth": 0,
              "ticks": ""
             }
            },
            "marker": {
             "colorbar": {
              "outlinewidth": 0,
              "ticks": ""
             }
            },
            "type": "scatter3d"
           }
          ],
          "scattercarpet": [
           {
            "marker": {
             "colorbar": {
              "outlinewidth": 0,
              "ticks": ""
             }
            },
            "type": "scattercarpet"
           }
          ],
          "scattergeo": [
           {
            "marker": {
             "colorbar": {
              "outlinewidth": 0,
              "ticks": ""
             }
            },
            "type": "scattergeo"
           }
          ],
          "scattergl": [
           {
            "marker": {
             "colorbar": {
              "outlinewidth": 0,
              "ticks": ""
             }
            },
            "type": "scattergl"
           }
          ],
          "scattermap": [
           {
            "marker": {
             "colorbar": {
              "outlinewidth": 0,
              "ticks": ""
             }
            },
            "type": "scattermap"
           }
          ],
          "scattermapbox": [
           {
            "marker": {
             "colorbar": {
              "outlinewidth": 0,
              "ticks": ""
             }
            },
            "type": "scattermapbox"
           }
          ],
          "scatterpolar": [
           {
            "marker": {
             "colorbar": {
              "outlinewidth": 0,
              "ticks": ""
             }
            },
            "type": "scatterpolar"
           }
          ],
          "scatterpolargl": [
           {
            "marker": {
             "colorbar": {
              "outlinewidth": 0,
              "ticks": ""
             }
            },
            "type": "scatterpolargl"
           }
          ],
          "scatterternary": [
           {
            "marker": {
             "colorbar": {
              "outlinewidth": 0,
              "ticks": ""
             }
            },
            "type": "scatterternary"
           }
          ],
          "surface": [
           {
            "colorbar": {
             "outlinewidth": 0,
             "ticks": ""
            },
            "colorscale": [
             [
              0,
              "#0d0887"
             ],
             [
              0.1111111111111111,
              "#46039f"
             ],
             [
              0.2222222222222222,
              "#7201a8"
             ],
             [
              0.3333333333333333,
              "#9c179e"
             ],
             [
              0.4444444444444444,
              "#bd3786"
             ],
             [
              0.5555555555555556,
              "#d8576b"
             ],
             [
              0.6666666666666666,
              "#ed7953"
             ],
             [
              0.7777777777777778,
              "#fb9f3a"
             ],
             [
              0.8888888888888888,
              "#fdca26"
             ],
             [
              1,
              "#f0f921"
             ]
            ],
            "type": "surface"
           }
          ],
          "table": [
           {
            "cells": {
             "fill": {
              "color": "#EBF0F8"
             },
             "line": {
              "color": "white"
             }
            },
            "header": {
             "fill": {
              "color": "#C8D4E3"
             },
             "line": {
              "color": "white"
             }
            },
            "type": "table"
           }
          ]
         },
         "layout": {
          "annotationdefaults": {
           "arrowcolor": "#2a3f5f",
           "arrowhead": 0,
           "arrowwidth": 1
          },
          "autotypenumbers": "strict",
          "coloraxis": {
           "colorbar": {
            "outlinewidth": 0,
            "ticks": ""
           }
          },
          "colorscale": {
           "diverging": [
            [
             0,
             "#8e0152"
            ],
            [
             0.1,
             "#c51b7d"
            ],
            [
             0.2,
             "#de77ae"
            ],
            [
             0.3,
             "#f1b6da"
            ],
            [
             0.4,
             "#fde0ef"
            ],
            [
             0.5,
             "#f7f7f7"
            ],
            [
             0.6,
             "#e6f5d0"
            ],
            [
             0.7,
             "#b8e186"
            ],
            [
             0.8,
             "#7fbc41"
            ],
            [
             0.9,
             "#4d9221"
            ],
            [
             1,
             "#276419"
            ]
           ],
           "sequential": [
            [
             0,
             "#0d0887"
            ],
            [
             0.1111111111111111,
             "#46039f"
            ],
            [
             0.2222222222222222,
             "#7201a8"
            ],
            [
             0.3333333333333333,
             "#9c179e"
            ],
            [
             0.4444444444444444,
             "#bd3786"
            ],
            [
             0.5555555555555556,
             "#d8576b"
            ],
            [
             0.6666666666666666,
             "#ed7953"
            ],
            [
             0.7777777777777778,
             "#fb9f3a"
            ],
            [
             0.8888888888888888,
             "#fdca26"
            ],
            [
             1,
             "#f0f921"
            ]
           ],
           "sequentialminus": [
            [
             0,
             "#0d0887"
            ],
            [
             0.1111111111111111,
             "#46039f"
            ],
            [
             0.2222222222222222,
             "#7201a8"
            ],
            [
             0.3333333333333333,
             "#9c179e"
            ],
            [
             0.4444444444444444,
             "#bd3786"
            ],
            [
             0.5555555555555556,
             "#d8576b"
            ],
            [
             0.6666666666666666,
             "#ed7953"
            ],
            [
             0.7777777777777778,
             "#fb9f3a"
            ],
            [
             0.8888888888888888,
             "#fdca26"
            ],
            [
             1,
             "#f0f921"
            ]
           ]
          },
          "colorway": [
           "#636efa",
           "#EF553B",
           "#00cc96",
           "#ab63fa",
           "#FFA15A",
           "#19d3f3",
           "#FF6692",
           "#B6E880",
           "#FF97FF",
           "#FECB52"
          ],
          "font": {
           "color": "#2a3f5f"
          },
          "geo": {
           "bgcolor": "white",
           "lakecolor": "white",
           "landcolor": "#E5ECF6",
           "showlakes": true,
           "showland": true,
           "subunitcolor": "white"
          },
          "hoverlabel": {
           "align": "left"
          },
          "hovermode": "closest",
          "mapbox": {
           "style": "light"
          },
          "paper_bgcolor": "white",
          "plot_bgcolor": "#E5ECF6",
          "polar": {
           "angularaxis": {
            "gridcolor": "white",
            "linecolor": "white",
            "ticks": ""
           },
           "bgcolor": "#E5ECF6",
           "radialaxis": {
            "gridcolor": "white",
            "linecolor": "white",
            "ticks": ""
           }
          },
          "scene": {
           "xaxis": {
            "backgroundcolor": "#E5ECF6",
            "gridcolor": "white",
            "gridwidth": 2,
            "linecolor": "white",
            "showbackground": true,
            "ticks": "",
            "zerolinecolor": "white"
           },
           "yaxis": {
            "backgroundcolor": "#E5ECF6",
            "gridcolor": "white",
            "gridwidth": 2,
            "linecolor": "white",
            "showbackground": true,
            "ticks": "",
            "zerolinecolor": "white"
           },
           "zaxis": {
            "backgroundcolor": "#E5ECF6",
            "gridcolor": "white",
            "gridwidth": 2,
            "linecolor": "white",
            "showbackground": true,
            "ticks": "",
            "zerolinecolor": "white"
           }
          },
          "shapedefaults": {
           "line": {
            "color": "#2a3f5f"
           }
          },
          "ternary": {
           "aaxis": {
            "gridcolor": "white",
            "linecolor": "white",
            "ticks": ""
           },
           "baxis": {
            "gridcolor": "white",
            "linecolor": "white",
            "ticks": ""
           },
           "bgcolor": "#E5ECF6",
           "caxis": {
            "gridcolor": "white",
            "linecolor": "white",
            "ticks": ""
           }
          },
          "title": {
           "x": 0.05
          },
          "xaxis": {
           "automargin": true,
           "gridcolor": "white",
           "linecolor": "white",
           "ticks": "",
           "title": {
            "standoff": 15
           },
           "zerolinecolor": "white",
           "zerolinewidth": 2
          },
          "yaxis": {
           "automargin": true,
           "gridcolor": "white",
           "linecolor": "white",
           "ticks": "",
           "title": {
            "standoff": 15
           },
           "zerolinecolor": "white",
           "zerolinewidth": 2
          }
         }
        },
        "title": {
         "text": "Result Density in (complexity, q_residual) Space"
        },
        "xaxis": {
         "anchor": "y",
         "domain": [
          0,
          1
         ],
         "title": {
          "text": "complexity"
         }
        },
        "yaxis": {
         "anchor": "x",
         "domain": [
          0,
          1
         ],
         "title": {
          "text": "q_residual"
         }
        }
       }
      }
     },
     "metadata": {},
     "output_type": "display_data"
    },
    {
     "data": {
      "application/vnd.plotly.v1+json": {
       "config": {
        "plotlyServerURL": "https://plot.ly"
       },
       "data": [
        {
         "dimensions": [
          {
           "label": "q_residual",
           "values": {
            "bdata": "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",
            "dtype": "f8"
           }
          },
          {
           "label": "q_signed",
           "values": {
            "bdata": "AAAAAAAA+H8AAAAAAAD4fwAAAAAAAPh/AAAAAAAA+H8AAAAAAAD4fwAAAAAAAPh/AAAAAAAA+H8AAAAAAAD4fwAAAAAAAPh/AAAAAAAA+H8AAAAAAAD4fwAAAAAAAPh/AAAAAAAA+H8AAAAAAAD4fwAAAAAAAPh/AAAAAAAA+H8AAAAAAAD4fwAAAAAAAPh/AAAAAAAA+H8AAAAAAAD4fwAAAAAAAPh/AAAAAAAA+H8AAAAAAAD4fwAAAAAAAPh/AAAAAAAA+H8AAAAAAAD4fwAAAAAAAPh/AAAAAAAA+H8AAAAAAAD4fwAAAAAAAPh/thwuHGuBIUC2HC4ca4EhQLYcLhxrgSFAAAAAAAAA+H8AAAAAAAD4fwAAAAAAAPh/AAAAAAAA+H8AAAAAAAD4fwAAAAAAAPh/AAAAAAAA+H8AAAAAAAD4f3vfkZOqAB1AAAAAAAAA+H8gkQMvQ94cQAAAAAAAAPh/AAAAAAAA+H8AAAAAAAD4fwAAAAAAAPh/eJjbFVylG0B4mNsVXKUbQHiY2xVcpRtAeJjbFVylG0B4mNsVXKUbQAAAAAAAAPh/AAAAAAAA+H8AAAAAAAD4f9/xZ6gGgBtA3/FnqAaAG0Df8WeoBoAbQN/xZ6gGgBtA3/FnqAaAG0AAAAAAAAD4fwAAAAAAAPh/AAAAAAAA+H8AAAAAAAD4fwAAAAAAAPh/VpSZBtKWGkAgBybd828ZQCAHJt3zbxlAIAcm3fNvGUAgBybd828ZQGRR4u5MTBhAZFHi7kxMGEBkUeLuTEwYQGRR4u5MTBhAZFHi7kxMGEAAAAAAAAD4fwAAAAAAAPh/AAAAAAAA+H8AAAAAAAD4fwAAAAAAAPh/AAAAAAAA+H8AAAAAAAD4fwAAAAAAAPh/AAAAAAAA+H8AAAAAAAD4fwAAAAAAAPh/AAAAAAAA+H8AAAAAAAD4fwAAAAAAAPh/AAAAAAAA+H8AAAAAAAD4fwAAAAAAAPh/AAAAAAAA+H8AAAAAAAD4fwAAAAAAAPh/AAAAAAAA+H8AAAAAAAD4fwAAAAAAAPh/AAAAAAAA+H8AAAAAAAD4fwAAAAAAAPh/AAAAAAAA+H8AAAAAAAD4fwAAAAAAAPh/AAAAAAAA+H8AAAAAAAD4fwAAAAAAAPh/AAAAAAAA+H8AAAAAAAD4fwAAAAAAAPh/AAAAAAAA+H8AAAAAAAD4fwAAAAAAAPh/AAAAAAAA+H8AAAAAAAD4fwAAAAAAAPh/AAAAAAAA+H8AAAAAAAD4f6E5Syv7mSBAAAAAAAAA+H8AAAAAAAD4fwAAAAAAAPh/AAAAAAAA+H8AAAAAAAD4fwAAAAAAAPh/AAAAAAAA+H8AAAAAAAD4fwAAAAAAAPh/AAAAAAAA+H8AAAAAAAD4fwAAAAAAAPh/AAAAAAAA+H8AAAAAAAD4fwAAAAAAAPh/AAAAAAAA+H8AAAAAAAD4fwAAAAAAAPh/AAAAAAAA+H8AAAAAAAD4fwAAAAAAAPh/AAAAAAAA+H8AAAAAAAD4f+KBdmo+phtAAAAAAAAA+H/dGWuZDDkZQN0Za5kMORlAQu+PqTX/GEADF66UIaIYQJqE0OGCvRdAcPDc2L7WFkC5jrn2++kVQLmOufb76RVAMRI7fCPjFUDkqWuKeWoVQENSK+fUKRVAQ1Ir59QpFUDkF7mUBeYUQOQXuZQF5hRA5Be5lAXmFECD2/+qtMsUQM0Nnc8uuBRAngsoc5AxFECeCyhzkDEUQJ4LKHOQMRRA2bIu2tTPE0A3A9l88ZQTQKBOyYWsaRNAAAAAAAAA+H8AAAAAAAD4fwAAAAAAAPh/AAAAAAAA+H8AAAAAAAD4fwAAAAAAAPh/AAAAAAAA+H8AAAAAAAD4fwAAAAAAAPh/AAAAAAAA+H8AAAAAAAD4fwAAAAAAAPh/AAAAAAAA+H8AAAAAAAD4fwAAAAAAAPh/AAAAAAAA+H8AAAAAAAD4fwAAAAAAAPh/AAAAAAAA+H8AAAAAAAD4fwAAAAAAAPh/AAAAAAAA+H8AAAAAAAD4fwAAAAAAAPh/AAAAAAAA+H8AAAAAAAD4fwAAAAAAAPh/AAAAAAAA+H8AAAAAAAD4fwAAAAAAAPh/AAAAAAAA+H8AAAAAAAD4fwAAAAAAAPh/AAAAAAAA+H8AAAAAAAD4f/bK9FPjNxZAAAAAAAAA+H8AAAAAAAD4f6qelZTyrBVAqp6VlPKsFUCqnpWU8qwVQKqelZTyrBVAqp6VlPKsFUCqnpWU8qwVQAAAAAAAAPh/qp6VlPKsFUAAAAAAAAD4fwAAAAAAAPh/Rtetkh21FEAAAAAAAAD4fwAAAAAAAPh/AAAAAAAA+H8AAAAAAAD4fwAAAAAAAPh/AAAAAAAA+H+Ymh1aTycUQAAAAAAAAPh/AAAAAAAA+H/hRtOmk70TQAAAAAAAAPh/AAAAAAAA+H8AAAAAAAD4fwAAAAAAAPh/AAAAAAAA+H8AAAAAAAD4f2hoZ9osThNAAAAAAAAA+H8AAAAAAAD4f6FVFCPwnhJAvss6L5aAEkDMuXPvMkwSQEMkOW8OGxJAQyQ5bw4bEkBDJDlvDhsSQByB0goC1RFAY0nN31TQEUAXnCNbJJkRQC0LKug9bxFALQsq6D1vEUAtCyroPW8RQD2fq3OGZBFAAAAAAAAA+H8AAAAAAAD4fwAAAAAAAPh/AAAAAAAA+H8AAAAAAAD4fwAAAAAAAPh/AAAAAAAA+H8AAAAAAAD4fwAAAAAAAPh/AAAAAAAA+H8AAAAAAAD4fwAAAAAAAPh/AAAAAAAA+H8AAAAAAAD4fwAAAAAAAPh/AAAAAAAA+H8AAAAAAAD4fwAAAAAAAPh/AAAAAAAA+H8AAAAAAAD4fwAAAAAAAPh/AAAAAAAA+H8AAAAAAAD4fwAAAAAAAPh/AAAAAAAA+H8AAAAAAAD4fwAAAAAAAPh/AAAAAAAA+H8AAAAAAAD4fwAAAAAAAPh/AAAAAAAA+H8AAAAAAAD4fwAAAAAAAPh/AAAAAAAA+H8AAAAAAAD4fwAAAAAAAPh/AAAAAAAA+H8AAAAAAAD4fwAAAAAAAPh/AAAAAAAA+H8AAAAAAAD4fwAAAAAAAPh/AAAAAAAA+H8AAAAAAAD4fwAAAAAAAPh/AAAAAAAA+H8AAAAAAAD4fwAAAAAAAPh/AAAAAAAA+H8AAAAAAAD4fwAAAAAAAPh/AAAAAAAA+H8AAAAAAAD4fwAAAAAAAPh/AAAAAAAA+H8AAAAAAAD4fwAAAAAAAPh/AAAAAAAA+H8AAAAAAAD4f1vzeIFL0FlA5l3urG6eWEAsxYBFc2xYQAAAAAAAAPh/GpoQ8DjLV0AamhDwOMtXQGWpE7eOlFdAZakTt46UV0CcvBDqPXhXQJy8EOo9eFdAHMjq7Z9lV0AcyOrtn2VXQK0Cr4x+LFdArQKvjH4sV0DF8arz68dWQG1vuPnZOlZAbW+4+dk6VkARoCKyojdWQErO1rj+3lVAYYK84syzVUBhgrzizLNVQIAPMTs8p1VAgA8xOzynVUAOrVS+SHFVQAEKU8FCYlVAAQpTwUJiVUAAAAAAAAD4fwAAAAAAAPh/AAAAAAAA+H8AAAAAAAD4fwAAAAAAAPh/AAAAAAAA+H8AAAAAAAD4fwAAAAAAAPh/AAAAAAAA+H8AAAAAAAD4fwAAAAAAAPh/AAAAAAAA+H8AAAAAAAD4fwAAAAAAAPh/AAAAAAAA+H8AAAAAAAD4fwAAAAAAAPh/AAAAAAAA+H8AAAAAAAD4fwAAAAAAAPh/AAAAAAAA+H8AAAAAAAD4fwAAAAAAAPh/AAAAAAAA+H8AAAAAAAD4fwAAAAAAAPh/AAAAAAAA+H8AAAAAAAD4fwAAAAAAAPh/AAAAAAAA+H8AAAAAAAD4fwAAAAAAAPh/AAAAAAAA+H8AAAAAAAD4fwAAAAAAAPh/AAAAAAAA+H8AAAAAAAD4fwAAAAAAAPh/AAAAAAAA+H8AAAAAAAD4fwAAAAAAAPh/AAAAAAAA+H8AAAAAAAD4fwAAAAAAAPh/AAAAAAAA+H8AAAAAAAD4fwAAAAAAAPh/AAAAAAAA+H8AAAAAAAD4fwAAAAAAAPh/AAAAAAAA+H8AAAAAAAD4fwAAAAAAAPh/AAAAAAAA+H8AAAAAAAD4fwAAAAAAAPh/AAAAAAAA+H8AAAAAAAD4fwAAAAAAAPh/AAAAAAAA+H8AAAAAAAD4fwAAAAAAAPh/AAAAAAAA+H8AAAAAAAD4fwAAAAAAAPh/AAAAAAAA+H8AAAAAAAD4f13jRKOzvg5AXeNEo7O+DkCM0WJO3lwOQO6wv3cfNg5AAHfm4QswDkCac8nU1SgOQHMe/fgO5w1ACsVdO1fgDUBhmK3SF9ANQMOt2JyWMg1AW7KNxRMoDUC3CTwYhxYNQIrxY7nBnAxAjGYkBWRSDECIXeBPWE8MQPq87ff9SwxAvp4VYr6+C0BrIEDu2YkLQKe+KK0xagtAST0nN/ZZC0BJPSc39lkLQEk9Jzf2WQtAj7usXMxFC0CPu6xczEULQGGqGaZpCQtAAAAAAAAA+H8AAAAAAAD4fwAAAAAAAPh/AAAAAAAA+H8AAAAAAAD4fwAAAAAAAPh/AAAAAAAA+H8AAAAAAAD4fw==",
            "dtype": "f8"
           }
          },
          {
           "label": "complexity",
           "values": {
            "bdata": "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",
            "dtype": "f8"
           }
          },
          {
           "label": "size",
           "values": {
            "bdata": "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",
            "dtype": "i4"
           }
          },
          {
           "label": "mean_residual",
           "values": {
            "bdata": "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",
            "dtype": "f8"
           }
          },
          {
           "label": "expressiveness",
           "values": {
            "bdata": "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",
            "dtype": "f8"
           }
          },
          {
           "label": "score",
           "values": {
            "bdata": "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",
            "dtype": "f8"
           }
          }
         ],
         "line": {
          "color": {
           "bdata": "AQEAAAAAAAAAAAEAAAAAAAAAAAAAAAAAAQAAAAABAAEBAAAAAAAAAAAAAAAAAAAAAAAAAAAAAAAAAAAAAAAAAAAAAAAAAAAAAAAAAAABAAEAAAAAAAAAAAAAAAEAAAAAAAEAAAAAAAAAAAAAAAAAAAAAAAABAAEBAAEAAAAAAAAAAAAAAAAAAAAAAAAAAAAAAAAAAAAAAAAAAAAAAAAAAAAAAAAAAAAAAAAAAAEAAAEAAAAAAAAAAAAAAAAAAAAAAAAAAAAAAAEBAAABAAAAAAAAAAAAAQAAAAAAAAAAAAAAAAAAAAAAAAAAAAAAAAAAAAAAAAAAAAAAAAAAAAAAAAAAAQEAAQAAAAAAAAAAAAAAAAAAAAAAAAAAAAAAAAAAAAAAAAAAAAAAAAAAAAEAAAAAAAABAAABAAAAAAAAAAAAAAAAAAAAAAAAAAAAAAEAAAAAAAAAAAAAAAAAAAEAAAAAAQAAAAAAAAAAAAAAAAAAAAAAAAAAAAEAAAAAAAAAAAAAAAAAAAAAAAAAAAAAAAAAAQAAAAAAAAAAAAAAAAAAAAAAAAAAAAAAAAAAAAAAAAA=",
           "dtype": "i1"
          },
          "colorscale": [
           [
            0,
            "lightgray"
           ],
           [
            1,
            "blue"
           ]
          ],
          "showscale": false
         },
         "type": "parcoords"
        }
       ],
       "layout": {
        "template": {
         "data": {
          "bar": [
           {
            "error_x": {
             "color": "#2a3f5f"
            },
            "error_y": {
             "color": "#2a3f5f"
            },
            "marker": {
             "line": {
              "color": "#E5ECF6",
              "width": 0.5
             },
             "pattern": {
              "fillmode": "overlay",
              "size": 10,
              "solidity": 0.2
             }
            },
            "type": "bar"
           }
          ],
          "barpolar": [
           {
            "marker": {
             "line": {
              "color": "#E5ECF6",
              "width": 0.5
             },
             "pattern": {
              "fillmode": "overlay",
              "size": 10,
              "solidity": 0.2
             }
            },
            "type": "barpolar"
           }
          ],
          "carpet": [
           {
            "aaxis": {
             "endlinecolor": "#2a3f5f",
             "gridcolor": "white",
             "linecolor": "white",
             "minorgridcolor": "white",
             "startlinecolor": "#2a3f5f"
            },
            "baxis": {
             "endlinecolor": "#2a3f5f",
             "gridcolor": "white",
             "linecolor": "white",
             "minorgridcolor": "white",
             "startlinecolor": "#2a3f5f"
            },
            "type": "carpet"
           }
          ],
          "choropleth": [
           {
            "colorbar": {
             "outlinewidth": 0,
             "ticks": ""
            },
            "type": "choropleth"
           }
          ],
          "contour": [
           {
            "colorbar": {
             "outlinewidth": 0,
             "ticks": ""
            },
            "colorscale": [
             [
              0,
              "#0d0887"
             ],
             [
              0.1111111111111111,
              "#46039f"
             ],
             [
              0.2222222222222222,
              "#7201a8"
             ],
             [
              0.3333333333333333,
              "#9c179e"
             ],
             [
              0.4444444444444444,
              "#bd3786"
             ],
             [
              0.5555555555555556,
              "#d8576b"
             ],
             [
              0.6666666666666666,
              "#ed7953"
             ],
             [
              0.7777777777777778,
              "#fb9f3a"
             ],
             [
              0.8888888888888888,
              "#fdca26"
             ],
             [
              1,
              "#f0f921"
             ]
            ],
            "type": "contour"
           }
          ],
          "contourcarpet": [
           {
            "colorbar": {
             "outlinewidth": 0,
             "ticks": ""
            },
            "type": "contourcarpet"
           }
          ],
          "heatmap": [
           {
            "colorbar": {
             "outlinewidth": 0,
             "ticks": ""
            },
            "colorscale": [
             [
              0,
              "#0d0887"
             ],
             [
              0.1111111111111111,
              "#46039f"
             ],
             [
              0.2222222222222222,
              "#7201a8"
             ],
             [
              0.3333333333333333,
              "#9c179e"
             ],
             [
              0.4444444444444444,
              "#bd3786"
             ],
             [
              0.5555555555555556,
              "#d8576b"
             ],
             [
              0.6666666666666666,
              "#ed7953"
             ],
             [
              0.7777777777777778,
              "#fb9f3a"
             ],
             [
              0.8888888888888888,
              "#fdca26"
             ],
             [
              1,
              "#f0f921"
             ]
            ],
            "type": "heatmap"
           }
          ],
          "histogram": [
           {
            "marker": {
             "pattern": {
              "fillmode": "overlay",
              "size": 10,
              "solidity": 0.2
             }
            },
            "type": "histogram"
           }
          ],
          "histogram2d": [
           {
            "colorbar": {
             "outlinewidth": 0,
             "ticks": ""
            },
            "colorscale": [
             [
              0,
              "#0d0887"
             ],
             [
              0.1111111111111111,
              "#46039f"
             ],
             [
              0.2222222222222222,
              "#7201a8"
             ],
             [
              0.3333333333333333,
              "#9c179e"
             ],
             [
              0.4444444444444444,
              "#bd3786"
             ],
             [
              0.5555555555555556,
              "#d8576b"
             ],
             [
              0.6666666666666666,
              "#ed7953"
             ],
             [
              0.7777777777777778,
              "#fb9f3a"
             ],
             [
              0.8888888888888888,
              "#fdca26"
             ],
             [
              1,
              "#f0f921"
             ]
            ],
            "type": "histogram2d"
           }
          ],
          "histogram2dcontour": [
           {
            "colorbar": {
             "outlinewidth": 0,
             "ticks": ""
            },
            "colorscale": [
             [
              0,
              "#0d0887"
             ],
             [
              0.1111111111111111,
              "#46039f"
             ],
             [
              0.2222222222222222,
              "#7201a8"
             ],
             [
              0.3333333333333333,
              "#9c179e"
             ],
             [
              0.4444444444444444,
              "#bd3786"
             ],
             [
              0.5555555555555556,
              "#d8576b"
             ],
             [
              0.6666666666666666,
              "#ed7953"
             ],
             [
              0.7777777777777778,
              "#fb9f3a"
             ],
             [
              0.8888888888888888,
              "#fdca26"
             ],
             [
              1,
              "#f0f921"
             ]
            ],
            "type": "histogram2dcontour"
           }
          ],
          "mesh3d": [
           {
            "colorbar": {
             "outlinewidth": 0,
             "ticks": ""
            },
            "type": "mesh3d"
           }
          ],
          "parcoords": [
           {
            "line": {
             "colorbar": {
              "outlinewidth": 0,
              "ticks": ""
             }
            },
            "type": "parcoords"
           }
          ],
          "pie": [
           {
            "automargin": true,
            "type": "pie"
           }
          ],
          "scatter": [
           {
            "fillpattern": {
             "fillmode": "overlay",
             "size": 10,
             "solidity": 0.2
            },
            "type": "scatter"
           }
          ],
          "scatter3d": [
           {
            "line": {
             "colorbar": {
              "outlinewidth": 0,
              "ticks": ""
             }
            },
            "marker": {
             "colorbar": {
              "outlinewidth": 0,
              "ticks": ""
             }
            },
            "type": "scatter3d"
           }
          ],
          "scattercarpet": [
           {
            "marker": {
             "colorbar": {
              "outlinewidth": 0,
              "ticks": ""
             }
            },
            "type": "scattercarpet"
           }
          ],
          "scattergeo": [
           {
            "marker": {
             "colorbar": {
              "outlinewidth": 0,
              "ticks": ""
             }
            },
            "type": "scattergeo"
           }
          ],
          "scattergl": [
           {
            "marker": {
             "colorbar": {
              "outlinewidth": 0,
              "ticks": ""
             }
            },
            "type": "scattergl"
           }
          ],
          "scattermap": [
           {
            "marker": {
             "colorbar": {
              "outlinewidth": 0,
              "ticks": ""
             }
            },
            "type": "scattermap"
           }
          ],
          "scattermapbox": [
           {
            "marker": {
             "colorbar": {
              "outlinewidth": 0,
              "ticks": ""
             }
            },
            "type": "scattermapbox"
           }
          ],
          "scatterpolar": [
           {
            "marker": {
             "colorbar": {
              "outlinewidth": 0,
              "ticks": ""
             }
            },
            "type": "scatterpolar"
           }
          ],
          "scatterpolargl": [
           {
            "marker": {
             "colorbar": {
              "outlinewidth": 0,
              "ticks": ""
             }
            },
            "type": "scatterpolargl"
           }
          ],
          "scatterternary": [
           {
            "marker": {
             "colorbar": {
              "outlinewidth": 0,
              "ticks": ""
             }
            },
            "type": "scatterternary"
           }
          ],
          "surface": [
           {
            "colorbar": {
             "outlinewidth": 0,
             "ticks": ""
            },
            "colorscale": [
             [
              0,
              "#0d0887"
             ],
             [
              0.1111111111111111,
              "#46039f"
             ],
             [
              0.2222222222222222,
              "#7201a8"
             ],
             [
              0.3333333333333333,
              "#9c179e"
             ],
             [
              0.4444444444444444,
              "#bd3786"
             ],
             [
              0.5555555555555556,
              "#d8576b"
             ],
             [
              0.6666666666666666,
              "#ed7953"
             ],
             [
              0.7777777777777778,
              "#fb9f3a"
             ],
             [
              0.8888888888888888,
              "#fdca26"
             ],
             [
              1,
              "#f0f921"
             ]
            ],
            "type": "surface"
           }
          ],
          "table": [
           {
            "cells": {
             "fill": {
              "color": "#EBF0F8"
             },
             "line": {
              "color": "white"
             }
            },
            "header": {
             "fill": {
              "color": "#C8D4E3"
             },
             "line": {
              "color": "white"
             }
            },
            "type": "table"
           }
          ]
         },
         "layout": {
          "annotationdefaults": {
           "arrowcolor": "#2a3f5f",
           "arrowhead": 0,
           "arrowwidth": 1
          },
          "autotypenumbers": "strict",
          "coloraxis": {
           "colorbar": {
            "outlinewidth": 0,
            "ticks": ""
           }
          },
          "colorscale": {
           "diverging": [
            [
             0,
             "#8e0152"
            ],
            [
             0.1,
             "#c51b7d"
            ],
            [
             0.2,
             "#de77ae"
            ],
            [
             0.3,
             "#f1b6da"
            ],
            [
             0.4,
             "#fde0ef"
            ],
            [
             0.5,
             "#f7f7f7"
            ],
            [
             0.6,
             "#e6f5d0"
            ],
            [
             0.7,
             "#b8e186"
            ],
            [
             0.8,
             "#7fbc41"
            ],
            [
             0.9,
             "#4d9221"
            ],
            [
             1,
             "#276419"
            ]
           ],
           "sequential": [
            [
             0,
             "#0d0887"
            ],
            [
             0.1111111111111111,
             "#46039f"
            ],
            [
             0.2222222222222222,
             "#7201a8"
            ],
            [
             0.3333333333333333,
             "#9c179e"
            ],
            [
             0.4444444444444444,
             "#bd3786"
            ],
            [
             0.5555555555555556,
             "#d8576b"
            ],
            [
             0.6666666666666666,
             "#ed7953"
            ],
            [
             0.7777777777777778,
             "#fb9f3a"
            ],
            [
             0.8888888888888888,
             "#fdca26"
            ],
            [
             1,
             "#f0f921"
            ]
           ],
           "sequentialminus": [
            [
             0,
             "#0d0887"
            ],
            [
             0.1111111111111111,
             "#46039f"
            ],
            [
             0.2222222222222222,
             "#7201a8"
            ],
            [
             0.3333333333333333,
             "#9c179e"
            ],
            [
             0.4444444444444444,
             "#bd3786"
            ],
            [
             0.5555555555555556,
             "#d8576b"
            ],
            [
             0.6666666666666666,
             "#ed7953"
            ],
            [
             0.7777777777777778,
             "#fb9f3a"
            ],
            [
             0.8888888888888888,
             "#fdca26"
            ],
            [
             1,
             "#f0f921"
            ]
           ]
          },
          "colorway": [
           "#636efa",
           "#EF553B",
           "#00cc96",
           "#ab63fa",
           "#FFA15A",
           "#19d3f3",
           "#FF6692",
           "#B6E880",
           "#FF97FF",
           "#FECB52"
          ],
          "font": {
           "color": "#2a3f5f"
          },
          "geo": {
           "bgcolor": "white",
           "lakecolor": "white",
           "landcolor": "#E5ECF6",
           "showlakes": true,
           "showland": true,
           "subunitcolor": "white"
          },
          "hoverlabel": {
           "align": "left"
          },
          "hovermode": "closest",
          "mapbox": {
           "style": "light"
          },
          "paper_bgcolor": "white",
          "plot_bgcolor": "#E5ECF6",
          "polar": {
           "angularaxis": {
            "gridcolor": "white",
            "linecolor": "white",
            "ticks": ""
           },
           "bgcolor": "#E5ECF6",
           "radialaxis": {
            "gridcolor": "white",
            "linecolor": "white",
            "ticks": ""
           }
          },
          "scene": {
           "xaxis": {
            "backgroundcolor": "#E5ECF6",
            "gridcolor": "white",
            "gridwidth": 2,
            "linecolor": "white",
            "showbackground": true,
            "ticks": "",
            "zerolinecolor": "white"
           },
           "yaxis": {
            "backgroundcolor": "#E5ECF6",
            "gridcolor": "white",
            "gridwidth": 2,
            "linecolor": "white",
            "showbackground": true,
            "ticks": "",
            "zerolinecolor": "white"
           },
           "zaxis": {
            "backgroundcolor": "#E5ECF6",
            "gridcolor": "white",
            "gridwidth": 2,
            "linecolor": "white",
            "showbackground": true,
            "ticks": "",
            "zerolinecolor": "white"
           }
          },
          "shapedefaults": {
           "line": {
            "color": "#2a3f5f"
           }
          },
          "ternary": {
           "aaxis": {
            "gridcolor": "white",
            "linecolor": "white",
            "ticks": ""
           },
           "baxis": {
            "gridcolor": "white",
            "linecolor": "white",
            "ticks": ""
           },
           "bgcolor": "#E5ECF6",
           "caxis": {
            "gridcolor": "white",
            "linecolor": "white",
            "ticks": ""
           }
          },
          "title": {
           "x": 0.05
          },
          "xaxis": {
           "automargin": true,
           "gridcolor": "white",
           "linecolor": "white",
           "ticks": "",
           "title": {
            "standoff": 15
           },
           "zerolinecolor": "white",
           "zerolinewidth": 2
          },
          "yaxis": {
           "automargin": true,
           "gridcolor": "white",
           "linecolor": "white",
           "ticks": "",
           "title": {
            "standoff": 15
           },
           "zerolinecolor": "white",
           "zerolinewidth": 2
          }
         }
        },
        "title": {
         "text": "Parallel Coordinates of Metrics (Blue = Pareto, Gray = Non-Pareto)"
        }
       }
      }
     },
     "metadata": {},
     "output_type": "display_data"
    },
    {
     "data": {
      "application/vnd.plotly.v1+json": {
       "config": {
        "plotlyServerURL": "https://plot.ly"
       },
       "data": [
        {
         "customdata": [
          [
           "housing",
           "L_poly",
           null,
           null,
           null,
           0.0009990009990009,
           8.300744393284562
          ],
          [
           "forestfires",
           "L_tree",
           null,
           null,
           null,
           0.0009990009990009,
           8.550773488447913
          ],
          [
           "cmc",
           "L_poly",
           null,
           null,
           null,
           0.0009990009990009,
           8.752770310048032
          ],
          [
           "cmc",
           "L_symb",
           "(Wife_Education - Contraceptive_Method)",
           ">",
           2,
           0.0009990009990009,
           8.752770310048032
          ],
          [
           "cmc",
           "L_symb",
           "(Wife_Education / Contraceptive_Method)",
           ">",
           3,
           0.0009990009990009,
           8.752770310048032
          ],
          [
           "forestfires",
           "L_conj",
           null,
           null,
           null,
           0.0009990009990009,
           8.808614423812413
          ],
          [
           "cmc",
           "L_poly",
           null,
           null,
           null,
           0.0009990009990009,
           8.878672763952126
          ],
          [
           "cmc",
           "L_poly",
           null,
           null,
           null,
           0.0009990009990009,
           9.353360875687542
          ],
          [
           "housing",
           "L_poly",
           null,
           null,
           null,
           0.0009990009990009,
           10.658807963367984
          ],
          [
           "cmc",
           "L_conj",
           null,
           null,
           null,
           0.0009990009990009,
           10.55884743745345
          ],
          [
           "cmc",
           "L_tree",
           null,
           null,
           null,
           0.0009990009990009,
           10.993360719513667
          ],
          [
           "housing",
           "L_conj",
           null,
           null,
           null,
           0.0009990009990009,
           12.902818768188368
          ],
          [
           "housing",
           "L_conj",
           null,
           null,
           null,
           0.0009990009990009,
           14.821385216663389
          ],
          [
           "msd",
           "L_tree",
           null,
           null,
           null,
           0.0009990009990009,
           79.93108245053519
          ],
          [
           "msd",
           "L_tree",
           null,
           null,
           null,
           0.0009990009990009,
           95.25446104174016
          ],
          [
           "msd",
           "L_symb",
           "(timbre_avg_6 + timbre_avg_3)",
           ">",
           33.77,
           0.0009990009990009,
           103.25460850535949
          ],
          [
           "msd",
           "L_poly",
           null,
           null,
           null,
           0.0009990009990009,
           112.98888664973497
          ],
          [
           "msd",
           "L_conj",
           null,
           null,
           null,
           0.0009990009990009,
           119.56675051862752
          ],
          [
           "msd",
           "L_poly",
           null,
           null,
           null,
           0.0009990009990009,
           120.18703973864685
          ],
          [
           "msd",
           "L_poly",
           null,
           null,
           null,
           0.0009990009990009,
           121.73917678179124
          ]
         ],
         "hovertemplate": "q_residual=%{x}<br>label=%{y}<br>dataset=%{customdata[0]}<br>language=%{customdata[1]}<br>expr=%{customdata[2]}<br>operator=%{customdata[3]}<br>threshold=%{customdata[4]}<br>p_value=%{customdata[5]}<br>q_perm=%{customdata[6]}<extra></extra>",
         "legendgroup": "",
         "marker": {
          "color": "#636efa",
          "pattern": {
           "shape": ""
          }
         },
         "name": "",
         "orientation": "h",
         "showlegend": false,
         "textposition": "auto",
         "type": "bar",
         "x": {
          "bdata": "oTlLK/uZIEB2xpD7/hkhQLYcLhxrgSFAthwuHGuBIUC2HC4ca4EhQEeysrUCniFA4R6CZeHBIUAgh3m367QiQL8hoe3/tyRAx6FWQCEeJUBs4rbGmfwlQAgr90I+zilAafllmoykLUC7AgjpvvxTQFMY9xZJ0FdAW/N4gUvQWUCQ1SaKgT9cQMKf96NF5F1AFxpgTHILXkBQbhG5l25eQA==",
          "dtype": "f8"
         },
         "xaxis": "x",
         "y": [
          "CHAS > 0 AND TAX > 403  |  c=3.0  n=8",
          "temp > 25.05 AND temp <= 25.45  |  c=4.0  n=6",
          "Contraceptive_Method <= 1 AND Wife_Education > 3  |  c=4.0  n=175",
          "(Wife_Education - Contraceptive_Method) > 2  |  c=3.0  n=175",
          "(Wife_Education / Contraceptive_Method) > 3  |  c=3.0  n=175",
          "day > 6 AND month > 8 AND ISI > 8.56  |  c=4.0  n=6",
          "Husband_Occupation <= 1 AND Contraceptive_Method <= 1  |  c=6.0  n=158",
          "Children*Husband_Occupation <= 2 AND Contraceptive_Method*Husband_Occupation <= 1  |  c=9.0  n=95",
          "DIS <= 1.951 AND LSTAT <= 13.66  |  c=5.0  n=21",
          "Contraceptive_Method <= 1 AND Wife_Education > 3 AND Wife_religion > 0  |  c=5.0  n=132",
          "Husband_Occupation <= 1.5 AND Contraceptive_Method <= 1.5 AND Children <= 1.5 AND SOLI > 2.5  |  c=11.0  n=55",
          "NOX > 0.507 AND LSTAT <= 10.11 AND RAD > 5  |  c=5.0  n=11",
          "PTRATIO > 19.7 AND LSTAT <= 11.45 AND DIS <= 2.1  |  c=6.0  n=8",
          "timbre_avg_6 > -8.76 AND timbre_avg_3 > 26.79 AND timbre_avg_2 > -54.36 AND timbre_cov_3_3 > 37.2  |  c=7.0  n=31870",
          "timbre_avg_6 > -8.76 AND timbre_avg_3 > 26.79 AND timbre_avg_2 <= -54.36 AND timbre_cov_7_10 <= -104  |  c=10.0  n=7055",
          "(timbre_avg_6 + timbre_avg_3) > 33.77  |  c=3.0  n=73605",
          "timbre_avg_6 > 0.04687 AND timbre_avg_3*timbre_cov_3_3 > 988.5  |  c=4.0  n=41227",
          "timbre_avg_6 > -8.1 AND timbre_avg_3 > 16.18 AND timbre_cov_3_3 > 19.42  |  c=5.0  n=65956",
          "timbre_avg_3*timbre_cov_3_3 > 1758 AND timbre_avg_6 > -9.93  |  c=5.0  n=61845",
          "timbre_avg_3*timbre_cov_3_3 > 1758 AND timbre_avg_1*timbre_avg_6 > -409.9  |  c=6.0  n=61841"
         ],
         "yaxis": "y"
        }
       ],
       "layout": {
        "barmode": "relative",
        "legend": {
         "tracegroupgap": 0
        },
        "template": {
         "data": {
          "bar": [
           {
            "error_x": {
             "color": "#2a3f5f"
            },
            "error_y": {
             "color": "#2a3f5f"
            },
            "marker": {
             "line": {
              "color": "#E5ECF6",
              "width": 0.5
             },
             "pattern": {
              "fillmode": "overlay",
              "size": 10,
              "solidity": 0.2
             }
            },
            "type": "bar"
           }
          ],
          "barpolar": [
           {
            "marker": {
             "line": {
              "color": "#E5ECF6",
              "width": 0.5
             },
             "pattern": {
              "fillmode": "overlay",
              "size": 10,
              "solidity": 0.2
             }
            },
            "type": "barpolar"
           }
          ],
          "carpet": [
           {
            "aaxis": {
             "endlinecolor": "#2a3f5f",
             "gridcolor": "white",
             "linecolor": "white",
             "minorgridcolor": "white",
             "startlinecolor": "#2a3f5f"
            },
            "baxis": {
             "endlinecolor": "#2a3f5f",
             "gridcolor": "white",
             "linecolor": "white",
             "minorgridcolor": "white",
             "startlinecolor": "#2a3f5f"
            },
            "type": "carpet"
           }
          ],
          "choropleth": [
           {
            "colorbar": {
             "outlinewidth": 0,
             "ticks": ""
            },
            "type": "choropleth"
           }
          ],
          "contour": [
           {
            "colorbar": {
             "outlinewidth": 0,
             "ticks": ""
            },
            "colorscale": [
             [
              0,
              "#0d0887"
             ],
             [
              0.1111111111111111,
              "#46039f"
             ],
             [
              0.2222222222222222,
              "#7201a8"
             ],
             [
              0.3333333333333333,
              "#9c179e"
             ],
             [
              0.4444444444444444,
              "#bd3786"
             ],
             [
              0.5555555555555556,
              "#d8576b"
             ],
             [
              0.6666666666666666,
              "#ed7953"
             ],
             [
              0.7777777777777778,
              "#fb9f3a"
             ],
             [
              0.8888888888888888,
              "#fdca26"
             ],
             [
              1,
              "#f0f921"
             ]
            ],
            "type": "contour"
           }
          ],
          "contourcarpet": [
           {
            "colorbar": {
             "outlinewidth": 0,
             "ticks": ""
            },
            "type": "contourcarpet"
           }
          ],
          "heatmap": [
           {
            "colorbar": {
             "outlinewidth": 0,
             "ticks": ""
            },
            "colorscale": [
             [
              0,
              "#0d0887"
             ],
             [
              0.1111111111111111,
              "#46039f"
             ],
             [
              0.2222222222222222,
              "#7201a8"
             ],
             [
              0.3333333333333333,
              "#9c179e"
             ],
             [
              0.4444444444444444,
              "#bd3786"
             ],
             [
              0.5555555555555556,
              "#d8576b"
             ],
             [
              0.6666666666666666,
              "#ed7953"
             ],
             [
              0.7777777777777778,
              "#fb9f3a"
             ],
             [
              0.8888888888888888,
              "#fdca26"
             ],
             [
              1,
              "#f0f921"
             ]
            ],
            "type": "heatmap"
           }
          ],
          "histogram": [
           {
            "marker": {
             "pattern": {
              "fillmode": "overlay",
              "size": 10,
              "solidity": 0.2
             }
            },
            "type": "histogram"
           }
          ],
          "histogram2d": [
           {
            "colorbar": {
             "outlinewidth": 0,
             "ticks": ""
            },
            "colorscale": [
             [
              0,
              "#0d0887"
             ],
             [
              0.1111111111111111,
              "#46039f"
             ],
             [
              0.2222222222222222,
              "#7201a8"
             ],
             [
              0.3333333333333333,
              "#9c179e"
             ],
             [
              0.4444444444444444,
              "#bd3786"
             ],
             [
              0.5555555555555556,
              "#d8576b"
             ],
             [
              0.6666666666666666,
              "#ed7953"
             ],
             [
              0.7777777777777778,
              "#fb9f3a"
             ],
             [
              0.8888888888888888,
              "#fdca26"
             ],
             [
              1,
              "#f0f921"
             ]
            ],
            "type": "histogram2d"
           }
          ],
          "histogram2dcontour": [
           {
            "colorbar": {
             "outlinewidth": 0,
             "ticks": ""
            },
            "colorscale": [
             [
              0,
              "#0d0887"
             ],
             [
              0.1111111111111111,
              "#46039f"
             ],
             [
              0.2222222222222222,
              "#7201a8"
             ],
             [
              0.3333333333333333,
              "#9c179e"
             ],
             [
              0.4444444444444444,
              "#bd3786"
             ],
             [
              0.5555555555555556,
              "#d8576b"
             ],
             [
              0.6666666666666666,
              "#ed7953"
             ],
             [
              0.7777777777777778,
              "#fb9f3a"
             ],
             [
              0.8888888888888888,
              "#fdca26"
             ],
             [
              1,
              "#f0f921"
             ]
            ],
            "type": "histogram2dcontour"
           }
          ],
          "mesh3d": [
           {
            "colorbar": {
             "outlinewidth": 0,
             "ticks": ""
            },
            "type": "mesh3d"
           }
          ],
          "parcoords": [
           {
            "line": {
             "colorbar": {
              "outlinewidth": 0,
              "ticks": ""
             }
            },
            "type": "parcoords"
           }
          ],
          "pie": [
           {
            "automargin": true,
            "type": "pie"
           }
          ],
          "scatter": [
           {
            "fillpattern": {
             "fillmode": "overlay",
             "size": 10,
             "solidity": 0.2
            },
            "type": "scatter"
           }
          ],
          "scatter3d": [
           {
            "line": {
             "colorbar": {
              "outlinewidth": 0,
              "ticks": ""
             }
            },
            "marker": {
             "colorbar": {
              "outlinewidth": 0,
              "ticks": ""
             }
            },
            "type": "scatter3d"
           }
          ],
          "scattercarpet": [
           {
            "marker": {
             "colorbar": {
              "outlinewidth": 0,
              "ticks": ""
             }
            },
            "type": "scattercarpet"
           }
          ],
          "scattergeo": [
           {
            "marker": {
             "colorbar": {
              "outlinewidth": 0,
              "ticks": ""
             }
            },
            "type": "scattergeo"
           }
          ],
          "scattergl": [
           {
            "marker": {
             "colorbar": {
              "outlinewidth": 0,
              "ticks": ""
             }
            },
            "type": "scattergl"
           }
          ],
          "scattermap": [
           {
            "marker": {
             "colorbar": {
              "outlinewidth": 0,
              "ticks": ""
             }
            },
            "type": "scattermap"
           }
          ],
          "scattermapbox": [
           {
            "marker": {
             "colorbar": {
              "outlinewidth": 0,
              "ticks": ""
             }
            },
            "type": "scattermapbox"
           }
          ],
          "scatterpolar": [
           {
            "marker": {
             "colorbar": {
              "outlinewidth": 0,
              "ticks": ""
             }
            },
            "type": "scatterpolar"
           }
          ],
          "scatterpolargl": [
           {
            "marker": {
             "colorbar": {
              "outlinewidth": 0,
              "ticks": ""
             }
            },
            "type": "scatterpolargl"
           }
          ],
          "scatterternary": [
           {
            "marker": {
             "colorbar": {
              "outlinewidth": 0,
              "ticks": ""
             }
            },
            "type": "scatterternary"
           }
          ],
          "surface": [
           {
            "colorbar": {
             "outlinewidth": 0,
             "ticks": ""
            },
            "colorscale": [
             [
              0,
              "#0d0887"
             ],
             [
              0.1111111111111111,
              "#46039f"
             ],
             [
              0.2222222222222222,
              "#7201a8"
             ],
             [
              0.3333333333333333,
              "#9c179e"
             ],
             [
              0.4444444444444444,
              "#bd3786"
             ],
             [
              0.5555555555555556,
              "#d8576b"
             ],
             [
              0.6666666666666666,
              "#ed7953"
             ],
             [
              0.7777777777777778,
              "#fb9f3a"
             ],
             [
              0.8888888888888888,
              "#fdca26"
             ],
             [
              1,
              "#f0f921"
             ]
            ],
            "type": "surface"
           }
          ],
          "table": [
           {
            "cells": {
             "fill": {
              "color": "#EBF0F8"
             },
             "line": {
              "color": "white"
             }
            },
            "header": {
             "fill": {
              "color": "#C8D4E3"
             },
             "line": {
              "color": "white"
             }
            },
            "type": "table"
           }
          ]
         },
         "layout": {
          "annotationdefaults": {
           "arrowcolor": "#2a3f5f",
           "arrowhead": 0,
           "arrowwidth": 1
          },
          "autotypenumbers": "strict",
          "coloraxis": {
           "colorbar": {
            "outlinewidth": 0,
            "ticks": ""
           }
          },
          "colorscale": {
           "diverging": [
            [
             0,
             "#8e0152"
            ],
            [
             0.1,
             "#c51b7d"
            ],
            [
             0.2,
             "#de77ae"
            ],
            [
             0.3,
             "#f1b6da"
            ],
            [
             0.4,
             "#fde0ef"
            ],
            [
             0.5,
             "#f7f7f7"
            ],
            [
             0.6,
             "#e6f5d0"
            ],
            [
             0.7,
             "#b8e186"
            ],
            [
             0.8,
             "#7fbc41"
            ],
            [
             0.9,
             "#4d9221"
            ],
            [
             1,
             "#276419"
            ]
           ],
           "sequential": [
            [
             0,
             "#0d0887"
            ],
            [
             0.1111111111111111,
             "#46039f"
            ],
            [
             0.2222222222222222,
             "#7201a8"
            ],
            [
             0.3333333333333333,
             "#9c179e"
            ],
            [
             0.4444444444444444,
             "#bd3786"
            ],
            [
             0.5555555555555556,
             "#d8576b"
            ],
            [
             0.6666666666666666,
             "#ed7953"
            ],
            [
             0.7777777777777778,
             "#fb9f3a"
            ],
            [
             0.8888888888888888,
             "#fdca26"
            ],
            [
             1,
             "#f0f921"
            ]
           ],
           "sequentialminus": [
            [
             0,
             "#0d0887"
            ],
            [
             0.1111111111111111,
             "#46039f"
            ],
            [
             0.2222222222222222,
             "#7201a8"
            ],
            [
             0.3333333333333333,
             "#9c179e"
            ],
            [
             0.4444444444444444,
             "#bd3786"
            ],
            [
             0.5555555555555556,
             "#d8576b"
            ],
            [
             0.6666666666666666,
             "#ed7953"
            ],
            [
             0.7777777777777778,
             "#fb9f3a"
            ],
            [
             0.8888888888888888,
             "#fdca26"
            ],
            [
             1,
             "#f0f921"
            ]
           ]
          },
          "colorway": [
           "#636efa",
           "#EF553B",
           "#00cc96",
           "#ab63fa",
           "#FFA15A",
           "#19d3f3",
           "#FF6692",
           "#B6E880",
           "#FF97FF",
           "#FECB52"
          ],
          "font": {
           "color": "#2a3f5f"
          },
          "geo": {
           "bgcolor": "white",
           "lakecolor": "white",
           "landcolor": "#E5ECF6",
           "showlakes": true,
           "showland": true,
           "subunitcolor": "white"
          },
          "hoverlabel": {
           "align": "left"
          },
          "hovermode": "closest",
          "mapbox": {
           "style": "light"
          },
          "paper_bgcolor": "white",
          "plot_bgcolor": "#E5ECF6",
          "polar": {
           "angularaxis": {
            "gridcolor": "white",
            "linecolor": "white",
            "ticks": ""
           },
           "bgcolor": "#E5ECF6",
           "radialaxis": {
            "gridcolor": "white",
            "linecolor": "white",
            "ticks": ""
           }
          },
          "scene": {
           "xaxis": {
            "backgroundcolor": "#E5ECF6",
            "gridcolor": "white",
            "gridwidth": 2,
            "linecolor": "white",
            "showbackground": true,
            "ticks": "",
            "zerolinecolor": "white"
           },
           "yaxis": {
            "backgroundcolor": "#E5ECF6",
            "gridcolor": "white",
            "gridwidth": 2,
            "linecolor": "white",
            "showbackground": true,
            "ticks": "",
            "zerolinecolor": "white"
           },
           "zaxis": {
            "backgroundcolor": "#E5ECF6",
            "gridcolor": "white",
            "gridwidth": 2,
            "linecolor": "white",
            "showbackground": true,
            "ticks": "",
            "zerolinecolor": "white"
           }
          },
          "shapedefaults": {
           "line": {
            "color": "#2a3f5f"
           }
          },
          "ternary": {
           "aaxis": {
            "gridcolor": "white",
            "linecolor": "white",
            "ticks": ""
           },
           "baxis": {
            "gridcolor": "white",
            "linecolor": "white",
            "ticks": ""
           },
           "bgcolor": "#E5ECF6",
           "caxis": {
            "gridcolor": "white",
            "linecolor": "white",
            "ticks": ""
           }
          },
          "title": {
           "x": 0.05
          },
          "xaxis": {
           "automargin": true,
           "gridcolor": "white",
           "linecolor": "white",
           "ticks": "",
           "title": {
            "standoff": 15
           },
           "zerolinecolor": "white",
           "zerolinewidth": 2
          },
          "yaxis": {
           "automargin": true,
           "gridcolor": "white",
           "linecolor": "white",
           "ticks": "",
           "title": {
            "standoff": 15
           },
           "zerolinecolor": "white",
           "zerolinewidth": 2
          }
         }
        },
        "title": {
         "text": "Top 20 Pareto Rules by q_residual"
        },
        "xaxis": {
         "anchor": "y",
         "domain": [
          0,
          1
         ],
         "title": {
          "text": "q_residual"
         }
        },
        "yaxis": {
         "anchor": "x",
         "domain": [
          0,
          1
         ],
         "title": {
          "text": ""
         }
        }
       }
      }
     },
     "metadata": {},
     "output_type": "display_data"
    },
    {
     "data": {
      "application/vnd.plotly.v1+json": {
       "config": {
        "plotlyServerURL": "https://plot.ly"
       },
       "data": [
        {
         "hovertemplate": "ParetoLabel=Pareto<br>q_residual=%{x}<br>probability=%{y}<extra></extra>",
         "legendgroup": "Pareto",
         "line": {
          "dash": "solid",
          "shape": "hv"
         },
         "marker": {
          "color": "#636efa",
          "symbol": "circle"
         },
         "mode": "lines",
         "name": "Pareto",
         "orientation": "v",
         "showlegend": true,
         "type": "scatter",
         "x": {
          "bdata": "zvuX6huFCUALOSDePVILQF3jRKOzvg5AawGaotYEFUCqnpWU8qwVQPbK9FPjNxZA10EoUYx/FkDfZbMcTkcXQP7lafncph1ABf5YS+3JHkAhHIUdQxsgQKE5Syv7mSBAoTlLK/uZIEB2xpD7/hkhQLYcLhxrgSFAthwuHGuBIUC2HC4ca4EhQEeysrUCniFA4R6CZeHBIUAgh3m367QiQL8hoe3/tyRAx6FWQCEeJUBs4rbGmfwlQAgr90I+zilAafllmoykLUC7AgjpvvxTQFMY9xZJ0FdAW/N4gUvQWUCQ1SaKgT9cQMKf96NF5F1AFxpgTHILXkBQbhG5l25eQA==",
          "dtype": "f8"
         },
         "xaxis": "x",
         "y": {
          "bdata": "AAAAAAAAoD8AAAAAAACwPwAAAAAAALg/AAAAAAAAwD8AAAAAAADEPwAAAAAAAMg/AAAAAAAAzD8AAAAAAADQPwAAAAAAANI/AAAAAAAA1D8AAAAAAADWPwAAAAAAANg/AAAAAAAA2j8AAAAAAADcPwAAAAAAAN4/AAAAAAAA4D8AAAAAAADhPwAAAAAAAOI/AAAAAAAA4z8AAAAAAADkPwAAAAAAAOU/AAAAAAAA5j8AAAAAAADnPwAAAAAAAOg/AAAAAAAA6T8AAAAAAADqPwAAAAAAAOs/AAAAAAAA7D8AAAAAAADtPwAAAAAAAO4/AAAAAAAA7z8AAAAAAADwPw==",
          "dtype": "f8"
         },
         "yaxis": "y"
        },
        {
         "hovertemplate": "ParetoLabel=Non-Pareto<br>q_residual=%{x}<br>probability=%{y}<extra></extra>",
         "legendgroup": "Non-Pareto",
         "line": {
          "dash": "solid",
          "shape": "hv"
         },
         "marker": {
          "color": "#EF553B",
          "symbol": "circle"
         },
         "mode": "lines",
         "name": "Non-Pareto",
         "orientation": "v",
         "showlegend": true,
         "type": "scatter",
         "x": {
          "bdata": "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",
          "dtype": "f8"
         },
         "xaxis": "x",
         "y": {
          "bdata": "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",
          "dtype": "f8"
         },
         "yaxis": "y"
        }
       ],
       "layout": {
        "legend": {
         "title": {
          "text": ""
         },
         "tracegroupgap": 0
        },
        "template": {
         "data": {
          "bar": [
           {
            "error_x": {
             "color": "#2a3f5f"
            },
            "error_y": {
             "color": "#2a3f5f"
            },
            "marker": {
             "line": {
              "color": "#E5ECF6",
              "width": 0.5
             },
             "pattern": {
              "fillmode": "overlay",
              "size": 10,
              "solidity": 0.2
             }
            },
            "type": "bar"
           }
          ],
          "barpolar": [
           {
            "marker": {
             "line": {
              "color": "#E5ECF6",
              "width": 0.5
             },
             "pattern": {
              "fillmode": "overlay",
              "size": 10,
              "solidity": 0.2
             }
            },
            "type": "barpolar"
           }
          ],
          "carpet": [
           {
            "aaxis": {
             "endlinecolor": "#2a3f5f",
             "gridcolor": "white",
             "linecolor": "white",
             "minorgridcolor": "white",
             "startlinecolor": "#2a3f5f"
            },
            "baxis": {
             "endlinecolor": "#2a3f5f",
             "gridcolor": "white",
             "linecolor": "white",
             "minorgridcolor": "white",
             "startlinecolor": "#2a3f5f"
            },
            "type": "carpet"
           }
          ],
          "choropleth": [
           {
            "colorbar": {
             "outlinewidth": 0,
             "ticks": ""
            },
            "type": "choropleth"
           }
          ],
          "contour": [
           {
            "colorbar": {
             "outlinewidth": 0,
             "ticks": ""
            },
            "colorscale": [
             [
              0,
              "#0d0887"
             ],
             [
              0.1111111111111111,
              "#46039f"
             ],
             [
              0.2222222222222222,
              "#7201a8"
             ],
             [
              0.3333333333333333,
              "#9c179e"
             ],
             [
              0.4444444444444444,
              "#bd3786"
             ],
             [
              0.5555555555555556,
              "#d8576b"
             ],
             [
              0.6666666666666666,
              "#ed7953"
             ],
             [
              0.7777777777777778,
              "#fb9f3a"
             ],
             [
              0.8888888888888888,
              "#fdca26"
             ],
             [
              1,
              "#f0f921"
             ]
            ],
            "type": "contour"
           }
          ],
          "contourcarpet": [
           {
            "colorbar": {
             "outlinewidth": 0,
             "ticks": ""
            },
            "type": "contourcarpet"
           }
          ],
          "heatmap": [
           {
            "colorbar": {
             "outlinewidth": 0,
             "ticks": ""
            },
            "colorscale": [
             [
              0,
              "#0d0887"
             ],
             [
              0.1111111111111111,
              "#46039f"
             ],
             [
              0.2222222222222222,
              "#7201a8"
             ],
             [
              0.3333333333333333,
              "#9c179e"
             ],
             [
              0.4444444444444444,
              "#bd3786"
             ],
             [
              0.5555555555555556,
              "#d8576b"
             ],
             [
              0.6666666666666666,
              "#ed7953"
             ],
             [
              0.7777777777777778,
              "#fb9f3a"
             ],
             [
              0.8888888888888888,
              "#fdca26"
             ],
             [
              1,
              "#f0f921"
             ]
            ],
            "type": "heatmap"
           }
          ],
          "histogram": [
           {
            "marker": {
             "pattern": {
              "fillmode": "overlay",
              "size": 10,
              "solidity": 0.2
             }
            },
            "type": "histogram"
           }
          ],
          "histogram2d": [
           {
            "colorbar": {
             "outlinewidth": 0,
             "ticks": ""
            },
            "colorscale": [
             [
              0,
              "#0d0887"
             ],
             [
              0.1111111111111111,
              "#46039f"
             ],
             [
              0.2222222222222222,
              "#7201a8"
             ],
             [
              0.3333333333333333,
              "#9c179e"
             ],
             [
              0.4444444444444444,
              "#bd3786"
             ],
             [
              0.5555555555555556,
              "#d8576b"
             ],
             [
              0.6666666666666666,
              "#ed7953"
             ],
             [
              0.7777777777777778,
              "#fb9f3a"
             ],
             [
              0.8888888888888888,
              "#fdca26"
             ],
             [
              1,
              "#f0f921"
             ]
            ],
            "type": "histogram2d"
           }
          ],
          "histogram2dcontour": [
           {
            "colorbar": {
             "outlinewidth": 0,
             "ticks": ""
            },
            "colorscale": [
             [
              0,
              "#0d0887"
             ],
             [
              0.1111111111111111,
              "#46039f"
             ],
             [
              0.2222222222222222,
              "#7201a8"
             ],
             [
              0.3333333333333333,
              "#9c179e"
             ],
             [
              0.4444444444444444,
              "#bd3786"
             ],
             [
              0.5555555555555556,
              "#d8576b"
             ],
             [
              0.6666666666666666,
              "#ed7953"
             ],
             [
              0.7777777777777778,
              "#fb9f3a"
             ],
             [
              0.8888888888888888,
              "#fdca26"
             ],
             [
              1,
              "#f0f921"
             ]
            ],
            "type": "histogram2dcontour"
           }
          ],
          "mesh3d": [
           {
            "colorbar": {
             "outlinewidth": 0,
             "ticks": ""
            },
            "type": "mesh3d"
           }
          ],
          "parcoords": [
           {
            "line": {
             "colorbar": {
              "outlinewidth": 0,
              "ticks": ""
             }
            },
            "type": "parcoords"
           }
          ],
          "pie": [
           {
            "automargin": true,
            "type": "pie"
           }
          ],
          "scatter": [
           {
            "fillpattern": {
             "fillmode": "overlay",
             "size": 10,
             "solidity": 0.2
            },
            "type": "scatter"
           }
          ],
          "scatter3d": [
           {
            "line": {
             "colorbar": {
              "outlinewidth": 0,
              "ticks": ""
             }
            },
            "marker": {
             "colorbar": {
              "outlinewidth": 0,
              "ticks": ""
             }
            },
            "type": "scatter3d"
           }
          ],
          "scattercarpet": [
           {
            "marker": {
             "colorbar": {
              "outlinewidth": 0,
              "ticks": ""
             }
            },
            "type": "scattercarpet"
           }
          ],
          "scattergeo": [
           {
            "marker": {
             "colorbar": {
              "outlinewidth": 0,
              "ticks": ""
             }
            },
            "type": "scattergeo"
           }
          ],
          "scattergl": [
           {
            "marker": {
             "colorbar": {
              "outlinewidth": 0,
              "ticks": ""
             }
            },
            "type": "scattergl"
           }
          ],
          "scattermap": [
           {
            "marker": {
             "colorbar": {
              "outlinewidth": 0,
              "ticks": ""
             }
            },
            "type": "scattermap"
           }
          ],
          "scattermapbox": [
           {
            "marker": {
             "colorbar": {
              "outlinewidth": 0,
              "ticks": ""
             }
            },
            "type": "scattermapbox"
           }
          ],
          "scatterpolar": [
           {
            "marker": {
             "colorbar": {
              "outlinewidth": 0,
              "ticks": ""
             }
            },
            "type": "scatterpolar"
           }
          ],
          "scatterpolargl": [
           {
            "marker": {
             "colorbar": {
              "outlinewidth": 0,
              "ticks": ""
             }
            },
            "type": "scatterpolargl"
           }
          ],
          "scatterternary": [
           {
            "marker": {
             "colorbar": {
              "outlinewidth": 0,
              "ticks": ""
             }
            },
            "type": "scatterternary"
           }
          ],
          "surface": [
           {
            "colorbar": {
             "outlinewidth": 0,
             "ticks": ""
            },
            "colorscale": [
             [
              0,
              "#0d0887"
             ],
             [
              0.1111111111111111,
              "#46039f"
             ],
             [
              0.2222222222222222,
              "#7201a8"
             ],
             [
              0.3333333333333333,
              "#9c179e"
             ],
             [
              0.4444444444444444,
              "#bd3786"
             ],
             [
              0.5555555555555556,
              "#d8576b"
             ],
             [
              0.6666666666666666,
              "#ed7953"
             ],
             [
              0.7777777777777778,
              "#fb9f3a"
             ],
             [
              0.8888888888888888,
              "#fdca26"
             ],
             [
              1,
              "#f0f921"
             ]
            ],
            "type": "surface"
           }
          ],
          "table": [
           {
            "cells": {
             "fill": {
              "color": "#EBF0F8"
             },
             "line": {
              "color": "white"
             }
            },
            "header": {
             "fill": {
              "color": "#C8D4E3"
             },
             "line": {
              "color": "white"
             }
            },
            "type": "table"
           }
          ]
         },
         "layout": {
          "annotationdefaults": {
           "arrowcolor": "#2a3f5f",
           "arrowhead": 0,
           "arrowwidth": 1
          },
          "autotypenumbers": "strict",
          "coloraxis": {
           "colorbar": {
            "outlinewidth": 0,
            "ticks": ""
           }
          },
          "colorscale": {
           "diverging": [
            [
             0,
             "#8e0152"
            ],
            [
             0.1,
             "#c51b7d"
            ],
            [
             0.2,
             "#de77ae"
            ],
            [
             0.3,
             "#f1b6da"
            ],
            [
             0.4,
             "#fde0ef"
            ],
            [
             0.5,
             "#f7f7f7"
            ],
            [
             0.6,
             "#e6f5d0"
            ],
            [
             0.7,
             "#b8e186"
            ],
            [
             0.8,
             "#7fbc41"
            ],
            [
             0.9,
             "#4d9221"
            ],
            [
             1,
             "#276419"
            ]
           ],
           "sequential": [
            [
             0,
             "#0d0887"
            ],
            [
             0.1111111111111111,
             "#46039f"
            ],
            [
             0.2222222222222222,
             "#7201a8"
            ],
            [
             0.3333333333333333,
             "#9c179e"
            ],
            [
             0.4444444444444444,
             "#bd3786"
            ],
            [
             0.5555555555555556,
             "#d8576b"
            ],
            [
             0.6666666666666666,
             "#ed7953"
            ],
            [
             0.7777777777777778,
             "#fb9f3a"
            ],
            [
             0.8888888888888888,
             "#fdca26"
            ],
            [
             1,
             "#f0f921"
            ]
           ],
           "sequentialminus": [
            [
             0,
             "#0d0887"
            ],
            [
             0.1111111111111111,
             "#46039f"
            ],
            [
             0.2222222222222222,
             "#7201a8"
            ],
            [
             0.3333333333333333,
             "#9c179e"
            ],
            [
             0.4444444444444444,
             "#bd3786"
            ],
            [
             0.5555555555555556,
             "#d8576b"
            ],
            [
             0.6666666666666666,
             "#ed7953"
            ],
            [
             0.7777777777777778,
             "#fb9f3a"
            ],
            [
             0.8888888888888888,
             "#fdca26"
            ],
            [
             1,
             "#f0f921"
            ]
           ]
          },
          "colorway": [
           "#636efa",
           "#EF553B",
           "#00cc96",
           "#ab63fa",
           "#FFA15A",
           "#19d3f3",
           "#FF6692",
           "#B6E880",
           "#FF97FF",
           "#FECB52"
          ],
          "font": {
           "color": "#2a3f5f"
          },
          "geo": {
           "bgcolor": "white",
           "lakecolor": "white",
           "landcolor": "#E5ECF6",
           "showlakes": true,
           "showland": true,
           "subunitcolor": "white"
          },
          "hoverlabel": {
           "align": "left"
          },
          "hovermode": "closest",
          "mapbox": {
           "style": "light"
          },
          "paper_bgcolor": "white",
          "plot_bgcolor": "#E5ECF6",
          "polar": {
           "angularaxis": {
            "gridcolor": "white",
            "linecolor": "white",
            "ticks": ""
           },
           "bgcolor": "#E5ECF6",
           "radialaxis": {
            "gridcolor": "white",
            "linecolor": "white",
            "ticks": ""
           }
          },
          "scene": {
           "xaxis": {
            "backgroundcolor": "#E5ECF6",
            "gridcolor": "white",
            "gridwidth": 2,
            "linecolor": "white",
            "showbackground": true,
            "ticks": "",
            "zerolinecolor": "white"
           },
           "yaxis": {
            "backgroundcolor": "#E5ECF6",
            "gridcolor": "white",
            "gridwidth": 2,
            "linecolor": "white",
            "showbackground": true,
            "ticks": "",
            "zerolinecolor": "white"
           },
           "zaxis": {
            "backgroundcolor": "#E5ECF6",
            "gridcolor": "white",
            "gridwidth": 2,
            "linecolor": "white",
            "showbackground": true,
            "ticks": "",
            "zerolinecolor": "white"
           }
          },
          "shapedefaults": {
           "line": {
            "color": "#2a3f5f"
           }
          },
          "ternary": {
           "aaxis": {
            "gridcolor": "white",
            "linecolor": "white",
            "ticks": ""
           },
           "baxis": {
            "gridcolor": "white",
            "linecolor": "white",
            "ticks": ""
           },
           "bgcolor": "#E5ECF6",
           "caxis": {
            "gridcolor": "white",
            "linecolor": "white",
            "ticks": ""
           }
          },
          "title": {
           "x": 0.05
          },
          "xaxis": {
           "automargin": true,
           "gridcolor": "white",
           "linecolor": "white",
           "ticks": "",
           "title": {
            "standoff": 15
           },
           "zerolinecolor": "white",
           "zerolinewidth": 2
          },
          "yaxis": {
           "automargin": true,
           "gridcolor": "white",
           "linecolor": "white",
           "ticks": "",
           "title": {
            "standoff": 15
           },
           "zerolinecolor": "white",
           "zerolinewidth": 2
          }
         }
        },
        "title": {
         "text": "ECDF of q_residual (Pareto vs Non-Pareto)"
        },
        "xaxis": {
         "anchor": "y",
         "domain": [
          0,
          1
         ],
         "title": {
          "text": "q_residual"
         }
        },
        "yaxis": {
         "anchor": "x",
         "domain": [
          0,
          1
         ],
         "rangemode": "tozero",
         "title": {
          "text": "F(x)"
         }
        }
       }
      }
     },
     "metadata": {},
     "output_type": "display_data"
    },
    {
     "data": {
      "application/vnd.plotly.v1+json": {
       "config": {
        "plotlyServerURL": "https://plot.ly"
       },
       "data": [
        {
         "customdata": [
          [
           "Husband_Occupation <= 1.5 AND Contraceptive_Method <= 1.5 AND Children <= 1.5 AND SOLI > 2.5",
           null,
           "cmc",
           0.0009990009990009,
           10.993360719513667,
           0.0833333333333333,
           0.0004528271828867,
           1
          ],
          [
           "Husband_Occupation > 1.5 AND Contraceptive_Method <= 1.5 AND SOLI > 2.5 AND Wife_Education > 3.5",
           null,
           "cmc",
           0.0059940059940059,
           3.4151570657333017,
           0.1,
           0.0018363047770289,
           1
          ],
          [
           "Husband_Occupation > 1.5 AND Contraceptive_Method > 1.5 AND SOLI > 2.5 AND Children > 3.5",
           null,
           "cmc",
           0.0019980019980019,
           3.189994652522251,
           0.1111111111111111,
           0.0036978637164829,
           1
          ],
          [
           "DIS <= 1.34",
           null,
           "housing",
           0.0009990009990009,
           8.053246424196972,
           0.25,
           0.1224564282529819,
           0
          ],
          [
           "model > 79.5 AND displacement > 212.5",
           null,
           "auto-mpg",
           0.0009990009990009,
           7.412952324951673,
           0.25,
           0.1224564282529819,
           0
          ],
          [
           "timbre_avg_6 > -8.76 AND timbre_avg_3 > 26.79 AND timbre_avg_2 <= -54.36 AND timbre_cov_7_10 <= -104.34",
           null,
           "msd",
           0.0009990009990009,
           95.25446104174016,
           0.0909090909090909,
           0.0009118819655545,
           0
          ],
          [
           "timbre_avg_6 > -8.76 AND timbre_avg_3 > 26.79 AND timbre_avg_2 > -54.36 AND timbre_cov_3_3 > 37.2",
           null,
           "msd",
           0.0009990009990009,
           79.93108245053519,
           0.125,
           0.0074465830709243,
           0
          ],
          [
           "temp > 25.05 AND temp <= 25.45",
           null,
           "forestfires",
           0.0009990009990009,
           8.550773488447913,
           0.2,
           0.0608100626252179,
           0
          ]
         ],
         "hovertemplate": "ParetoLabel=Pareto<br>language=L_tree<br>complexity=%{x}<br>q_residual=%{y}<br>size=%{marker.size}<br>rule=%{customdata[0]}<br>expr=%{customdata[1]}<br>dataset=%{customdata[2]}<br>p_value=%{customdata[3]}<br>q_perm=%{customdata[4]}<br>I_inv=%{customdata[5]}<br>I_exp=%{customdata[6]}<br>expressiveness=%{customdata[7]}<extra></extra>",
         "legendgroup": "Pareto",
         "marker": {
          "color": "#636efa",
          "size": {
           "bdata": "NwBBALUACgAGAI8bfnwGAA==",
           "dtype": "i2"
          },
          "sizemode": "area",
          "sizeref": 552.17,
          "symbol": "circle"
         },
         "mode": "markers",
         "name": "Pareto",
         "orientation": "v",
         "showlegend": true,
         "type": "scatter",
         "x": {
          "bdata": "AAAAAAAAJkAAAAAAAAAiQAAAAAAAACBAAAAAAAAACEAAAAAAAAAIQAAAAAAAACRAAAAAAAAAHEAAAAAAAAAQQA==",
          "dtype": "f8"
         },
         "xaxis": "x",
         "y": {
          "bdata": "bOK2xpn8JUALOSDePVILQM77l+obhQlAIRyFHUMbIED+5Wn53KYdQFMY9xZJ0FdAuwII6b78U0B2xpD7/hkhQA==",
          "dtype": "f8"
         },
         "yaxis": "y"
        },
        {
         "customdata": [
          [
           "Contraceptive_Method <= 1 AND Wife_Education > 3 AND Wife_religion > 0",
           null,
           "cmc",
           0.0009990009990009,
           10.55884743745345,
           0.1666666666666666,
           0.0301973834223185,
           1
          ],
          [
           "PTRATIO > 19.7 AND LSTAT <= 11.45 AND DIS <= 2.1",
           null,
           "housing",
           0.0009990009990009,
           14.821385216663389,
           0.1428571428571428,
           0.0149955768204777,
           1
          ],
          [
           "NOX > 0.507 AND LSTAT <= 10.11 AND RAD > 5",
           null,
           "housing",
           0.0009990009990009,
           12.902818768188368,
           0.1666666666666666,
           0.0301973834223185,
           1
          ],
          [
           "weight > 2155 AND model > 79 AND cylinders > 4",
           null,
           "auto-mpg",
           0.0009990009990009,
           7.697194268519074,
           0.2,
           0.0608100626252179,
           1
          ],
          [
           "timbre_avg_6 > -8.1 AND timbre_avg_3 > 16.18 AND timbre_cov_3_3 > 19.42",
           null,
           "msd",
           0.0009990009990009,
           119.56675051862752,
           0.1666666666666666,
           0.0301973834223185,
           1
          ],
          [
           "day > 6 AND month > 8 AND ISI > 8.56",
           null,
           "forestfires",
           0.0009990009990009,
           8.808614423812413,
           0.2,
           0.0608100626252179,
           1
          ]
         ],
         "hovertemplate": "ParetoLabel=Pareto<br>language=L_conj<br>complexity=%{x}<br>q_residual=%{y}<br>size=%{marker.size}<br>rule=%{customdata[0]}<br>expr=%{customdata[1]}<br>dataset=%{customdata[2]}<br>p_value=%{customdata[3]}<br>q_perm=%{customdata[4]}<br>I_inv=%{customdata[5]}<br>I_exp=%{customdata[6]}<br>expressiveness=%{customdata[7]}<extra></extra>",
         "legendgroup": "Pareto",
         "marker": {
          "color": "#636efa",
          "size": {
           "bdata": "hAAAAAgAAAALAAAADgAAAKQBAQAGAAAA",
           "dtype": "i4"
          },
          "sizemode": "area",
          "sizeref": 552.17,
          "symbol": "circle"
         },
         "mode": "markers",
         "name": "Pareto",
         "orientation": "v",
         "showlegend": false,
         "type": "scatter",
         "x": {
          "bdata": "AAAAAAAAFEAAAAAAAAAYQAAAAAAAABRAAAAAAAAAEEAAAAAAAAAUQAAAAAAAABBA",
          "dtype": "f8"
         },
         "xaxis": "x2",
         "y": {
          "bdata": "x6FWQCEeJUBp+WWajKQtQAgr90I+zilABf5YS+3JHkDCn/ejReRdQEeysrUCniFA",
          "dtype": "f8"
         },
         "yaxis": "y2"
        },
        {
         "customdata": [
          [
           "Children*Husband_Occupation <= 2 AND Contraceptive_Method*Husband_Occupation <= 1",
           null,
           "cmc",
           0.0009990009990009,
           9.353360875687542,
           0.1,
           0.0018363047770289,
           2
          ],
          [
           "Husband_Occupation <= 1 AND Contraceptive_Method <= 1",
           null,
           "cmc",
           0.0009990009990009,
           8.878672763952126,
           0.1428571428571428,
           0.0149955768204777,
           2
          ],
          [
           "Contraceptive_Method <= 1 AND Wife_Education > 3",
           null,
           "cmc",
           0.0009990009990009,
           8.752770310048032,
           0.2,
           0.0608100626252179,
           2
          ],
          [
           "DIS <= 1.951 AND LSTAT <= 13.66",
           null,
           "housing",
           0.0009990009990009,
           10.658807963367984,
           0.1666666666666666,
           0.0301973834223185,
           2
          ],
          [
           "CHAS > 0 AND TAX > 403",
           null,
           "housing",
           0.0009990009990009,
           8.300744393284562,
           0.25,
           0.1224564282529819,
           2
          ],
          [
           "horsepower*weight > 2.281e+05 AND model > 79",
           null,
           "auto-mpg",
           0.0009990009990009,
           5.819633911561566,
           0.1666666666666666,
           0.0301973834223185,
           2
          ],
          [
           "model > 80 AND cylinders > 4",
           null,
           "auto-mpg",
           0.0009990009990009,
           5.624558704454521,
           0.25,
           0.1224564282529819,
           2
          ],
          [
           "timbre_avg_3*timbre_cov_3_3 > 1758 AND timbre_avg_1*timbre_avg_6 > -409.9",
           null,
           "msd",
           0.0009990009990009,
           121.73917678179124,
           0.1428571428571428,
           0.0149955768204777,
           3
          ],
          [
           "timbre_avg_3*timbre_cov_3_3 > 1758 AND timbre_avg_6 > -9.93",
           null,
           "msd",
           0.0009990009990009,
           120.18703973864685,
           0.1666666666666666,
           0.0301973834223185,
           3
          ],
          [
           "timbre_avg_6 > 0.04687 AND timbre_avg_3*timbre_cov_3_3 > 988.5",
           null,
           "msd",
           0.0009990009990009,
           112.98888664973497,
           0.2,
           0.0608100626252179,
           2
          ],
          [
           "day > 6 AND temp > 24.1",
           null,
           "forestfires",
           0.0059940059940059,
           5.254725018167259,
           0.25,
           0.1224564282529819,
           2
          ]
         ],
         "hovertemplate": "ParetoLabel=Pareto<br>language=L_poly<br>complexity=%{x}<br>q_residual=%{y}<br>size=%{marker.size}<br>rule=%{customdata[0]}<br>expr=%{customdata[1]}<br>dataset=%{customdata[2]}<br>p_value=%{customdata[3]}<br>q_perm=%{customdata[4]}<br>I_inv=%{customdata[5]}<br>I_exp=%{customdata[6]}<br>expressiveness=%{customdata[7]}<extra></extra>",
         "legendgroup": "Pareto",
         "marker": {
          "color": "#636efa",
          "size": {
           "bdata": "XwAAAJ4AAACvAAAAFQAAAAgAAAAeAAAACwAAAJHxAACV8QAAC6EAABAAAAA=",
           "dtype": "i4"
          },
          "sizemode": "area",
          "sizeref": 552.17,
          "symbol": "circle"
         },
         "mode": "markers",
         "name": "Pareto",
         "orientation": "v",
         "showlegend": false,
         "type": "scatter",
         "x": {
          "bdata": "AAAAAAAAIkAAAAAAAAAYQAAAAAAAABBAAAAAAAAAFEAAAAAAAAAIQAAAAAAAABRAAAAAAAAACEAAAAAAAAAYQAAAAAAAABRAAAAAAAAAEEAAAAAAAAAIQA==",
          "dtype": "f8"
         },
         "xaxis": "x3",
         "y": {
          "bdata": "IId5t+u0IkDhHoJl4cEhQLYcLhxrgSFAvyGh7f+3JEChOUsr+5kgQN9lsxxORxdA10EoUYx/FkBQbhG5l25eQBcaYExyC15AkNUmioE/XEBrAZqi1gQVQA==",
          "dtype": "f8"
         },
         "yaxis": "y3"
        },
        {
         "customdata": [
          [
           "(Wife_Education - Contraceptive_Method) > 2",
           "(Wife_Education - Contraceptive_Method)",
           "cmc",
           0.0009990009990009,
           8.752770310048032,
           0.25,
           0.1224564282529819,
           7
          ],
          [
           "(Wife_Education / Contraceptive_Method) > 3",
           "(Wife_Education / Contraceptive_Method)",
           "cmc",
           0.0009990009990009,
           8.752770310048032,
           0.25,
           0.1224564282529819,
           7
          ],
          [
           "(CHAS + RAD) > 24",
           "(CHAS + RAD)",
           "housing",
           0.0009990009990009,
           8.300744393284562,
           0.25,
           0.1224564282529819,
           7
          ],
          [
           "(model + origin) > 80",
           "(model + origin)",
           "auto-mpg",
           0.0009990009990009,
           5.554578124824493,
           0.25,
           0.1224564282529819,
           7
          ],
          [
           "model > 79",
           "model",
           "auto-mpg",
           0.0009990009990009,
           5.4188941208191554,
           0.3333333333333333,
           0.2465969639416065,
           3
          ],
          [
           "(timbre_avg_6 + timbre_avg_3) > 33.77",
           "(timbre_avg_6 + timbre_avg_3)",
           "msd",
           0.0009990009990009,
           103.25460850535949,
           0.25,
           0.1224564282529819,
           9
          ],
          [
           "temp > 24.6",
           "temp",
           "forestfires",
           0.0009990009990009,
           3.8431160693548194,
           0.3333333333333333,
           0.2465969639416065,
           3
          ]
         ],
         "hovertemplate": "ParetoLabel=Pareto<br>language=L_symb<br>complexity=%{x}<br>q_residual=%{y}<br>size=%{marker.size}<br>rule=%{customdata[0]}<br>expr=%{customdata[1]}<br>dataset=%{customdata[2]}<br>p_value=%{customdata[3]}<br>q_perm=%{customdata[4]}<br>I_inv=%{customdata[5]}<br>I_exp=%{customdata[6]}<br>expressiveness=%{customdata[7]}<extra></extra>",
         "legendgroup": "Pareto",
         "marker": {
          "color": "#636efa",
          "size": {
           "bdata": "rwAAAK8AAAAIAAAAZwAAAFkAAACFHwEARwAAAA==",
           "dtype": "i4"
          },
          "sizemode": "area",
          "sizeref": 552.17,
          "symbol": "circle"
         },
         "mode": "markers",
         "name": "Pareto",
         "orientation": "v",
         "showlegend": false,
         "type": "scatter",
         "x": {
          "bdata": "AAAAAAAACEAAAAAAAAAIQAAAAAAAAAhAAAAAAAAACEAAAAAAAAAAQAAAAAAAAAhAAAAAAAAAAEA=",
          "dtype": "f8"
         },
         "xaxis": "x4",
         "y": {
          "bdata": "thwuHGuBIUC2HC4ca4EhQKE5Syv7mSBA9sr0U+M3FkCqnpWU8qwVQFvzeIFL0FlAXeNEo7O+DkA=",
          "dtype": "f8"
         },
         "yaxis": "y4"
        },
        {
         "customdata": [
          [
           "Husband_Occupation <= 1.5 AND Contraceptive_Method <= 1.5 AND Children > 1.5 AND Children <= 5.5",
           null,
           "cmc",
           0.0019980019980019,
           4.2100727723749785,
           0.0833333333333333,
           0.0004528271828867,
           1
          ],
          [
           "Husband_Occupation > 1.5 AND Contraceptive_Method > 1.5 AND SOLI <= 2.5 AND Husband_Education <= 3.5",
           null,
           "cmc",
           0.0009990009990009,
           3.3391795564051483,
           0.0714285714285714,
           0.0001116658084901,
           2
          ],
          [
           "Husband_Occupation > 1.5 AND Contraceptive_Method <= 1.5 AND SOLI <= 2.5 AND Children > 5.5",
           null,
           "cmc",
           0.0419580419580419,
           2.039997791615902,
           0.0909090909090909,
           0.0009118819655545,
           1
          ],
          [
           "Husband_Occupation > 1.5 AND Contraceptive_Method <= 1.5 AND SOLI <= 2.5 AND Children <= 5.5",
           null,
           "cmc",
           0.0289710289710289,
           2.0389839520777415,
           0.0833333333333333,
           0.0004528271828867,
           1
          ],
          [
           "Husband_Occupation <= 1.5 AND Contraceptive_Method > 1.5 AND Children <= 5.5 AND SOLI > 3.5",
           null,
           "cmc",
           0.0449550449550449,
           1.8662666783485855,
           0.0909090909090909,
           0.0009118819655545,
           1
          ],
          [
           "Husband_Occupation > 1.5 AND Contraceptive_Method > 1.5 AND SOLI <= 2.5 AND Husband_Education > 3.5",
           null,
           "cmc",
           0.0819180819180819,
           1.6054841808728082,
           0.0769230769230769,
           0.0002248673241788,
           2
          ],
          [
           "Husband_Occupation <= 1.5 AND Contraceptive_Method > 1.5 AND Children > 5.5 AND Children <= 6.5",
           null,
           "cmc",
           0.0779220779220779,
           1.5887025810769082,
           0.0909090909090909,
           0.0009118819655545,
           1
          ],
          [
           "Husband_Occupation > 1.5 AND Contraceptive_Method > 1.5 AND SOLI > 2.5 AND Children <= 3.5",
           null,
           "cmc",
           0.0689310689310689,
           1.5666803805796454,
           0.1,
           0.0018363047770289,
           1
          ],
          [
           "Husband_Occupation <= 1.5 AND Contraceptive_Method <= 1.5 AND Children > 1.5 AND Children > 5.5",
           null,
           "cmc",
           0.1168831168831168,
           1.3639752649267858,
           0.0909090909090909,
           0.0009118819655545,
           1
          ],
          [
           "Husband_Occupation <= 1.5 AND Contraceptive_Method > 1.5 AND Children > 5.5 AND Children > 6.5",
           null,
           "cmc",
           0.1348651348651348,
           1.3202727157339929,
           0.1,
           0.0018363047770289,
           1
          ],
          [
           "Husband_Occupation <= 1.5 AND Contraceptive_Method > 1.5 AND Children <= 5.5 AND SOLI <= 3.5",
           null,
           "cmc",
           0.1828171828171828,
           1.2230416815125549,
           0.0833333333333333,
           0.0004528271828867,
           1
          ],
          [
           "Husband_Occupation > 1.5 AND Contraceptive_Method <= 1.5 AND SOLI > 2.5 AND Wife_Education <= 3.5",
           null,
           "cmc",
           0.6103896103896104,
           0.4833913048912631,
           0.0909090909090909,
           0.0009118819655545,
           1
          ],
          [
           "Husband_Occupation <= 1.5 AND Contraceptive_Method <= 1.5 AND Children <= 1.5 AND SOLI <= 2.5",
           null,
           "cmc",
           0.7132867132867133,
           0.3825945228858481,
           0.0769230769230769,
           0.0002248673241788,
           1
          ],
          [
           "DIS > 1.34 AND RM > 8.28",
           null,
           "housing",
           0.0009990009990009,
           6.624008989524886,
           0.25,
           0.1224564282529819,
           0
          ],
          [
           "DIS > 1.34 AND RM <= 8.28 AND RM <= 6.77 AND DIS > 1.42",
           null,
           "housing",
           0.0009990009990009,
           2.903091825071507,
           0.125,
           0.0074465830709243,
           0
          ],
          [
           "DIS > 1.34 AND RM <= 8.28 AND RM > 6.77 AND INDUS > 6.66",
           null,
           "housing",
           0.0389610389610389,
           2.5318806502803173,
           0.1428571428571428,
           0.0149955768204777,
           0
          ],
          [
           "DIS > 1.34 AND RM <= 8.28 AND RM <= 6.77 AND DIS <= 1.42",
           null,
           "housing",
           0.0659340659340659,
           1.4328265572589542,
           0.1111111111111111,
           0.0036978637164829,
           0
          ],
          [
           "DIS > 1.34 AND RM <= 8.28 AND RM > 6.77 AND INDUS <= 6.66",
           null,
           "housing",
           0.98001998001998,
           0.0365886498218388,
           0.125,
           0.0074465830709243,
           0
          ],
          [
           "model > 79.5 AND displacement <= 212.5 AND acceleration <= 13.85",
           null,
           "auto-mpg",
           0.0009990009990009,
           7.027595478026122,
           0.1428571428571428,
           0.0149955768204777,
           0
          ],
          [
           "model > 79.5 AND displacement <= 212.5 AND acceleration > 13.85 AND displacement <= 99.0",
           null,
           "auto-mpg",
           0.0189810189810189,
           2.8765245406342568,
           0.125,
           0.0074465830709243,
           0
          ],
          [
           "model <= 79.5 AND displacement <= 90.5 AND model > 77.5",
           null,
           "auto-mpg",
           0.0569430569430569,
           2.5133549190053532,
           0.1428571428571428,
           0.0149955768204777,
           0
          ],
          [
           "model <= 79.5 AND displacement > 90.5 AND weight > 3199.0 AND weight > 4057.5",
           null,
           "auto-mpg",
           0.0109890109890109,
           2.430439094072469,
           0.1428571428571428,
           0.0149955768204777,
           0
          ],
          [
           "model <= 79.5 AND displacement > 90.5 AND weight > 3199.0 AND weight <= 4057.5",
           null,
           "auto-mpg",
           0.0139860139860139,
           2.2498677462991328,
           0.125,
           0.0074465830709243,
           0
          ],
          [
           "model <= 79.5 AND displacement > 90.5 AND weight <= 3199.0 AND acceleration > 13.35",
           null,
           "auto-mpg",
           0.0169830169830169,
           1.9847965803419452,
           0.125,
           0.0074465830709243,
           0
          ],
          [
           "model <= 79.5 AND displacement <= 90.5 AND model <= 77.5 AND weight > 2091.0",
           null,
           "auto-mpg",
           0.0509490509490509,
           1.809792498706984,
           0.1111111111111111,
           0.0036978637164829,
           0
          ],
          [
           "model > 79.5 AND displacement <= 212.5 AND acceleration > 13.85 AND displacement > 99.0",
           null,
           "auto-mpg",
           0.5994005994005994,
           0.4924752088240069,
           0.1428571428571428,
           0.0149955768204777,
           0
          ],
          [
           "model <= 79.5 AND displacement <= 90.5 AND model <= 77.5 AND weight <= 2091.0",
           null,
           "auto-mpg",
           0.7802197802197802,
           0.2925246275666324,
           0.1,
           0.0018363047770289,
           0
          ],
          [
           "model <= 79.5 AND displacement > 90.5 AND weight <= 3199.0 AND acceleration <= 13.35",
           null,
           "auto-mpg",
           0.8601398601398601,
           0.1779602686188372,
           0.1111111111111111,
           0.0036978637164829,
           0
          ],
          [
           "timbre_avg_6 <= -8.76 AND timbre_avg_1 > 42.61 AND timbre_avg_6 <= -15.95 AND timbre_avg_1 > 49.36",
           null,
           "msd",
           0.0009990009990009,
           62.40913010919302,
           0.1,
           0.0018363047770289,
           0
          ],
          [
           "timbre_avg_6 > -8.76 AND timbre_avg_3 <= 26.79 AND timbre_avg_1 <= 40.38 AND timbre_avg_3 > -16.76",
           null,
           "msd",
           0.0009990009990009,
           61.461724272074115,
           0.1,
           0.0018363047770289,
           0
          ],
          [
           "timbre_avg_6 <= -8.76 AND timbre_avg_1 > 42.61 AND timbre_avg_6 <= -15.95 AND timbre_avg_1 <= 49.36",
           null,
           "msd",
           0.0009990009990009,
           48.66404696333969,
           0.0909090909090909,
           0.0009118819655545,
           0
          ],
          [
           "timbre_avg_6 <= -8.76 AND timbre_avg_1 > 42.61 AND timbre_avg_6 > -15.95 AND timbre_cov_1_11 > 214.01",
           null,
           "msd",
           0.0009990009990009,
           37.79626675566546,
           0.1111111111111111,
           0.0036978637164829,
           0
          ],
          [
           "timbre_avg_6 > -8.76 AND timbre_avg_3 <= 26.79 AND timbre_avg_1 > 40.38 AND timbre_cov_1_8 > 683.75",
           null,
           "msd",
           0.0009990009990009,
           35.81896906328218,
           0.125,
           0.0074465830709243,
           0
          ],
          [
           "timbre_avg_6 > -8.76 AND timbre_avg_3 > 26.79 AND timbre_avg_2 <= -54.36 AND timbre_cov_7_10 > -104.34",
           null,
           "msd",
           0.0009990009990009,
           34.71076972283917,
           0.1,
           0.0018363047770289,
           0
          ],
          [
           "timbre_avg_6 <= -8.76 AND timbre_avg_1 <= 42.61 AND timbre_cov_7_10 <= -23.93 AND timbre_cov_6_10 > 15.76",
           null,
           "msd",
           0.0009990009990009,
           32.67486404861879,
           0.0909090909090909,
           0.0009118819655545,
           0
          ],
          [
           "timbre_avg_6 <= -8.76 AND timbre_avg_1 <= 42.61 AND timbre_cov_7_10 > -23.93 AND timbre_avg_3 <= -7.14",
           null,
           "msd",
           0.0009990009990009,
           22.677685576324695,
           0.0833333333333333,
           0.0004528271828867,
           0
          ],
          [
           "timbre_avg_6 > -8.76 AND timbre_avg_3 > 26.79 AND timbre_avg_2 > -54.36 AND timbre_cov_3_3 <= 37.2",
           null,
           "msd",
           0.0009990009990009,
           19.637596170666647,
           0.1111111111111111,
           0.0036978637164829,
           0
          ],
          [
           "timbre_avg_6 > -8.76 AND timbre_avg_3 <= 26.79 AND timbre_avg_1 > 40.38 AND timbre_cov_1_8 <= 683.75",
           null,
           "msd",
           0.0009990009990009,
           9.802957353991838,
           0.1111111111111111,
           0.0036978637164829,
           0
          ],
          [
           "timbre_avg_6 > -8.76 AND timbre_avg_3 <= 26.79 AND timbre_avg_1 <= 40.38 AND timbre_avg_3 <= -16.76",
           null,
           "msd",
           0.0009990009990009,
           8.952677596368572,
           0.0909090909090909,
           0.0009118819655545,
           0
          ],
          [
           "timbre_avg_6 <= -8.76 AND timbre_avg_1 <= 42.61 AND timbre_cov_7_10 <= -23.93 AND timbre_cov_6_10 <= 15.76",
           null,
           "msd",
           0.0009990009990009,
           5.786118383930954,
           0.0833333333333333,
           0.0004528271828867,
           0
          ],
          [
           "timbre_avg_6 <= -8.76 AND timbre_avg_1 > 42.61 AND timbre_avg_6 > -15.95 AND timbre_cov_1_11 <= 214.01",
           null,
           "msd",
           0.0009990009990009,
           5.281240775047254,
           0.1,
           0.0018363047770289,
           0
          ],
          [
           "timbre_avg_6 <= -8.76 AND timbre_avg_1 <= 42.61 AND timbre_cov_7_10 > -23.93 AND timbre_avg_3 > -7.14",
           null,
           "msd",
           0.0029970029970029,
           3.376949422433493,
           0.0909090909090909,
           0.0009118819655545,
           0
          ],
          [
           "temp > 25.05 AND temp > 25.45 AND DMC > 220.05",
           null,
           "forestfires",
           0.0099900099900099,
           5.386306016727943,
           0.2,
           0.0608100626252179,
           0
          ],
          [
           "temp <= 25.05 AND DMC <= 103.55 AND temp <= 24.15 AND ISI <= 11.05",
           null,
           "forestfires",
           0.0969030969030969,
           1.158716099409946,
           0.1,
           0.0018363047770289,
           0
          ],
          [
           "temp <= 25.05 AND DMC > 103.55 AND DC > 434.65 AND Y > 2.5",
           null,
           "forestfires",
           0.1848151848151848,
           1.010115358982159,
           0.1428571428571428,
           0.0149955768204777,
           0
          ],
          [
           "temp <= 25.05 AND DMC <= 103.55 AND temp <= 24.15 AND ISI > 11.05",
           null,
           "forestfires",
           0.4075924075924076,
           0.425473142517274,
           0.1111111111111111,
           0.0036978637164829,
           0
          ],
          [
           "temp > 25.05 AND temp > 25.45 AND DMC <= 220.05 AND DMC <= 186.25",
           null,
           "forestfires",
           0.8151848151848152,
           0.3287692197204859,
           0.125,
           0.0074465830709243,
           0
          ],
          [
           "temp > 25.05 AND temp > 25.45 AND DMC <= 220.05 AND DMC > 186.25",
           null,
           "forestfires",
           0.0619380619380619,
           0.308325728939624,
           0.1428571428571428,
           0.0149955768204777,
           0
          ],
          [
           "temp <= 25.05 AND DMC > 103.55 AND DC <= 434.65",
           null,
           "forestfires",
           0.0469530469530469,
           0.2498798564776359,
           0.1428571428571428,
           0.0149955768204777,
           0
          ],
          [
           "temp <= 25.05 AND DMC <= 103.55 AND temp > 24.15",
           null,
           "forestfires",
           0.8461538461538461,
           0.1336180696877834,
           0.1428571428571428,
           0.0149955768204777,
           0
          ],
          [
           "temp <= 25.05 AND DMC > 103.55 AND DC > 434.65 AND Y <= 2.5",
           null,
           "forestfires",
           0.9410589410589412,
           0.1176901808713955,
           0.125,
           0.0074465830709243,
           0
          ]
         ],
         "hovertemplate": "ParetoLabel=Non-Pareto<br>language=L_tree<br>complexity=%{x}<br>q_residual=%{y}<br>size=%{marker.size}<br>rule=%{customdata[0]}<br>expr=%{customdata[1]}<br>dataset=%{customdata[2]}<br>p_value=%{customdata[3]}<br>q_perm=%{customdata[4]}<br>I_inv=%{customdata[5]}<br>I_exp=%{customdata[6]}<br>expressiveness=%{customdata[7]}<extra></extra>",
         "legendgroup": "Non-Pareto",
         "marker": {
          "color": "#EF553B",
          "size": {
           "bdata": "TQAAAGMAAAAjAAAAkAAAAKkAAAAsAAAAEAAAAPIAAAASAAAAGAAAAEUAAADjAAAACAAAAAcAAACIAQAAEwAAAAcAAABHAAAACQAAABwAAAAHAAAAPQAAAFAAAACAAAAABgAAAC4AAAARAAAACgAAAD7XAAAucQAAXh0BALyfAADYlQAAShcAAFk/AAAAbQAACUEAAGbtAAAZaQAAqkgAAOuhAADmYwAABgAAAMIAAAC9AAAAHwAAAC4AAAAHAAAABgAAAAcAAAAZAAAA",
           "dtype": "i4"
          },
          "sizemode": "area",
          "sizeref": 552.17,
          "symbol": "circle"
         },
         "mode": "markers",
         "name": "Non-Pareto",
         "orientation": "v",
         "showlegend": true,
         "type": "scatter",
         "x": {
          "bdata": "AAAAAAAAJkAAAAAAAAAqQAAAAAAAACRAAAAAAAAAJkAAAAAAAAAkQAAAAAAAAChAAAAAAAAAJEAAAAAAAAAiQAAAAAAAACRAAAAAAAAAIkAAAAAAAAAmQAAAAAAAACRAAAAAAAAAKEAAAAAAAAAIQAAAAAAAABxAAAAAAAAAGEAAAAAAAAAgQAAAAAAAABxAAAAAAAAAGEAAAAAAAAAcQAAAAAAAABhAAAAAAAAAGEAAAAAAAAAcQAAAAAAAABxAAAAAAAAAIEAAAAAAAAAYQAAAAAAAACJAAAAAAAAAIEAAAAAAAAAiQAAAAAAAACJAAAAAAAAAJEAAAAAAAAAgQAAAAAAAABxAAAAAAAAAIkAAAAAAAAAkQAAAAAAAACZAAAAAAAAAIEAAAAAAAAAgQAAAAAAAACRAAAAAAAAAJkAAAAAAAAAiQAAAAAAAACRAAAAAAAAAEEAAAAAAAAAiQAAAAAAAABhAAAAAAAAAIEAAAAAAAAAcQAAAAAAAABhAAAAAAAAAGEAAAAAAAAAYQAAAAAAAABxA",
          "dtype": "f8"
         },
         "xaxis": "x",
         "y": {
          "bdata": "uIUcUR3XEEDu2nHFo7YKQF04t1zqUQBAHfF50dZPAECX8tFyOtz9P0WBMS4QsPk/3bzMZVNr+T+W/V1yHxH5P56dNrrX0vU/ww5+SNYf9T8/3HsnlJHzP3lwaxXi794/qRnbvG182D91rWk2/H4aQO5Zj20bhAdAarOpIXx3BEDuJA2H8WP6P9l4x1y/u6I/CI8u/UEcHEAPU2FMHwMHQCTz4tJZGwRAYbA/DYpxA0CkcDWpuv8BQCuAHA+6wf8/xOGn+uj0/D8zWv+8toTfP8sWKze5uNI/pUba7mbHxj8x+i+EqjhPQHk5/OE/wE5AFir3P/1XSECwPQNbqO9CQH8+SktO6UFAQKqk3dlcQUB/OrjVC1hAQIuWXmTqqTZAdgh1QbikM0DGZ2BpE5gjQK6ut3Vn3CFA5Hmx8482F0D7vsA28MwUQOgipblKNwtA0GDwzZOLFUDLB4XkGYryPzJAALluKfA/1AgctPM62z8UYagNjgrVPy3ok9abu9M/UBTAKRD8zz/SWbubZRrBP/Eo55XxIL4/",
          "dtype": "f8"
         },
         "yaxis": "y"
        },
        {
         "customdata": [
          [
           "Husband_Occupation <= 1 AND Contraceptive_Method <= 1 AND Children <= 1",
           null,
           "cmc",
           0.0009990009990009,
           10.135344678014418,
           0.1,
           0.0018363047770289,
           2
          ],
          [
           "Contraceptive_Method <= 1 AND Wife_Education > 2 AND Husband_Occupation <= 1",
           null,
           "cmc",
           0.0009990009990009,
           9.93806084165253,
           0.1111111111111111,
           0.0036978637164829,
           2
          ],
          [
           "Husband_Occupation <= 1 AND Children <= 5 AND Contraceptive_Method <= 1",
           null,
           "cmc",
           0.0009990009990009,
           9.921269435134285,
           0.1,
           0.0018363047770289,
           2
          ],
          [
           "Contraceptive_Method <= 1 AND SOLI > 2 AND Husband_Occupation <= 1",
           null,
           "cmc",
           0.0009990009990009,
           9.735055678692198,
           0.1111111111111111,
           0.0036978637164829,
           2
          ],
          [
           "Contraceptive_Method <= 1 AND Wife_Education > 3 AND Children > 0",
           null,
           "cmc",
           0.0009990009990009,
           9.674520067517449,
           0.1666666666666666,
           0.0301973834223185,
           1
          ],
          [
           "Contraceptive_Method <= 1 AND SOLI > 2 AND Wife_Education > 3",
           null,
           "cmc",
           0.0009990009990009,
           9.623643051286765,
           0.1666666666666666,
           0.0301973834223185,
           1
          ],
          [
           "Contraceptive_Method <= 1 AND Wife_Education > 3 AND Children <= 1",
           null,
           "cmc",
           0.0009990009990009,
           9.49994836779798,
           0.1428571428571428,
           0.0149955768204777,
           1
          ],
          [
           "Contraceptive_Method <= 1 AND Husband_Education > 3 AND Husband_Occupation <= 1",
           null,
           "cmc",
           0.0009990009990009,
           9.404558406897976,
           0.0909090909090909,
           0.0009118819655545,
           3
          ],
          [
           "Husband_Occupation <= 1 AND Contraceptive_Method <= 1 AND Children <= 2.2",
           null,
           "cmc",
           0.0009990009990009,
           9.353360875687542,
           0.1,
           0.0018363047770289,
           2
          ],
          [
           "Contraceptive_Method <= 1 AND Wife_Education > 2 AND SOLI > 2",
           null,
           "cmc",
           0.0009990009990009,
           9.349234723707111,
           0.1666666666666666,
           0.0301973834223185,
           1
          ],
          [
           "Husband_Occupation <= 1 AND Contraceptive_Method <= 1 AND Children <= 4",
           null,
           "cmc",
           0.0009990009990009,
           9.330560487074788,
           0.1,
           0.0018363047770289,
           2
          ],
          [
           "Contraceptive_Method <= 1 AND Children <= 5 AND Wife_Education > 3",
           null,
           "cmc",
           0.0009990009990009,
           9.21473294094818,
           0.1428571428571428,
           0.0149955768204777,
           1
          ],
          [
           "Husband_Occupation <= 1 AND Contraceptive_Method <= 1 AND Wife_Education > 3",
           null,
           "cmc",
           0.0009990009990009,
           9.169141932988094,
           0.1111111111111111,
           0.0036978637164829,
           2
          ],
          [
           "Wife_Education > 3 AND Children <= 4 AND Contraceptive_Method <= 1",
           null,
           "cmc",
           0.0009990009990009,
           9.16675484425009,
           0.1428571428571428,
           0.0149955768204777,
           1
          ],
          [
           "Contraceptive_Method <= 1 AND Wife_Education > 3 AND SOLI > 3",
           null,
           "cmc",
           0.0009990009990009,
           9.11581261556555,
           0.1666666666666666,
           0.0301973834223185,
           1
          ],
          [
           "Husband_Occupation <= 1 AND Contraceptive_Method <= 1 AND Media_Exposure <= 0",
           null,
           "cmc",
           0.0009990009990009,
           9.11557215786377,
           0.1,
           0.0018363047770289,
           2
          ],
          [
           "Contraceptive_Method <= 1 AND Wife_Education > 3 AND Children <= 2",
           null,
           "cmc",
           0.0009990009990009,
           9.111999068273793,
           0.1428571428571428,
           0.0149955768204777,
           1
          ],
          [
           "Contraceptive_Method <= 1 AND Husband_Education > 2 AND Husband_Occupation <= 1",
           null,
           "cmc",
           0.0009990009990009,
           9.07634337583464,
           0.0909090909090909,
           0.0009118819655545,
           3
          ],
          [
           "Contraceptive_Method <= 1 AND Husband_Education > 3 AND Wife_Education > 3",
           null,
           "cmc",
           0.0009990009990009,
           9.001182579001426,
           0.125,
           0.0074465830709243,
           2
          ],
          [
           "Contraceptive_Method <= 1 AND Husband_Education > 2 AND Wife_Education > 3",
           null,
           "cmc",
           0.0009990009990009,
           8.931825426789596,
           0.125,
           0.0074465830709243,
           2
          ],
          [
           "Husband_Occupation <= 1 AND Contraceptive_Method <= 1",
           null,
           "cmc",
           0.0009990009990009,
           8.878672763952126,
           0.125,
           0.0074465830709243,
           2
          ],
          [
           "Contraceptive_Method <= 1 AND Wife_Education > 3 AND Wife_working > 0",
           null,
           "cmc",
           0.0009990009990009,
           8.875684194346334,
           0.1666666666666666,
           0.0301973834223185,
           1
          ],
          [
           "Contraceptive_Method <= 1 AND Wife_Education > 3 AND Media_Exposure <= 0",
           null,
           "cmc",
           0.0009990009990009,
           8.854840370644496,
           0.1428571428571428,
           0.0149955768204777,
           1
          ],
          [
           "Husband_Occupation <= 1 AND Contraceptive_Method <= 1 AND Wife_working > 0",
           null,
           "cmc",
           0.0009990009990009,
           8.826789372273675,
           0.1111111111111111,
           0.0036978637164829,
           2
          ],
          [
           "LSTAT <= 9.53 AND PTRATIO > 19.2 AND DIS <= 2.22",
           null,
           "housing",
           0.0009990009990009,
           13.653499891890718,
           0.1428571428571428,
           0.0149955768204777,
           1
          ],
          [
           "LSTAT <= 9.53 AND DIS <= 3.09 AND CRIM > 2.3",
           null,
           "housing",
           0.0009990009990009,
           13.542352749557306,
           0.1428571428571428,
           0.0149955768204777,
           1
          ],
          [
           "LSTAT <= 13.33 AND RAD > 7 AND DIS <= 1.93",
           null,
           "housing",
           0.0009990009990009,
           13.267806976441216,
           0.1428571428571428,
           0.0149955768204777,
           1
          ],
          [
           "DIS <= 1.951 AND LSTAT <= 13.66 AND CRIM > 1.5",
           null,
           "housing",
           0.0009990009990009,
           13.896076421259082,
           0.1428571428571428,
           0.0149955768204777,
           1
          ],
          [
           "LSTAT <= 9.53 AND B <= 383.2 AND RAD > 8",
           null,
           "housing",
           0.0009990009990009,
           13.147809115919529,
           0.1428571428571428,
           0.0149955768204777,
           1
          ],
          [
           "LSTAT <= 9.53 AND INDUS > 8.39 AND NOX > 0.63",
           null,
           "housing",
           0.0009990009990009,
           12.860689756498871,
           0.1666666666666666,
           0.0301973834223185,
           1
          ],
          [
           "LSTAT <= 9.53 AND AGE > 76.96 AND CRIM > 3.47",
           null,
           "housing",
           0.0009990009990009,
           12.854061345908308,
           0.1666666666666666,
           0.0301973834223185,
           1
          ],
          [
           "NOX > 0.507 AND LSTAT <= 10.11 AND TAX > 406.8",
           null,
           "housing",
           0.0009990009990009,
           12.794333764405696,
           0.1666666666666666,
           0.0301973834223185,
           1
          ],
          [
           "PTRATIO > 19.7 AND LSTAT <= 11.45 AND B <= 375.5",
           null,
           "housing",
           0.0009990009990009,
           12.000068333309889,
           0.1428571428571428,
           0.0149955768204777,
           1
          ],
          [
           "B <= 388 AND LSTAT <= 11.98 AND RAD > 8",
           null,
           "housing",
           0.0009990009990009,
           12.577117482350856,
           0.1428571428571428,
           0.0149955768204777,
           1
          ],
          [
           "DIS <= 2.64 AND LSTAT <= 11.65 AND RAD > 5",
           null,
           "housing",
           0.0009990009990009,
           12.573562278632876,
           0.1428571428571428,
           0.0149955768204777,
           1
          ],
          [
           "LSTAT <= 9.53 AND DIS <= 3.09 AND RAD > 5",
           null,
           "housing",
           0.0009990009990009,
           12.566533294662175,
           0.1428571428571428,
           0.0149955768204777,
           1
          ],
          [
           "INDUS > 7.38 AND LSTAT <= 10.45 AND DIS <= 1.96",
           null,
           "housing",
           0.0009990009990009,
           12.45382249771844,
           0.1428571428571428,
           0.0149955768204777,
           1
          ],
          [
           "LSTAT <= 9.53 AND CRIM > 0.37 AND RAD > 8",
           null,
           "housing",
           0.0009990009990009,
           12.363340375162384,
           0.1666666666666666,
           0.0301973834223185,
           1
          ],
          [
           "NOX > 0.507 AND LSTAT <= 10.11 AND CRIM > 2.19",
           null,
           "housing",
           0.0009990009990009,
           12.2866384254317,
           0.1666666666666666,
           0.0301973834223185,
           1
          ],
          [
           "LSTAT <= 9.53 AND NOX > 0.48 AND TAX > 403",
           null,
           "housing",
           0.0009990009990009,
           12.248409544974033,
           0.1666666666666666,
           0.0301973834223185,
           1
          ],
          [
           "LSTAT <= 9.53 AND PTRATIO > 19.2 AND B <= 378.7",
           null,
           "housing",
           0.0009990009990009,
           12.198442023329408,
           0.1428571428571428,
           0.0149955768204777,
           1
          ],
          [
           "DIS <= 1.951 AND RAD > 5 AND LSTAT <= 14.27",
           null,
           "housing",
           0.0009990009990009,
           13.264096567322689,
           0.1428571428571428,
           0.0149955768204777,
           1
          ],
          [
           "DIS <= 2.64 AND LSTAT <= 11.65 AND TAX > 403",
           null,
           "housing",
           0.0009990009990009,
           11.985665046938236,
           0.1428571428571428,
           0.0149955768204777,
           1
          ],
          [
           "PTRATIO > 19.7 AND LSTAT <= 11.45 AND NOX > 0.63",
           null,
           "housing",
           0.0009990009990009,
           11.945746623409557,
           0.1666666666666666,
           0.0301973834223185,
           1
          ],
          [
           "LSTAT <= 13.33 AND B <= 379.2 AND RAD > 8",
           null,
           "housing",
           0.0009990009990009,
           11.825785254625668,
           0.1428571428571428,
           0.0149955768204777,
           1
          ],
          [
           "DIS <= 1.951 AND LSTAT <= 13.66 AND INDUS <= 18.1",
           null,
           "housing",
           0.0009990009990009,
           12.257032212375067,
           0.125,
           0.0074465830709243,
           1
          ],
          [
           "PTRATIO > 19.7 AND LSTAT <= 14.81 AND DIS <= 1.95",
           null,
           "housing",
           0.0009990009990009,
           11.773329476134686,
           0.1428571428571428,
           0.0149955768204777,
           1
          ],
          [
           "horsepower > 72 AND model > 79 AND displacement > 163.2",
           null,
           "auto-mpg",
           0.0009990009990009,
           7.656568082218864,
           0.2,
           0.0608100626252179,
           1
          ],
          [
           "acceleration <= 17.76 AND model > 79 AND cylinders > 4",
           null,
           "auto-mpg",
           0.0009990009990009,
           7.53143935904883,
           0.1666666666666666,
           0.0301973834223185,
           1
          ],
          [
           "model > 80 AND cylinders > 4 AND displacement > 181",
           null,
           "auto-mpg",
           0.0019980019980019,
           7.402463230129194,
           0.2,
           0.0608100626252179,
           1
          ],
          [
           "horsepower > 72 AND model > 79 AND cylinders > 4",
           null,
           "auto-mpg",
           0.0009990009990009,
           7.37585016126673,
           0.2,
           0.0608100626252179,
           1
          ],
          [
           "cylinders > 4 AND model > 78 AND weight <= 3160",
           null,
           "auto-mpg",
           0.0009990009990009,
           6.990930210421178,
           0.1666666666666666,
           0.0301973834223185,
           1
          ],
          [
           "weight <= 3085 AND model > 78.8 AND cylinders > 4",
           null,
           "auto-mpg",
           0.0009990009990009,
           6.916052354123986,
           0.1666666666666666,
           0.0301973834223185,
           1
          ],
          [
           "acceleration <= 14.8 AND model > 79 AND horsepower > 96",
           null,
           "auto-mpg",
           0.0009990009990009,
           6.857756769063741,
           0.1666666666666666,
           0.0301973834223185,
           1
          ],
          [
           "acceleration <= 17.76 AND model > 79 AND displacement > 151",
           null,
           "auto-mpg",
           0.0009990009990009,
           6.751844606551215,
           0.1666666666666666,
           0.0301973834223185,
           1
          ],
          [
           "model > 80 AND cylinders > 4 AND acceleration > 13.8",
           null,
           "auto-mpg",
           0.0009990009990009,
           6.726824374678576,
           0.2,
           0.0608100626252179,
           1
          ],
          [
           "model > 80 AND weight > 2310 AND displacement > 173",
           null,
           "auto-mpg",
           0.0019980019980019,
           6.719483892469685,
           0.2,
           0.0608100626252179,
           1
          ],
          [
           "weight > 2581 AND model > 79 AND displacement > 151",
           null,
           "auto-mpg",
           0.0009990009990009,
           6.659703854976873,
           0.2,
           0.0608100626252179,
           1
          ],
          [
           "origin > 2 AND horsepower > 65 AND acceleration <= 14.2",
           null,
           "auto-mpg",
           0.0009990009990009,
           6.61875791331962,
           0.1666666666666666,
           0.0301973834223185,
           1
          ],
          [
           "acceleration <= 17.76 AND model > 79 AND weight > 2798",
           null,
           "auto-mpg",
           0.0009990009990009,
           6.600405526285469,
           0.1666666666666666,
           0.0301973834223185,
           1
          ],
          [
           "acceleration <= 13.5 AND displacement <= 173 AND origin > 2.4",
           null,
           "auto-mpg",
           0.0009990009990009,
           6.589480593837739,
           0.1428571428571428,
           0.0149955768204777,
           1
          ],
          [
           "cylinders > 4 AND model > 78 AND horsepower <= 88",
           null,
           "auto-mpg",
           0.0019980019980019,
           6.533315013082512,
           0.1666666666666666,
           0.0301973834223185,
           1
          ],
          [
           "origin <= 2 AND model > 79 AND cylinders > 4",
           null,
           "auto-mpg",
           0.0009990009990009,
           6.473558772786655,
           0.1666666666666666,
           0.0301973834223185,
           1
          ],
          [
           "acceleration <= 14.8 AND model > 79 AND origin > 1",
           null,
           "auto-mpg",
           0.0009990009990009,
           6.459063525051286,
           0.1666666666666666,
           0.0301973834223185,
           1
          ],
          [
           "model > 80 AND cylinders > 4 AND weight > 2945",
           null,
           "auto-mpg",
           0.0019980019980019,
           6.437972886350845,
           0.2,
           0.0608100626252179,
           1
          ],
          [
           "model > 80 AND cylinders > 4 AND acceleration > 15.8",
           null,
           "auto-mpg",
           0.0019980019980019,
           6.420947016611557,
           0.2,
           0.0608100626252179,
           1
          ],
          [
           "origin > 2 AND displacement <= 91 AND weight > 2058",
           null,
           "auto-mpg",
           0.0009990009990009,
           6.420720237895825,
           0.1666666666666666,
           0.0301973834223185,
           1
          ],
          [
           "weight > 2581 AND model > 79 AND displacement > 179.4",
           null,
           "auto-mpg",
           0.0009990009990009,
           6.388034511570356,
           0.2,
           0.0608100626252179,
           1
          ],
          [
           "model > 80 AND cylinders > 4 AND horsepower <= 112",
           null,
           "auto-mpg",
           0.0009990009990009,
           6.3247003012778915,
           0.1666666666666666,
           0.0301973834223185,
           1
          ],
          [
           "model > 77 AND acceleration <= 14.4 AND origin > 1",
           null,
           "auto-mpg",
           0.0009990009990009,
           6.30955134061634,
           0.1666666666666666,
           0.0301973834223185,
           1
          ],
          [
           "model > 77 AND origin > 2 AND acceleration <= 14.5",
           null,
           "auto-mpg",
           0.0009990009990009,
           6.303293445700084,
           0.1666666666666666,
           0.0301973834223185,
           1
          ],
          [
           "timbre_avg_6 > -8.1 AND timbre_cov_3_3 > 24.59 AND timbre_avg_3 > 15.08",
           null,
           "msd",
           0.0009990009990009,
           119.39633997988264,
           0.1666666666666666,
           0.0301973834223185,
           1
          ],
          [
           "timbre_avg_3 > 17.88 AND timbre_avg_6 > -8.77 AND timbre_cov_3_3 > 18.33",
           null,
           "msd",
           0.0009990009990009,
           119.13068683151096,
           0.1666666666666666,
           0.0301973834223185,
           1
          ],
          [
           "timbre_avg_3 > 2.662 AND timbre_avg_6 > -9.07 AND timbre_avg_1 <= 44.4",
           null,
           "msd",
           0.0009990009990009,
           118.57320962442948,
           0.1428571428571428,
           0.0149955768204777,
           1
          ],
          [
           "timbre_avg_3 > 2.662 AND timbre_avg_1 <= 44.28 AND timbre_avg_6 > -9.35",
           null,
           "msd",
           0.0009990009990009,
           118.43781686175204,
           0.1428571428571428,
           0.0149955768204777,
           1
          ],
          [
           "timbre_avg_6 > -8.1 AND timbre_avg_3 > -1.13 AND timbre_avg_1 <= 44.27",
           null,
           "msd",
           0.0009990009990009,
           118.32414620788066,
           0.125,
           0.0074465830709243,
           1
          ],
          [
           "timbre_avg_6 > -8.1 AND timbre_avg_3 > 16.18 AND timbre_avg_1 <= 46.76",
           null,
           "msd",
           0.0009990009990009,
           118.15632204202336,
           0.1428571428571428,
           0.0149955768204777,
           1
          ],
          [
           "timbre_avg_1 <= 45.68 AND timbre_avg_3 > 11.01 AND timbre_avg_6 > -9.64",
           null,
           "msd",
           0.0009990009990009,
           117.99640576780163,
           0.1428571428571428,
           0.0149955768204777,
           1
          ],
          [
           "timbre_cov_3_3 > 38.78 AND timbre_avg_6 > -5.45 AND timbre_avg_3 > 15.46",
           null,
           "msd",
           0.0009990009990009,
           117.6782896209115,
           0.1666666666666666,
           0.0301973834223185,
           1
          ],
          [
           "timbre_avg_6 > -8.1 AND timbre_avg_1 <= 43.48 AND timbre_avg_3 > -7.37",
           null,
           "msd",
           0.0009990009990009,
           117.6550660192399,
           0.125,
           0.0074465830709243,
           1
          ],
          [
           "timbre_avg_3 > 17.88 AND timbre_avg_6 > -8.77 AND timbre_avg_1 <= 46.85",
           null,
           "msd",
           0.0009990009990009,
           117.48988950418504,
           0.1428571428571428,
           0.0149955768204777,
           1
          ],
          [
           "timbre_avg_6 > -8.1 AND timbre_avg_3 > 16.18 AND timbre_cov_3_3 > 54.4",
           null,
           "msd",
           0.0009990009990009,
           116.72601686562464,
           0.1666666666666666,
           0.0301973834223185,
           1
          ],
          [
           "timbre_avg_3 > 17.88 AND timbre_avg_6 > -8.77 AND timbre_cov_3_3 > 53.21",
           null,
           "msd",
           0.0009990009990009,
           116.5478835853027,
           0.1666666666666666,
           0.0301973834223185,
           1
          ],
          [
           "timbre_avg_2 <= -3.592 AND timbre_avg_6 > -5.9 AND timbre_avg_3 > -0.61",
           null,
           "msd",
           0.0009990009990009,
           116.46015991739796,
           0.1111111111111111,
           0.0036978637164829,
           1
          ],
          [
           "timbre_avg_3 > 2.662 AND timbre_avg_6 > -9.07 AND timbre_avg_1 <= 46.97",
           null,
           "msd",
           0.0009990009990009,
           116.29602745031748,
           0.1428571428571428,
           0.0149955768204777,
           1
          ],
          [
           "timbre_avg_3 > 17.88 AND timbre_avg_1 <= 47.29 AND timbre_avg_6 > -10.18",
           null,
           "msd",
           0.0009990009990009,
           116.14840376156074,
           0.1428571428571428,
           0.0149955768204777,
           1
          ],
          [
           "timbre_avg_1 <= 42.73 AND timbre_avg_6 > -9.91 AND timbre_avg_3 > -8.27",
           null,
           "msd",
           0.0009990009990009,
           116.09773174239491,
           0.125,
           0.0074465830709243,
           1
          ],
          [
           "timbre_avg_3 > 2.662 AND timbre_avg_6 > -9.07 AND timbre_cov_3_3 > 18.98",
           null,
           "msd",
           0.0009990009990009,
           115.89889025947494,
           0.1666666666666666,
           0.0301973834223185,
           1
          ],
          [
           "timbre_avg_6 > -8.1 AND timbre_avg_3 > -1.13 AND timbre_avg_1 <= 46.81",
           null,
           "msd",
           0.0009990009990009,
           115.88357750081138,
           0.125,
           0.0074465830709243,
           1
          ],
          [
           "timbre_avg_6 > -8.1 AND timbre_avg_3 > -1.13 AND timbre_cov_3_3 > 20.68",
           null,
           "msd",
           0.0009990009990009,
           115.6457047476653,
           0.1428571428571428,
           0.0149955768204777,
           1
          ],
          [
           "timbre_cov_3_3 > 38.78 AND timbre_avg_6 > -5.45 AND timbre_avg_3 > -2.72",
           null,
           "msd",
           0.0009990009990009,
           115.6205948693468,
           0.1428571428571428,
           0.0149955768204777,
           1
          ],
          [
           "timbre_avg_6 > -8.1 AND timbre_avg_3 > 16.18 AND timbre_avg_2 <= 7.36",
           null,
           "msd",
           0.0009990009990009,
           115.59386439312031,
           0.1428571428571428,
           0.0149955768204777,
           1
          ],
          [
           "timbre_avg_1 <= 42.73 AND timbre_avg_3 > -10.64 AND timbre_avg_6 > -9.22",
           null,
           "msd",
           0.0009990009990009,
           115.59489706832252,
           0.125,
           0.0074465830709243,
           1
          ],
          [
           "timbre_avg_3 > 17.88 AND timbre_cov_3_3 > 57.29 AND timbre_avg_6 > -9.53",
           null,
           "msd",
           0.0009990009990009,
           115.39265345166942,
           0.1666666666666666,
           0.0301973834223185,
           1
          ],
          [
           "timbre_avg_1 <= 45.68 AND timbre_avg_6 > -4.52 AND timbre_avg_3 > 14.83",
           null,
           "msd",
           0.0009990009990009,
           115.31319496332894,
           0.1428571428571428,
           0.0149955768204777,
           1
          ],
          [
           "RH <= 30 AND day > 6.2 AND ISI > 8.4",
           null,
           "forestfires",
           0.0019980019980019,
           8.630190410479825,
           0.1666666666666666,
           0.0301973834223185,
           1
          ],
          [
           "RH <= 30 AND day > 6.2 AND Y > 4",
           null,
           "forestfires",
           0.0049950049950049,
           8.609892267356184,
           0.1666666666666666,
           0.0301973834223185,
           1
          ],
          [
           "day > 6 AND FFMC > 92.2 AND RH <= 29.6",
           null,
           "forestfires",
           0.0049950049950049,
           8.595786296052676,
           0.1666666666666666,
           0.0301973834223185,
           1
          ],
          [
           "day > 6 AND RH <= 27.6 AND ISI > 8.1",
           null,
           "forestfires",
           0.0049950049950049,
           8.56259962166288,
           0.1666666666666666,
           0.0301973834223185,
           1
          ],
          [
           "temp > 23.58 AND month > 8 AND DC <= 688",
           null,
           "forestfires",
           0.0029970029970029,
           8.539613679506898,
           0.1666666666666666,
           0.0301973834223185,
           1
          ],
          [
           "day > 6 AND RH <= 27.6 AND X > 4",
           null,
           "forestfires",
           0.0089910089910089,
           8.441348126947696,
           0.1666666666666666,
           0.0301973834223185,
           1
          ],
          [
           "day > 6 AND temp > 24.1 AND month > 8",
           null,
           "forestfires",
           0.0119880119880119,
           8.432882790986605,
           0.2,
           0.0608100626252179,
           1
          ],
          [
           "Y > 4 AND temp > 23.8 AND DC > 672.6",
           null,
           "forestfires",
           0.0009990009990009,
           8.422436102698946,
           0.2,
           0.0608100626252179,
           1
          ],
          [
           "RH <= 30 AND temp > 24.42 AND ISI <= 8.96",
           null,
           "forestfires",
           0.0009990009990009,
           8.421287847719508,
           0.1428571428571428,
           0.0149955768204777,
           1
          ],
          [
           "day > 6 AND Y > 4 AND RH <= 31.8",
           null,
           "forestfires",
           0.0029970029970029,
           8.188314553867954,
           0.1666666666666666,
           0.0301973834223185,
           1
          ],
          [
           "Y > 4 AND temp > 23.8 AND day > 5",
           null,
           "forestfires",
           0.0049950049950049,
           8.136733924005858,
           0.2,
           0.0608100626252179,
           1
          ],
          [
           "Y > 4 AND DC > 672.6 AND temp > 23.62",
           null,
           "forestfires",
           0.0009990009990009,
           8.134156973243705,
           0.2,
           0.0608100626252179,
           1
          ],
          [
           "day > 6 AND Y > 4 AND temp > 23.64",
           null,
           "forestfires",
           0.0039960039960039,
           8.074393364945395,
           0.2,
           0.0608100626252179,
           1
          ],
          [
           "Y > 4 AND temp > 23.8 AND day > 4",
           null,
           "forestfires",
           0.0009990009990009,
           8.071441268207264,
           0.2,
           0.0608100626252179,
           1
          ],
          [
           "X > 4 AND temp > 23.7 AND RH <= 27",
           null,
           "forestfires",
           0.0009990009990009,
           8.012172312778677,
           0.1666666666666666,
           0.0301973834223185,
           1
          ],
          [
           "day > 6 AND ISI > 8.4 AND RH <= 31.4",
           null,
           "forestfires",
           0.0019980019980019,
           7.961742705040867,
           0.1666666666666666,
           0.0301973834223185,
           1
          ],
          [
           "RH <= 30 AND day > 6.2 AND FFMC > 92.2",
           null,
           "forestfires",
           0.0039960039960039,
           7.958642733271974,
           0.1666666666666666,
           0.0301973834223185,
           1
          ],
          [
           "day > 6 AND temp > 24.1 AND ISI > 8.4",
           null,
           "forestfires",
           0.0009990009990009,
           7.937874919720196,
           0.2,
           0.0608100626252179,
           1
          ],
          [
           "day > 6 AND DMC > 109.6 AND RH <= 29.6",
           null,
           "forestfires",
           0.0049950049950049,
           7.925622383810872,
           0.1666666666666666,
           0.0301973834223185,
           1
          ],
          [
           "temp > 23.58 AND Y > 4 AND DC > 672.6",
           null,
           "forestfires",
           0.0009990009990009,
           7.871380906400916,
           0.2,
           0.0608100626252179,
           1
          ],
          [
           "RH <= 30 AND X > 5 AND temp > 24.98",
           null,
           "forestfires",
           0.0009990009990009,
           7.854623244870042,
           0.1666666666666666,
           0.0301973834223185,
           1
          ],
          [
           "RH <= 30 AND X > 5 AND day > 6",
           null,
           "forestfires",
           0.0009990009990009,
           7.815684391669225,
           0.1666666666666666,
           0.0301973834223185,
           1
          ],
          [
           "RH <= 30 AND X > 5 AND DMC > 117.6",
           null,
           "forestfires",
           0.0009990009990009,
           7.803452425213819,
           0.1666666666666666,
           0.0301973834223185,
           1
          ],
          [
           "Y > 4 AND RH <= 28 AND temp > 24.78",
           null,
           "forestfires",
           0.0009990009990009,
           7.790672756483062,
           0.1666666666666666,
           0.0301973834223185,
           1
          ]
         ],
         "hovertemplate": "ParetoLabel=Non-Pareto<br>language=L_conj<br>complexity=%{x}<br>q_residual=%{y}<br>size=%{marker.size}<br>rule=%{customdata[0]}<br>expr=%{customdata[1]}<br>dataset=%{customdata[2]}<br>p_value=%{customdata[3]}<br>q_perm=%{customdata[4]}<br>I_inv=%{customdata[5]}<br>I_exp=%{customdata[6]}<br>expressiveness=%{customdata[7]}<extra></extra>",
         "legendgroup": "Non-Pareto",
         "marker": {
          "color": "#EF553B",
          "size": {
           "bdata": "PwAAAIIAAACMAAAAjAAAAIsAAACfAAAAWQAAAI8AAABfAAAAFwEAAIEAAACnAAAAZAAAAJsAAABtAAAAlwAAAHkAAACZAAAAqAAAAKwAAACeAAAAdAAAAK0AAAB1AAAACAAAAAgAAAAKAAAADAAAAAcAAAAJAAAACQAAAAwAAAAJAAAACgAAAAsAAAAKAAAADAAAAAoAAAAMAAAACwAAAAgAAAAOAAAADAAAAAoAAAAMAAAADwAAAA8AAAALAAAACgAAAAYAAAANAAAADQAAAAwAAAAIAAAADAAAAAgAAAAHAAAADgAAAA0AAAANAAAACAAAAAcAAAALAAAADAAAAAYAAAAGAAAABwAAAAgAAAAJAAAACwAAAAoAAACuAQEAuAEBAPkhAQDBIQEA3yEBAJ0BAQDxIQEANsEAANchAQCdAQEAQMEAAEfBAABCwQAAf4IBAOghAQDlIQEAooIBAJyCAQCLggEAzCEBADvBAADQIQEAS8EAAFjBAAAGAAAABgAAAAYAAAAGAAAABgAAAAYAAAAGAAAADwAAAAkAAAAHAAAABwAAABAAAAAHAAAADAAAABAAAAAHAAAABwAAAAcAAAAHAAAAEQAAABEAAAAHAAAAEQAAABEAAAA=",
           "dtype": "i4"
          },
          "sizemode": "area",
          "sizeref": 552.17,
          "symbol": "circle"
         },
         "mode": "markers",
         "name": "Non-Pareto",
         "orientation": "v",
         "showlegend": false,
         "type": "scatter",
         "x": {
          "bdata": "AAAAAAAAIkAAAAAAAAAgQAAAAAAAACJAAAAAAAAAIEAAAAAAAAAUQAAAAAAAABRAAAAAAAAAGEAAAAAAAAAkQAAAAAAAACJAAAAAAAAAFEAAAAAAAAAiQAAAAAAAABhAAAAAAAAAIEAAAAAAAAAYQAAAAAAAABRAAAAAAAAAIkAAAAAAAAAYQAAAAAAAACRAAAAAAAAAHEAAAAAAAAAcQAAAAAAAABxAAAAAAAAAFEAAAAAAAAAYQAAAAAAAACBAAAAAAAAAGEAAAAAAAAAYQAAAAAAAABhAAAAAAAAAGEAAAAAAAAAYQAAAAAAAABRAAAAAAAAAFEAAAAAAAAAUQAAAAAAAABhAAAAAAAAAGEAAAAAAAAAYQAAAAAAAABhAAAAAAAAAGEAAAAAAAAAUQAAAAAAAABRAAAAAAAAAFEAAAAAAAAAYQAAAAAAAABhAAAAAAAAAGEAAAAAAAAAUQAAAAAAAABhAAAAAAAAAHEAAAAAAAAAYQAAAAAAAABBAAAAAAAAAFEAAAAAAAAAQQAAAAAAAABBAAAAAAAAAFEAAAAAAAAAUQAAAAAAAABRAAAAAAAAAFEAAAAAAAAAQQAAAAAAAABBAAAAAAAAAEEAAAAAAAAAUQAAAAAAAABRAAAAAAAAAGEAAAAAAAAAUQAAAAAAAABRAAAAAAAAAFEAAAAAAAAAQQAAAAAAAABBAAAAAAAAAFEAAAAAAAAAQQAAAAAAAABRAAAAAAAAAFEAAAAAAAAAUQAAAAAAAABRAAAAAAAAAFEAAAAAAAAAYQAAAAAAAABhAAAAAAAAAHEAAAAAAAAAYQAAAAAAAABhAAAAAAAAAFEAAAAAAAAAcQAAAAAAAABhAAAAAAAAAFEAAAAAAAAAUQAAAAAAAACBAAAAAAAAAGEAAAAAAAAAYQAAAAAAAABxAAAAAAAAAFEAAAAAAAAAcQAAAAAAAABhAAAAAAAAAGEAAAAAAAAAYQAAAAAAAABxAAAAAAAAAFEAAAAAAAAAYQAAAAAAAABRAAAAAAAAAFEAAAAAAAAAUQAAAAAAAABRAAAAAAAAAFEAAAAAAAAAUQAAAAAAAABBAAAAAAAAAEEAAAAAAAAAYQAAAAAAAABRAAAAAAAAAEEAAAAAAAAAQQAAAAAAAABBAAAAAAAAAEEAAAAAAAAAUQAAAAAAAABRAAAAAAAAAFEAAAAAAAAAQQAAAAAAAABRAAAAAAAAAEEAAAAAAAAAUQAAAAAAAABRAAAAAAAAAFEAAAAAAAAAUQA==",
          "dtype": "f8"
         },
         "xaxis": "x2",
         "y": {
          "bdata": "54TL5UtFJECYHLmCSeAjQIxpnaCw1yNAtHHJN1l4I0Bg97yxWlkjQAFPWyROPyNABsOCO/n/IkC45Y1HIs8iQCCHebfrtCJAN+bJ5M6yIkAOrGI5P6kiQB9+3XnxbSJA1iF9xZlWIkDmARXkYFUiQPOiiMpLOyJAwrQcRiw7IkA61h7xVzkiQLjznHoWJyJAqkXEAJsAIkD9SOs4GN0hQOEegmXhwSFA6K7ArVnAIUDwbxajrbUhQA0xxe9QpyFAaDiviZdOK0AWfXRCrxUrQE3p+v4diSpAXBq3yhF/KkCg2e2irUsqQGhU6FOsuClAaehah0e1KUBKdkjqspYpQGhuJbTvbylAJ0tR8XsnKUAX5Xn0qSUpQJ5W6aYQIilAi8cjbFvoKEASR+m/B7ooQB4DjkXCkihA/VoviS9/KEAptGAxmmUoQDdtiHCTSChA79HKFqn4J0BlscPmOOQnQMZFLFPNpidAm9T/VQaVJ0AFEFLX8YsnQOvoImJToB5ADrCrozEgHkBZ/SxSH5wdQAVZW93egB1AaoK5aLb2G0Cai9mgCaobQKA0XMpXbhtA7j5zjeMBG0B1uBymROgaQNOfsGLA4BpA5a5IaImjGkBZZaesm3kaQF7vzrTQZhpAlaMAzaBbGkDtnq5UHSIaQAppR5fs5BlA6YarvxTWGUB8pd32e8AZQBnIFrwMrxlAlBw6SdGuGUDzp0PrWI0ZQKb1Wzx+TBlAQ4XRBvs8GUD3fZmOkjYZQF7sXKJd2V1AFgi1TOvIXUBVq2t3r6RdQDG3AzEFnF1AEn68z76UXUCYiCouAYpdQJveGFjifV1Ai/PbgENrXUDNVgaa7GldQBqmDD/dX11A8oxxD3cuXUA+Yy/L1CNdQOAJlUJzHV1APXUeHfISXUA/RcVH9AldQO+zf9KjBF1A0sgCa4f5XEDYXaWIjPhcQAuGATpT6VxA2sr3RpznXEB7rczfAeZcQGfqUApb5FxAEZPVV+TZXECB55XZEdFcQP+GRlGoQiFAlsGczEM4IUAG58HmCjEhQG6Rvw4NICFAp+mDPkgUIUBNyLZh+OEgQM2TLNCi3SBAvHt7i0nYIECmUHAKs9cgQIhy5MNqYCBAw7cn/QFGIEBgOQk5sEQgQLH1GuMWJiBA5xEt85MkIEAqmgpzOwYgQLVEZRTT2B9AAs7PcKbVH0Bav29IYsAfQCynq1rWsx9AMWe9Rkt8H0AReRxbImsfQNNO6MRCQx9Ar72IO7w2H0BQu3sepikfQA==",
          "dtype": "f8"
         },
         "yaxis": "y2"
        },
        {
         "customdata": [
          [
           "Husband_Occupation <= 1 AND Contraceptive_Method*Husband_Education <= 4",
           null,
           "cmc",
           0.0009990009990009,
           8.819180467572426,
           0.1111111111111111,
           0.0036978637164829,
           2
          ],
          [
           "Wife_Education > 3 AND Contraceptive_Method*Husband_Education <= 4",
           null,
           "cmc",
           0.0009990009990009,
           8.64623395495096,
           0.1428571428571428,
           0.0149955768204777,
           2
          ],
          [
           "Husband_Occupation <= 1 AND Contraceptive_Method*SOLI <= 4",
           null,
           "cmc",
           0.0009990009990009,
           8.343723175029968,
           0.125,
           0.0074465830709243,
           2
          ],
          [
           "Wife_Education > 3 AND Contraceptive_Method*SOLI <= 4",
           null,
           "cmc",
           0.0009990009990009,
           7.996109537248805,
           0.1666666666666666,
           0.0301973834223185,
           2
          ],
          [
           "Contraceptive_Method <= 1 AND Husband_Education*SOLI > 8",
           null,
           "cmc",
           0.0009990009990009,
           7.988198326806984,
           0.1428571428571428,
           0.0149955768204777,
           2
          ],
          [
           "Contraceptive_Method*Husband_Occupation <= 2 AND Children*Husband_Occupation <= 1",
           null,
           "cmc",
           0.0009990009990009,
           7.629837560340422,
           0.1,
           0.0018363047770289,
           2
          ],
          [
           "Husband_Occupation <= 1 AND Children <= 1",
           null,
           "cmc",
           0.0009990009990009,
           7.42545113198068,
           0.1428571428571428,
           0.0149955768204777,
           2
          ],
          [
           "Contraceptive_Method <= 1 AND Husband_Education*SOLI > 12",
           null,
           "cmc",
           0.0009990009990009,
           7.418168393312231,
           0.1428571428571428,
           0.0149955768204777,
           2
          ],
          [
           "Husband_Occupation <= 1 AND Children*Husband_Education <= 4",
           null,
           "cmc",
           0.0009990009990009,
           7.26865283963093,
           0.1111111111111111,
           0.0036978637164829,
           2
          ],
          [
           "Contraceptive_Method <= 1 AND Wife_Education > 2",
           null,
           "cmc",
           0.0009990009990009,
           7.250650697496776,
           0.2,
           0.0608100626252179,
           2
          ],
          [
           "Contraceptive_Method <= 1 AND SOLI > 2",
           null,
           "cmc",
           0.0009990009990009,
           7.217053160278994,
           0.2,
           0.0608100626252179,
           2
          ],
          [
           "Contraceptive_Method*Husband_Education <= 4 AND Wife_Education > 2",
           null,
           "cmc",
           0.0009990009990009,
           7.096926968503321,
           0.1428571428571428,
           0.0149955768204777,
           2
          ],
          [
           "Children*Husband_Occupation <= 4 AND Wife_Education > 3",
           null,
           "cmc",
           0.0009990009990009,
           7.0102364135747175,
           0.1428571428571428,
           0.0149955768204777,
           2
          ],
          [
           "Husband_Occupation <= 1 AND Children <= 2",
           null,
           "cmc",
           0.0009990009990009,
           6.922021145750641,
           0.1428571428571428,
           0.0149955768204777,
           2
          ],
          [
           "Contraceptive_Method <= 1 AND SOLI > 3",
           null,
           "cmc",
           0.0009990009990009,
           6.911484090354968,
           0.2,
           0.0608100626252179,
           2
          ],
          [
           "Children*Husband_Occupation <= 4 AND Husband_Education*SOLI > 8",
           null,
           "cmc",
           0.0009990009990009,
           6.881809692349907,
           0.1111111111111111,
           0.0036978637164829,
           2
          ],
          [
           "Husband_Occupation <= 1 AND Children*Husband_Education <= 8",
           null,
           "cmc",
           0.0009990009990009,
           6.876260168251294,
           0.1111111111111111,
           0.0036978637164829,
           2
          ],
          [
           "Contraceptive_Method <= 1 AND Husband_Education > 3",
           null,
           "cmc",
           0.0009990009990009,
           6.8750253976290585,
           0.1666666666666666,
           0.0301973834223185,
           2
          ],
          [
           "Husband_Education*SOLI > 6 AND Contraceptive_Method <= 1",
           null,
           "cmc",
           0.0009990009990009,
           6.849669586856689,
           0.1428571428571428,
           0.0149955768204777,
           2
          ],
          [
           "Contraceptive_Method*Husband_Education <= 4 AND SOLI > 2",
           null,
           "cmc",
           0.0009990009990009,
           6.844555237825002,
           0.1428571428571428,
           0.0149955768204777,
           2
          ],
          [
           "Contraceptive_Method <= 1 AND Husband_Education*Husband_Occupation <= 4",
           null,
           "cmc",
           0.0009990009990009,
           6.786726650759187,
           0.1111111111111111,
           0.0036978637164829,
           2
          ],
          [
           "Wife_Education > 3 AND Children*Husband_Occupation <= 3",
           null,
           "cmc",
           0.0009990009990009,
           6.786068180627693,
           0.1428571428571428,
           0.0149955768204777,
           2
          ],
          [
           "NOX*RAD > 14.74 AND LSTAT <= 14.15",
           null,
           "housing",
           0.0009990009990009,
           8.999755519802562,
           0.1666666666666666,
           0.0301973834223185,
           2
          ],
          [
           "RM > 6.75 AND RAD > 8",
           null,
           "housing",
           0.0009990009990009,
           8.150441814334897,
           0.25,
           0.1224564282529819,
           2
          ],
          [
           "LSTAT <= 9.53 AND DIS <= 3.09",
           null,
           "housing",
           0.0009990009990009,
           7.693846853549796,
           0.1666666666666666,
           0.0301973834223185,
           2
          ],
          [
           "NOX*PTRATIO > 13.23 AND CHAS > 0",
           null,
           "housing",
           0.0009990009990009,
           7.669915116645891,
           0.2,
           0.0608100626252179,
           2
          ],
          [
           "DIS <= 2.64 AND LSTAT <= 11.65",
           null,
           "housing",
           0.0009990009990009,
           7.748447115429525,
           0.1666666666666666,
           0.0301973834223185,
           2
          ],
          [
           "DIS <= 1.951 AND CHAS > 0",
           null,
           "housing",
           0.0009990009990009,
           7.551205018550094,
           0.2,
           0.0608100626252179,
           2
          ],
          [
           "DIS*NOX <= 1.277 AND LSTAT <= 12.16",
           null,
           "housing",
           0.0009990009990009,
           7.433775687509045,
           0.1428571428571428,
           0.0149955768204777,
           2
          ],
          [
           "CHAS > 0 AND B <= 359.1",
           null,
           "housing",
           0.0009990009990009,
           7.3658092710390894,
           0.2,
           0.0608100626252179,
           2
          ],
          [
           "LSTAT <= 9.53 AND AGE*PTRATIO > 1335",
           null,
           "housing",
           0.0009990009990009,
           7.353897277300022,
           0.1666666666666666,
           0.0301973834223185,
           2
          ],
          [
           "AGE*DIS <= 146.8 AND DIS*NOX <= 1",
           null,
           "housing",
           0.0009990009990009,
           7.352559941708829,
           0.125,
           0.0074465830709243,
           2
          ],
          [
           "DIS*NOX <= 1.533 AND LSTAT <= 9.55",
           null,
           "housing",
           0.0009990009990009,
           7.3426310676184015,
           0.1428571428571428,
           0.0149955768204777,
           2
          ],
          [
           "RM > 6.75 AND AGE*PTRATIO > 1444",
           null,
           "housing",
           0.0009990009990009,
           7.2132477937957855,
           0.2,
           0.0608100626252179,
           2
          ],
          [
           "LSTAT <= 9.53 AND CRIM > 0.37",
           null,
           "housing",
           0.0009990009990009,
           7.191280976353879,
           0.2,
           0.0608100626252179,
           2
          ],
          [
           "LSTAT <= 9.53 AND AGE > 76.96",
           null,
           "housing",
           0.0009990009990009,
           7.188097094785533,
           0.2,
           0.0608100626252179,
           2
          ],
          [
           "AGE*PTRATIO > 1499 AND AGE*DIS <= 158.2",
           null,
           "housing",
           0.0009990009990009,
           7.159291283113782,
           0.1428571428571428,
           0.0149955768204777,
           2
          ],
          [
           "AGE*PTRATIO > 1499 AND LSTAT <= 12.7",
           null,
           "housing",
           0.0009990009990009,
           7.140833685245463,
           0.1666666666666666,
           0.0301973834223185,
           2
          ],
          [
           "RM > 6.75 AND B*INDUS > 2544",
           null,
           "housing",
           0.0009990009990009,
           6.653026016359266,
           0.2,
           0.0608100626252179,
           2
          ],
          [
           "LSTAT <= 6.29 AND AGE*PTRATIO > 1270",
           null,
           "housing",
           0.0009990009990009,
           7.068294678093064,
           0.1666666666666666,
           0.0301973834223185,
           2
          ],
          [
           "AGE*INDUS > 872.4 AND LSTAT <= 12.03",
           null,
           "housing",
           0.0009990009990009,
           7.036342554557699,
           0.1666666666666666,
           0.0301973834223185,
           2
          ],
          [
           "LSTAT <= 9.53 AND NOX > 0.52",
           null,
           "housing",
           0.0009990009990009,
           7.011353933739841,
           0.2,
           0.0608100626252179,
           2
          ],
          [
           "LSTAT <= 9.53 AND AGE*INDUS > 457.7",
           null,
           "housing",
           0.0009990009990009,
           7.0108038952470295,
           0.1666666666666666,
           0.0301973834223185,
           2
          ],
          [
           "DIS <= 1.951 AND LSTAT <= 17.89",
           null,
           "housing",
           0.0009990009990009,
           7.26318933580271,
           0.1666666666666666,
           0.0301973834223185,
           2
          ],
          [
           "DIS <= 1.951 AND DIS*NOX <= 0.95",
           null,
           "housing",
           0.0009990009990009,
           6.980335641671139,
           0.1428571428571428,
           0.0149955768204777,
           2
          ],
          [
           "acceleration <= 14.8 AND model > 79",
           null,
           "auto-mpg",
           0.0009990009990009,
           5.6034397640047535,
           0.2,
           0.0608100626252179,
           2
          ],
          [
           "model > 80 AND cylinders*horsepower > 393.6",
           null,
           "auto-mpg",
           0.0009990009990009,
           5.554706305863951,
           0.2,
           0.0608100626252179,
           2
          ],
          [
           "model > 77 AND model*origin > 81",
           null,
           "auto-mpg",
           0.0009990009990009,
           5.534919522798435,
           0.2,
           0.0608100626252179,
           2
          ],
          [
           "model > 77 AND model*origin > 79",
           null,
           "auto-mpg",
           0.0009990009990009,
           5.531952096196794,
           0.2,
           0.0608100626252179,
           2
          ],
          [
           "model > 77 AND model^2 > 6241",
           null,
           "auto-mpg",
           0.0009990009990009,
           5.4188941208191554,
           0.25,
           0.1224564282529819,
           3
          ],
          [
           "acceleration <= 13.5 AND origin > 1",
           null,
           "auto-mpg",
           0.0009990009990009,
           5.246785768656656,
           0.2,
           0.0608100626252179,
           2
          ],
          [
           "model > 77 AND displacement <= 97",
           null,
           "auto-mpg",
           0.0009990009990009,
           5.183405430523964,
           0.2,
           0.0608100626252179,
           2
          ],
          [
           "displacement*model <= 7469 AND model > 77",
           null,
           "auto-mpg",
           0.0019980019980019,
           5.173486060370231,
           0.1666666666666666,
           0.0301973834223185,
           2
          ],
          [
           "horsepower*model > 6699 AND model > 79",
           null,
           "auto-mpg",
           0.0009990009990009,
           5.143808397805656,
           0.2,
           0.0608100626252179,
           2
          ],
          [
           "acceleration*horsepower <= 1600 AND model > 78",
           null,
           "auto-mpg",
           0.0009990009990009,
           5.138796241798257,
           0.1666666666666666,
           0.0301973834223185,
           2
          ],
          [
           "model > 80 AND displacement > 151",
           null,
           "auto-mpg",
           0.0029970029970029,
           5.1095926348029845,
           0.25,
           0.1224564282529819,
           2
          ],
          [
           "acceleration <= 17.76 AND model > 79",
           null,
           "auto-mpg",
           0.0009990009990009,
           5.091889207112723,
           0.2,
           0.0608100626252179,
           2
          ],
          [
           "model > 77 AND model*origin > 158",
           null,
           "auto-mpg",
           0.0009990009990009,
           5.088050702301836,
           0.2,
           0.0608100626252179,
           2
          ],
          [
           "model > 77 AND displacement*model <= 7644",
           null,
           "auto-mpg",
           0.0019980019980019,
           4.965794444657174,
           0.1666666666666666,
           0.0301973834223185,
           2
          ],
          [
           "displacement <= 98 AND model > 78",
           null,
           "auto-mpg",
           0.0009990009990009,
           4.935625624230206,
           0.2,
           0.0608100626252179,
           2
          ],
          [
           "model > 77 AND acceleration*horsepower <= 1721",
           null,
           "auto-mpg",
           0.0009990009990009,
           4.9296090332163125,
           0.1666666666666666,
           0.0301973834223185,
           2
          ],
          [
           "horsepower*origin > 90 AND model > 79",
           null,
           "auto-mpg",
           0.0009990009990009,
           4.903163559022473,
           0.2,
           0.0608100626252179,
           2
          ],
          [
           "weight <= 3085 AND model > 78.8",
           null,
           "auto-mpg",
           0.0009990009990009,
           4.898862461547506,
           0.2,
           0.0608100626252179,
           2
          ],
          [
           "model > 80 AND displacement*horsepower > 1.414e+04",
           null,
           "auto-mpg",
           0.0019980019980019,
           4.878146405073875,
           0.1666666666666666,
           0.0301973834223185,
           2
          ],
          [
           "model > 77 AND origin > 1",
           null,
           "auto-mpg",
           0.0009990009990009,
           4.866372026798783,
           0.25,
           0.1224564282529819,
           2
          ],
          [
           "acceleration <= 14.8 AND origin > 2",
           null,
           "auto-mpg",
           0.0009990009990009,
           4.847609337759858,
           0.2,
           0.0608100626252179,
           2
          ],
          [
           "model > 75 AND model*origin > 80",
           null,
           "auto-mpg",
           0.0009990009990009,
           4.8147995749061705,
           0.2,
           0.0608100626252179,
           2
          ],
          [
           "origin > 2 AND acceleration <= 14.5",
           null,
           "auto-mpg",
           0.0009990009990009,
           4.809475576714561,
           0.2,
           0.0608100626252179,
           2
          ],
          [
           "timbre_avg_1*timbre_avg_6 > -339.6 AND timbre_avg_3*timbre_cov_3_3 > 704.6",
           null,
           "msd",
           0.0009990009990009,
           119.75025631118096,
           0.1428571428571428,
           0.0149955768204777,
           3
          ],
          [
           "timbre_avg_3*timbre_cov_3_3 > 1758 AND timbre_avg_1*timbre_avg_6 > -129.1",
           null,
           "msd",
           0.0009990009990009,
           119.32154979568352,
           0.1428571428571428,
           0.0149955768204777,
           3
          ],
          [
           "timbre_avg_3*timbre_cov_3_3 > 1758 AND timbre_avg_6 > -3.18",
           null,
           "msd",
           0.0009990009990009,
           119.04293883648484,
           0.1666666666666666,
           0.0301973834223185,
           3
          ],
          [
           "timbre_avg_6 > -8.1 AND timbre_avg_3*timbre_cov_3_3 > 712",
           null,
           "msd",
           0.0009990009990009,
           117.712784149191,
           0.1666666666666666,
           0.0301973834223185,
           3
          ],
          [
           "timbre_avg_3*timbre_cov_3_3 > 1758 AND timbre_avg_6*timbre_cov_1_12 > -899.6",
           null,
           "msd",
           0.0009990009990009,
           117.70964500530503,
           0.1428571428571428,
           0.0149955768204777,
           4
          ],
          [
           "timbre_avg_1*timbre_avg_6 > -339.6 AND timbre_avg_3*timbre_cov_3_3 > 2766",
           null,
           "msd",
           0.0009990009990009,
           117.26079397326626,
           0.1428571428571428,
           0.0149955768204777,
           3
          ],
          [
           "timbre_avg_6 > -8.1 AND timbre_avg_3*timbre_cov_3_3 > 2701",
           null,
           "msd",
           0.0009990009990009,
           117.17403159254054,
           0.1666666666666666,
           0.0301973834223185,
           3
          ],
          [
           "timbre_avg_3*timbre_cov_3_3 > 437.5 AND timbre_avg_1*timbre_avg_6 > -275.8",
           null,
           "msd",
           0.0009990009990009,
           116.82443794225128,
           0.1428571428571428,
           0.0149955768204777,
           3
          ],
          [
           "timbre_avg_1*timbre_avg_6 > -609.1 AND timbre_avg_3*timbre_cov_3_3 > 2360",
           null,
           "msd",
           0.0009990009990009,
           115.64282601956626,
           0.1428571428571428,
           0.0149955768204777,
           3
          ],
          [
           "timbre_avg_3*timbre_cov_3_3 > 437.5 AND timbre_avg_6 > -6.54",
           null,
           "msd",
           0.0009990009990009,
           115.0404589642724,
           0.1666666666666666,
           0.0301973834223185,
           3
          ],
          [
           "timbre_avg_6 > -14.06 AND timbre_avg_3*timbre_cov_3_3 > 2290",
           null,
           "msd",
           0.0009990009990009,
           114.7592650490506,
           0.1666666666666666,
           0.0301973834223185,
           3
          ],
          [
           "timbre_avg_1*timbre_avg_6 > -339.6 AND timbre_avg_3*timbre_cov_1_12 > 4299",
           null,
           "msd",
           0.0009990009990009,
           114.7201224488292,
           0.1428571428571428,
           0.0149955768204777,
           4
          ],
          [
           "timbre_avg_3*timbre_cov_1_12 > 4012 AND timbre_avg_1*timbre_avg_6 > -322.3",
           null,
           "msd",
           0.0009990009990009,
           114.24281393783522,
           0.1428571428571428,
           0.0149955768204777,
           4
          ],
          [
           "timbre_avg_3*timbre_cov_3_3 > 1758 AND timbre_avg_1*timbre_avg_6 > -696.1",
           null,
           "msd",
           0.0009990009990009,
           113.85612654459749,
           0.1428571428571428,
           0.0149955768204777,
           3
          ],
          [
           "timbre_avg_1*timbre_avg_6 > -339.6 AND timbre_avg_3 > 15.55",
           null,
           "msd",
           0.0009990009990009,
           113.32884810602371,
           0.1666666666666666,
           0.0301973834223185,
           3
          ],
          [
           "timbre_avg_6*timbre_cov_1_12 > 13.29 AND timbre_avg_3*timbre_cov_3_3 > 989.2",
           null,
           "msd",
           0.0009990009990009,
           113.045529209498,
           0.1666666666666666,
           0.0301973834223185,
           3
          ],
          [
           "timbre_avg_1*timbre_avg_6 > 1.895 AND timbre_avg_3*timbre_cov_3_3 > 988.4",
           null,
           "msd",
           0.0009990009990009,
           112.98155167127987,
           0.1666666666666666,
           0.0301973834223185,
           2
          ],
          [
           "timbre_avg_3 > 17.88 AND timbre_avg_1*timbre_avg_6 > -380.1",
           null,
           "msd",
           0.0009990009990009,
           112.89334721913686,
           0.1666666666666666,
           0.0301973834223185,
           3
          ],
          [
           "timbre_avg_6*timbre_cov_1_12 > -1936 AND timbre_avg_3*timbre_cov_3_3 > 2499",
           null,
           "msd",
           0.0009990009990009,
           112.85022274018162,
           0.1428571428571428,
           0.0149955768204777,
           4
          ],
          [
           "timbre_avg_6 > -8.1 AND timbre_avg_3*timbre_cov_1_12 > 4412",
           null,
           "msd",
           0.0009990009990009,
           112.49232747226088,
           0.1666666666666666,
           0.0301973834223185,
           4
          ],
          [
           "timbre_avg_3*timbre_cov_1_12 > 4012 AND timbre_avg_6 > -7.54",
           null,
           "msd",
           0.0009990009990009,
           112.07685259280868,
           0.1666666666666666,
           0.0301973834223185,
           4
          ],
          [
           "timbre_avg_3*timbre_cov_1_12 > 8582 AND timbre_avg_1*timbre_avg_6 > -464.6",
           null,
           "msd",
           0.0009990009990009,
           112.0272476397669,
           0.1428571428571428,
           0.0149955768204777,
           4
          ],
          [
           "Y > 4 AND temp > 23.8",
           null,
           "forestfires",
           0.0009990009990009,
           5.070508790008478,
           0.25,
           0.1224564282529819,
           2
          ],
          [
           "day > 6 AND RH <= 27.6",
           null,
           "forestfires",
           0.0199800199800199,
           4.868989634590113,
           0.2,
           0.0608100626252179,
           2
          ],
          [
           "RH <= 30 AND DMC*month > 1071",
           null,
           "forestfires",
           0.0009990009990009,
           4.830990569946162,
           0.1666666666666666,
           0.0301973834223185,
           2
          ],
          [
           "DMC*month > 1061 AND RH <= 29.8",
           null,
           "forestfires",
           0.0009990009990009,
           4.802853849333559,
           0.1666666666666666,
           0.0301973834223185,
           2
          ],
          [
           "temp > 23.58 AND Y > 4",
           null,
           "forestfires",
           0.0009990009990009,
           4.783626135464567,
           0.25,
           0.1224564282529819,
           2
          ],
          [
           "RH <= 30 AND temp > 24.42",
           null,
           "forestfires",
           0.0009990009990009,
           4.691196107526638,
           0.2,
           0.0608100626252179,
           2
          ],
          [
           "RH <= 30 AND X > 5",
           null,
           "forestfires",
           0.0009990009990009,
           4.687720255983479,
           0.2,
           0.0608100626252179,
           2
          ],
          [
           "Y > 4 AND RH <= 28",
           null,
           "forestfires",
           0.0009990009990009,
           4.687701911375179,
           0.2,
           0.0608100626252179,
           2
          ],
          [
           "RH <= 30 AND DC*DMC > 8.115e+04",
           null,
           "forestfires",
           0.0009990009990009,
           4.617818093970007,
           0.1428571428571428,
           0.0149955768204777,
           2
          ],
          [
           "X > 4 AND temp > 23.7",
           null,
           "forestfires",
           0.0009990009990009,
           4.534511592541403,
           0.25,
           0.1224564282529819,
           2
          ],
          [
           "temp > 23.58 AND RH <= 28",
           null,
           "forestfires",
           0.0009990009990009,
           4.482312068909168,
           0.2,
           0.0608100626252179,
           2
          ],
          [
           "RH <= 30 AND Y > 4",
           null,
           "forestfires",
           0.0009990009990009,
           4.371004770370363,
           0.2,
           0.0608100626252179,
           2
          ],
          [
           "temp > 23.58 AND X > 4",
           null,
           "forestfires",
           0.0009990009990009,
           4.366664626439046,
           0.25,
           0.1224564282529819,
           2
          ],
          [
           "temp > 23.58 AND wind > 3.1",
           null,
           "forestfires",
           0.0009990009990009,
           4.338687961204955,
           0.25,
           0.1224564282529819,
           2
          ],
          [
           "RH <= 30 AND X > 4",
           null,
           "forestfires",
           0.0009990009990009,
           4.270840551181992,
           0.2,
           0.0608100626252179,
           2
          ],
          [
           "temp > 20.6 AND RH <= 27",
           null,
           "forestfires",
           0.0009990009990009,
           4.250474589035786,
           0.2,
           0.0608100626252179,
           2
          ],
          [
           "DMC > 96.9 AND temp > 24.8",
           null,
           "forestfires",
           0.0009990009990009,
           4.2503129888280125,
           0.25,
           0.1224564282529819,
           2
          ],
          [
           "temp > 23.58 AND DC*month > 5585",
           null,
           "forestfires",
           0.0019980019980019,
           4.249142472644446,
           0.2,
           0.0608100626252179,
           2
          ],
          [
           "wind > 3.1 AND temp > 23.4",
           null,
           "forestfires",
           0.0009990009990009,
           4.242242022661471,
           0.25,
           0.1224564282529819,
           2
          ],
          [
           "temp > 23.58 AND DMC*ISI <= 1041",
           null,
           "forestfires",
           0.6903096903096904,
           0.269695259390629,
           0.1666666666666666,
           0.0301973834223185,
           2
          ],
          [
           "RH <= 30 AND day > 6.2",
           null,
           "forestfires",
           0.0219780219780219,
           4.22408478713311,
           0.2,
           0.0608100626252179,
           2
          ],
          [
           "DMC*ISI > 829.7 AND temp > 24.92",
           null,
           "forestfires",
           0.0009990009990009,
           4.207564883444474,
           0.2,
           0.0608100626252179,
           2
          ],
          [
           "X > 4 AND RH <= 31",
           null,
           "forestfires",
           0.0009990009990009,
           4.201900770020249,
           0.2,
           0.0608100626252179,
           2
          ],
          [
           "DC > 613.6 AND temp > 24.1",
           null,
           "forestfires",
           0.0009990009990009,
           4.179057976239398,
           0.25,
           0.1224564282529819,
           2
          ]
         ],
         "hovertemplate": "ParetoLabel=Non-Pareto<br>language=L_poly<br>complexity=%{x}<br>q_residual=%{y}<br>size=%{marker.size}<br>rule=%{customdata[0]}<br>expr=%{customdata[1]}<br>dataset=%{customdata[2]}<br>p_value=%{customdata[3]}<br>q_perm=%{customdata[4]}<br>I_inv=%{customdata[5]}<br>I_exp=%{customdata[6]}<br>expressiveness=%{customdata[7]}<extra></extra>",
         "legendgroup": "Non-Pareto",
         "marker": {
          "color": "#EF553B",
          "size": {
           "bdata": "nwAAALEAAACoAAAAvQAAAHcBAABwAAAAYgAAAKgAAABkAAAAXgEAALABAABlAQAAYgEAALsAAAD4AAAA/QEAAL4AAABSAQAAswEAAMMBAADjAAAAIwEAABQAAAAMAAAAKAAAAAYAAAApAAAACgAAABUAAAAHAAAAKQAAABUAAAApAAAAFAAAACgAAAApAAAAKQAAACkAAAAUAAAAFQAAACoAAAAmAAAAKQAAACkAAAAVAAAAFgAAAAwAAABZAAAAbQAAAFkAAAAMAAAAIgAAAB4AAAAoAAAAWQAAAAsAAAA+AAAAOwAAACEAAAAjAAAAeAAAADgAAABgAAAADAAAAEUAAAAXAAAAfAAAABQAAAAXQgEADKEAAAGhAAAXQgEADKEAAAyhAAAMoQAAF0IBAJLxAAAlQgEAkfEAABdCAQAXQgEAF0IBAAJCAQAMoQAADKEAABVCAQAMoQAAF0IBAPVBAQCR8QAAKAAAABEAAAApAAAAKQAAACwAAAAsAAAAKgAAACoAAAAsAAAAMQAAAC4AAAAwAAAANAAAADkAAAAxAAAAMgAAAD0AAAAqAAAAOwAAABYAAAAWAAAAPgAAADQAAAA8AAAA",
           "dtype": "i4"
          },
          "sizemode": "area",
          "sizeref": 552.17,
          "symbol": "circle"
         },
         "mode": "markers",
         "name": "Non-Pareto",
         "orientation": "v",
         "showlegend": false,
         "type": "scatter",
         "x": {
          "bdata": "AAAAAAAAIEAAAAAAAAAYQAAAAAAAABxAAAAAAAAAFEAAAAAAAAAYQAAAAAAAACJAAAAAAAAAGEAAAAAAAAAYQAAAAAAAACBAAAAAAAAAEEAAAAAAAAAQQAAAAAAAABhAAAAAAAAAGEAAAAAAAAAYQAAAAAAAABBAAAAAAAAAIEAAAAAAAAAgQAAAAAAAABRAAAAAAAAAGEAAAAAAAAAYQAAAAAAAACBAAAAAAAAAGEAAAAAAAAAUQAAAAAAAAAhAAAAAAAAAFEAAAAAAAAAQQAAAAAAAABRAAAAAAAAAEEAAAAAAAAAYQAAAAAAAABBAAAAAAAAAFEAAAAAAAAAcQAAAAAAAABhAAAAAAAAAEEAAAAAAAAAQQAAAAAAAABBAAAAAAAAAGEAAAAAAAAAUQAAAAAAAABBAAAAAAAAAFEAAAAAAAAAUQAAAAAAAABBAAAAAAAAAFEAAAAAAAAAUQAAAAAAAABhAAAAAAAAAEEAAAAAAAAAQQAAAAAAAABBAAAAAAAAAEEAAAAAAAAAIQAAAAAAAABBAAAAAAAAAEEAAAAAAAAAUQAAAAAAAABBAAAAAAAAAFEAAAAAAAAAIQAAAAAAAABBAAAAAAAAAEEAAAAAAAAAUQAAAAAAAABBAAAAAAAAAFEAAAAAAAAAQQAAAAAAAABBAAAAAAAAAFEAAAAAAAAAIQAAAAAAAABBAAAAAAAAAEEAAAAAAAAAQQAAAAAAAABhAAAAAAAAAGEAAAAAAAAAUQAAAAAAAABRAAAAAAAAAGEAAAAAAAAAYQAAAAAAAABRAAAAAAAAAGEAAAAAAAAAYQAAAAAAAABRAAAAAAAAAFEAAAAAAAAAYQAAAAAAAABhAAAAAAAAAGEAAAAAAAAAUQAAAAAAAABRAAAAAAAAAFEAAAAAAAAAUQAAAAAAAABhAAAAAAAAAFEAAAAAAAAAUQAAAAAAAABhAAAAAAAAACEAAAAAAAAAQQAAAAAAAABRAAAAAAAAAFEAAAAAAAAAIQAAAAAAAABBAAAAAAAAAEEAAAAAAAAAQQAAAAAAAABhAAAAAAAAACEAAAAAAAAAQQAAAAAAAABBAAAAAAAAACEAAAAAAAAAIQAAAAAAAABBAAAAAAAAAEEAAAAAAAAAIQAAAAAAAABBAAAAAAAAACEAAAAAAAAAUQAAAAAAAABBAAAAAAAAAEEAAAAAAAAAQQAAAAAAAAAhA",
          "dtype": "f8"
         },
         "xaxis": "x3",
         "y": {
          "bdata": "un1Ln2ujIUCBKEwt30ohQBJD53v8ryBAh952IwT8H0BEZB5D6vMfQHPRLSP0hB5A4ZwndqmzHUDT/NVVNKwdQP7E4LoZEx1Ae9+Rk6oAHUAgkQMvQ94cQOtJv9JAYxxAgSAWansKHEC44KxPJrAbQHiY2xVcpRtAM8G3HvmGG0ACtXVYSoEbQN/xZ6gGgBtAPdK/yA9mG0DcfpgW02AbQPqbz6ubJRtAfuOgDu8kG0BQGJv03/8hQOAJobUGTSBAK7chyn/GHkBKXHQ6/q0eQIe/rRCBfx5AQkGgFm80HkDlmp6xL7wdQPe+nrSWdh1AkZZADGRqHUCMEy55BWkdQPMOuK3aXh1ALjAxoV3aHEC/JQcp38McQFBOWoacwBxA2QsOQR2jHEC6N6G0NpAcQPbAPY6fdRxALJpDCu9FHEAYHY37NiUcQNBfmF2gCxxAiAUjLRALHEDsws+cAgMcQKdSQBvd6xtAhwYOHexpFkBXSAruBDgWQBOlgfHBIxZAxdDgDLggFkCqnpWU8qwVQIb+lWi1/BRAcgkYos67FEB5aG5UprEUQJ/cNYJCkxRALFMdmiCOFED2cTkNOXAUQDmeTTQYXhRA2Rqb9ilaFEAc2Ak4+dwTQCl5xaQUvhNAxOsubuu3E0APw3Po1pwTQF3Lr2ZvmBNArZGrzziDE0B9FIU6KncTQOrZxbPzYxNAGxHc0VpCE0BgmWMq5zwTQJRzqEca8F1Aq34jv5XUXUDCldxAr8JdQHt4aEGebV1AXJpl1lptXUCYwT5PAlFdQBSkah0KS11AZLwpLys1XUARJmenlulcQGChasm5wlxABJwWImuwXEDmK4DsAq5cQEx/HJw5j1xAsuq6W/V1XEBMLu3YC1VcQO2GRGmyQlxAzN4ZvtE+XEBy0rz4vTlcQATq/AxoNlxAqGqyKAgfXEB8DP1I4ARcQP9EQagaAVxA9KrMdDNIFECWgjRr2HkTQAvQJDHvUhNA4GvJUR82E0DZccDjbiITQDLMk+nIwxJAsfsgvTnAEkApAwvuNMASQLbpcU6leBJAXDHFAVcjEkBRuQk34+0RQFGarazoexFAf5+M7nZ3EUBhslME0VoRQHIHtzlXFRFADI0haXwAEUAOH1MMUgARQLs1UDQf/xBADzH0Sg74EEA+/Yz9DfEQQEISgXt25RBArcSI44vUEEDEGFETv84QQAclYPlatxBA",
          "dtype": "f8"
         },
         "yaxis": "y3"
        },
        {
         "customdata": [
          [
           "(Contraceptive_Method / Wife_Education) <= 0.33",
           "(Contraceptive_Method / Wife_Education)",
           "cmc",
           0.0009990009990009,
           8.752770310048032,
           0.2,
           0.0608100626252179,
           9
          ],
          [
           "(Wife_Education / Contraceptive_Method) > 2",
           "(Wife_Education / Contraceptive_Method)",
           "cmc",
           0.0009990009990009,
           7.250650697496776,
           0.25,
           0.1224564282529819,
           7
          ],
          [
           "(SOLI / Contraceptive_Method) > 2",
           "(SOLI / Contraceptive_Method)",
           "cmc",
           0.0009990009990009,
           7.217053160278994,
           0.25,
           0.1224564282529819,
           7
          ],
          [
           "(Contraceptive_Method - SOLI) <= -3",
           "(Contraceptive_Method - SOLI)",
           "cmc",
           0.0009990009990009,
           6.911484090354968,
           0.1666666666666666,
           0.0301973834223185,
           10
          ],
          [
           "(SOLI - Contraceptive_Method) > 2",
           "(SOLI - Contraceptive_Method)",
           "cmc",
           0.0009990009990009,
           6.911484090354968,
           0.25,
           0.1224564282529819,
           7
          ],
          [
           "(SOLI / Contraceptive_Method) > 3",
           "(SOLI / Contraceptive_Method)",
           "cmc",
           0.0009990009990009,
           6.911484090354968,
           0.25,
           0.1224564282529819,
           7
          ],
          [
           "(Contraceptive_Method / SOLI) <= 0.33",
           "(Contraceptive_Method / SOLI)",
           "cmc",
           0.0009990009990009,
           6.911484090354968,
           0.2,
           0.0608100626252179,
           9
          ],
          [
           "(Contraceptive_Method / SOLI) <= 0.25",
           "(Contraceptive_Method / SOLI)",
           "cmc",
           0.0009990009990009,
           6.911484090354968,
           0.2,
           0.0608100626252179,
           9
          ],
          [
           "(Husband_Education / Contraceptive_Method) > 3",
           "(Husband_Education / Contraceptive_Method)",
           "cmc",
           0.0009990009990009,
           6.8750253976290585,
           0.2,
           0.0608100626252179,
           7
          ],
          [
           "(Husband_Education - Contraceptive_Method) > 2",
           "(Husband_Education - Contraceptive_Method)",
           "cmc",
           0.0009990009990009,
           6.8750253976290585,
           0.2,
           0.0608100626252179,
           7
          ],
          [
           "(Contraceptive_Method / Husband_Education) <= 0.33",
           "(Contraceptive_Method / Husband_Education)",
           "cmc",
           0.0009990009990009,
           6.8750253976290585,
           0.1666666666666666,
           0.0301973834223185,
           9
          ],
          [
           "(Contraceptive_Method / Husband_Education) <= 0.25",
           "(Contraceptive_Method / Husband_Education)",
           "cmc",
           0.0009990009990009,
           6.8750253976290585,
           0.1666666666666666,
           0.0301973834223185,
           9
          ],
          [
           "(Contraceptive_Method - Husband_Education) <= -3",
           "(Contraceptive_Method - Husband_Education)",
           "cmc",
           0.0009990009990009,
           6.8750253976290585,
           0.1428571428571428,
           0.0149955768204777,
           10
          ],
          [
           "(Wife_Education - Children) > 2",
           "(Wife_Education - Children)",
           "cmc",
           0.0009990009990009,
           6.647285559772248,
           0.25,
           0.1224564282529819,
           7
          ],
          [
           "(Husband_Occupation / Wife_religion) <= 1",
           "(Husband_Occupation / Wife_religion)",
           "cmc",
           0.0009990009990009,
           6.359328704305682,
           0.1666666666666666,
           0.0301973834223185,
           9
          ],
          [
           "(Husband_Occupation - Wife_religion) <= 0",
           "(Husband_Occupation - Wife_religion)",
           "cmc",
           0.0009990009990009,
           6.359328704305682,
           0.1666666666666666,
           0.0301973834223185,
           9
          ],
          [
           "(Wife_religion / Husband_Occupation) > 0.5",
           "(Wife_religion / Husband_Occupation)",
           "cmc",
           0.0009990009990009,
           6.359328704305682,
           0.2,
           0.0608100626252179,
           7
          ],
          [
           "(Wife_religion - Husband_Occupation) > -1",
           "(Wife_religion - Husband_Occupation)",
           "cmc",
           0.0009990009990009,
           6.359328704305682,
           0.1666666666666666,
           0.0301973834223185,
           8
          ],
          [
           "(Husband_Education / Husband_Occupation) > 3",
           "(Husband_Education / Husband_Occupation)",
           "cmc",
           0.0009990009990009,
           6.074512226641989,
           0.1666666666666666,
           0.0301973834223185,
           7
          ],
          [
           "(Husband_Occupation - Husband_Education) <= -3",
           "(Husband_Occupation - Husband_Education)",
           "cmc",
           0.0009990009990009,
           6.074512226641989,
           0.125,
           0.0074465830709243,
           10
          ],
          [
           "(Husband_Occupation / Husband_Education) <= 0.33",
           "(Husband_Occupation / Husband_Education)",
           "cmc",
           0.0009990009990009,
           6.074512226641989,
           0.1428571428571428,
           0.0149955768204777,
           9
          ],
          [
           "(Husband_Occupation / Husband_Education) <= 0.25",
           "(Husband_Occupation / Husband_Education)",
           "cmc",
           0.0009990009990009,
           6.074512226641989,
           0.1428571428571428,
           0.0149955768204777,
           9
          ],
          [
           "(Husband_Education - Husband_Occupation) > 2",
           "(Husband_Education - Husband_Occupation)",
           "cmc",
           0.0009990009990009,
           6.074512226641989,
           0.1666666666666666,
           0.0301973834223185,
           7
          ],
          [
           "(DIS * LSTAT) <= 20.27",
           "(DIS * LSTAT)",
           "housing",
           0.0009990009990009,
           6.912347472651591,
           0.2,
           0.0608100626252179,
           9
          ],
          [
           "(DIS - RM) <= -4.34",
           "(DIS - RM)",
           "housing",
           0.0009990009990009,
           6.3057121249789505,
           0.1666666666666666,
           0.0301973834223185,
           10
          ],
          [
           "(RM - DIS) > 4.34",
           "(RM - DIS)",
           "housing",
           0.0009990009990009,
           6.3057121249789505,
           0.25,
           0.1224564282529819,
           7
          ],
          [
           "(CHAS + TAX) > 666",
           "(CHAS + TAX)",
           "housing",
           0.0009990009990009,
           6.249228143129416,
           0.25,
           0.1224564282529819,
           7
          ],
          [
           "(RM / DIS) + RM > 9.65",
           "(RM / DIS) + RM",
           "housing",
           0.0009990009990009,
           6.158331225514988,
           0.2,
           0.0608100626252179,
           9
          ],
          [
           "(AGE / LSTAT) > 9.3",
           "(AGE / LSTAT)",
           "housing",
           0.0009990009990009,
           5.935069588043143,
           0.25,
           0.1224564282529819,
           7
          ],
          [
           "(LSTAT / AGE) <= 0.11",
           "(LSTAT / AGE)",
           "housing",
           0.0009990009990009,
           5.709712398991641,
           0.2,
           0.0608100626252179,
           9
          ],
          [
           "(CRIM - LSTAT) > -4.04",
           "(CRIM - LSTAT)",
           "housing",
           0.0009990009990009,
           5.478500228000194,
           0.2,
           0.0608100626252179,
           8
          ],
          [
           "(LSTAT - CRIM) <= 4.04",
           "(LSTAT - CRIM)",
           "housing",
           0.0009990009990009,
           5.478500228000194,
           0.2,
           0.0608100626252179,
           9
          ],
          [
           "(LSTAT / RAD) <= 0.69",
           "(LSTAT / RAD)",
           "housing",
           0.0009990009990009,
           5.471815053086673,
           0.2,
           0.0608100626252179,
           9
          ],
          [
           "(RAD / LSTAT) > 1.44",
           "(RAD / LSTAT)",
           "housing",
           0.0009990009990009,
           5.353979265996234,
           0.25,
           0.1224564282529819,
           7
          ],
          [
           "(CRIM / LSTAT) > 0.49",
           "(CRIM / LSTAT)",
           "housing",
           0.0009990009990009,
           5.290851223010182,
           0.25,
           0.1224564282529819,
           7
          ],
          [
           "(LSTAT / CRIM) <= 2.03",
           "(LSTAT / CRIM)",
           "housing",
           0.0009990009990009,
           5.290851223010182,
           0.2,
           0.0608100626252179,
           9
          ],
          [
           "(RM + DIS) / RM <= 1.29",
           "(RM + DIS) / RM",
           "housing",
           0.0009990009990009,
           5.224630664632034,
           0.1666666666666666,
           0.0301973834223185,
           11
          ],
          [
           "(DIS / RM) <= 0.29",
           "(DIS / RM)",
           "housing",
           0.0009990009990009,
           5.224630664632034,
           0.2,
           0.0608100626252179,
           9
          ],
          [
           "(RM - DIS) / RM > 0.71",
           "(RM - DIS) / RM",
           "housing",
           0.0009990009990009,
           5.224630664632034,
           0.2,
           0.0608100626252179,
           9
          ],
          [
           "(TAX / LSTAT) > 58.78",
           "(TAX / LSTAT)",
           "housing",
           0.0009990009990009,
           5.19893138109808,
           0.25,
           0.1224564282529819,
           7
          ],
          [
           "(DIS / RAD) <= 0.08",
           "(DIS / RAD)",
           "housing",
           0.0009990009990009,
           5.179866069756327,
           0.2,
           0.0608100626252179,
           9
          ],
          [
           "(RM + DIS) / DIS > 4.39",
           "(RM + DIS) / DIS",
           "housing",
           0.0009990009990009,
           5.048402594870735,
           0.2,
           0.0608100626252179,
           9
          ],
          [
           "(RM - DIS) / DIS > 2.39",
           "(RM - DIS) / DIS",
           "housing",
           0.0009990009990009,
           5.048402594870735,
           0.2,
           0.0608100626252179,
           9
          ],
          [
           "(RM / DIS) > 3.39",
           "(RM / DIS)",
           "housing",
           0.0009990009990009,
           5.048402594870735,
           0.25,
           0.1224564282529819,
           7
          ],
          [
           "(RM / DIS) - DIS > 1.59",
           "(RM / DIS) - DIS",
           "housing",
           0.0009990009990009,
           4.95296040449167,
           0.2,
           0.0608100626252179,
           9
          ],
          [
           "(DIS / CHAS) <= 6.26179e+06",
           "(DIS / CHAS)",
           "housing",
           0.0049950049950049,
           3.614259236458937,
           0.1666666666666666,
           0.0301973834223185,
           11
          ],
          [
           "(DIS - CHAS) <= 1.75",
           "(DIS - CHAS)",
           "housing",
           0.0009990009990009,
           4.853197184001743,
           0.2,
           0.0608100626252179,
           9
          ],
          [
           "(model * displacement) / displacement > 79",
           "(model * displacement) / displacement",
           "auto-mpg",
           0.0009990009990009,
           5.4188941208191554,
           0.2,
           0.0608100626252179,
           9
          ],
          [
           "(origin * model) / origin > 79",
           "(origin * model) / origin",
           "auto-mpg",
           0.0009990009990009,
           5.4188941208191554,
           0.2,
           0.0608100626252179,
           9
          ],
          [
           "(model * cylinders) / cylinders > 79",
           "(model * cylinders) / cylinders",
           "auto-mpg",
           0.0009990009990009,
           5.4188941208191554,
           0.2,
           0.0608100626252179,
           9
          ],
          [
           "(model * weight) / weight > 79",
           "(model * weight) / weight",
           "auto-mpg",
           0.0009990009990009,
           5.4188941208191554,
           0.2,
           0.0608100626252179,
           9
          ],
          [
           "(model * horsepower) / horsepower > 79",
           "(model * horsepower) / horsepower",
           "auto-mpg",
           0.0009990009990009,
           5.466675915939279,
           0.2,
           0.0608100626252179,
           9
          ],
          [
           "(model * origin) / origin > 79",
           "(model * origin) / origin",
           "auto-mpg",
           0.0009990009990009,
           5.4188941208191554,
           0.2,
           0.0608100626252179,
           9
          ],
          [
           "(model * acceleration) / acceleration > 79",
           "(model * acceleration) / acceleration",
           "auto-mpg",
           0.0009990009990009,
           5.17687062440911,
           0.2,
           0.0608100626252179,
           9
          ],
          [
           "(cylinders - model) <= -74",
           "(cylinders - model)",
           "auto-mpg",
           0.0009990009990009,
           5.0383886414116645,
           0.1666666666666666,
           0.0301973834223185,
           10
          ],
          [
           "(model / horsepower) + model > 79.6",
           "(model / horsepower) + model",
           "auto-mpg",
           0.0009990009990009,
           4.9552713090997385,
           0.2,
           0.0608100626252179,
           9
          ],
          [
           "(model - acceleration) > 64.8",
           "(model - acceleration)",
           "auto-mpg",
           0.0009990009990009,
           4.826342976151956,
           0.25,
           0.1224564282529819,
           7
          ],
          [
           "(model / displacement) + model > 79.23",
           "(model / displacement) + model",
           "auto-mpg",
           0.0009990009990009,
           4.655212925068015,
           0.2,
           0.0608100626252179,
           9
          ],
          [
           "(model / weight) + model > 79.02",
           "(model / weight) + model",
           "auto-mpg",
           0.0009990009990009,
           4.62557290836679,
           0.2,
           0.0608100626252179,
           9
          ],
          [
           "(model / acceleration) + model > 85.57",
           "(model / acceleration) + model",
           "auto-mpg",
           0.0009990009990009,
           4.574413052976933,
           0.2,
           0.0608100626252179,
           9
          ],
          [
           "(model + displacement) / model <= 2.21",
           "(model + displacement) / model",
           "auto-mpg",
           0.0009990009990009,
           4.526422250616693,
           0.1666666666666666,
           0.0301973834223185,
           11
          ],
          [
           "(model - displacement) / model > -0.21",
           "(model - displacement) / model",
           "auto-mpg",
           0.0009990009990009,
           4.526422250616693,
           0.1666666666666666,
           0.0301973834223185,
           10
          ],
          [
           "(displacement / model) <= 1.21",
           "(displacement / model)",
           "auto-mpg",
           0.0009990009990009,
           4.526422250616693,
           0.2,
           0.0608100626252179,
           9
          ],
          [
           "(origin / model) - model <= -78.97",
           "(origin / model) - model",
           "auto-mpg",
           0.0009990009990009,
           4.458015603159108,
           0.1428571428571428,
           0.0149955768204777,
           12
          ],
          [
           "(displacement / weight) <= 0.04",
           "(displacement / weight)",
           "auto-mpg",
           0.0009990009990009,
           4.453448769478515,
           0.2,
           0.0608100626252179,
           9
          ],
          [
           "(acceleration - model) <= -64.8",
           "(acceleration - model)",
           "auto-mpg",
           0.0009990009990009,
           4.39955274967999,
           0.1666666666666666,
           0.0301973834223185,
           10
          ],
          [
           "(model / displacement) > 0.82",
           "(model / displacement)",
           "auto-mpg",
           0.0009990009990009,
           4.358634593549863,
           0.25,
           0.1224564282529819,
           7
          ],
          [
           "(model + displacement) / displacement > 1.82",
           "(model + displacement) / displacement",
           "auto-mpg",
           0.0009990009990009,
           4.358634593549863,
           0.2,
           0.0608100626252179,
           9
          ],
          [
           "(model - displacement) / displacement > -0.18",
           "(model - displacement) / displacement",
           "auto-mpg",
           0.0009990009990009,
           4.358634593549863,
           0.1666666666666666,
           0.0301973834223185,
           10
          ],
          [
           "(model - displacement) > -16.71",
           "(model - displacement)",
           "auto-mpg",
           0.0019980019980019,
           4.348169143056848,
           0.2,
           0.0608100626252179,
           8
          ],
          [
           "(timbre_avg_3 * timbre_cov_3_3) > 2596.64",
           "(timbre_avg_3 * timbre_cov_3_3)",
           "msd",
           0.0009990009990009,
           98.47550509717948,
           0.25,
           0.1224564282529819,
           10
          ],
          [
           "(timbre_avg_3 + timbre_cov_6_6) > 49.59",
           "(timbre_avg_3 + timbre_cov_6_6)",
           "msd",
           0.0009990009990009,
           97.6945356137773,
           0.25,
           0.1224564282529819,
           10
          ],
          [
           "(timbre_avg_2 - timbre_avg_3) <= -65.7",
           "(timbre_avg_2 - timbre_avg_3)",
           "msd",
           0.0009990009990009,
           95.17535020467076,
           0.1666666666666666,
           0.0301973834223185,
           12
          ],
          [
           "(timbre_avg_3 - timbre_avg_2) > 65.7",
           "(timbre_avg_3 - timbre_avg_2)",
           "msd",
           0.0009990009990009,
           95.17535020467076,
           0.25,
           0.1224564282529819,
           9
          ],
          [
           "(timbre_avg_6 - timbre_avg_1) > -45.46",
           "(timbre_avg_6 - timbre_avg_1)",
           "msd",
           0.0009990009990009,
           94.32121064109886,
           0.2,
           0.0608100626252179,
           10
          ],
          [
           "(timbre_avg_1 - timbre_avg_6) <= 45.46",
           "(timbre_avg_1 - timbre_avg_6)",
           "msd",
           0.0009990009990009,
           94.32121064109886,
           0.2,
           0.0608100626252179,
           11
          ],
          [
           "(timbre_avg_6 - timbre_avg_1) > -36.79",
           "(timbre_avg_6 - timbre_avg_1)",
           "msd",
           0.0009990009990009,
           93.87877895006608,
           0.2,
           0.0608100626252179,
           10
          ],
          [
           "(timbre_avg_1 - timbre_avg_6) <= 36.79",
           "(timbre_avg_1 - timbre_avg_6)",
           "msd",
           0.0009990009990009,
           93.87877895006608,
           0.2,
           0.0608100626252179,
           11
          ],
          [
           "(timbre_avg_6 - timbre_avg_7) > 14.05",
           "(timbre_avg_6 - timbre_avg_7)",
           "msd",
           0.0009990009990009,
           93.58788631370447,
           0.25,
           0.1224564282529819,
           9
          ],
          [
           "(timbre_avg_7 - timbre_avg_6) <= -14.05",
           "(timbre_avg_7 - timbre_avg_6)",
           "msd",
           0.0009990009990009,
           93.58788631370447,
           0.1666666666666666,
           0.0301973834223185,
           12
          ],
          [
           "(timbre_avg_2 - timbre_avg_3) <= -31.9",
           "(timbre_avg_2 - timbre_avg_3)",
           "msd",
           0.0009990009990009,
           92.69522397127976,
           0.1666666666666666,
           0.0301973834223185,
           12
          ],
          [
           "(timbre_avg_3 - timbre_avg_2) > 31.9",
           "(timbre_avg_3 - timbre_avg_2)",
           "msd",
           0.0009990009990009,
           92.69522397127976,
           0.25,
           0.1224564282529819,
           9
          ],
          [
           "(timbre_avg_3 + timbre_cov_6_6) > 27.64",
           "(timbre_avg_3 + timbre_cov_6_6)",
           "msd",
           0.0009990009990009,
           91.12377635663786,
           0.25,
           0.1224564282529819,
           10
          ],
          [
           "(timbre_avg_3 - timbre_avg_7) > 46.43",
           "(timbre_avg_3 - timbre_avg_7)",
           "msd",
           0.0009990009990009,
           88.91955416690116,
           0.25,
           0.1224564282529819,
           9
          ],
          [
           "(timbre_avg_7 - timbre_avg_3) <= -46.43",
           "(timbre_avg_7 - timbre_avg_3)",
           "msd",
           0.0009990009990009,
           88.91955416690116,
           0.1666666666666666,
           0.0301973834223185,
           12
          ],
          [
           "(timbre_avg_6 + timbre_avg_3) > 16.44",
           "(timbre_avg_6 + timbre_avg_3)",
           "msd",
           0.0009990009990009,
           88.86930516606687,
           0.25,
           0.1224564282529819,
           9
          ],
          [
           "(timbre_avg_1 + timbre_avg_7) <= 24.45",
           "(timbre_avg_1 + timbre_avg_7)",
           "msd",
           0.0009990009990009,
           87.48429699875956,
           0.2,
           0.0608100626252179,
           11
          ],
          [
           "(timbre_avg_6 - timbre_avg_1) > -51.62",
           "(timbre_avg_6 - timbre_avg_1)",
           "msd",
           0.0009990009990009,
           86.80938023003684,
           0.2,
           0.0608100626252179,
           10
          ],
          [
           "(timbre_avg_1 - timbre_avg_6) <= 51.62",
           "(timbre_avg_1 - timbre_avg_6)",
           "msd",
           0.0009990009990009,
           86.80938023003684,
           0.2,
           0.0608100626252179,
           11
          ],
          [
           "(timbre_avg_1 - timbre_avg_3) <= 3.18",
           "(timbre_avg_1 - timbre_avg_3)",
           "msd",
           0.0009990009990009,
           86.61305122176236,
           0.2,
           0.0608100626252179,
           11
          ],
          [
           "(timbre_avg_3 - timbre_avg_1) > -3.18",
           "(timbre_avg_3 - timbre_avg_1)",
           "msd",
           0.0009990009990009,
           86.61305122176236,
           0.2,
           0.0608100626252179,
           10
          ],
          [
           "(timbre_avg_3 / timbre_avg_1) > 0.93",
           "(timbre_avg_3 / timbre_avg_1)",
           "msd",
           0.0009990009990009,
           85.7700649096407,
           0.25,
           0.1224564282529819,
           9
          ],
          [
           "(timbre_avg_6 - timbre_avg_7) > 2.87",
           "(timbre_avg_6 - timbre_avg_7)",
           "msd",
           0.0009990009990009,
           85.53532441243443,
           0.25,
           0.1224564282529819,
           9
          ],
          [
           "(timbre_avg_7 - timbre_avg_6) <= -2.87",
           "(timbre_avg_7 - timbre_avg_6)",
           "msd",
           0.0009990009990009,
           85.53532441243443,
           0.1666666666666666,
           0.0301973834223185,
           12
          ],
          [
           "(temp * RH) / RH > 24.6",
           "(temp * RH) / RH",
           "forestfires",
           0.0009990009990009,
           3.8431160693548194,
           0.2,
           0.0608100626252179,
           9
          ],
          [
           "(temp + day) > 29.3",
           "(temp + day)",
           "forestfires",
           0.0009990009990009,
           3.795345890417769,
           0.25,
           0.1224564282529819,
           7
          ],
          [
           "(temp / DMC) + temp > 24.83",
           "(temp / DMC) + temp",
           "forestfires",
           0.0009990009990009,
           3.7764272075056544,
           0.2,
           0.0608100626252179,
           9
          ],
          [
           "(temp * X) / X > 24.6",
           "(temp * X) / X",
           "forestfires",
           0.0009990009990009,
           3.773460163923005,
           0.2,
           0.0608100626252179,
           9
          ],
          [
           "(temp * DMC) / DMC > 24.6",
           "(temp * DMC) / DMC",
           "forestfires",
           0.0009990009990009,
           3.769939100644888,
           0.2,
           0.0608100626252179,
           9
          ],
          [
           "(temp + month) > 32.93",
           "(temp + month)",
           "forestfires",
           0.0009990009990009,
           3.737821526741578,
           0.25,
           0.1224564282529819,
           7
          ],
          [
           "(temp / RH) + temp > 25.22",
           "(temp / RH) + temp",
           "forestfires",
           0.0009990009990009,
           3.734541381644367,
           0.2,
           0.0608100626252179,
           9
          ],
          [
           "(temp + Y) > 28.93",
           "(temp + Y)",
           "forestfires",
           0.0009990009990009,
           3.726607938692766,
           0.25,
           0.1224564282529819,
           7
          ],
          [
           "(temp * X) > 150",
           "(temp * X)",
           "forestfires",
           0.0009990009990009,
           3.649701333391677,
           0.25,
           0.1224564282529819,
           7
          ],
          [
           "(X - RH) > -22",
           "(X - RH)",
           "forestfires",
           0.0009990009990009,
           3.644568961512318,
           0.2,
           0.0608100626252179,
           8
          ],
          [
           "(temp * DC) > 16747.9",
           "(temp * DC)",
           "forestfires",
           0.0009990009990009,
           3.6359998601266983,
           0.25,
           0.1224564282529819,
           7
          ],
          [
           "(Y / RH) > 0.17",
           "(Y / RH)",
           "forestfires",
           0.0009990009990009,
           3.5765413745522823,
           0.25,
           0.1224564282529819,
           7
          ],
          [
           "(temp * Y) > 116.23",
           "(temp * Y)",
           "forestfires",
           0.0009990009990009,
           3.5402298356755804,
           0.25,
           0.1224564282529819,
           7
          ],
          [
           "(Y - RH) > -23",
           "(Y - RH)",
           "forestfires",
           0.0019980019980019,
           3.538742660555446,
           0.2,
           0.0608100626252179,
           8
          ],
          [
           "(temp + X) > 29.96",
           "(temp + X)",
           "forestfires",
           0.0009990009990009,
           3.537105500166601,
           0.25,
           0.1224564282529819,
           7
          ],
          [
           "(X / RH) > 0.2",
           "(X / RH)",
           "forestfires",
           0.0019980019980019,
           3.46813656452636,
           0.25,
           0.1224564282529819,
           7
          ],
          [
           "(RH / Y) <= 6",
           "(RH / Y)",
           "forestfires",
           0.0009990009990009,
           3.442310201007833,
           0.2,
           0.0608100626252179,
           9
          ],
          [
           "(day + month) > 15",
           "(day + month)",
           "forestfires",
           0.0209790209790209,
           3.426852562719279,
           0.25,
           0.1224564282529819,
           7
          ],
          [
           "(temp + RH) / temp <= 2.21",
           "(temp + RH) / temp",
           "forestfires",
           0.0009990009990009,
           3.4189266499376214,
           0.1666666666666666,
           0.0301973834223185,
           11
          ],
          [
           "(temp - RH) / temp > -0.21",
           "(temp - RH) / temp",
           "forestfires",
           0.0009990009990009,
           3.4189266499376214,
           0.1666666666666666,
           0.0301973834223185,
           10
          ],
          [
           "(RH / temp) <= 1.21",
           "(RH / temp)",
           "forestfires",
           0.0009990009990009,
           3.4189266499376214,
           0.2,
           0.0608100626252179,
           9
          ],
          [
           "(temp - RH) > -4.87",
           "(temp - RH)",
           "forestfires",
           0.0009990009990009,
           3.4090811958516904,
           0.2,
           0.0608100626252179,
           8
          ],
          [
           "(RH - temp) <= 4.87",
           "(RH - temp)",
           "forestfires",
           0.0009990009990009,
           3.4090811958516904,
           0.2,
           0.0608100626252179,
           9
          ],
          [
           "(RH / X) <= 5",
           "(RH / X)",
           "forestfires",
           0.0019980019980019,
           3.37959604039979,
           0.2,
           0.0608100626252179,
           9
          ]
         ],
         "hovertemplate": "ParetoLabel=Non-Pareto<br>language=L_symb<br>complexity=%{x}<br>q_residual=%{y}<br>size=%{marker.size}<br>rule=%{customdata[0]}<br>expr=%{customdata[1]}<br>dataset=%{customdata[2]}<br>p_value=%{customdata[3]}<br>q_perm=%{customdata[4]}<br>I_inv=%{customdata[5]}<br>I_exp=%{customdata[6]}<br>expressiveness=%{customdata[7]}<extra></extra>",
         "legendgroup": "Non-Pareto",
         "marker": {
          "color": "#EF553B",
          "size": {
           "bdata": "rwAAAF4BAACwAQAA+AAAAPgAAAD4AAAA+AAAAPgAAABSAQAAUgEAAFIBAABSAQAAUgEAAL8AAABsAQAAbAEAAGwBAABsAQAAjwEAAI8BAACPAQAAjwEAAI8BAABJAAAASQAAAEkAAAANAAAASgAAAEkAAABMAAAASQAAAEkAAABHAAAASQAAAEkAAABJAAAARAAAAEQAAABEAAAASQAAAEAAAABKAAAASgAAAEoAAABIAAAASQAAAEgAAABZAAAAWQAAAFkAAABZAAAAWQAAAFkAAABdAAAAdwAAAHIAAAA1AAAAcQAAAHMAAAA5AAAAOAAAADgAAAA4AAAAdAAAAAsAAAA6AAAAPQAAAD0AAAA9AAAAOQAAAJUfAQCMHwEAmB8BAJgfAQAbPwIAGz8CAHUfAQB1HwEAkR8BAJEfAQA0PwIAND8CADg/AgCdHwEAnR8BAB0/AgB6HwEAxF4DAMReAwCjHwEAox8BAHUeAQAJPwIACT8CAEcAAABIAAAASQAAAEkAAABJAAAASgAAAEoAAABKAAAASgAAAEEAAABKAAAASAAAAEoAAABDAAAASgAAAEkAAABMAAAAIAAAAEoAAABKAAAASgAAAEoAAABKAAAATAAAAA==",
           "dtype": "i4"
          },
          "sizemode": "area",
          "sizeref": 552.17,
          "symbol": "circle"
         },
         "mode": "markers",
         "name": "Non-Pareto",
         "orientation": "v",
         "showlegend": false,
         "type": "scatter",
         "x": {
          "bdata": "AAAAAAAAEEAAAAAAAAAIQAAAAAAAAAhAAAAAAAAAFEAAAAAAAAAIQAAAAAAAAAhAAAAAAAAAEEAAAAAAAAAQQAAAAAAAABBAAAAAAAAAEEAAAAAAAAAUQAAAAAAAABRAAAAAAAAAGEAAAAAAAAAIQAAAAAAAABRAAAAAAAAAFEAAAAAAAAAQQAAAAAAAABRAAAAAAAAAFEAAAAAAAAAcQAAAAAAAABhAAAAAAAAAGEAAAAAAAAAUQAAAAAAAABBAAAAAAAAAFEAAAAAAAAAIQAAAAAAAAAhAAAAAAAAAEEAAAAAAAAAIQAAAAAAAABBAAAAAAAAAEEAAAAAAAAAQQAAAAAAAABBAAAAAAAAACEAAAAAAAAAIQAAAAAAAABBAAAAAAAAAFEAAAAAAAAAQQAAAAAAAABBAAAAAAAAACEAAAAAAAAAQQAAAAAAAABBAAAAAAAAAEEAAAAAAAAAIQAAAAAAAABBAAAAAAAAAFEAAAAAAAAAQQAAAAAAAABBAAAAAAAAAEEAAAAAAAAAQQAAAAAAAABBAAAAAAAAAEEAAAAAAAAAQQAAAAAAAABBAAAAAAAAAFEAAAAAAAAAQQAAAAAAAAAhAAAAAAAAAEEAAAAAAAAAQQAAAAAAAABBAAAAAAAAAFEAAAAAAAAAUQAAAAAAAABBAAAAAAAAAGEAAAAAAAAAQQAAAAAAAABRAAAAAAAAACEAAAAAAAAAQQAAAAAAAABRAAAAAAAAAEEAAAAAAAAAIQAAAAAAAAAhAAAAAAAAAFEAAAAAAAAAIQAAAAAAAABBAAAAAAAAAEEAAAAAAAAAQQAAAAAAAABBAAAAAAAAACEAAAAAAAAAUQAAAAAAAABRAAAAAAAAACEAAAAAAAAAIQAAAAAAAAAhAAAAAAAAAFEAAAAAAAAAIQAAAAAAAABBAAAAAAAAAEEAAAAAAAAAQQAAAAAAAABBAAAAAAAAAEEAAAAAAAAAIQAAAAAAAAAhAAAAAAAAAFEAAAAAAAAAQQAAAAAAAAAhAAAAAAAAAEEAAAAAAAAAQQAAAAAAAABBAAAAAAAAACEAAAAAAAAAQQAAAAAAAAAhAAAAAAAAACEAAAAAAAAAQQAAAAAAAAAhAAAAAAAAACEAAAAAAAAAIQAAAAAAAABBAAAAAAAAACEAAAAAAAAAIQAAAAAAAABBAAAAAAAAACEAAAAAAAAAUQAAAAAAAABRAAAAAAAAAEEAAAAAAAAAQQAAAAAAAABBAAAAAAAAAEEA=",
          "dtype": "f8"
         },
         "xaxis": "x4",
         "y": {
          "bdata": "thwuHGuBIUB735GTqgAdQCCRAy9D3hxAeJjbFVylG0B4mNsVXKUbQHiY2xVcpRtAeJjbFVylG0B4mNsVXKUbQN/xZ6gGgBtA3/FnqAaAG0Df8WeoBoAbQN/xZ6gGgBtA3/FnqAaAG0BWlJkG0pYaQCAHJt3zbxlAIAcm3fNvGUAgBybd828ZQCAHJt3zbxlAZFHi7kxMGEBkUeLuTEwYQGRR4u5MTBhAZFHi7kxMGEBkUeLuTEwYQOKBdmo+phtA3RlrmQw5GUDdGWuZDDkZQELvj6k1/xhAAxeulCGiGECahNDhgr0XQHDw3Ni+1hZAuY659vvpFUC5jrn2++kVQDESO3wj4xVA5KlrinlqFUBDUivn1CkVQENSK+fUKRVA5Be5lAXmFEDkF7mUBeYUQOQXuZQF5hRAg9v/qrTLFEDNDZ3PLrgUQJ4LKHOQMRRAngsoc5AxFECeCyhzkDEUQNmyLtrUzxNANwPZfPGUE0CgTsmFrGkTQKqelZTyrBVAqp6VlPKsFUCqnpWU8qwVQKqelZTyrBVAqp6VlPKsFUCqnpWU8qwVQEbXrZIdtRRAmJodWk8nFEDhRtOmk70TQGhoZ9osThNAoVUUI/CeEkC+yzovloASQMy5c+8yTBJAQyQ5bw4bEkBDJDlvDhsSQEMkOW8OGxJAHIHSCgLVEUBjSc3fVNARQBecI1skmRFALQsq6D1vEUAtCyroPW8RQC0LKug9bxFAPZ+rc4ZkEUDmXe6sbp5YQCzFgEVzbFhAGpoQ8DjLV0AamhDwOMtXQGWpE7eOlFdAZakTt46UV0CcvBDqPXhXQJy8EOo9eFdAHMjq7Z9lV0AcyOrtn2VXQK0Cr4x+LFdArQKvjH4sV0DF8arz68dWQG1vuPnZOlZAbW+4+dk6VkARoCKyojdWQErO1rj+3lVAYYK84syzVUBhgrzizLNVQIAPMTs8p1VAgA8xOzynVUAOrVS+SHFVQAEKU8FCYlVAAQpTwUJiVUBd40Sjs74OQIzRYk7eXA5A7rC/dx82DkAAd+bhCzAOQJpzydTVKA5Acx79+A7nDUAKxV07V+ANQGGYrdIX0A1Aw63YnJYyDUBbso3FEygNQLcJPBiHFg1AivFjucGcDECMZiQFZFIMQIhd4E9YTwxA+rzt9/1LDEC+nhVivr4LQGsgQO7ZiQtAp74orTFqC0BJPSc39lkLQEk9Jzf2WQtAST0nN/ZZC0CPu6xczEULQI+7rFzMRQtAYaoZpmkJC0A=",
          "dtype": "f8"
         },
         "yaxis": "y4"
        }
       ],
       "layout": {
        "annotations": [
         {
          "font": {},
          "showarrow": false,
          "text": "language=L_tree",
          "x": 0.1175,
          "xanchor": "center",
          "xref": "paper",
          "y": 1,
          "yanchor": "bottom",
          "yref": "paper"
         },
         {
          "font": {},
          "showarrow": false,
          "text": "language=L_conj",
          "x": 0.3725,
          "xanchor": "center",
          "xref": "paper",
          "y": 1,
          "yanchor": "bottom",
          "yref": "paper"
         },
         {
          "font": {},
          "showarrow": false,
          "text": "language=L_poly",
          "x": 0.6275,
          "xanchor": "center",
          "xref": "paper",
          "y": 1,
          "yanchor": "bottom",
          "yref": "paper"
         },
         {
          "font": {},
          "showarrow": false,
          "text": "language=L_symb",
          "x": 0.8824999999999998,
          "xanchor": "center",
          "xref": "paper",
          "y": 1,
          "yanchor": "bottom",
          "yref": "paper"
         }
        ],
        "legend": {
         "itemsizing": "constant",
         "title": {
          "text": ""
         },
         "tracegroupgap": 0
        },
        "template": {
         "data": {
          "bar": [
           {
            "error_x": {
             "color": "#2a3f5f"
            },
            "error_y": {
             "color": "#2a3f5f"
            },
            "marker": {
             "line": {
              "color": "#E5ECF6",
              "width": 0.5
             },
             "pattern": {
              "fillmode": "overlay",
              "size": 10,
              "solidity": 0.2
             }
            },
            "type": "bar"
           }
          ],
          "barpolar": [
           {
            "marker": {
             "line": {
              "color": "#E5ECF6",
              "width": 0.5
             },
             "pattern": {
              "fillmode": "overlay",
              "size": 10,
              "solidity": 0.2
             }
            },
            "type": "barpolar"
           }
          ],
          "carpet": [
           {
            "aaxis": {
             "endlinecolor": "#2a3f5f",
             "gridcolor": "white",
             "linecolor": "white",
             "minorgridcolor": "white",
             "startlinecolor": "#2a3f5f"
            },
            "baxis": {
             "endlinecolor": "#2a3f5f",
             "gridcolor": "white",
             "linecolor": "white",
             "minorgridcolor": "white",
             "startlinecolor": "#2a3f5f"
            },
            "type": "carpet"
           }
          ],
          "choropleth": [
           {
            "colorbar": {
             "outlinewidth": 0,
             "ticks": ""
            },
            "type": "choropleth"
           }
          ],
          "contour": [
           {
            "colorbar": {
             "outlinewidth": 0,
             "ticks": ""
            },
            "colorscale": [
             [
              0,
              "#0d0887"
             ],
             [
              0.1111111111111111,
              "#46039f"
             ],
             [
              0.2222222222222222,
              "#7201a8"
             ],
             [
              0.3333333333333333,
              "#9c179e"
             ],
             [
              0.4444444444444444,
              "#bd3786"
             ],
             [
              0.5555555555555556,
              "#d8576b"
             ],
             [
              0.6666666666666666,
              "#ed7953"
             ],
             [
              0.7777777777777778,
              "#fb9f3a"
             ],
             [
              0.8888888888888888,
              "#fdca26"
             ],
             [
              1,
              "#f0f921"
             ]
            ],
            "type": "contour"
           }
          ],
          "contourcarpet": [
           {
            "colorbar": {
             "outlinewidth": 0,
             "ticks": ""
            },
            "type": "contourcarpet"
           }
          ],
          "heatmap": [
           {
            "colorbar": {
             "outlinewidth": 0,
             "ticks": ""
            },
            "colorscale": [
             [
              0,
              "#0d0887"
             ],
             [
              0.1111111111111111,
              "#46039f"
             ],
             [
              0.2222222222222222,
              "#7201a8"
             ],
             [
              0.3333333333333333,
              "#9c179e"
             ],
             [
              0.4444444444444444,
              "#bd3786"
             ],
             [
              0.5555555555555556,
              "#d8576b"
             ],
             [
              0.6666666666666666,
              "#ed7953"
             ],
             [
              0.7777777777777778,
              "#fb9f3a"
             ],
             [
              0.8888888888888888,
              "#fdca26"
             ],
             [
              1,
              "#f0f921"
             ]
            ],
            "type": "heatmap"
           }
          ],
          "histogram": [
           {
            "marker": {
             "pattern": {
              "fillmode": "overlay",
              "size": 10,
              "solidity": 0.2
             }
            },
            "type": "histogram"
           }
          ],
          "histogram2d": [
           {
            "colorbar": {
             "outlinewidth": 0,
             "ticks": ""
            },
            "colorscale": [
             [
              0,
              "#0d0887"
             ],
             [
              0.1111111111111111,
              "#46039f"
             ],
             [
              0.2222222222222222,
              "#7201a8"
             ],
             [
              0.3333333333333333,
              "#9c179e"
             ],
             [
              0.4444444444444444,
              "#bd3786"
             ],
             [
              0.5555555555555556,
              "#d8576b"
             ],
             [
              0.6666666666666666,
              "#ed7953"
             ],
             [
              0.7777777777777778,
              "#fb9f3a"
             ],
             [
              0.8888888888888888,
              "#fdca26"
             ],
             [
              1,
              "#f0f921"
             ]
            ],
            "type": "histogram2d"
           }
          ],
          "histogram2dcontour": [
           {
            "colorbar": {
             "outlinewidth": 0,
             "ticks": ""
            },
            "colorscale": [
             [
              0,
              "#0d0887"
             ],
             [
              0.1111111111111111,
              "#46039f"
             ],
             [
              0.2222222222222222,
              "#7201a8"
             ],
             [
              0.3333333333333333,
              "#9c179e"
             ],
             [
              0.4444444444444444,
              "#bd3786"
             ],
             [
              0.5555555555555556,
              "#d8576b"
             ],
             [
              0.6666666666666666,
              "#ed7953"
             ],
             [
              0.7777777777777778,
              "#fb9f3a"
             ],
             [
              0.8888888888888888,
              "#fdca26"
             ],
             [
              1,
              "#f0f921"
             ]
            ],
            "type": "histogram2dcontour"
           }
          ],
          "mesh3d": [
           {
            "colorbar": {
             "outlinewidth": 0,
             "ticks": ""
            },
            "type": "mesh3d"
           }
          ],
          "parcoords": [
           {
            "line": {
             "colorbar": {
              "outlinewidth": 0,
              "ticks": ""
             }
            },
            "type": "parcoords"
           }
          ],
          "pie": [
           {
            "automargin": true,
            "type": "pie"
           }
          ],
          "scatter": [
           {
            "fillpattern": {
             "fillmode": "overlay",
             "size": 10,
             "solidity": 0.2
            },
            "type": "scatter"
           }
          ],
          "scatter3d": [
           {
            "line": {
             "colorbar": {
              "outlinewidth": 0,
              "ticks": ""
             }
            },
            "marker": {
             "colorbar": {
              "outlinewidth": 0,
              "ticks": ""
             }
            },
            "type": "scatter3d"
           }
          ],
          "scattercarpet": [
           {
            "marker": {
             "colorbar": {
              "outlinewidth": 0,
              "ticks": ""
             }
            },
            "type": "scattercarpet"
           }
          ],
          "scattergeo": [
           {
            "marker": {
             "colorbar": {
              "outlinewidth": 0,
              "ticks": ""
             }
            },
            "type": "scattergeo"
           }
          ],
          "scattergl": [
           {
            "marker": {
             "colorbar": {
              "outlinewidth": 0,
              "ticks": ""
             }
            },
            "type": "scattergl"
           }
          ],
          "scattermap": [
           {
            "marker": {
             "colorbar": {
              "outlinewidth": 0,
              "ticks": ""
             }
            },
            "type": "scattermap"
           }
          ],
          "scattermapbox": [
           {
            "marker": {
             "colorbar": {
              "outlinewidth": 0,
              "ticks": ""
             }
            },
            "type": "scattermapbox"
           }
          ],
          "scatterpolar": [
           {
            "marker": {
             "colorbar": {
              "outlinewidth": 0,
              "ticks": ""
             }
            },
            "type": "scatterpolar"
           }
          ],
          "scatterpolargl": [
           {
            "marker": {
             "colorbar": {
              "outlinewidth": 0,
              "ticks": ""
             }
            },
            "type": "scatterpolargl"
           }
          ],
          "scatterternary": [
           {
            "marker": {
             "colorbar": {
              "outlinewidth": 0,
              "ticks": ""
             }
            },
            "type": "scatterternary"
           }
          ],
          "surface": [
           {
            "colorbar": {
             "outlinewidth": 0,
             "ticks": ""
            },
            "colorscale": [
             [
              0,
              "#0d0887"
             ],
             [
              0.1111111111111111,
              "#46039f"
             ],
             [
              0.2222222222222222,
              "#7201a8"
             ],
             [
              0.3333333333333333,
              "#9c179e"
             ],
             [
              0.4444444444444444,
              "#bd3786"
             ],
             [
              0.5555555555555556,
              "#d8576b"
             ],
             [
              0.6666666666666666,
              "#ed7953"
             ],
             [
              0.7777777777777778,
              "#fb9f3a"
             ],
             [
              0.8888888888888888,
              "#fdca26"
             ],
             [
              1,
              "#f0f921"
             ]
            ],
            "type": "surface"
           }
          ],
          "table": [
           {
            "cells": {
             "fill": {
              "color": "#EBF0F8"
             },
             "line": {
              "color": "white"
             }
            },
            "header": {
             "fill": {
              "color": "#C8D4E3"
             },
             "line": {
              "color": "white"
             }
            },
            "type": "table"
           }
          ]
         },
         "layout": {
          "annotationdefaults": {
           "arrowcolor": "#2a3f5f",
           "arrowhead": 0,
           "arrowwidth": 1
          },
          "autotypenumbers": "strict",
          "coloraxis": {
           "colorbar": {
            "outlinewidth": 0,
            "ticks": ""
           }
          },
          "colorscale": {
           "diverging": [
            [
             0,
             "#8e0152"
            ],
            [
             0.1,
             "#c51b7d"
            ],
            [
             0.2,
             "#de77ae"
            ],
            [
             0.3,
             "#f1b6da"
            ],
            [
             0.4,
             "#fde0ef"
            ],
            [
             0.5,
             "#f7f7f7"
            ],
            [
             0.6,
             "#e6f5d0"
            ],
            [
             0.7,
             "#b8e186"
            ],
            [
             0.8,
             "#7fbc41"
            ],
            [
             0.9,
             "#4d9221"
            ],
            [
             1,
             "#276419"
            ]
           ],
           "sequential": [
            [
             0,
             "#0d0887"
            ],
            [
             0.1111111111111111,
             "#46039f"
            ],
            [
             0.2222222222222222,
             "#7201a8"
            ],
            [
             0.3333333333333333,
             "#9c179e"
            ],
            [
             0.4444444444444444,
             "#bd3786"
            ],
            [
             0.5555555555555556,
             "#d8576b"
            ],
            [
             0.6666666666666666,
             "#ed7953"
            ],
            [
             0.7777777777777778,
             "#fb9f3a"
            ],
            [
             0.8888888888888888,
             "#fdca26"
            ],
            [
             1,
             "#f0f921"
            ]
           ],
           "sequentialminus": [
            [
             0,
             "#0d0887"
            ],
            [
             0.1111111111111111,
             "#46039f"
            ],
            [
             0.2222222222222222,
             "#7201a8"
            ],
            [
             0.3333333333333333,
             "#9c179e"
            ],
            [
             0.4444444444444444,
             "#bd3786"
            ],
            [
             0.5555555555555556,
             "#d8576b"
            ],
            [
             0.6666666666666666,
             "#ed7953"
            ],
            [
             0.7777777777777778,
             "#fb9f3a"
            ],
            [
             0.8888888888888888,
             "#fdca26"
            ],
            [
             1,
             "#f0f921"
            ]
           ]
          },
          "colorway": [
           "#636efa",
           "#EF553B",
           "#00cc96",
           "#ab63fa",
           "#FFA15A",
           "#19d3f3",
           "#FF6692",
           "#B6E880",
           "#FF97FF",
           "#FECB52"
          ],
          "font": {
           "color": "#2a3f5f"
          },
          "geo": {
           "bgcolor": "white",
           "lakecolor": "white",
           "landcolor": "#E5ECF6",
           "showlakes": true,
           "showland": true,
           "subunitcolor": "white"
          },
          "hoverlabel": {
           "align": "left"
          },
          "hovermode": "closest",
          "mapbox": {
           "style": "light"
          },
          "paper_bgcolor": "white",
          "plot_bgcolor": "#E5ECF6",
          "polar": {
           "angularaxis": {
            "gridcolor": "white",
            "linecolor": "white",
            "ticks": ""
           },
           "bgcolor": "#E5ECF6",
           "radialaxis": {
            "gridcolor": "white",
            "linecolor": "white",
            "ticks": ""
           }
          },
          "scene": {
           "xaxis": {
            "backgroundcolor": "#E5ECF6",
            "gridcolor": "white",
            "gridwidth": 2,
            "linecolor": "white",
            "showbackground": true,
            "ticks": "",
            "zerolinecolor": "white"
           },
           "yaxis": {
            "backgroundcolor": "#E5ECF6",
            "gridcolor": "white",
            "gridwidth": 2,
            "linecolor": "white",
            "showbackground": true,
            "ticks": "",
            "zerolinecolor": "white"
           },
           "zaxis": {
            "backgroundcolor": "#E5ECF6",
            "gridcolor": "white",
            "gridwidth": 2,
            "linecolor": "white",
            "showbackground": true,
            "ticks": "",
            "zerolinecolor": "white"
           }
          },
          "shapedefaults": {
           "line": {
            "color": "#2a3f5f"
           }
          },
          "ternary": {
           "aaxis": {
            "gridcolor": "white",
            "linecolor": "white",
            "ticks": ""
           },
           "baxis": {
            "gridcolor": "white",
            "linecolor": "white",
            "ticks": ""
           },
           "bgcolor": "#E5ECF6",
           "caxis": {
            "gridcolor": "white",
            "linecolor": "white",
            "ticks": ""
           }
          },
          "title": {
           "x": 0.05
          },
          "xaxis": {
           "automargin": true,
           "gridcolor": "white",
           "linecolor": "white",
           "ticks": "",
           "title": {
            "standoff": 15
           },
           "zerolinecolor": "white",
           "zerolinewidth": 2
          },
          "yaxis": {
           "automargin": true,
           "gridcolor": "white",
           "linecolor": "white",
           "ticks": "",
           "title": {
            "standoff": 15
           },
           "zerolinecolor": "white",
           "zerolinewidth": 2
          }
         }
        },
        "title": {
         "text": "Quality vs Complexity by Language (Pareto highlighted)"
        },
        "xaxis": {
         "anchor": "y",
         "domain": [
          0,
          0.235
         ],
         "title": {
          "text": "complexity"
         }
        },
        "xaxis2": {
         "anchor": "y2",
         "domain": [
          0.255,
          0.49
         ],
         "matches": "x",
         "title": {
          "text": "complexity"
         }
        },
        "xaxis3": {
         "anchor": "y3",
         "domain": [
          0.51,
          0.745
         ],
         "matches": "x",
         "title": {
          "text": "complexity"
         }
        },
        "xaxis4": {
         "anchor": "y4",
         "domain": [
          0.7649999999999999,
          0.9999999999999999
         ],
         "matches": "x",
         "title": {
          "text": "complexity"
         }
        },
        "yaxis": {
         "anchor": "x",
         "domain": [
          0,
          1
         ],
         "title": {
          "text": "q_residual"
         }
        },
        "yaxis2": {
         "anchor": "x2",
         "domain": [
          0,
          1
         ],
         "matches": "y",
         "showticklabels": false
        },
        "yaxis3": {
         "anchor": "x3",
         "domain": [
          0,
          1
         ],
         "matches": "y",
         "showticklabels": false
        },
        "yaxis4": {
         "anchor": "x4",
         "domain": [
          0,
          1
         ],
         "matches": "y",
         "showticklabels": false
        }
       }
      }
     },
     "metadata": {},
     "output_type": "display_data"
    },
    {
     "data": {
      "application/vnd.plotly.v1+json": {
       "config": {
        "plotlyServerURL": "https://plot.ly"
       },
       "data": [
        {
         "customdata": [
          [
           "Husband_Occupation <= 1.5 AND Contraceptive_Method <= 1.5 AND Children <= 1.5 AND SOLI > 2.5",
           null,
           "cmc",
           "L_tree",
           0.0009990009990009,
           10.993360719513667
          ],
          [
           "Contraceptive_Method <= 1 AND Wife_Education > 3 AND Wife_religion > 0",
           null,
           "cmc",
           "L_conj",
           0.0009990009990009,
           10.55884743745345
          ],
          [
           "Children*Husband_Occupation <= 2 AND Contraceptive_Method*Husband_Occupation <= 1",
           null,
           "cmc",
           "L_poly",
           0.0009990009990009,
           9.353360875687542
          ],
          [
           "Husband_Occupation <= 1 AND Contraceptive_Method <= 1",
           null,
           "cmc",
           "L_poly",
           0.0009990009990009,
           8.878672763952126
          ],
          [
           "Contraceptive_Method <= 1 AND Wife_Education > 3",
           null,
           "cmc",
           "L_poly",
           0.0009990009990009,
           8.752770310048032
          ],
          [
           "(Wife_Education - Contraceptive_Method) > 2",
           "(Wife_Education - Contraceptive_Method)",
           "cmc",
           "L_symb",
           0.0009990009990009,
           8.752770310048032
          ],
          [
           "(Wife_Education / Contraceptive_Method) > 3",
           "(Wife_Education / Contraceptive_Method)",
           "cmc",
           "L_symb",
           0.0009990009990009,
           8.752770310048032
          ],
          [
           "Husband_Occupation > 1.5 AND Contraceptive_Method <= 1.5 AND SOLI > 2.5 AND Wife_Education > 3.5",
           null,
           "cmc",
           "L_tree",
           0.0059940059940059,
           3.4151570657333017
          ],
          [
           "Husband_Occupation > 1.5 AND Contraceptive_Method > 1.5 AND SOLI > 2.5 AND Children > 3.5",
           null,
           "cmc",
           "L_tree",
           0.0019980019980019,
           3.189994652522251
          ],
          [
           "PTRATIO > 19.7 AND LSTAT <= 11.45 AND DIS <= 2.1",
           null,
           "housing",
           "L_conj",
           0.0009990009990009,
           14.821385216663389
          ],
          [
           "NOX > 0.507 AND LSTAT <= 10.11 AND RAD > 5",
           null,
           "housing",
           "L_conj",
           0.0009990009990009,
           12.902818768188368
          ],
          [
           "DIS <= 1.951 AND LSTAT <= 13.66",
           null,
           "housing",
           "L_poly",
           0.0009990009990009,
           10.658807963367984
          ],
          [
           "CHAS > 0 AND TAX > 403",
           null,
           "housing",
           "L_poly",
           0.0009990009990009,
           8.300744393284562
          ],
          [
           "(CHAS + RAD) > 24",
           "(CHAS + RAD)",
           "housing",
           "L_symb",
           0.0009990009990009,
           8.300744393284562
          ],
          [
           "DIS <= 1.34",
           null,
           "housing",
           "L_tree",
           0.0009990009990009,
           8.053246424196972
          ],
          [
           "weight > 2155 AND model > 79 AND cylinders > 4",
           null,
           "auto-mpg",
           "L_conj",
           0.0009990009990009,
           7.697194268519074
          ],
          [
           "model > 79.5 AND displacement > 212.5",
           null,
           "auto-mpg",
           "L_tree",
           0.0009990009990009,
           7.412952324951673
          ],
          [
           "horsepower*weight > 2.281e+05 AND model > 79",
           null,
           "auto-mpg",
           "L_poly",
           0.0009990009990009,
           5.819633911561566
          ],
          [
           "model > 80 AND cylinders > 4",
           null,
           "auto-mpg",
           "L_poly",
           0.0009990009990009,
           5.624558704454521
          ],
          [
           "(model + origin) > 80",
           "(model + origin)",
           "auto-mpg",
           "L_symb",
           0.0009990009990009,
           5.554578124824493
          ],
          [
           "model > 79",
           "model",
           "auto-mpg",
           "L_symb",
           0.0009990009990009,
           5.4188941208191554
          ],
          [
           "timbre_avg_3*timbre_cov_3_3 > 1758 AND timbre_avg_1*timbre_avg_6 > -409.9",
           null,
           "msd",
           "L_poly",
           0.0009990009990009,
           121.73917678179124
          ],
          [
           "timbre_avg_3*timbre_cov_3_3 > 1758 AND timbre_avg_6 > -9.93",
           null,
           "msd",
           "L_poly",
           0.0009990009990009,
           120.18703973864685
          ],
          [
           "timbre_avg_6 > -8.1 AND timbre_avg_3 > 16.18 AND timbre_cov_3_3 > 19.42",
           null,
           "msd",
           "L_conj",
           0.0009990009990009,
           119.56675051862752
          ],
          [
           "timbre_avg_6 > 0.04687 AND timbre_avg_3*timbre_cov_3_3 > 988.5",
           null,
           "msd",
           "L_poly",
           0.0009990009990009,
           112.98888664973497
          ],
          [
           "(timbre_avg_6 + timbre_avg_3) > 33.77",
           "(timbre_avg_6 + timbre_avg_3)",
           "msd",
           "L_symb",
           0.0009990009990009,
           103.25460850535949
          ],
          [
           "timbre_avg_6 > -8.76 AND timbre_avg_3 > 26.79 AND timbre_avg_2 <= -54.36 AND timbre_cov_7_10 <= -104.34",
           null,
           "msd",
           "L_tree",
           0.0009990009990009,
           95.25446104174016
          ],
          [
           "timbre_avg_6 > -8.76 AND timbre_avg_3 > 26.79 AND timbre_avg_2 > -54.36 AND timbre_cov_3_3 > 37.2",
           null,
           "msd",
           "L_tree",
           0.0009990009990009,
           79.93108245053519
          ],
          [
           "day > 6 AND month > 8 AND ISI > 8.56",
           null,
           "forestfires",
           "L_conj",
           0.0009990009990009,
           8.808614423812413
          ],
          [
           "temp > 25.05 AND temp <= 25.45",
           null,
           "forestfires",
           "L_tree",
           0.0009990009990009,
           8.550773488447913
          ],
          [
           "day > 6 AND temp > 24.1",
           null,
           "forestfires",
           "L_poly",
           0.0059940059940059,
           5.254725018167259
          ],
          [
           "temp > 24.6",
           "temp",
           "forestfires",
           "L_symb",
           0.0009990009990009,
           3.8431160693548194
          ]
         ],
         "hovertemplate": "ParetoLabel=Pareto<br>complexity=%{x}<br>size=%{y}<br>q_residual=%{z}<br>rule=%{customdata[0]}<br>expr=%{customdata[1]}<br>dataset=%{customdata[2]}<br>language=%{customdata[3]}<br>p_value=%{customdata[4]}<br>q_perm=%{customdata[5]}<extra></extra>",
         "legendgroup": "Pareto",
         "marker": {
          "color": "#636efa",
          "symbol": "circle"
         },
         "mode": "markers",
         "name": "Pareto",
         "scene": "scene",
         "showlegend": true,
         "type": "scatter3d",
         "x": {
          "bdata": "AAAAAAAAJkAAAAAAAAAUQAAAAAAAACJAAAAAAAAAGEAAAAAAAAAQQAAAAAAAAAhAAAAAAAAACEAAAAAAAAAiQAAAAAAAACBAAAAAAAAAGEAAAAAAAAAUQAAAAAAAABRAAAAAAAAACEAAAAAAAAAIQAAAAAAAAAhAAAAAAAAAEEAAAAAAAAAIQAAAAAAAABRAAAAAAAAACEAAAAAAAAAIQAAAAAAAAABAAAAAAAAAGEAAAAAAAAAUQAAAAAAAABRAAAAAAAAAEEAAAAAAAAAIQAAAAAAAACRAAAAAAAAAHEAAAAAAAAAQQAAAAAAAABBAAAAAAAAACEAAAAAAAAAAQA==",
          "dtype": "f8"
         },
         "y": {
          "bdata": "NwAAAIQAAABfAAAAngAAAK8AAACvAAAArwAAAEEAAAC1AAAACAAAAAsAAAAVAAAACAAAAAgAAAAKAAAADgAAAAYAAAAeAAAACwAAAGcAAABZAAAAkfEAAJXxAACkAQEAC6EAAIUfAQCPGwAAfnwAAAYAAAAGAAAAEAAAAEcAAAA=",
          "dtype": "i4"
         },
         "z": {
          "bdata": "bOK2xpn8JUDHoVZAIR4lQCCHebfrtCJA4R6CZeHBIUC2HC4ca4EhQLYcLhxrgSFAthwuHGuBIUALOSDePVILQM77l+obhQlAafllmoykLUAIK/dCPs4pQL8hoe3/tyRAoTlLK/uZIEChOUsr+5kgQCEchR1DGyBABf5YS+3JHkD+5Wn53KYdQN9lsxxORxdA10EoUYx/FkD2yvRT4zcWQKqelZTyrBVAUG4RuZduXkAXGmBMcgteQMKf96NF5F1AkNUmioE/XEBb83iBS9BZQFMY9xZJ0FdAuwII6b78U0BHsrK1Ap4hQHbGkPv+GSFAawGaotYEFUBd40Sjs74OQA==",
          "dtype": "f8"
         }
        },
        {
         "customdata": [
          [
           "Husband_Occupation <= 1 AND Contraceptive_Method <= 1 AND Children <= 1",
           null,
           "cmc",
           "L_conj",
           0.0009990009990009,
           10.135344678014418
          ],
          [
           "Contraceptive_Method <= 1 AND Wife_Education > 2 AND Husband_Occupation <= 1",
           null,
           "cmc",
           "L_conj",
           0.0009990009990009,
           9.93806084165253
          ],
          [
           "Husband_Occupation <= 1 AND Children <= 5 AND Contraceptive_Method <= 1",
           null,
           "cmc",
           "L_conj",
           0.0009990009990009,
           9.921269435134285
          ],
          [
           "Contraceptive_Method <= 1 AND SOLI > 2 AND Husband_Occupation <= 1",
           null,
           "cmc",
           "L_conj",
           0.0009990009990009,
           9.735055678692198
          ],
          [
           "Contraceptive_Method <= 1 AND Wife_Education > 3 AND Children > 0",
           null,
           "cmc",
           "L_conj",
           0.0009990009990009,
           9.674520067517449
          ],
          [
           "Contraceptive_Method <= 1 AND SOLI > 2 AND Wife_Education > 3",
           null,
           "cmc",
           "L_conj",
           0.0009990009990009,
           9.623643051286765
          ],
          [
           "Contraceptive_Method <= 1 AND Wife_Education > 3 AND Children <= 1",
           null,
           "cmc",
           "L_conj",
           0.0009990009990009,
           9.49994836779798
          ],
          [
           "Contraceptive_Method <= 1 AND Husband_Education > 3 AND Husband_Occupation <= 1",
           null,
           "cmc",
           "L_conj",
           0.0009990009990009,
           9.404558406897976
          ],
          [
           "Husband_Occupation <= 1 AND Contraceptive_Method <= 1 AND Children <= 2.2",
           null,
           "cmc",
           "L_conj",
           0.0009990009990009,
           9.353360875687542
          ],
          [
           "Contraceptive_Method <= 1 AND Wife_Education > 2 AND SOLI > 2",
           null,
           "cmc",
           "L_conj",
           0.0009990009990009,
           9.349234723707111
          ],
          [
           "Husband_Occupation <= 1 AND Contraceptive_Method <= 1 AND Children <= 4",
           null,
           "cmc",
           "L_conj",
           0.0009990009990009,
           9.330560487074788
          ],
          [
           "Contraceptive_Method <= 1 AND Children <= 5 AND Wife_Education > 3",
           null,
           "cmc",
           "L_conj",
           0.0009990009990009,
           9.21473294094818
          ],
          [
           "Husband_Occupation <= 1 AND Contraceptive_Method <= 1 AND Wife_Education > 3",
           null,
           "cmc",
           "L_conj",
           0.0009990009990009,
           9.169141932988094
          ],
          [
           "Wife_Education > 3 AND Children <= 4 AND Contraceptive_Method <= 1",
           null,
           "cmc",
           "L_conj",
           0.0009990009990009,
           9.16675484425009
          ],
          [
           "Contraceptive_Method <= 1 AND Wife_Education > 3 AND SOLI > 3",
           null,
           "cmc",
           "L_conj",
           0.0009990009990009,
           9.11581261556555
          ],
          [
           "Husband_Occupation <= 1 AND Contraceptive_Method <= 1 AND Media_Exposure <= 0",
           null,
           "cmc",
           "L_conj",
           0.0009990009990009,
           9.11557215786377
          ],
          [
           "Contraceptive_Method <= 1 AND Wife_Education > 3 AND Children <= 2",
           null,
           "cmc",
           "L_conj",
           0.0009990009990009,
           9.111999068273793
          ],
          [
           "Contraceptive_Method <= 1 AND Husband_Education > 2 AND Husband_Occupation <= 1",
           null,
           "cmc",
           "L_conj",
           0.0009990009990009,
           9.07634337583464
          ],
          [
           "Contraceptive_Method <= 1 AND Husband_Education > 3 AND Wife_Education > 3",
           null,
           "cmc",
           "L_conj",
           0.0009990009990009,
           9.001182579001426
          ],
          [
           "Contraceptive_Method <= 1 AND Husband_Education > 2 AND Wife_Education > 3",
           null,
           "cmc",
           "L_conj",
           0.0009990009990009,
           8.931825426789596
          ],
          [
           "Husband_Occupation <= 1 AND Contraceptive_Method <= 1",
           null,
           "cmc",
           "L_conj",
           0.0009990009990009,
           8.878672763952126
          ],
          [
           "Contraceptive_Method <= 1 AND Wife_Education > 3 AND Wife_working > 0",
           null,
           "cmc",
           "L_conj",
           0.0009990009990009,
           8.875684194346334
          ],
          [
           "Contraceptive_Method <= 1 AND Wife_Education > 3 AND Media_Exposure <= 0",
           null,
           "cmc",
           "L_conj",
           0.0009990009990009,
           8.854840370644496
          ],
          [
           "Husband_Occupation <= 1 AND Contraceptive_Method <= 1 AND Wife_working > 0",
           null,
           "cmc",
           "L_conj",
           0.0009990009990009,
           8.826789372273675
          ],
          [
           "Husband_Occupation <= 1 AND Contraceptive_Method*Husband_Education <= 4",
           null,
           "cmc",
           "L_poly",
           0.0009990009990009,
           8.819180467572426
          ],
          [
           "(Contraceptive_Method / Wife_Education) <= 0.33",
           "(Contraceptive_Method / Wife_Education)",
           "cmc",
           "L_symb",
           0.0009990009990009,
           8.752770310048032
          ],
          [
           "Wife_Education > 3 AND Contraceptive_Method*Husband_Education <= 4",
           null,
           "cmc",
           "L_poly",
           0.0009990009990009,
           8.64623395495096
          ],
          [
           "Husband_Occupation <= 1 AND Contraceptive_Method*SOLI <= 4",
           null,
           "cmc",
           "L_poly",
           0.0009990009990009,
           8.343723175029968
          ],
          [
           "Wife_Education > 3 AND Contraceptive_Method*SOLI <= 4",
           null,
           "cmc",
           "L_poly",
           0.0009990009990009,
           7.996109537248805
          ],
          [
           "Contraceptive_Method <= 1 AND Husband_Education*SOLI > 8",
           null,
           "cmc",
           "L_poly",
           0.0009990009990009,
           7.988198326806984
          ],
          [
           "Contraceptive_Method*Husband_Occupation <= 2 AND Children*Husband_Occupation <= 1",
           null,
           "cmc",
           "L_poly",
           0.0009990009990009,
           7.629837560340422
          ],
          [
           "Husband_Occupation <= 1 AND Children <= 1",
           null,
           "cmc",
           "L_poly",
           0.0009990009990009,
           7.42545113198068
          ],
          [
           "Contraceptive_Method <= 1 AND Husband_Education*SOLI > 12",
           null,
           "cmc",
           "L_poly",
           0.0009990009990009,
           7.418168393312231
          ],
          [
           "Husband_Occupation <= 1 AND Children*Husband_Education <= 4",
           null,
           "cmc",
           "L_poly",
           0.0009990009990009,
           7.26865283963093
          ],
          [
           "(Wife_Education / Contraceptive_Method) > 2",
           "(Wife_Education / Contraceptive_Method)",
           "cmc",
           "L_symb",
           0.0009990009990009,
           7.250650697496776
          ],
          [
           "Contraceptive_Method <= 1 AND Wife_Education > 2",
           null,
           "cmc",
           "L_poly",
           0.0009990009990009,
           7.250650697496776
          ],
          [
           "(SOLI / Contraceptive_Method) > 2",
           "(SOLI / Contraceptive_Method)",
           "cmc",
           "L_symb",
           0.0009990009990009,
           7.217053160278994
          ],
          [
           "Contraceptive_Method <= 1 AND SOLI > 2",
           null,
           "cmc",
           "L_poly",
           0.0009990009990009,
           7.217053160278994
          ],
          [
           "Contraceptive_Method*Husband_Education <= 4 AND Wife_Education > 2",
           null,
           "cmc",
           "L_poly",
           0.0009990009990009,
           7.096926968503321
          ],
          [
           "Children*Husband_Occupation <= 4 AND Wife_Education > 3",
           null,
           "cmc",
           "L_poly",
           0.0009990009990009,
           7.0102364135747175
          ],
          [
           "Husband_Occupation <= 1 AND Children <= 2",
           null,
           "cmc",
           "L_poly",
           0.0009990009990009,
           6.922021145750641
          ],
          [
           "(Contraceptive_Method - SOLI) <= -3",
           "(Contraceptive_Method - SOLI)",
           "cmc",
           "L_symb",
           0.0009990009990009,
           6.911484090354968
          ],
          [
           "(SOLI - Contraceptive_Method) > 2",
           "(SOLI - Contraceptive_Method)",
           "cmc",
           "L_symb",
           0.0009990009990009,
           6.911484090354968
          ],
          [
           "(SOLI / Contraceptive_Method) > 3",
           "(SOLI / Contraceptive_Method)",
           "cmc",
           "L_symb",
           0.0009990009990009,
           6.911484090354968
          ],
          [
           "(Contraceptive_Method / SOLI) <= 0.33",
           "(Contraceptive_Method / SOLI)",
           "cmc",
           "L_symb",
           0.0009990009990009,
           6.911484090354968
          ],
          [
           "(Contraceptive_Method / SOLI) <= 0.25",
           "(Contraceptive_Method / SOLI)",
           "cmc",
           "L_symb",
           0.0009990009990009,
           6.911484090354968
          ],
          [
           "Contraceptive_Method <= 1 AND SOLI > 3",
           null,
           "cmc",
           "L_poly",
           0.0009990009990009,
           6.911484090354968
          ],
          [
           "Children*Husband_Occupation <= 4 AND Husband_Education*SOLI > 8",
           null,
           "cmc",
           "L_poly",
           0.0009990009990009,
           6.881809692349907
          ],
          [
           "Husband_Occupation <= 1 AND Children*Husband_Education <= 8",
           null,
           "cmc",
           "L_poly",
           0.0009990009990009,
           6.876260168251294
          ],
          [
           "(Husband_Education / Contraceptive_Method) > 3",
           "(Husband_Education / Contraceptive_Method)",
           "cmc",
           "L_symb",
           0.0009990009990009,
           6.8750253976290585
          ],
          [
           "(Husband_Education - Contraceptive_Method) > 2",
           "(Husband_Education - Contraceptive_Method)",
           "cmc",
           "L_symb",
           0.0009990009990009,
           6.8750253976290585
          ],
          [
           "(Contraceptive_Method / Husband_Education) <= 0.33",
           "(Contraceptive_Method / Husband_Education)",
           "cmc",
           "L_symb",
           0.0009990009990009,
           6.8750253976290585
          ],
          [
           "(Contraceptive_Method / Husband_Education) <= 0.25",
           "(Contraceptive_Method / Husband_Education)",
           "cmc",
           "L_symb",
           0.0009990009990009,
           6.8750253976290585
          ],
          [
           "(Contraceptive_Method - Husband_Education) <= -3",
           "(Contraceptive_Method - Husband_Education)",
           "cmc",
           "L_symb",
           0.0009990009990009,
           6.8750253976290585
          ],
          [
           "Contraceptive_Method <= 1 AND Husband_Education > 3",
           null,
           "cmc",
           "L_poly",
           0.0009990009990009,
           6.8750253976290585
          ],
          [
           "Husband_Education*SOLI > 6 AND Contraceptive_Method <= 1",
           null,
           "cmc",
           "L_poly",
           0.0009990009990009,
           6.849669586856689
          ],
          [
           "Contraceptive_Method*Husband_Education <= 4 AND SOLI > 2",
           null,
           "cmc",
           "L_poly",
           0.0009990009990009,
           6.844555237825002
          ],
          [
           "Contraceptive_Method <= 1 AND Husband_Education*Husband_Occupation <= 4",
           null,
           "cmc",
           "L_poly",
           0.0009990009990009,
           6.786726650759187
          ],
          [
           "Wife_Education > 3 AND Children*Husband_Occupation <= 3",
           null,
           "cmc",
           "L_poly",
           0.0009990009990009,
           6.786068180627693
          ],
          [
           "(Wife_Education - Children) > 2",
           "(Wife_Education - Children)",
           "cmc",
           "L_symb",
           0.0009990009990009,
           6.647285559772248
          ],
          [
           "(Husband_Occupation / Wife_religion) <= 1",
           "(Husband_Occupation / Wife_religion)",
           "cmc",
           "L_symb",
           0.0009990009990009,
           6.359328704305682
          ],
          [
           "(Husband_Occupation - Wife_religion) <= 0",
           "(Husband_Occupation - Wife_religion)",
           "cmc",
           "L_symb",
           0.0009990009990009,
           6.359328704305682
          ],
          [
           "(Wife_religion / Husband_Occupation) > 0.5",
           "(Wife_religion / Husband_Occupation)",
           "cmc",
           "L_symb",
           0.0009990009990009,
           6.359328704305682
          ],
          [
           "(Wife_religion - Husband_Occupation) > -1",
           "(Wife_religion - Husband_Occupation)",
           "cmc",
           "L_symb",
           0.0009990009990009,
           6.359328704305682
          ],
          [
           "(Husband_Education / Husband_Occupation) > 3",
           "(Husband_Education / Husband_Occupation)",
           "cmc",
           "L_symb",
           0.0009990009990009,
           6.074512226641989
          ],
          [
           "(Husband_Occupation - Husband_Education) <= -3",
           "(Husband_Occupation - Husband_Education)",
           "cmc",
           "L_symb",
           0.0009990009990009,
           6.074512226641989
          ],
          [
           "(Husband_Occupation / Husband_Education) <= 0.33",
           "(Husband_Occupation / Husband_Education)",
           "cmc",
           "L_symb",
           0.0009990009990009,
           6.074512226641989
          ],
          [
           "(Husband_Occupation / Husband_Education) <= 0.25",
           "(Husband_Occupation / Husband_Education)",
           "cmc",
           "L_symb",
           0.0009990009990009,
           6.074512226641989
          ],
          [
           "(Husband_Education - Husband_Occupation) > 2",
           "(Husband_Education - Husband_Occupation)",
           "cmc",
           "L_symb",
           0.0009990009990009,
           6.074512226641989
          ],
          [
           "Husband_Occupation <= 1.5 AND Contraceptive_Method <= 1.5 AND Children > 1.5 AND Children <= 5.5",
           null,
           "cmc",
           "L_tree",
           0.0019980019980019,
           4.2100727723749785
          ],
          [
           "Husband_Occupation > 1.5 AND Contraceptive_Method > 1.5 AND SOLI <= 2.5 AND Husband_Education <= 3.5",
           null,
           "cmc",
           "L_tree",
           0.0009990009990009,
           3.3391795564051483
          ],
          [
           "Husband_Occupation > 1.5 AND Contraceptive_Method <= 1.5 AND SOLI <= 2.5 AND Children > 5.5",
           null,
           "cmc",
           "L_tree",
           0.0419580419580419,
           2.039997791615902
          ],
          [
           "Husband_Occupation > 1.5 AND Contraceptive_Method <= 1.5 AND SOLI <= 2.5 AND Children <= 5.5",
           null,
           "cmc",
           "L_tree",
           0.0289710289710289,
           2.0389839520777415
          ],
          [
           "Husband_Occupation <= 1.5 AND Contraceptive_Method > 1.5 AND Children <= 5.5 AND SOLI > 3.5",
           null,
           "cmc",
           "L_tree",
           0.0449550449550449,
           1.8662666783485855
          ],
          [
           "Husband_Occupation > 1.5 AND Contraceptive_Method > 1.5 AND SOLI <= 2.5 AND Husband_Education > 3.5",
           null,
           "cmc",
           "L_tree",
           0.0819180819180819,
           1.6054841808728082
          ],
          [
           "Husband_Occupation <= 1.5 AND Contraceptive_Method > 1.5 AND Children > 5.5 AND Children <= 6.5",
           null,
           "cmc",
           "L_tree",
           0.0779220779220779,
           1.5887025810769082
          ],
          [
           "Husband_Occupation > 1.5 AND Contraceptive_Method > 1.5 AND SOLI > 2.5 AND Children <= 3.5",
           null,
           "cmc",
           "L_tree",
           0.0689310689310689,
           1.5666803805796454
          ],
          [
           "Husband_Occupation <= 1.5 AND Contraceptive_Method <= 1.5 AND Children > 1.5 AND Children > 5.5",
           null,
           "cmc",
           "L_tree",
           0.1168831168831168,
           1.3639752649267858
          ],
          [
           "Husband_Occupation <= 1.5 AND Contraceptive_Method > 1.5 AND Children > 5.5 AND Children > 6.5",
           null,
           "cmc",
           "L_tree",
           0.1348651348651348,
           1.3202727157339929
          ],
          [
           "Husband_Occupation <= 1.5 AND Contraceptive_Method > 1.5 AND Children <= 5.5 AND SOLI <= 3.5",
           null,
           "cmc",
           "L_tree",
           0.1828171828171828,
           1.2230416815125549
          ],
          [
           "Husband_Occupation > 1.5 AND Contraceptive_Method <= 1.5 AND SOLI > 2.5 AND Wife_Education <= 3.5",
           null,
           "cmc",
           "L_tree",
           0.6103896103896104,
           0.4833913048912631
          ],
          [
           "Husband_Occupation <= 1.5 AND Contraceptive_Method <= 1.5 AND Children <= 1.5 AND SOLI <= 2.5",
           null,
           "cmc",
           "L_tree",
           0.7132867132867133,
           0.3825945228858481
          ],
          [
           "LSTAT <= 9.53 AND PTRATIO > 19.2 AND DIS <= 2.22",
           null,
           "housing",
           "L_conj",
           0.0009990009990009,
           13.653499891890718
          ],
          [
           "LSTAT <= 9.53 AND DIS <= 3.09 AND CRIM > 2.3",
           null,
           "housing",
           "L_conj",
           0.0009990009990009,
           13.542352749557306
          ],
          [
           "LSTAT <= 13.33 AND RAD > 7 AND DIS <= 1.93",
           null,
           "housing",
           "L_conj",
           0.0009990009990009,
           13.267806976441216
          ],
          [
           "DIS <= 1.951 AND LSTAT <= 13.66 AND CRIM > 1.5",
           null,
           "housing",
           "L_conj",
           0.0009990009990009,
           13.896076421259082
          ],
          [
           "LSTAT <= 9.53 AND B <= 383.2 AND RAD > 8",
           null,
           "housing",
           "L_conj",
           0.0009990009990009,
           13.147809115919529
          ],
          [
           "LSTAT <= 9.53 AND INDUS > 8.39 AND NOX > 0.63",
           null,
           "housing",
           "L_conj",
           0.0009990009990009,
           12.860689756498871
          ],
          [
           "LSTAT <= 9.53 AND AGE > 76.96 AND CRIM > 3.47",
           null,
           "housing",
           "L_conj",
           0.0009990009990009,
           12.854061345908308
          ],
          [
           "NOX > 0.507 AND LSTAT <= 10.11 AND TAX > 406.8",
           null,
           "housing",
           "L_conj",
           0.0009990009990009,
           12.794333764405696
          ],
          [
           "PTRATIO > 19.7 AND LSTAT <= 11.45 AND B <= 375.5",
           null,
           "housing",
           "L_conj",
           0.0009990009990009,
           12.000068333309889
          ],
          [
           "B <= 388 AND LSTAT <= 11.98 AND RAD > 8",
           null,
           "housing",
           "L_conj",
           0.0009990009990009,
           12.577117482350856
          ],
          [
           "DIS <= 2.64 AND LSTAT <= 11.65 AND RAD > 5",
           null,
           "housing",
           "L_conj",
           0.0009990009990009,
           12.573562278632876
          ],
          [
           "LSTAT <= 9.53 AND DIS <= 3.09 AND RAD > 5",
           null,
           "housing",
           "L_conj",
           0.0009990009990009,
           12.566533294662175
          ],
          [
           "INDUS > 7.38 AND LSTAT <= 10.45 AND DIS <= 1.96",
           null,
           "housing",
           "L_conj",
           0.0009990009990009,
           12.45382249771844
          ],
          [
           "LSTAT <= 9.53 AND CRIM > 0.37 AND RAD > 8",
           null,
           "housing",
           "L_conj",
           0.0009990009990009,
           12.363340375162384
          ],
          [
           "NOX > 0.507 AND LSTAT <= 10.11 AND CRIM > 2.19",
           null,
           "housing",
           "L_conj",
           0.0009990009990009,
           12.2866384254317
          ],
          [
           "LSTAT <= 9.53 AND NOX > 0.48 AND TAX > 403",
           null,
           "housing",
           "L_conj",
           0.0009990009990009,
           12.248409544974033
          ],
          [
           "LSTAT <= 9.53 AND PTRATIO > 19.2 AND B <= 378.7",
           null,
           "housing",
           "L_conj",
           0.0009990009990009,
           12.198442023329408
          ],
          [
           "DIS <= 1.951 AND RAD > 5 AND LSTAT <= 14.27",
           null,
           "housing",
           "L_conj",
           0.0009990009990009,
           13.264096567322689
          ],
          [
           "DIS <= 2.64 AND LSTAT <= 11.65 AND TAX > 403",
           null,
           "housing",
           "L_conj",
           0.0009990009990009,
           11.985665046938236
          ],
          [
           "PTRATIO > 19.7 AND LSTAT <= 11.45 AND NOX > 0.63",
           null,
           "housing",
           "L_conj",
           0.0009990009990009,
           11.945746623409557
          ],
          [
           "LSTAT <= 13.33 AND B <= 379.2 AND RAD > 8",
           null,
           "housing",
           "L_conj",
           0.0009990009990009,
           11.825785254625668
          ],
          [
           "DIS <= 1.951 AND LSTAT <= 13.66 AND INDUS <= 18.1",
           null,
           "housing",
           "L_conj",
           0.0009990009990009,
           12.257032212375067
          ],
          [
           "PTRATIO > 19.7 AND LSTAT <= 14.81 AND DIS <= 1.95",
           null,
           "housing",
           "L_conj",
           0.0009990009990009,
           11.773329476134686
          ],
          [
           "NOX*RAD > 14.74 AND LSTAT <= 14.15",
           null,
           "housing",
           "L_poly",
           0.0009990009990009,
           8.999755519802562
          ],
          [
           "RM > 6.75 AND RAD > 8",
           null,
           "housing",
           "L_poly",
           0.0009990009990009,
           8.150441814334897
          ],
          [
           "LSTAT <= 9.53 AND DIS <= 3.09",
           null,
           "housing",
           "L_poly",
           0.0009990009990009,
           7.693846853549796
          ],
          [
           "NOX*PTRATIO > 13.23 AND CHAS > 0",
           null,
           "housing",
           "L_poly",
           0.0009990009990009,
           7.669915116645891
          ],
          [
           "DIS <= 2.64 AND LSTAT <= 11.65",
           null,
           "housing",
           "L_poly",
           0.0009990009990009,
           7.748447115429525
          ],
          [
           "DIS <= 1.951 AND CHAS > 0",
           null,
           "housing",
           "L_poly",
           0.0009990009990009,
           7.551205018550094
          ],
          [
           "DIS*NOX <= 1.277 AND LSTAT <= 12.16",
           null,
           "housing",
           "L_poly",
           0.0009990009990009,
           7.433775687509045
          ],
          [
           "CHAS > 0 AND B <= 359.1",
           null,
           "housing",
           "L_poly",
           0.0009990009990009,
           7.3658092710390894
          ],
          [
           "LSTAT <= 9.53 AND AGE*PTRATIO > 1335",
           null,
           "housing",
           "L_poly",
           0.0009990009990009,
           7.353897277300022
          ],
          [
           "AGE*DIS <= 146.8 AND DIS*NOX <= 1",
           null,
           "housing",
           "L_poly",
           0.0009990009990009,
           7.352559941708829
          ],
          [
           "DIS*NOX <= 1.533 AND LSTAT <= 9.55",
           null,
           "housing",
           "L_poly",
           0.0009990009990009,
           7.3426310676184015
          ],
          [
           "RM > 6.75 AND AGE*PTRATIO > 1444",
           null,
           "housing",
           "L_poly",
           0.0009990009990009,
           7.2132477937957855
          ],
          [
           "LSTAT <= 9.53 AND CRIM > 0.37",
           null,
           "housing",
           "L_poly",
           0.0009990009990009,
           7.191280976353879
          ],
          [
           "LSTAT <= 9.53 AND AGE > 76.96",
           null,
           "housing",
           "L_poly",
           0.0009990009990009,
           7.188097094785533
          ],
          [
           "AGE*PTRATIO > 1499 AND AGE*DIS <= 158.2",
           null,
           "housing",
           "L_poly",
           0.0009990009990009,
           7.159291283113782
          ],
          [
           "AGE*PTRATIO > 1499 AND LSTAT <= 12.7",
           null,
           "housing",
           "L_poly",
           0.0009990009990009,
           7.140833685245463
          ],
          [
           "RM > 6.75 AND B*INDUS > 2544",
           null,
           "housing",
           "L_poly",
           0.0009990009990009,
           6.653026016359266
          ],
          [
           "LSTAT <= 6.29 AND AGE*PTRATIO > 1270",
           null,
           "housing",
           "L_poly",
           0.0009990009990009,
           7.068294678093064
          ],
          [
           "AGE*INDUS > 872.4 AND LSTAT <= 12.03",
           null,
           "housing",
           "L_poly",
           0.0009990009990009,
           7.036342554557699
          ],
          [
           "LSTAT <= 9.53 AND NOX > 0.52",
           null,
           "housing",
           "L_poly",
           0.0009990009990009,
           7.011353933739841
          ],
          [
           "LSTAT <= 9.53 AND AGE*INDUS > 457.7",
           null,
           "housing",
           "L_poly",
           0.0009990009990009,
           7.0108038952470295
          ],
          [
           "DIS <= 1.951 AND LSTAT <= 17.89",
           null,
           "housing",
           "L_poly",
           0.0009990009990009,
           7.26318933580271
          ],
          [
           "DIS <= 1.951 AND DIS*NOX <= 0.95",
           null,
           "housing",
           "L_poly",
           0.0009990009990009,
           6.980335641671139
          ],
          [
           "(DIS * LSTAT) <= 20.27",
           "(DIS * LSTAT)",
           "housing",
           "L_symb",
           0.0009990009990009,
           6.912347472651591
          ],
          [
           "DIS > 1.34 AND RM > 8.28",
           null,
           "housing",
           "L_tree",
           0.0009990009990009,
           6.624008989524886
          ],
          [
           "(DIS - RM) <= -4.34",
           "(DIS - RM)",
           "housing",
           "L_symb",
           0.0009990009990009,
           6.3057121249789505
          ],
          [
           "(RM - DIS) > 4.34",
           "(RM - DIS)",
           "housing",
           "L_symb",
           0.0009990009990009,
           6.3057121249789505
          ],
          [
           "(CHAS + TAX) > 666",
           "(CHAS + TAX)",
           "housing",
           "L_symb",
           0.0009990009990009,
           6.249228143129416
          ],
          [
           "(RM / DIS) + RM > 9.65",
           "(RM / DIS) + RM",
           "housing",
           "L_symb",
           0.0009990009990009,
           6.158331225514988
          ],
          [
           "(AGE / LSTAT) > 9.3",
           "(AGE / LSTAT)",
           "housing",
           "L_symb",
           0.0009990009990009,
           5.935069588043143
          ],
          [
           "(LSTAT / AGE) <= 0.11",
           "(LSTAT / AGE)",
           "housing",
           "L_symb",
           0.0009990009990009,
           5.709712398991641
          ],
          [
           "(CRIM - LSTAT) > -4.04",
           "(CRIM - LSTAT)",
           "housing",
           "L_symb",
           0.0009990009990009,
           5.478500228000194
          ],
          [
           "(LSTAT - CRIM) <= 4.04",
           "(LSTAT - CRIM)",
           "housing",
           "L_symb",
           0.0009990009990009,
           5.478500228000194
          ],
          [
           "(LSTAT / RAD) <= 0.69",
           "(LSTAT / RAD)",
           "housing",
           "L_symb",
           0.0009990009990009,
           5.471815053086673
          ],
          [
           "(RAD / LSTAT) > 1.44",
           "(RAD / LSTAT)",
           "housing",
           "L_symb",
           0.0009990009990009,
           5.353979265996234
          ],
          [
           "(CRIM / LSTAT) > 0.49",
           "(CRIM / LSTAT)",
           "housing",
           "L_symb",
           0.0009990009990009,
           5.290851223010182
          ],
          [
           "(LSTAT / CRIM) <= 2.03",
           "(LSTAT / CRIM)",
           "housing",
           "L_symb",
           0.0009990009990009,
           5.290851223010182
          ],
          [
           "(RM + DIS) / RM <= 1.29",
           "(RM + DIS) / RM",
           "housing",
           "L_symb",
           0.0009990009990009,
           5.224630664632034
          ],
          [
           "(DIS / RM) <= 0.29",
           "(DIS / RM)",
           "housing",
           "L_symb",
           0.0009990009990009,
           5.224630664632034
          ],
          [
           "(RM - DIS) / RM > 0.71",
           "(RM - DIS) / RM",
           "housing",
           "L_symb",
           0.0009990009990009,
           5.224630664632034
          ],
          [
           "(TAX / LSTAT) > 58.78",
           "(TAX / LSTAT)",
           "housing",
           "L_symb",
           0.0009990009990009,
           5.19893138109808
          ],
          [
           "(DIS / RAD) <= 0.08",
           "(DIS / RAD)",
           "housing",
           "L_symb",
           0.0009990009990009,
           5.179866069756327
          ],
          [
           "(RM + DIS) / DIS > 4.39",
           "(RM + DIS) / DIS",
           "housing",
           "L_symb",
           0.0009990009990009,
           5.048402594870735
          ],
          [
           "(RM - DIS) / DIS > 2.39",
           "(RM - DIS) / DIS",
           "housing",
           "L_symb",
           0.0009990009990009,
           5.048402594870735
          ],
          [
           "(RM / DIS) > 3.39",
           "(RM / DIS)",
           "housing",
           "L_symb",
           0.0009990009990009,
           5.048402594870735
          ],
          [
           "(RM / DIS) - DIS > 1.59",
           "(RM / DIS) - DIS",
           "housing",
           "L_symb",
           0.0009990009990009,
           4.95296040449167
          ],
          [
           "(DIS / CHAS) <= 6.26179e+06",
           "(DIS / CHAS)",
           "housing",
           "L_symb",
           0.0049950049950049,
           3.614259236458937
          ],
          [
           "(DIS - CHAS) <= 1.75",
           "(DIS - CHAS)",
           "housing",
           "L_symb",
           0.0009990009990009,
           4.853197184001743
          ],
          [
           "DIS > 1.34 AND RM <= 8.28 AND RM <= 6.77 AND DIS > 1.42",
           null,
           "housing",
           "L_tree",
           0.0009990009990009,
           2.903091825071507
          ],
          [
           "DIS > 1.34 AND RM <= 8.28 AND RM > 6.77 AND INDUS > 6.66",
           null,
           "housing",
           "L_tree",
           0.0389610389610389,
           2.5318806502803173
          ],
          [
           "DIS > 1.34 AND RM <= 8.28 AND RM <= 6.77 AND DIS <= 1.42",
           null,
           "housing",
           "L_tree",
           0.0659340659340659,
           1.4328265572589542
          ],
          [
           "DIS > 1.34 AND RM <= 8.28 AND RM > 6.77 AND INDUS <= 6.66",
           null,
           "housing",
           "L_tree",
           0.98001998001998,
           0.0365886498218388
          ],
          [
           "horsepower > 72 AND model > 79 AND displacement > 163.2",
           null,
           "auto-mpg",
           "L_conj",
           0.0009990009990009,
           7.656568082218864
          ],
          [
           "acceleration <= 17.76 AND model > 79 AND cylinders > 4",
           null,
           "auto-mpg",
           "L_conj",
           0.0009990009990009,
           7.53143935904883
          ],
          [
           "model > 80 AND cylinders > 4 AND displacement > 181",
           null,
           "auto-mpg",
           "L_conj",
           0.0019980019980019,
           7.402463230129194
          ],
          [
           "horsepower > 72 AND model > 79 AND cylinders > 4",
           null,
           "auto-mpg",
           "L_conj",
           0.0009990009990009,
           7.37585016126673
          ],
          [
           "model > 79.5 AND displacement <= 212.5 AND acceleration <= 13.85",
           null,
           "auto-mpg",
           "L_tree",
           0.0009990009990009,
           7.027595478026122
          ],
          [
           "cylinders > 4 AND model > 78 AND weight <= 3160",
           null,
           "auto-mpg",
           "L_conj",
           0.0009990009990009,
           6.990930210421178
          ],
          [
           "weight <= 3085 AND model > 78.8 AND cylinders > 4",
           null,
           "auto-mpg",
           "L_conj",
           0.0009990009990009,
           6.916052354123986
          ],
          [
           "acceleration <= 14.8 AND model > 79 AND horsepower > 96",
           null,
           "auto-mpg",
           "L_conj",
           0.0009990009990009,
           6.857756769063741
          ],
          [
           "acceleration <= 17.76 AND model > 79 AND displacement > 151",
           null,
           "auto-mpg",
           "L_conj",
           0.0009990009990009,
           6.751844606551215
          ],
          [
           "model > 80 AND cylinders > 4 AND acceleration > 13.8",
           null,
           "auto-mpg",
           "L_conj",
           0.0009990009990009,
           6.726824374678576
          ],
          [
           "model > 80 AND weight > 2310 AND displacement > 173",
           null,
           "auto-mpg",
           "L_conj",
           0.0019980019980019,
           6.719483892469685
          ],
          [
           "weight > 2581 AND model > 79 AND displacement > 151",
           null,
           "auto-mpg",
           "L_conj",
           0.0009990009990009,
           6.659703854976873
          ],
          [
           "origin > 2 AND horsepower > 65 AND acceleration <= 14.2",
           null,
           "auto-mpg",
           "L_conj",
           0.0009990009990009,
           6.61875791331962
          ],
          [
           "acceleration <= 17.76 AND model > 79 AND weight > 2798",
           null,
           "auto-mpg",
           "L_conj",
           0.0009990009990009,
           6.600405526285469
          ],
          [
           "acceleration <= 13.5 AND displacement <= 173 AND origin > 2.4",
           null,
           "auto-mpg",
           "L_conj",
           0.0009990009990009,
           6.589480593837739
          ],
          [
           "cylinders > 4 AND model > 78 AND horsepower <= 88",
           null,
           "auto-mpg",
           "L_conj",
           0.0019980019980019,
           6.533315013082512
          ],
          [
           "origin <= 2 AND model > 79 AND cylinders > 4",
           null,
           "auto-mpg",
           "L_conj",
           0.0009990009990009,
           6.473558772786655
          ],
          [
           "acceleration <= 14.8 AND model > 79 AND origin > 1",
           null,
           "auto-mpg",
           "L_conj",
           0.0009990009990009,
           6.459063525051286
          ],
          [
           "model > 80 AND cylinders > 4 AND weight > 2945",
           null,
           "auto-mpg",
           "L_conj",
           0.0019980019980019,
           6.437972886350845
          ],
          [
           "model > 80 AND cylinders > 4 AND acceleration > 15.8",
           null,
           "auto-mpg",
           "L_conj",
           0.0019980019980019,
           6.420947016611557
          ],
          [
           "origin > 2 AND displacement <= 91 AND weight > 2058",
           null,
           "auto-mpg",
           "L_conj",
           0.0009990009990009,
           6.420720237895825
          ],
          [
           "weight > 2581 AND model > 79 AND displacement > 179.4",
           null,
           "auto-mpg",
           "L_conj",
           0.0009990009990009,
           6.388034511570356
          ],
          [
           "model > 80 AND cylinders > 4 AND horsepower <= 112",
           null,
           "auto-mpg",
           "L_conj",
           0.0009990009990009,
           6.3247003012778915
          ],
          [
           "model > 77 AND acceleration <= 14.4 AND origin > 1",
           null,
           "auto-mpg",
           "L_conj",
           0.0009990009990009,
           6.30955134061634
          ],
          [
           "model > 77 AND origin > 2 AND acceleration <= 14.5",
           null,
           "auto-mpg",
           "L_conj",
           0.0009990009990009,
           6.303293445700084
          ],
          [
           "acceleration <= 14.8 AND model > 79",
           null,
           "auto-mpg",
           "L_poly",
           0.0009990009990009,
           5.6034397640047535
          ],
          [
           "model > 80 AND cylinders*horsepower > 393.6",
           null,
           "auto-mpg",
           "L_poly",
           0.0009990009990009,
           5.554706305863951
          ],
          [
           "model > 77 AND model*origin > 81",
           null,
           "auto-mpg",
           "L_poly",
           0.0009990009990009,
           5.534919522798435
          ],
          [
           "model > 77 AND model*origin > 79",
           null,
           "auto-mpg",
           "L_poly",
           0.0009990009990009,
           5.531952096196794
          ],
          [
           "(model * displacement) / displacement > 79",
           "(model * displacement) / displacement",
           "auto-mpg",
           "L_symb",
           0.0009990009990009,
           5.4188941208191554
          ],
          [
           "(origin * model) / origin > 79",
           "(origin * model) / origin",
           "auto-mpg",
           "L_symb",
           0.0009990009990009,
           5.4188941208191554
          ],
          [
           "(model * cylinders) / cylinders > 79",
           "(model * cylinders) / cylinders",
           "auto-mpg",
           "L_symb",
           0.0009990009990009,
           5.4188941208191554
          ],
          [
           "(model * weight) / weight > 79",
           "(model * weight) / weight",
           "auto-mpg",
           "L_symb",
           0.0009990009990009,
           5.4188941208191554
          ],
          [
           "(model * horsepower) / horsepower > 79",
           "(model * horsepower) / horsepower",
           "auto-mpg",
           "L_symb",
           0.0009990009990009,
           5.466675915939279
          ],
          [
           "(model * origin) / origin > 79",
           "(model * origin) / origin",
           "auto-mpg",
           "L_symb",
           0.0009990009990009,
           5.4188941208191554
          ],
          [
           "model > 77 AND model^2 > 6241",
           null,
           "auto-mpg",
           "L_poly",
           0.0009990009990009,
           5.4188941208191554
          ],
          [
           "acceleration <= 13.5 AND origin > 1",
           null,
           "auto-mpg",
           "L_poly",
           0.0009990009990009,
           5.246785768656656
          ],
          [
           "model > 77 AND displacement <= 97",
           null,
           "auto-mpg",
           "L_poly",
           0.0009990009990009,
           5.183405430523964
          ],
          [
           "(model * acceleration) / acceleration > 79",
           "(model * acceleration) / acceleration",
           "auto-mpg",
           "L_symb",
           0.0009990009990009,
           5.17687062440911
          ],
          [
           "displacement*model <= 7469 AND model > 77",
           null,
           "auto-mpg",
           "L_poly",
           0.0019980019980019,
           5.173486060370231
          ],
          [
           "horsepower*model > 6699 AND model > 79",
           null,
           "auto-mpg",
           "L_poly",
           0.0009990009990009,
           5.143808397805656
          ],
          [
           "acceleration*horsepower <= 1600 AND model > 78",
           null,
           "auto-mpg",
           "L_poly",
           0.0009990009990009,
           5.138796241798257
          ],
          [
           "model > 80 AND displacement > 151",
           null,
           "auto-mpg",
           "L_poly",
           0.0029970029970029,
           5.1095926348029845
          ],
          [
           "acceleration <= 17.76 AND model > 79",
           null,
           "auto-mpg",
           "L_poly",
           0.0009990009990009,
           5.091889207112723
          ],
          [
           "model > 77 AND model*origin > 158",
           null,
           "auto-mpg",
           "L_poly",
           0.0009990009990009,
           5.088050702301836
          ],
          [
           "(cylinders - model) <= -74",
           "(cylinders - model)",
           "auto-mpg",
           "L_symb",
           0.0009990009990009,
           5.0383886414116645
          ],
          [
           "model > 77 AND displacement*model <= 7644",
           null,
           "auto-mpg",
           "L_poly",
           0.0019980019980019,
           4.965794444657174
          ],
          [
           "displacement <= 98 AND model > 78",
           null,
           "auto-mpg",
           "L_poly",
           0.0009990009990009,
           4.935625624230206
          ],
          [
           "(model / horsepower) + model > 79.6",
           "(model / horsepower) + model",
           "auto-mpg",
           "L_symb",
           0.0009990009990009,
           4.9552713090997385
          ],
          [
           "model > 77 AND acceleration*horsepower <= 1721",
           null,
           "auto-mpg",
           "L_poly",
           0.0009990009990009,
           4.9296090332163125
          ],
          [
           "horsepower*origin > 90 AND model > 79",
           null,
           "auto-mpg",
           "L_poly",
           0.0009990009990009,
           4.903163559022473
          ],
          [
           "weight <= 3085 AND model > 78.8",
           null,
           "auto-mpg",
           "L_poly",
           0.0009990009990009,
           4.898862461547506
          ],
          [
           "model > 80 AND displacement*horsepower > 1.414e+04",
           null,
           "auto-mpg",
           "L_poly",
           0.0019980019980019,
           4.878146405073875
          ],
          [
           "model > 77 AND origin > 1",
           null,
           "auto-mpg",
           "L_poly",
           0.0009990009990009,
           4.866372026798783
          ],
          [
           "acceleration <= 14.8 AND origin > 2",
           null,
           "auto-mpg",
           "L_poly",
           0.0009990009990009,
           4.847609337759858
          ],
          [
           "(model - acceleration) > 64.8",
           "(model - acceleration)",
           "auto-mpg",
           "L_symb",
           0.0009990009990009,
           4.826342976151956
          ],
          [
           "model > 75 AND model*origin > 80",
           null,
           "auto-mpg",
           "L_poly",
           0.0009990009990009,
           4.8147995749061705
          ],
          [
           "origin > 2 AND acceleration <= 14.5",
           null,
           "auto-mpg",
           "L_poly",
           0.0009990009990009,
           4.809475576714561
          ],
          [
           "(model / displacement) + model > 79.23",
           "(model / displacement) + model",
           "auto-mpg",
           "L_symb",
           0.0009990009990009,
           4.655212925068015
          ],
          [
           "(model / weight) + model > 79.02",
           "(model / weight) + model",
           "auto-mpg",
           "L_symb",
           0.0009990009990009,
           4.62557290836679
          ],
          [
           "(model / acceleration) + model > 85.57",
           "(model / acceleration) + model",
           "auto-mpg",
           "L_symb",
           0.0009990009990009,
           4.574413052976933
          ],
          [
           "(model + displacement) / model <= 2.21",
           "(model + displacement) / model",
           "auto-mpg",
           "L_symb",
           0.0009990009990009,
           4.526422250616693
          ],
          [
           "(model - displacement) / model > -0.21",
           "(model - displacement) / model",
           "auto-mpg",
           "L_symb",
           0.0009990009990009,
           4.526422250616693
          ],
          [
           "(displacement / model) <= 1.21",
           "(displacement / model)",
           "auto-mpg",
           "L_symb",
           0.0009990009990009,
           4.526422250616693
          ],
          [
           "(origin / model) - model <= -78.97",
           "(origin / model) - model",
           "auto-mpg",
           "L_symb",
           0.0009990009990009,
           4.458015603159108
          ],
          [
           "(displacement / weight) <= 0.04",
           "(displacement / weight)",
           "auto-mpg",
           "L_symb",
           0.0009990009990009,
           4.453448769478515
          ],
          [
           "(acceleration - model) <= -64.8",
           "(acceleration - model)",
           "auto-mpg",
           "L_symb",
           0.0009990009990009,
           4.39955274967999
          ],
          [
           "(model / displacement) > 0.82",
           "(model / displacement)",
           "auto-mpg",
           "L_symb",
           0.0009990009990009,
           4.358634593549863
          ],
          [
           "(model + displacement) / displacement > 1.82",
           "(model + displacement) / displacement",
           "auto-mpg",
           "L_symb",
           0.0009990009990009,
           4.358634593549863
          ],
          [
           "(model - displacement) / displacement > -0.18",
           "(model - displacement) / displacement",
           "auto-mpg",
           "L_symb",
           0.0009990009990009,
           4.358634593549863
          ],
          [
           "(model - displacement) > -16.71",
           "(model - displacement)",
           "auto-mpg",
           "L_symb",
           0.0019980019980019,
           4.348169143056848
          ],
          [
           "model > 79.5 AND displacement <= 212.5 AND acceleration > 13.85 AND displacement <= 99.0",
           null,
           "auto-mpg",
           "L_tree",
           0.0189810189810189,
           2.8765245406342568
          ],
          [
           "model <= 79.5 AND displacement <= 90.5 AND model > 77.5",
           null,
           "auto-mpg",
           "L_tree",
           0.0569430569430569,
           2.5133549190053532
          ],
          [
           "model <= 79.5 AND displacement > 90.5 AND weight > 3199.0 AND weight > 4057.5",
           null,
           "auto-mpg",
           "L_tree",
           0.0109890109890109,
           2.430439094072469
          ],
          [
           "model <= 79.5 AND displacement > 90.5 AND weight > 3199.0 AND weight <= 4057.5",
           null,
           "auto-mpg",
           "L_tree",
           0.0139860139860139,
           2.2498677462991328
          ],
          [
           "model <= 79.5 AND displacement > 90.5 AND weight <= 3199.0 AND acceleration > 13.35",
           null,
           "auto-mpg",
           "L_tree",
           0.0169830169830169,
           1.9847965803419452
          ],
          [
           "model <= 79.5 AND displacement <= 90.5 AND model <= 77.5 AND weight > 2091.0",
           null,
           "auto-mpg",
           "L_tree",
           0.0509490509490509,
           1.809792498706984
          ],
          [
           "model > 79.5 AND displacement <= 212.5 AND acceleration > 13.85 AND displacement > 99.0",
           null,
           "auto-mpg",
           "L_tree",
           0.5994005994005994,
           0.4924752088240069
          ],
          [
           "model <= 79.5 AND displacement <= 90.5 AND model <= 77.5 AND weight <= 2091.0",
           null,
           "auto-mpg",
           "L_tree",
           0.7802197802197802,
           0.2925246275666324
          ],
          [
           "model <= 79.5 AND displacement > 90.5 AND weight <= 3199.0 AND acceleration <= 13.35",
           null,
           "auto-mpg",
           "L_tree",
           0.8601398601398601,
           0.1779602686188372
          ],
          [
           "timbre_avg_1*timbre_avg_6 > -339.6 AND timbre_avg_3*timbre_cov_3_3 > 704.6",
           null,
           "msd",
           "L_poly",
           0.0009990009990009,
           119.75025631118096
          ],
          [
           "timbre_avg_6 > -8.1 AND timbre_cov_3_3 > 24.59 AND timbre_avg_3 > 15.08",
           null,
           "msd",
           "L_conj",
           0.0009990009990009,
           119.39633997988264
          ],
          [
           "timbre_avg_3*timbre_cov_3_3 > 1758 AND timbre_avg_1*timbre_avg_6 > -129.1",
           null,
           "msd",
           "L_poly",
           0.0009990009990009,
           119.32154979568352
          ],
          [
           "timbre_avg_3 > 17.88 AND timbre_avg_6 > -8.77 AND timbre_cov_3_3 > 18.33",
           null,
           "msd",
           "L_conj",
           0.0009990009990009,
           119.13068683151096
          ],
          [
           "timbre_avg_3*timbre_cov_3_3 > 1758 AND timbre_avg_6 > -3.18",
           null,
           "msd",
           "L_poly",
           0.0009990009990009,
           119.04293883648484
          ],
          [
           "timbre_avg_3 > 2.662 AND timbre_avg_6 > -9.07 AND timbre_avg_1 <= 44.4",
           null,
           "msd",
           "L_conj",
           0.0009990009990009,
           118.57320962442948
          ],
          [
           "timbre_avg_3 > 2.662 AND timbre_avg_1 <= 44.28 AND timbre_avg_6 > -9.35",
           null,
           "msd",
           "L_conj",
           0.0009990009990009,
           118.43781686175204
          ],
          [
           "timbre_avg_6 > -8.1 AND timbre_avg_3 > -1.13 AND timbre_avg_1 <= 44.27",
           null,
           "msd",
           "L_conj",
           0.0009990009990009,
           118.32414620788066
          ],
          [
           "timbre_avg_6 > -8.1 AND timbre_avg_3 > 16.18 AND timbre_avg_1 <= 46.76",
           null,
           "msd",
           "L_conj",
           0.0009990009990009,
           118.15632204202336
          ],
          [
           "timbre_avg_1 <= 45.68 AND timbre_avg_3 > 11.01 AND timbre_avg_6 > -9.64",
           null,
           "msd",
           "L_conj",
           0.0009990009990009,
           117.99640576780163
          ],
          [
           "timbre_avg_6 > -8.1 AND timbre_avg_3*timbre_cov_3_3 > 712",
           null,
           "msd",
           "L_poly",
           0.0009990009990009,
           117.712784149191
          ],
          [
           "timbre_avg_3*timbre_cov_3_3 > 1758 AND timbre_avg_6*timbre_cov_1_12 > -899.6",
           null,
           "msd",
           "L_poly",
           0.0009990009990009,
           117.70964500530503
          ],
          [
           "timbre_cov_3_3 > 38.78 AND timbre_avg_6 > -5.45 AND timbre_avg_3 > 15.46",
           null,
           "msd",
           "L_conj",
           0.0009990009990009,
           117.6782896209115
          ],
          [
           "timbre_avg_6 > -8.1 AND timbre_avg_1 <= 43.48 AND timbre_avg_3 > -7.37",
           null,
           "msd",
           "L_conj",
           0.0009990009990009,
           117.6550660192399
          ],
          [
           "timbre_avg_3 > 17.88 AND timbre_avg_6 > -8.77 AND timbre_avg_1 <= 46.85",
           null,
           "msd",
           "L_conj",
           0.0009990009990009,
           117.48988950418504
          ],
          [
           "timbre_avg_1*timbre_avg_6 > -339.6 AND timbre_avg_3*timbre_cov_3_3 > 2766",
           null,
           "msd",
           "L_poly",
           0.0009990009990009,
           117.26079397326626
          ],
          [
           "timbre_avg_6 > -8.1 AND timbre_avg_3*timbre_cov_3_3 > 2701",
           null,
           "msd",
           "L_poly",
           0.0009990009990009,
           117.17403159254054
          ],
          [
           "timbre_avg_3*timbre_cov_3_3 > 437.5 AND timbre_avg_1*timbre_avg_6 > -275.8",
           null,
           "msd",
           "L_poly",
           0.0009990009990009,
           116.82443794225128
          ],
          [
           "timbre_avg_6 > -8.1 AND timbre_avg_3 > 16.18 AND timbre_cov_3_3 > 54.4",
           null,
           "msd",
           "L_conj",
           0.0009990009990009,
           116.72601686562464
          ],
          [
           "timbre_avg_3 > 17.88 AND timbre_avg_6 > -8.77 AND timbre_cov_3_3 > 53.21",
           null,
           "msd",
           "L_conj",
           0.0009990009990009,
           116.5478835853027
          ],
          [
           "timbre_avg_2 <= -3.592 AND timbre_avg_6 > -5.9 AND timbre_avg_3 > -0.61",
           null,
           "msd",
           "L_conj",
           0.0009990009990009,
           116.46015991739796
          ],
          [
           "timbre_avg_3 > 2.662 AND timbre_avg_6 > -9.07 AND timbre_avg_1 <= 46.97",
           null,
           "msd",
           "L_conj",
           0.0009990009990009,
           116.29602745031748
          ],
          [
           "timbre_avg_3 > 17.88 AND timbre_avg_1 <= 47.29 AND timbre_avg_6 > -10.18",
           null,
           "msd",
           "L_conj",
           0.0009990009990009,
           116.14840376156074
          ],
          [
           "timbre_avg_1 <= 42.73 AND timbre_avg_6 > -9.91 AND timbre_avg_3 > -8.27",
           null,
           "msd",
           "L_conj",
           0.0009990009990009,
           116.09773174239491
          ],
          [
           "timbre_avg_3 > 2.662 AND timbre_avg_6 > -9.07 AND timbre_cov_3_3 > 18.98",
           null,
           "msd",
           "L_conj",
           0.0009990009990009,
           115.89889025947494
          ],
          [
           "timbre_avg_6 > -8.1 AND timbre_avg_3 > -1.13 AND timbre_avg_1 <= 46.81",
           null,
           "msd",
           "L_conj",
           0.0009990009990009,
           115.88357750081138
          ],
          [
           "timbre_avg_1*timbre_avg_6 > -609.1 AND timbre_avg_3*timbre_cov_3_3 > 2360",
           null,
           "msd",
           "L_poly",
           0.0009990009990009,
           115.64282601956626
          ],
          [
           "timbre_avg_6 > -8.1 AND timbre_avg_3 > -1.13 AND timbre_cov_3_3 > 20.68",
           null,
           "msd",
           "L_conj",
           0.0009990009990009,
           115.6457047476653
          ],
          [
           "timbre_cov_3_3 > 38.78 AND timbre_avg_6 > -5.45 AND timbre_avg_3 > -2.72",
           null,
           "msd",
           "L_conj",
           0.0009990009990009,
           115.6205948693468
          ],
          [
           "timbre_avg_6 > -8.1 AND timbre_avg_3 > 16.18 AND timbre_avg_2 <= 7.36",
           null,
           "msd",
           "L_conj",
           0.0009990009990009,
           115.59386439312031
          ],
          [
           "timbre_avg_1 <= 42.73 AND timbre_avg_3 > -10.64 AND timbre_avg_6 > -9.22",
           null,
           "msd",
           "L_conj",
           0.0009990009990009,
           115.59489706832252
          ],
          [
           "timbre_avg_3 > 17.88 AND timbre_cov_3_3 > 57.29 AND timbre_avg_6 > -9.53",
           null,
           "msd",
           "L_conj",
           0.0009990009990009,
           115.39265345166942
          ],
          [
           "timbre_avg_1 <= 45.68 AND timbre_avg_6 > -4.52 AND timbre_avg_3 > 14.83",
           null,
           "msd",
           "L_conj",
           0.0009990009990009,
           115.31319496332894
          ],
          [
           "timbre_avg_3*timbre_cov_3_3 > 437.5 AND timbre_avg_6 > -6.54",
           null,
           "msd",
           "L_poly",
           0.0009990009990009,
           115.0404589642724
          ],
          [
           "timbre_avg_6 > -14.06 AND timbre_avg_3*timbre_cov_3_3 > 2290",
           null,
           "msd",
           "L_poly",
           0.0009990009990009,
           114.7592650490506
          ],
          [
           "timbre_avg_1*timbre_avg_6 > -339.6 AND timbre_avg_3*timbre_cov_1_12 > 4299",
           null,
           "msd",
           "L_poly",
           0.0009990009990009,
           114.7201224488292
          ],
          [
           "timbre_avg_3*timbre_cov_1_12 > 4012 AND timbre_avg_1*timbre_avg_6 > -322.3",
           null,
           "msd",
           "L_poly",
           0.0009990009990009,
           114.24281393783522
          ],
          [
           "timbre_avg_3*timbre_cov_3_3 > 1758 AND timbre_avg_1*timbre_avg_6 > -696.1",
           null,
           "msd",
           "L_poly",
           0.0009990009990009,
           113.85612654459749
          ],
          [
           "timbre_avg_1*timbre_avg_6 > -339.6 AND timbre_avg_3 > 15.55",
           null,
           "msd",
           "L_poly",
           0.0009990009990009,
           113.32884810602371
          ],
          [
           "timbre_avg_6*timbre_cov_1_12 > 13.29 AND timbre_avg_3*timbre_cov_3_3 > 989.2",
           null,
           "msd",
           "L_poly",
           0.0009990009990009,
           113.045529209498
          ],
          [
           "timbre_avg_1*timbre_avg_6 > 1.895 AND timbre_avg_3*timbre_cov_3_3 > 988.4",
           null,
           "msd",
           "L_poly",
           0.0009990009990009,
           112.98155167127987
          ],
          [
           "timbre_avg_3 > 17.88 AND timbre_avg_1*timbre_avg_6 > -380.1",
           null,
           "msd",
           "L_poly",
           0.0009990009990009,
           112.89334721913686
          ],
          [
           "timbre_avg_6*timbre_cov_1_12 > -1936 AND timbre_avg_3*timbre_cov_3_3 > 2499",
           null,
           "msd",
           "L_poly",
           0.0009990009990009,
           112.85022274018162
          ],
          [
           "timbre_avg_6 > -8.1 AND timbre_avg_3*timbre_cov_1_12 > 4412",
           null,
           "msd",
           "L_poly",
           0.0009990009990009,
           112.49232747226088
          ],
          [
           "timbre_avg_3*timbre_cov_1_12 > 4012 AND timbre_avg_6 > -7.54",
           null,
           "msd",
           "L_poly",
           0.0009990009990009,
           112.07685259280868
          ],
          [
           "timbre_avg_3*timbre_cov_1_12 > 8582 AND timbre_avg_1*timbre_avg_6 > -464.6",
           null,
           "msd",
           "L_poly",
           0.0009990009990009,
           112.0272476397669
          ],
          [
           "(timbre_avg_3 * timbre_cov_3_3) > 2596.64",
           "(timbre_avg_3 * timbre_cov_3_3)",
           "msd",
           "L_symb",
           0.0009990009990009,
           98.47550509717948
          ],
          [
           "(timbre_avg_3 + timbre_cov_6_6) > 49.59",
           "(timbre_avg_3 + timbre_cov_6_6)",
           "msd",
           "L_symb",
           0.0009990009990009,
           97.6945356137773
          ],
          [
           "(timbre_avg_2 - timbre_avg_3) <= -65.7",
           "(timbre_avg_2 - timbre_avg_3)",
           "msd",
           "L_symb",
           0.0009990009990009,
           95.17535020467076
          ],
          [
           "(timbre_avg_3 - timbre_avg_2) > 65.7",
           "(timbre_avg_3 - timbre_avg_2)",
           "msd",
           "L_symb",
           0.0009990009990009,
           95.17535020467076
          ],
          [
           "(timbre_avg_6 - timbre_avg_1) > -45.46",
           "(timbre_avg_6 - timbre_avg_1)",
           "msd",
           "L_symb",
           0.0009990009990009,
           94.32121064109886
          ],
          [
           "(timbre_avg_1 - timbre_avg_6) <= 45.46",
           "(timbre_avg_1 - timbre_avg_6)",
           "msd",
           "L_symb",
           0.0009990009990009,
           94.32121064109886
          ],
          [
           "(timbre_avg_6 - timbre_avg_1) > -36.79",
           "(timbre_avg_6 - timbre_avg_1)",
           "msd",
           "L_symb",
           0.0009990009990009,
           93.87877895006608
          ],
          [
           "(timbre_avg_1 - timbre_avg_6) <= 36.79",
           "(timbre_avg_1 - timbre_avg_6)",
           "msd",
           "L_symb",
           0.0009990009990009,
           93.87877895006608
          ],
          [
           "(timbre_avg_6 - timbre_avg_7) > 14.05",
           "(timbre_avg_6 - timbre_avg_7)",
           "msd",
           "L_symb",
           0.0009990009990009,
           93.58788631370447
          ],
          [
           "(timbre_avg_7 - timbre_avg_6) <= -14.05",
           "(timbre_avg_7 - timbre_avg_6)",
           "msd",
           "L_symb",
           0.0009990009990009,
           93.58788631370447
          ],
          [
           "(timbre_avg_2 - timbre_avg_3) <= -31.9",
           "(timbre_avg_2 - timbre_avg_3)",
           "msd",
           "L_symb",
           0.0009990009990009,
           92.69522397127976
          ],
          [
           "(timbre_avg_3 - timbre_avg_2) > 31.9",
           "(timbre_avg_3 - timbre_avg_2)",
           "msd",
           "L_symb",
           0.0009990009990009,
           92.69522397127976
          ],
          [
           "(timbre_avg_3 + timbre_cov_6_6) > 27.64",
           "(timbre_avg_3 + timbre_cov_6_6)",
           "msd",
           "L_symb",
           0.0009990009990009,
           91.12377635663786
          ],
          [
           "(timbre_avg_3 - timbre_avg_7) > 46.43",
           "(timbre_avg_3 - timbre_avg_7)",
           "msd",
           "L_symb",
           0.0009990009990009,
           88.91955416690116
          ],
          [
           "(timbre_avg_7 - timbre_avg_3) <= -46.43",
           "(timbre_avg_7 - timbre_avg_3)",
           "msd",
           "L_symb",
           0.0009990009990009,
           88.91955416690116
          ],
          [
           "(timbre_avg_6 + timbre_avg_3) > 16.44",
           "(timbre_avg_6 + timbre_avg_3)",
           "msd",
           "L_symb",
           0.0009990009990009,
           88.86930516606687
          ],
          [
           "(timbre_avg_1 + timbre_avg_7) <= 24.45",
           "(timbre_avg_1 + timbre_avg_7)",
           "msd",
           "L_symb",
           0.0009990009990009,
           87.48429699875956
          ],
          [
           "(timbre_avg_6 - timbre_avg_1) > -51.62",
           "(timbre_avg_6 - timbre_avg_1)",
           "msd",
           "L_symb",
           0.0009990009990009,
           86.80938023003684
          ],
          [
           "(timbre_avg_1 - timbre_avg_6) <= 51.62",
           "(timbre_avg_1 - timbre_avg_6)",
           "msd",
           "L_symb",
           0.0009990009990009,
           86.80938023003684
          ],
          [
           "(timbre_avg_1 - timbre_avg_3) <= 3.18",
           "(timbre_avg_1 - timbre_avg_3)",
           "msd",
           "L_symb",
           0.0009990009990009,
           86.61305122176236
          ],
          [
           "(timbre_avg_3 - timbre_avg_1) > -3.18",
           "(timbre_avg_3 - timbre_avg_1)",
           "msd",
           "L_symb",
           0.0009990009990009,
           86.61305122176236
          ],
          [
           "(timbre_avg_3 / timbre_avg_1) > 0.93",
           "(timbre_avg_3 / timbre_avg_1)",
           "msd",
           "L_symb",
           0.0009990009990009,
           85.7700649096407
          ],
          [
           "(timbre_avg_6 - timbre_avg_7) > 2.87",
           "(timbre_avg_6 - timbre_avg_7)",
           "msd",
           "L_symb",
           0.0009990009990009,
           85.53532441243443
          ],
          [
           "(timbre_avg_7 - timbre_avg_6) <= -2.87",
           "(timbre_avg_7 - timbre_avg_6)",
           "msd",
           "L_symb",
           0.0009990009990009,
           85.53532441243443
          ],
          [
           "timbre_avg_6 <= -8.76 AND timbre_avg_1 > 42.61 AND timbre_avg_6 <= -15.95 AND timbre_avg_1 > 49.36",
           null,
           "msd",
           "L_tree",
           0.0009990009990009,
           62.40913010919302
          ],
          [
           "timbre_avg_6 > -8.76 AND timbre_avg_3 <= 26.79 AND timbre_avg_1 <= 40.38 AND timbre_avg_3 > -16.76",
           null,
           "msd",
           "L_tree",
           0.0009990009990009,
           61.461724272074115
          ],
          [
           "timbre_avg_6 <= -8.76 AND timbre_avg_1 > 42.61 AND timbre_avg_6 <= -15.95 AND timbre_avg_1 <= 49.36",
           null,
           "msd",
           "L_tree",
           0.0009990009990009,
           48.66404696333969
          ],
          [
           "timbre_avg_6 <= -8.76 AND timbre_avg_1 > 42.61 AND timbre_avg_6 > -15.95 AND timbre_cov_1_11 > 214.01",
           null,
           "msd",
           "L_tree",
           0.0009990009990009,
           37.79626675566546
          ],
          [
           "timbre_avg_6 > -8.76 AND timbre_avg_3 <= 26.79 AND timbre_avg_1 > 40.38 AND timbre_cov_1_8 > 683.75",
           null,
           "msd",
           "L_tree",
           0.0009990009990009,
           35.81896906328218
          ],
          [
           "timbre_avg_6 > -8.76 AND timbre_avg_3 > 26.79 AND timbre_avg_2 <= -54.36 AND timbre_cov_7_10 > -104.34",
           null,
           "msd",
           "L_tree",
           0.0009990009990009,
           34.71076972283917
          ],
          [
           "timbre_avg_6 <= -8.76 AND timbre_avg_1 <= 42.61 AND timbre_cov_7_10 <= -23.93 AND timbre_cov_6_10 > 15.76",
           null,
           "msd",
           "L_tree",
           0.0009990009990009,
           32.67486404861879
          ],
          [
           "timbre_avg_6 <= -8.76 AND timbre_avg_1 <= 42.61 AND timbre_cov_7_10 > -23.93 AND timbre_avg_3 <= -7.14",
           null,
           "msd",
           "L_tree",
           0.0009990009990009,
           22.677685576324695
          ],
          [
           "timbre_avg_6 > -8.76 AND timbre_avg_3 > 26.79 AND timbre_avg_2 > -54.36 AND timbre_cov_3_3 <= 37.2",
           null,
           "msd",
           "L_tree",
           0.0009990009990009,
           19.637596170666647
          ],
          [
           "timbre_avg_6 > -8.76 AND timbre_avg_3 <= 26.79 AND timbre_avg_1 > 40.38 AND timbre_cov_1_8 <= 683.75",
           null,
           "msd",
           "L_tree",
           0.0009990009990009,
           9.802957353991838
          ],
          [
           "timbre_avg_6 > -8.76 AND timbre_avg_3 <= 26.79 AND timbre_avg_1 <= 40.38 AND timbre_avg_3 <= -16.76",
           null,
           "msd",
           "L_tree",
           0.0009990009990009,
           8.952677596368572
          ],
          [
           "timbre_avg_6 <= -8.76 AND timbre_avg_1 <= 42.61 AND timbre_cov_7_10 <= -23.93 AND timbre_cov_6_10 <= 15.76",
           null,
           "msd",
           "L_tree",
           0.0009990009990009,
           5.786118383930954
          ],
          [
           "timbre_avg_6 <= -8.76 AND timbre_avg_1 > 42.61 AND timbre_avg_6 > -15.95 AND timbre_cov_1_11 <= 214.01",
           null,
           "msd",
           "L_tree",
           0.0009990009990009,
           5.281240775047254
          ],
          [
           "timbre_avg_6 <= -8.76 AND timbre_avg_1 <= 42.61 AND timbre_cov_7_10 > -23.93 AND timbre_avg_3 > -7.14",
           null,
           "msd",
           "L_tree",
           0.0029970029970029,
           3.376949422433493
          ],
          [
           "RH <= 30 AND day > 6.2 AND ISI > 8.4",
           null,
           "forestfires",
           "L_conj",
           0.0019980019980019,
           8.630190410479825
          ],
          [
           "RH <= 30 AND day > 6.2 AND Y > 4",
           null,
           "forestfires",
           "L_conj",
           0.0049950049950049,
           8.609892267356184
          ],
          [
           "day > 6 AND FFMC > 92.2 AND RH <= 29.6",
           null,
           "forestfires",
           "L_conj",
           0.0049950049950049,
           8.595786296052676
          ],
          [
           "day > 6 AND RH <= 27.6 AND ISI > 8.1",
           null,
           "forestfires",
           "L_conj",
           0.0049950049950049,
           8.56259962166288
          ],
          [
           "temp > 23.58 AND month > 8 AND DC <= 688",
           null,
           "forestfires",
           "L_conj",
           0.0029970029970029,
           8.539613679506898
          ],
          [
           "day > 6 AND RH <= 27.6 AND X > 4",
           null,
           "forestfires",
           "L_conj",
           0.0089910089910089,
           8.441348126947696
          ],
          [
           "day > 6 AND temp > 24.1 AND month > 8",
           null,
           "forestfires",
           "L_conj",
           0.0119880119880119,
           8.432882790986605
          ],
          [
           "Y > 4 AND temp > 23.8 AND DC > 672.6",
           null,
           "forestfires",
           "L_conj",
           0.0009990009990009,
           8.422436102698946
          ],
          [
           "RH <= 30 AND temp > 24.42 AND ISI <= 8.96",
           null,
           "forestfires",
           "L_conj",
           0.0009990009990009,
           8.421287847719508
          ],
          [
           "day > 6 AND Y > 4 AND RH <= 31.8",
           null,
           "forestfires",
           "L_conj",
           0.0029970029970029,
           8.188314553867954
          ],
          [
           "Y > 4 AND temp > 23.8 AND day > 5",
           null,
           "forestfires",
           "L_conj",
           0.0049950049950049,
           8.136733924005858
          ],
          [
           "Y > 4 AND DC > 672.6 AND temp > 23.62",
           null,
           "forestfires",
           "L_conj",
           0.0009990009990009,
           8.134156973243705
          ],
          [
           "day > 6 AND Y > 4 AND temp > 23.64",
           null,
           "forestfires",
           "L_conj",
           0.0039960039960039,
           8.074393364945395
          ],
          [
           "Y > 4 AND temp > 23.8 AND day > 4",
           null,
           "forestfires",
           "L_conj",
           0.0009990009990009,
           8.071441268207264
          ],
          [
           "X > 4 AND temp > 23.7 AND RH <= 27",
           null,
           "forestfires",
           "L_conj",
           0.0009990009990009,
           8.012172312778677
          ],
          [
           "day > 6 AND ISI > 8.4 AND RH <= 31.4",
           null,
           "forestfires",
           "L_conj",
           0.0019980019980019,
           7.961742705040867
          ],
          [
           "RH <= 30 AND day > 6.2 AND FFMC > 92.2",
           null,
           "forestfires",
           "L_conj",
           0.0039960039960039,
           7.958642733271974
          ],
          [
           "day > 6 AND temp > 24.1 AND ISI > 8.4",
           null,
           "forestfires",
           "L_conj",
           0.0009990009990009,
           7.937874919720196
          ],
          [
           "day > 6 AND DMC > 109.6 AND RH <= 29.6",
           null,
           "forestfires",
           "L_conj",
           0.0049950049950049,
           7.925622383810872
          ],
          [
           "temp > 23.58 AND Y > 4 AND DC > 672.6",
           null,
           "forestfires",
           "L_conj",
           0.0009990009990009,
           7.871380906400916
          ],
          [
           "RH <= 30 AND X > 5 AND temp > 24.98",
           null,
           "forestfires",
           "L_conj",
           0.0009990009990009,
           7.854623244870042
          ],
          [
           "RH <= 30 AND X > 5 AND day > 6",
           null,
           "forestfires",
           "L_conj",
           0.0009990009990009,
           7.815684391669225
          ],
          [
           "RH <= 30 AND X > 5 AND DMC > 117.6",
           null,
           "forestfires",
           "L_conj",
           0.0009990009990009,
           7.803452425213819
          ],
          [
           "Y > 4 AND RH <= 28 AND temp > 24.78",
           null,
           "forestfires",
           "L_conj",
           0.0009990009990009,
           7.790672756483062
          ],
          [
           "temp > 25.05 AND temp > 25.45 AND DMC > 220.05",
           null,
           "forestfires",
           "L_tree",
           0.0099900099900099,
           5.386306016727943
          ],
          [
           "Y > 4 AND temp > 23.8",
           null,
           "forestfires",
           "L_poly",
           0.0009990009990009,
           5.070508790008478
          ],
          [
           "day > 6 AND RH <= 27.6",
           null,
           "forestfires",
           "L_poly",
           0.0199800199800199,
           4.868989634590113
          ],
          [
           "RH <= 30 AND DMC*month > 1071",
           null,
           "forestfires",
           "L_poly",
           0.0009990009990009,
           4.830990569946162
          ],
          [
           "DMC*month > 1061 AND RH <= 29.8",
           null,
           "forestfires",
           "L_poly",
           0.0009990009990009,
           4.802853849333559
          ],
          [
           "temp > 23.58 AND Y > 4",
           null,
           "forestfires",
           "L_poly",
           0.0009990009990009,
           4.783626135464567
          ],
          [
           "RH <= 30 AND temp > 24.42",
           null,
           "forestfires",
           "L_poly",
           0.0009990009990009,
           4.691196107526638
          ],
          [
           "RH <= 30 AND X > 5",
           null,
           "forestfires",
           "L_poly",
           0.0009990009990009,
           4.687720255983479
          ],
          [
           "Y > 4 AND RH <= 28",
           null,
           "forestfires",
           "L_poly",
           0.0009990009990009,
           4.687701911375179
          ],
          [
           "RH <= 30 AND DC*DMC > 8.115e+04",
           null,
           "forestfires",
           "L_poly",
           0.0009990009990009,
           4.617818093970007
          ],
          [
           "X > 4 AND temp > 23.7",
           null,
           "forestfires",
           "L_poly",
           0.0009990009990009,
           4.534511592541403
          ],
          [
           "temp > 23.58 AND RH <= 28",
           null,
           "forestfires",
           "L_poly",
           0.0009990009990009,
           4.482312068909168
          ],
          [
           "RH <= 30 AND Y > 4",
           null,
           "forestfires",
           "L_poly",
           0.0009990009990009,
           4.371004770370363
          ],
          [
           "temp > 23.58 AND X > 4",
           null,
           "forestfires",
           "L_poly",
           0.0009990009990009,
           4.366664626439046
          ],
          [
           "temp > 23.58 AND wind > 3.1",
           null,
           "forestfires",
           "L_poly",
           0.0009990009990009,
           4.338687961204955
          ],
          [
           "RH <= 30 AND X > 4",
           null,
           "forestfires",
           "L_poly",
           0.0009990009990009,
           4.270840551181992
          ],
          [
           "temp > 20.6 AND RH <= 27",
           null,
           "forestfires",
           "L_poly",
           0.0009990009990009,
           4.250474589035786
          ],
          [
           "DMC > 96.9 AND temp > 24.8",
           null,
           "forestfires",
           "L_poly",
           0.0009990009990009,
           4.2503129888280125
          ],
          [
           "temp > 23.58 AND DC*month > 5585",
           null,
           "forestfires",
           "L_poly",
           0.0019980019980019,
           4.249142472644446
          ],
          [
           "wind > 3.1 AND temp > 23.4",
           null,
           "forestfires",
           "L_poly",
           0.0009990009990009,
           4.242242022661471
          ],
          [
           "temp > 23.58 AND DMC*ISI <= 1041",
           null,
           "forestfires",
           "L_poly",
           0.6903096903096904,
           0.269695259390629
          ],
          [
           "RH <= 30 AND day > 6.2",
           null,
           "forestfires",
           "L_poly",
           0.0219780219780219,
           4.22408478713311
          ],
          [
           "DMC*ISI > 829.7 AND temp > 24.92",
           null,
           "forestfires",
           "L_poly",
           0.0009990009990009,
           4.207564883444474
          ],
          [
           "X > 4 AND RH <= 31",
           null,
           "forestfires",
           "L_poly",
           0.0009990009990009,
           4.201900770020249
          ],
          [
           "DC > 613.6 AND temp > 24.1",
           null,
           "forestfires",
           "L_poly",
           0.0009990009990009,
           4.179057976239398
          ],
          [
           "(temp * RH) / RH > 24.6",
           "(temp * RH) / RH",
           "forestfires",
           "L_symb",
           0.0009990009990009,
           3.8431160693548194
          ],
          [
           "(temp + day) > 29.3",
           "(temp + day)",
           "forestfires",
           "L_symb",
           0.0009990009990009,
           3.795345890417769
          ],
          [
           "(temp / DMC) + temp > 24.83",
           "(temp / DMC) + temp",
           "forestfires",
           "L_symb",
           0.0009990009990009,
           3.7764272075056544
          ],
          [
           "(temp * X) / X > 24.6",
           "(temp * X) / X",
           "forestfires",
           "L_symb",
           0.0009990009990009,
           3.773460163923005
          ],
          [
           "(temp * DMC) / DMC > 24.6",
           "(temp * DMC) / DMC",
           "forestfires",
           "L_symb",
           0.0009990009990009,
           3.769939100644888
          ],
          [
           "(temp + month) > 32.93",
           "(temp + month)",
           "forestfires",
           "L_symb",
           0.0009990009990009,
           3.737821526741578
          ],
          [
           "(temp / RH) + temp > 25.22",
           "(temp / RH) + temp",
           "forestfires",
           "L_symb",
           0.0009990009990009,
           3.734541381644367
          ],
          [
           "(temp + Y) > 28.93",
           "(temp + Y)",
           "forestfires",
           "L_symb",
           0.0009990009990009,
           3.726607938692766
          ],
          [
           "(temp * X) > 150",
           "(temp * X)",
           "forestfires",
           "L_symb",
           0.0009990009990009,
           3.649701333391677
          ],
          [
           "(X - RH) > -22",
           "(X - RH)",
           "forestfires",
           "L_symb",
           0.0009990009990009,
           3.644568961512318
          ],
          [
           "(temp * DC) > 16747.9",
           "(temp * DC)",
           "forestfires",
           "L_symb",
           0.0009990009990009,
           3.6359998601266983
          ],
          [
           "(Y / RH) > 0.17",
           "(Y / RH)",
           "forestfires",
           "L_symb",
           0.0009990009990009,
           3.5765413745522823
          ],
          [
           "(temp * Y) > 116.23",
           "(temp * Y)",
           "forestfires",
           "L_symb",
           0.0009990009990009,
           3.5402298356755804
          ],
          [
           "(Y - RH) > -23",
           "(Y - RH)",
           "forestfires",
           "L_symb",
           0.0019980019980019,
           3.538742660555446
          ],
          [
           "(temp + X) > 29.96",
           "(temp + X)",
           "forestfires",
           "L_symb",
           0.0009990009990009,
           3.537105500166601
          ],
          [
           "(X / RH) > 0.2",
           "(X / RH)",
           "forestfires",
           "L_symb",
           0.0019980019980019,
           3.46813656452636
          ],
          [
           "(RH / Y) <= 6",
           "(RH / Y)",
           "forestfires",
           "L_symb",
           0.0009990009990009,
           3.442310201007833
          ],
          [
           "(day + month) > 15",
           "(day + month)",
           "forestfires",
           "L_symb",
           0.0209790209790209,
           3.426852562719279
          ],
          [
           "(temp + RH) / temp <= 2.21",
           "(temp + RH) / temp",
           "forestfires",
           "L_symb",
           0.0009990009990009,
           3.4189266499376214
          ],
          [
           "(temp - RH) / temp > -0.21",
           "(temp - RH) / temp",
           "forestfires",
           "L_symb",
           0.0009990009990009,
           3.4189266499376214
          ],
          [
           "(RH / temp) <= 1.21",
           "(RH / temp)",
           "forestfires",
           "L_symb",
           0.0009990009990009,
           3.4189266499376214
          ],
          [
           "(temp - RH) > -4.87",
           "(temp - RH)",
           "forestfires",
           "L_symb",
           0.0009990009990009,
           3.4090811958516904
          ],
          [
           "(RH - temp) <= 4.87",
           "(RH - temp)",
           "forestfires",
           "L_symb",
           0.0009990009990009,
           3.4090811958516904
          ],
          [
           "(RH / X) <= 5",
           "(RH / X)",
           "forestfires",
           "L_symb",
           0.0019980019980019,
           3.37959604039979
          ],
          [
           "temp <= 25.05 AND DMC <= 103.55 AND temp <= 24.15 AND ISI <= 11.05",
           null,
           "forestfires",
           "L_tree",
           0.0969030969030969,
           1.158716099409946
          ],
          [
           "temp <= 25.05 AND DMC > 103.55 AND DC > 434.65 AND Y > 2.5",
           null,
           "forestfires",
           "L_tree",
           0.1848151848151848,
           1.010115358982159
          ],
          [
           "temp <= 25.05 AND DMC <= 103.55 AND temp <= 24.15 AND ISI > 11.05",
           null,
           "forestfires",
           "L_tree",
           0.4075924075924076,
           0.425473142517274
          ],
          [
           "temp > 25.05 AND temp > 25.45 AND DMC <= 220.05 AND DMC <= 186.25",
           null,
           "forestfires",
           "L_tree",
           0.8151848151848152,
           0.3287692197204859
          ],
          [
           "temp > 25.05 AND temp > 25.45 AND DMC <= 220.05 AND DMC > 186.25",
           null,
           "forestfires",
           "L_tree",
           0.0619380619380619,
           0.308325728939624
          ],
          [
           "temp <= 25.05 AND DMC > 103.55 AND DC <= 434.65",
           null,
           "forestfires",
           "L_tree",
           0.0469530469530469,
           0.2498798564776359
          ],
          [
           "temp <= 25.05 AND DMC <= 103.55 AND temp > 24.15",
           null,
           "forestfires",
           "L_tree",
           0.8461538461538461,
           0.1336180696877834
          ],
          [
           "temp <= 25.05 AND DMC > 103.55 AND DC > 434.65 AND Y <= 2.5",
           null,
           "forestfires",
           "L_tree",
           0.9410589410589412,
           0.1176901808713955
          ]
         ],
         "hovertemplate": "ParetoLabel=Non-Pareto<br>complexity=%{x}<br>size=%{y}<br>q_residual=%{z}<br>rule=%{customdata[0]}<br>expr=%{customdata[1]}<br>dataset=%{customdata[2]}<br>language=%{customdata[3]}<br>p_value=%{customdata[4]}<br>q_perm=%{customdata[5]}<extra></extra>",
         "legendgroup": "Non-Pareto",
         "marker": {
          "color": "#EF553B",
          "symbol": "circle"
         },
         "mode": "markers",
         "name": "Non-Pareto",
         "scene": "scene",
         "showlegend": true,
         "type": "scatter3d",
         "x": {
          "bdata": "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",
          "dtype": "f8"
         },
         "y": {
          "bdata": "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",
          "dtype": "i4"
         },
         "z": {
          "bdata": "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",
          "dtype": "f8"
         }
        }
       ],
       "layout": {
        "legend": {
         "title": {
          "text": "ParetoLabel"
         },
         "tracegroupgap": 0
        },
        "scene": {
         "domain": {
          "x": [
           0,
           1
          ],
          "y": [
           0,
           1
          ]
         },
         "xaxis": {
          "title": {
           "text": "complexity"
          }
         },
         "yaxis": {
          "title": {
           "text": "size"
          }
         },
         "zaxis": {
          "title": {
           "text": "q_residual"
          }
         }
        },
        "template": {
         "data": {
          "bar": [
           {
            "error_x": {
             "color": "#2a3f5f"
            },
            "error_y": {
             "color": "#2a3f5f"
            },
            "marker": {
             "line": {
              "color": "#E5ECF6",
              "width": 0.5
             },
             "pattern": {
              "fillmode": "overlay",
              "size": 10,
              "solidity": 0.2
             }
            },
            "type": "bar"
           }
          ],
          "barpolar": [
           {
            "marker": {
             "line": {
              "color": "#E5ECF6",
              "width": 0.5
             },
             "pattern": {
              "fillmode": "overlay",
              "size": 10,
              "solidity": 0.2
             }
            },
            "type": "barpolar"
           }
          ],
          "carpet": [
           {
            "aaxis": {
             "endlinecolor": "#2a3f5f",
             "gridcolor": "white",
             "linecolor": "white",
             "minorgridcolor": "white",
             "startlinecolor": "#2a3f5f"
            },
            "baxis": {
             "endlinecolor": "#2a3f5f",
             "gridcolor": "white",
             "linecolor": "white",
             "minorgridcolor": "white",
             "startlinecolor": "#2a3f5f"
            },
            "type": "carpet"
           }
          ],
          "choropleth": [
           {
            "colorbar": {
             "outlinewidth": 0,
             "ticks": ""
            },
            "type": "choropleth"
           }
          ],
          "contour": [
           {
            "colorbar": {
             "outlinewidth": 0,
             "ticks": ""
            },
            "colorscale": [
             [
              0,
              "#0d0887"
             ],
             [
              0.1111111111111111,
              "#46039f"
             ],
             [
              0.2222222222222222,
              "#7201a8"
             ],
             [
              0.3333333333333333,
              "#9c179e"
             ],
             [
              0.4444444444444444,
              "#bd3786"
             ],
             [
              0.5555555555555556,
              "#d8576b"
             ],
             [
              0.6666666666666666,
              "#ed7953"
             ],
             [
              0.7777777777777778,
              "#fb9f3a"
             ],
             [
              0.8888888888888888,
              "#fdca26"
             ],
             [
              1,
              "#f0f921"
             ]
            ],
            "type": "contour"
           }
          ],
          "contourcarpet": [
           {
            "colorbar": {
             "outlinewidth": 0,
             "ticks": ""
            },
            "type": "contourcarpet"
           }
          ],
          "heatmap": [
           {
            "colorbar": {
             "outlinewidth": 0,
             "ticks": ""
            },
            "colorscale": [
             [
              0,
              "#0d0887"
             ],
             [
              0.1111111111111111,
              "#46039f"
             ],
             [
              0.2222222222222222,
              "#7201a8"
             ],
             [
              0.3333333333333333,
              "#9c179e"
             ],
             [
              0.4444444444444444,
              "#bd3786"
             ],
             [
              0.5555555555555556,
              "#d8576b"
             ],
             [
              0.6666666666666666,
              "#ed7953"
             ],
             [
              0.7777777777777778,
              "#fb9f3a"
             ],
             [
              0.8888888888888888,
              "#fdca26"
             ],
             [
              1,
              "#f0f921"
             ]
            ],
            "type": "heatmap"
           }
          ],
          "histogram": [
           {
            "marker": {
             "pattern": {
              "fillmode": "overlay",
              "size": 10,
              "solidity": 0.2
             }
            },
            "type": "histogram"
           }
          ],
          "histogram2d": [
           {
            "colorbar": {
             "outlinewidth": 0,
             "ticks": ""
            },
            "colorscale": [
             [
              0,
              "#0d0887"
             ],
             [
              0.1111111111111111,
              "#46039f"
             ],
             [
              0.2222222222222222,
              "#7201a8"
             ],
             [
              0.3333333333333333,
              "#9c179e"
             ],
             [
              0.4444444444444444,
              "#bd3786"
             ],
             [
              0.5555555555555556,
              "#d8576b"
             ],
             [
              0.6666666666666666,
              "#ed7953"
             ],
             [
              0.7777777777777778,
              "#fb9f3a"
             ],
             [
              0.8888888888888888,
              "#fdca26"
             ],
             [
              1,
              "#f0f921"
             ]
            ],
            "type": "histogram2d"
           }
          ],
          "histogram2dcontour": [
           {
            "colorbar": {
             "outlinewidth": 0,
             "ticks": ""
            },
            "colorscale": [
             [
              0,
              "#0d0887"
             ],
             [
              0.1111111111111111,
              "#46039f"
             ],
             [
              0.2222222222222222,
              "#7201a8"
             ],
             [
              0.3333333333333333,
              "#9c179e"
             ],
             [
              0.4444444444444444,
              "#bd3786"
             ],
             [
              0.5555555555555556,
              "#d8576b"
             ],
             [
              0.6666666666666666,
              "#ed7953"
             ],
             [
              0.7777777777777778,
              "#fb9f3a"
             ],
             [
              0.8888888888888888,
              "#fdca26"
             ],
             [
              1,
              "#f0f921"
             ]
            ],
            "type": "histogram2dcontour"
           }
          ],
          "mesh3d": [
           {
            "colorbar": {
             "outlinewidth": 0,
             "ticks": ""
            },
            "type": "mesh3d"
           }
          ],
          "parcoords": [
           {
            "line": {
             "colorbar": {
              "outlinewidth": 0,
              "ticks": ""
             }
            },
            "type": "parcoords"
           }
          ],
          "pie": [
           {
            "automargin": true,
            "type": "pie"
           }
          ],
          "scatter": [
           {
            "fillpattern": {
             "fillmode": "overlay",
             "size": 10,
             "solidity": 0.2
            },
            "type": "scatter"
           }
          ],
          "scatter3d": [
           {
            "line": {
             "colorbar": {
              "outlinewidth": 0,
              "ticks": ""
             }
            },
            "marker": {
             "colorbar": {
              "outlinewidth": 0,
              "ticks": ""
             }
            },
            "type": "scatter3d"
           }
          ],
          "scattercarpet": [
           {
            "marker": {
             "colorbar": {
              "outlinewidth": 0,
              "ticks": ""
             }
            },
            "type": "scattercarpet"
           }
          ],
          "scattergeo": [
           {
            "marker": {
             "colorbar": {
              "outlinewidth": 0,
              "ticks": ""
             }
            },
            "type": "scattergeo"
           }
          ],
          "scattergl": [
           {
            "marker": {
             "colorbar": {
              "outlinewidth": 0,
              "ticks": ""
             }
            },
            "type": "scattergl"
           }
          ],
          "scattermap": [
           {
            "marker": {
             "colorbar": {
              "outlinewidth": 0,
              "ticks": ""
             }
            },
            "type": "scattermap"
           }
          ],
          "scattermapbox": [
           {
            "marker": {
             "colorbar": {
              "outlinewidth": 0,
              "ticks": ""
             }
            },
            "type": "scattermapbox"
           }
          ],
          "scatterpolar": [
           {
            "marker": {
             "colorbar": {
              "outlinewidth": 0,
              "ticks": ""
             }
            },
            "type": "scatterpolar"
           }
          ],
          "scatterpolargl": [
           {
            "marker": {
             "colorbar": {
              "outlinewidth": 0,
              "ticks": ""
             }
            },
            "type": "scatterpolargl"
           }
          ],
          "scatterternary": [
           {
            "marker": {
             "colorbar": {
              "outlinewidth": 0,
              "ticks": ""
             }
            },
            "type": "scatterternary"
           }
          ],
          "surface": [
           {
            "colorbar": {
             "outlinewidth": 0,
             "ticks": ""
            },
            "colorscale": [
             [
              0,
              "#0d0887"
             ],
             [
              0.1111111111111111,
              "#46039f"
             ],
             [
              0.2222222222222222,
              "#7201a8"
             ],
             [
              0.3333333333333333,
              "#9c179e"
             ],
             [
              0.4444444444444444,
              "#bd3786"
             ],
             [
              0.5555555555555556,
              "#d8576b"
             ],
             [
              0.6666666666666666,
              "#ed7953"
             ],
             [
              0.7777777777777778,
              "#fb9f3a"
             ],
             [
              0.8888888888888888,
              "#fdca26"
             ],
             [
              1,
              "#f0f921"
             ]
            ],
            "type": "surface"
           }
          ],
          "table": [
           {
            "cells": {
             "fill": {
              "color": "#EBF0F8"
             },
             "line": {
              "color": "white"
             }
            },
            "header": {
             "fill": {
              "color": "#C8D4E3"
             },
             "line": {
              "color": "white"
             }
            },
            "type": "table"
           }
          ]
         },
         "layout": {
          "annotationdefaults": {
           "arrowcolor": "#2a3f5f",
           "arrowhead": 0,
           "arrowwidth": 1
          },
          "autotypenumbers": "strict",
          "coloraxis": {
           "colorbar": {
            "outlinewidth": 0,
            "ticks": ""
           }
          },
          "colorscale": {
           "diverging": [
            [
             0,
             "#8e0152"
            ],
            [
             0.1,
             "#c51b7d"
            ],
            [
             0.2,
             "#de77ae"
            ],
            [
             0.3,
             "#f1b6da"
            ],
            [
             0.4,
             "#fde0ef"
            ],
            [
             0.5,
             "#f7f7f7"
            ],
            [
             0.6,
             "#e6f5d0"
            ],
            [
             0.7,
             "#b8e186"
            ],
            [
             0.8,
             "#7fbc41"
            ],
            [
             0.9,
             "#4d9221"
            ],
            [
             1,
             "#276419"
            ]
           ],
           "sequential": [
            [
             0,
             "#0d0887"
            ],
            [
             0.1111111111111111,
             "#46039f"
            ],
            [
             0.2222222222222222,
             "#7201a8"
            ],
            [
             0.3333333333333333,
             "#9c179e"
            ],
            [
             0.4444444444444444,
             "#bd3786"
            ],
            [
             0.5555555555555556,
             "#d8576b"
            ],
            [
             0.6666666666666666,
             "#ed7953"
            ],
            [
             0.7777777777777778,
             "#fb9f3a"
            ],
            [
             0.8888888888888888,
             "#fdca26"
            ],
            [
             1,
             "#f0f921"
            ]
           ],
           "sequentialminus": [
            [
             0,
             "#0d0887"
            ],
            [
             0.1111111111111111,
             "#46039f"
            ],
            [
             0.2222222222222222,
             "#7201a8"
            ],
            [
             0.3333333333333333,
             "#9c179e"
            ],
            [
             0.4444444444444444,
             "#bd3786"
            ],
            [
             0.5555555555555556,
             "#d8576b"
            ],
            [
             0.6666666666666666,
             "#ed7953"
            ],
            [
             0.7777777777777778,
             "#fb9f3a"
            ],
            [
             0.8888888888888888,
             "#fdca26"
            ],
            [
             1,
             "#f0f921"
            ]
           ]
          },
          "colorway": [
           "#636efa",
           "#EF553B",
           "#00cc96",
           "#ab63fa",
           "#FFA15A",
           "#19d3f3",
           "#FF6692",
           "#B6E880",
           "#FF97FF",
           "#FECB52"
          ],
          "font": {
           "color": "#2a3f5f"
          },
          "geo": {
           "bgcolor": "white",
           "lakecolor": "white",
           "landcolor": "#E5ECF6",
           "showlakes": true,
           "showland": true,
           "subunitcolor": "white"
          },
          "hoverlabel": {
           "align": "left"
          },
          "hovermode": "closest",
          "mapbox": {
           "style": "light"
          },
          "paper_bgcolor": "white",
          "plot_bgcolor": "#E5ECF6",
          "polar": {
           "angularaxis": {
            "gridcolor": "white",
            "linecolor": "white",
            "ticks": ""
           },
           "bgcolor": "#E5ECF6",
           "radialaxis": {
            "gridcolor": "white",
            "linecolor": "white",
            "ticks": ""
           }
          },
          "scene": {
           "xaxis": {
            "backgroundcolor": "#E5ECF6",
            "gridcolor": "white",
            "gridwidth": 2,
            "linecolor": "white",
            "showbackground": true,
            "ticks": "",
            "zerolinecolor": "white"
           },
           "yaxis": {
            "backgroundcolor": "#E5ECF6",
            "gridcolor": "white",
            "gridwidth": 2,
            "linecolor": "white",
            "showbackground": true,
            "ticks": "",
            "zerolinecolor": "white"
           },
           "zaxis": {
            "backgroundcolor": "#E5ECF6",
            "gridcolor": "white",
            "gridwidth": 2,
            "linecolor": "white",
            "showbackground": true,
            "ticks": "",
            "zerolinecolor": "white"
           }
          },
          "shapedefaults": {
           "line": {
            "color": "#2a3f5f"
           }
          },
          "ternary": {
           "aaxis": {
            "gridcolor": "white",
            "linecolor": "white",
            "ticks": ""
           },
           "baxis": {
            "gridcolor": "white",
            "linecolor": "white",
            "ticks": ""
           },
           "bgcolor": "#E5ECF6",
           "caxis": {
            "gridcolor": "white",
            "linecolor": "white",
            "ticks": ""
           }
          },
          "title": {
           "x": 0.05
          },
          "xaxis": {
           "automargin": true,
           "gridcolor": "white",
           "linecolor": "white",
           "ticks": "",
           "title": {
            "standoff": 15
           },
           "zerolinecolor": "white",
           "zerolinewidth": 2
          },
          "yaxis": {
           "automargin": true,
           "gridcolor": "white",
           "linecolor": "white",
           "ticks": "",
           "title": {
            "standoff": 15
           },
           "zerolinecolor": "white",
           "zerolinewidth": 2
          }
         }
        },
        "title": {
         "text": "3D View: (complexity, size, q_residual)"
        }
       }
      }
     },
     "metadata": {},
     "output_type": "display_data"
    }
   ],
   "source": [
    "# All Hail JBI100 and 2AMV10\n",
    "df[\"ParetoLabel\"] = np.where(df[\"pareto\"], \"Pareto\", \"Non-Pareto\")\n",
    "\n",
    "fig_scatter = px.scatter(\n",
    "    df,\n",
    "    x=\"complexity\", y=\"q_residual\",\n",
    "    color=\"ParetoLabel\",\n",
    "    size=\"size\",\n",
    "    hover_data=[\n",
    "        \"rule\",\"expr\",\"operator\",\"threshold\",\"dataset\",\"language\",\n",
    "        \"size\",\"mean_residual\",\"q_signed\",\"q_perm\",\"p_value\",\n",
    "        \"I_inv\",\"I_exp\",\"expressiveness\",\"score\"\n",
    "    ],\n",
    "    title=\"Quality vs Complexity (Pareto highlighted)\",\n",
    ")\n",
    "fig_scatter.update_layout(xaxis_title=\"complexity\", yaxis_title=\"q_residual\", legend_title=\"\")\n",
    "fig_scatter.show()\n",
    "\n",
    "fig_density = px.density_heatmap(\n",
    "    df,\n",
    "    x=\"complexity\", y=\"q_residual\",\n",
    "    nbinsx=40, nbinsy=40,\n",
    "    title=\"Result Density in (complexity, q_residual) Space\",\n",
    ")\n",
    "fig_density.update_layout(xaxis_title=\"complexity\", yaxis_title=\"q_residual\")\n",
    "fig_density.show()\n",
    "\n",
    "color_map = {\"Pareto\": 1, \"Non-Pareto\": 0}\n",
    "df[\"_pareto_num\"] = df[\"ParetoLabel\"].map(color_map)\n",
    "\n",
    "parallel_dims = [\n",
    "    dict(label=\"q_residual\", values=df[\"q_residual\"]),\n",
    "    dict(label=\"q_signed\", values=df[\"q_signed\"]),\n",
    "    dict(label=\"complexity\", values=df[\"complexity\"]),\n",
    "    dict(label=\"size\", values=df[\"size\"]),\n",
    "    dict(label=\"mean_residual\", values=df[\"mean_residual\"]),\n",
    "    dict(label=\"expressiveness\", values=df[\"expressiveness\"]),\n",
    "    dict(label=\"score\", values=df[\"score\"]),\n",
    "]\n",
    "\n",
    "fig_parallel = go.Figure(\n",
    "    data=go.Parcoords(\n",
    "        line=dict(\n",
    "            color=df[\"_pareto_num\"],\n",
    "            colorscale=[[0, \"lightgray\"], [1, \"blue\"]],\n",
    "            showscale=False,\n",
    "        ),\n",
    "        dimensions=parallel_dims,\n",
    "    )\n",
    ")\n",
    "fig_parallel.update_layout(title=\"Parallel Coordinates of Metrics (Blue = Pareto, Gray = Non-Pareto)\",\n",
    "    # margin=dict(l=80, r=80, t=60, b=40)\n",
    "    )\n",
    "fig_parallel.show()\n",
    "\n",
    "topN = 20\n",
    "top_pareto = (\n",
    "    df[df[\"pareto\"]]\n",
    "    .sort_values(\"q_residual\", ascending=False)\n",
    "    .head(topN)\n",
    "    .copy()\n",
    ")\n",
    "top_pareto[\"label\"] = (\n",
    "    top_pareto[\"rule\"].astype(str).str.slice(0, 100)\n",
    "    + \"  |  c=\" + top_pareto[\"complexity\"].astype(str)\n",
    "    + \"  n=\" + top_pareto[\"size\"].astype(str)\n",
    ")\n",
    "fig_bar = px.bar(\n",
    "    top_pareto.iloc[::-1],\n",
    "    x=\"q_residual\",\n",
    "    y=\"label\",\n",
    "    orientation=\"h\",\n",
    "    hover_data=[\"dataset\",\"language\",\"expr\",\"operator\",\"threshold\",\"p_value\",\"q_perm\"],\n",
    "    title=f\"Top {min(topN, len(top_pareto))} Pareto Rules by q_residual\",\n",
    ")\n",
    "fig_bar.update_layout(xaxis_title=\"q_residual\", yaxis_title=\"\")\n",
    "fig_bar.show()\n",
    "\n",
    "fig_ecdf = px.ecdf(\n",
    "    df,\n",
    "    x=\"q_residual\",\n",
    "    color=\"ParetoLabel\",\n",
    "    title=\"ECDF of q_residual (Pareto vs Non-Pareto)\",\n",
    ")\n",
    "fig_ecdf.update_layout(xaxis_title=\"q_residual\", yaxis_title=\"F(x)\", legend_title=\"\")\n",
    "fig_ecdf.show()\n",
    "\n",
    "fig_small = px.scatter(\n",
    "    df,\n",
    "    x=\"complexity\", y=\"q_residual\",\n",
    "    color=\"ParetoLabel\",\n",
    "    size=\"size\",\n",
    "    facet_col=\"language\",\n",
    "    hover_data=[\"rule\",\"expr\",\"dataset\",\"p_value\",\"q_perm\",\"I_inv\",\"I_exp\",\"expressiveness\"],\n",
    "    title=\"Quality vs Complexity by Language (Pareto highlighted)\",\n",
    ")\n",
    "fig_small.update_layout(legend_title=\"\", xaxis_title=\"complexity\", yaxis_title=\"q_residual\")\n",
    "fig_small.show()\n",
    "\n",
    "fig_3d = px.scatter_3d(\n",
    "    df,\n",
    "    x=\"complexity\", y=\"size\", z=\"q_residual\",\n",
    "    color=\"ParetoLabel\",\n",
    "    hover_data=[\"rule\",\"expr\",\"dataset\",\"language\",\"p_value\",\"q_perm\"], # P cool eh? Looked as pretty as on shark dataset\n",
    "    title=\"3D View: (complexity, size, q_residual)\",\n",
    ")\n",
    "fig_3d.show()\n"
   ]
  },
  {
   "cell_type": "code",
   "execution_count": 8,
   "id": "94569ae7",
   "metadata": {},
   "outputs": [
    {
     "data": {
      "image/png": "[encoded data removed]",
      "text/plain": [
       "<Figure size 800x500 with 1 Axes>"
      ]
     },
     "metadata": {},
     "output_type": "display_data"
    }
   ],
   "source": [
    "top10 = (\n",
    "    df[df[\"pareto\"]]\n",
    "    .sort_values(\"q_residual\", ascending=False)\n",
    "    .head(10)\n",
    "    .copy()\n",
    ")\n",
    "\n",
    "# Build readable labels (truncate rule text)\n",
    "top10[\"label\"] = (\n",
    "    top10[\"rule\"].astype(str).str.slice(0, 80)\n",
    "    + \"  |  c=\" + top10[\"complexity\"].astype(str)\n",
    "    + \"  n=\" + top10[\"size\"].astype(str)\n",
    ")\n",
    "\n",
    "# Plot horizontal bar chart\n",
    "plt.figure(figsize=(8, 5))\n",
    "plt.barh(\n",
    "    range(len(top10)),\n",
    "    top10[\"q_residual\"],\n",
    "    color=\"tab:blue\",\n",
    "    edgecolor=\"k\",\n",
    "    linewidth=0.5,\n",
    ")\n",
    "plt.yticks(range(len(top10)), top10[\"label\"])\n",
    "plt.xlabel(\"q_residual\")\n",
    "plt.title(\"Top 10 Pareto Rules by q_residual\")\n",
    "plt.gca().invert_yaxis()  # highest at top\n",
    "plt.tight_layout()\n",
    "plt.show()"
   ]
  },
  {
   "cell_type": "code",
   "execution_count": 9,
   "id": "b70a7b49",
   "metadata": {},
   "outputs": [
    {
     "name": "stderr",
     "output_type": "stream",
     "text": [
      "/var/folders/3x/_h4mr3l14wdd2fz4hllvdbm80000gn/T/ipykernel_53599/3645933545.py:15: UserWarning:\n",
      "\n",
      "Tight layout not applied. The left and right margins cannot be made large enough to accommodate all Axes decorations.\n",
      "\n"
     ]
    },
    {
     "data": {
      "image/png": "[encoded data removed]",
      "text/plain": [
       "<Figure size 800x400 with 1 Axes>"
      ]
     },
     "metadata": {},
     "output_type": "display_data"
    }
   ],
   "source": [
    "topN = 10\n",
    "top_p = df[df[\"pareto\"]].sort_values(\"q_residual\", ascending=False).head(topN).copy()\n",
    "labels_bar = (\n",
    "    top_p[\"rule\"].astype(str).str.slice(0, 100)\n",
    "    + \"  |  c=\" + top_p[\"complexity\"].astype(str)\n",
    "    + \"  n=\" + top_p[\"size\"].astype(str)\n",
    ")\n",
    "y = np.arange(len(top_p))\n",
    "plt.figure(figsize=(8, max(4, 0.35*len(top_p))))\n",
    "plt.barh(y, top_p[\"q_residual\"], color=\"tab:blue\", edgecolor=\"k\", linewidth=0.5)\n",
    "plt.yticks(y, labels_bar)\n",
    "plt.xlabel(\"q_residual\")\n",
    "plt.title(f\"Top {min(topN, len(top_p))} Pareto Rules by q_residual\")\n",
    "plt.gca().invert_yaxis()\n",
    "plt.tight_layout()\n"
   ]
  },
  {
   "cell_type": "code",
   "execution_count": null,
   "id": "bffa900e",
   "metadata": {},
   "outputs": [],
   "source": []
  }
 ],
 "metadata": {
  "kernelspec": {
   "display_name": "env_ml_3_12_10 (3.12.10)",
   "language": "python",
   "name": "python3"
  },
  "language_info": {
   "codemirror_mode": {
    "name": "ipython",
    "version": 3
   },
   "file_extension": ".py",
   "mimetype": "text/x-python",
   "name": "python",
   "nbconvert_exporter": "python",
   "pygments_lexer": "ipython3",
   "version": "3.12.10"
  }
 },
 "nbformat": 4,
 "nbformat_minor": 5
}
